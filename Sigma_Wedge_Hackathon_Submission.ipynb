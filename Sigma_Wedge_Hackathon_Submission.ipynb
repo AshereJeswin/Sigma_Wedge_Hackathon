{
 "cells": [
  {
   "cell_type": "markdown",
   "id": "fef79742-8b8e-4db8-9a8a-9cd69591b00f",
   "metadata": {},
   "source": [
    "# Sigma Wedge Hackathon\n"
   ]
  },
  {
   "cell_type": "markdown",
   "id": "71d8bac3-bff6-4c9a-8caa-fa3616a1c13f",
   "metadata": {},
   "source": [
    "# Collection of Data\n",
    "Obtain the closing prices for each trading day within the specified period (January 1, 2023, to December 31, 2023). Closing prices are a critical piece of data for financial analysis and trading strategy development, as they represent the final price at which a stock is traded during a trading session"
   ]
  },
  {
   "cell_type": "code",
   "execution_count": null,
   "id": "ab0958a1-89fd-43f7-a40a-84f95e99f255",
   "metadata": {},
   "outputs": [],
   "source": [
    "from quantrocket.zipline import create_usstock_bundle\n",
    "create_usstock_bundle(\"usstock-free-1min\", free=True)"
   ]
  },
  {
   "cell_type": "code",
   "execution_count": 106,
   "id": "4634e557-7f65-4e37-9154-fe4f8a6ef495",
   "metadata": {
    "tags": []
   },
   "outputs": [
    {
     "data": {
      "text/plain": [
       "{'status': 'the data will be ingested asynchronously'}"
      ]
     },
     "execution_count": 106,
     "metadata": {},
     "output_type": "execute_result"
    }
   ],
   "source": [
    "from quantrocket.zipline import ingest_bundle\n",
    "ingest_bundle(\"usstock-free-1min\")"
   ]
  },
  {
   "cell_type": "code",
   "execution_count": 107,
   "id": "5d038555-fd1c-4738-a693-bbdd2a795939",
   "metadata": {
    "tags": []
   },
   "outputs": [
    {
     "data": {
      "text/plain": [
       "{'licensekey': 'e28e........123c', 'software_license': {}}"
      ]
     },
     "execution_count": 107,
     "metadata": {},
     "output_type": "execute_result"
    }
   ],
   "source": [
    "from quantrocket.license import set_license\n",
    "set_license('e28e6e06-e03d-11ee-ac0b-75a7adda123c')"
   ]
  },
  {
   "cell_type": "code",
   "execution_count": 108,
   "id": "c7d2bf79-b925-4676-b9fb-c564ff0acac7",
   "metadata": {
    "tags": []
   },
   "outputs": [
    {
     "data": {
      "text/plain": [
       "{'status': 'success', 'msg': 'already up-to-date'}"
      ]
     },
     "execution_count": 108,
     "metadata": {},
     "output_type": "execute_result"
    }
   ],
   "source": [
    "from quantrocket.master import collect_usstock_listings\n",
    "collect_usstock_listings()"
   ]
  },
  {
   "cell_type": "code",
   "execution_count": null,
   "id": "5f56c985-4015-4f3d-9acd-f3ac7fb9a464",
   "metadata": {},
   "outputs": [],
   "source": [
    "from quantrocket.master import get_securities\n",
    "securities = get_securities(symbols='AAPL', fields=['Sid','Symbol','Exchange'], vendors='usstock')\n",
    "securities"
   ]
  },
  {
   "cell_type": "code",
   "execution_count": null,
   "id": "0c2193b4-c95c-41e6-adaf-9f207862c4aa",
   "metadata": {},
   "outputs": [],
   "source": [
    "aapl=securities.index[0]"
   ]
  },
  {
   "cell_type": "code",
   "execution_count": 6,
   "id": "23723ea7-d63e-47e0-b5f9-3ab00c435e57",
   "metadata": {
    "tags": []
   },
   "outputs": [
    {
     "data": {
      "text/plain": [
       "'FIBBG000B9XRY4'"
      ]
     },
     "execution_count": 6,
     "metadata": {},
     "output_type": "execute_result"
    }
   ],
   "source": [
    "aapl"
   ]
  },
  {
   "cell_type": "code",
   "execution_count": null,
   "id": "7b0af634-3042-4509-8b0c-0dff7af75c60",
   "metadata": {},
   "outputs": [],
   "source": [
    "from quantrocket import get_prices\n",
    "data = get_prices(\"usstock-free-1min\", data_frequency='daily', sids=aapl, start_date='2023-01-01', end_date='2023-12-31', fields=\"Close\")\n",
    "import pandas as pd\n",
    "data.to_csv(\"daily_closing_prices.csv\")"
   ]
  },
  {
   "cell_type": "code",
   "execution_count": 46,
   "id": "5f7854d0-b0ec-4bb4-bea7-0d9ebcc0609f",
   "metadata": {
    "tags": []
   },
   "outputs": [
    {
     "data": {
      "text/html": [
       "<div>\n",
       "<style scoped>\n",
       "    .dataframe tbody tr th:only-of-type {\n",
       "        vertical-align: middle;\n",
       "    }\n",
       "\n",
       "    .dataframe tbody tr th {\n",
       "        vertical-align: top;\n",
       "    }\n",
       "\n",
       "    .dataframe thead th {\n",
       "        text-align: right;\n",
       "    }\n",
       "</style>\n",
       "<table border=\"1\" class=\"dataframe\">\n",
       "  <thead>\n",
       "    <tr style=\"text-align: right;\">\n",
       "      <th></th>\n",
       "      <th>Field</th>\n",
       "      <th>Date</th>\n",
       "      <th>close price</th>\n",
       "    </tr>\n",
       "  </thead>\n",
       "  <tbody>\n",
       "    <tr>\n",
       "      <th>0</th>\n",
       "      <td>Close</td>\n",
       "      <td>2023-01-03</td>\n",
       "      <td>124.375</td>\n",
       "    </tr>\n",
       "    <tr>\n",
       "      <th>1</th>\n",
       "      <td>Close</td>\n",
       "      <td>2023-01-04</td>\n",
       "      <td>125.658</td>\n",
       "    </tr>\n",
       "    <tr>\n",
       "      <th>2</th>\n",
       "      <td>Close</td>\n",
       "      <td>2023-01-05</td>\n",
       "      <td>124.325</td>\n",
       "    </tr>\n",
       "    <tr>\n",
       "      <th>3</th>\n",
       "      <td>Close</td>\n",
       "      <td>2023-01-06</td>\n",
       "      <td>128.900</td>\n",
       "    </tr>\n",
       "    <tr>\n",
       "      <th>4</th>\n",
       "      <td>Close</td>\n",
       "      <td>2023-01-09</td>\n",
       "      <td>129.427</td>\n",
       "    </tr>\n",
       "    <tr>\n",
       "      <th>...</th>\n",
       "      <td>...</td>\n",
       "      <td>...</td>\n",
       "      <td>...</td>\n",
       "    </tr>\n",
       "    <tr>\n",
       "      <th>245</th>\n",
       "      <td>Close</td>\n",
       "      <td>2023-12-22</td>\n",
       "      <td>193.600</td>\n",
       "    </tr>\n",
       "    <tr>\n",
       "      <th>246</th>\n",
       "      <td>Close</td>\n",
       "      <td>2023-12-26</td>\n",
       "      <td>193.050</td>\n",
       "    </tr>\n",
       "    <tr>\n",
       "      <th>247</th>\n",
       "      <td>Close</td>\n",
       "      <td>2023-12-27</td>\n",
       "      <td>193.150</td>\n",
       "    </tr>\n",
       "    <tr>\n",
       "      <th>248</th>\n",
       "      <td>Close</td>\n",
       "      <td>2023-12-28</td>\n",
       "      <td>193.580</td>\n",
       "    </tr>\n",
       "    <tr>\n",
       "      <th>249</th>\n",
       "      <td>Close</td>\n",
       "      <td>2023-12-29</td>\n",
       "      <td>192.530</td>\n",
       "    </tr>\n",
       "  </tbody>\n",
       "</table>\n",
       "<p>250 rows × 3 columns</p>\n",
       "</div>"
      ],
      "text/plain": [
       "     Field        Date  close price\n",
       "0    Close  2023-01-03      124.375\n",
       "1    Close  2023-01-04      125.658\n",
       "2    Close  2023-01-05      124.325\n",
       "3    Close  2023-01-06      128.900\n",
       "4    Close  2023-01-09      129.427\n",
       "..     ...         ...          ...\n",
       "245  Close  2023-12-22      193.600\n",
       "246  Close  2023-12-26      193.050\n",
       "247  Close  2023-12-27      193.150\n",
       "248  Close  2023-12-28      193.580\n",
       "249  Close  2023-12-29      192.530\n",
       "\n",
       "[250 rows x 3 columns]"
      ]
     },
     "execution_count": 46,
     "metadata": {},
     "output_type": "execute_result"
    }
   ],
   "source": [
    "import pandas as pd\n",
    "df=pd.read_csv(\"daily_closing_prices.csv\")\n",
    "df.rename(columns={'FIBBG000B9XRY4': 'close price'}, inplace=True)\n",
    "df"
   ]
  },
  {
   "cell_type": "markdown",
   "id": "d4ebb59e-eab0-43df-a118-075a99d30c8b",
   "metadata": {},
   "source": [
    "# Line Chart"
   ]
  },
  {
   "cell_type": "code",
   "execution_count": 47,
   "id": "19fd8bca-644d-4ce2-986f-983c599583eb",
   "metadata": {
    "tags": []
   },
   "outputs": [
    {
     "data": {
      "application/vnd.plotly.v1+json": {
       "config": {
        "plotlyServerURL": "https://plot.ly"
       },
       "data": [
        {
         "hovertemplate": "Date=%{x}<br>close price=%{y}<extra></extra>",
         "legendgroup": "",
         "line": {
          "color": "#636efa",
          "dash": "solid"
         },
         "marker": {
          "symbol": "circle"
         },
         "mode": "lines",
         "name": "",
         "orientation": "v",
         "showlegend": false,
         "type": "scatter",
         "x": [
          "2023-01-03T00:00:00",
          "2023-01-04T00:00:00",
          "2023-01-05T00:00:00",
          "2023-01-06T00:00:00",
          "2023-01-09T00:00:00",
          "2023-01-10T00:00:00",
          "2023-01-11T00:00:00",
          "2023-01-12T00:00:00",
          "2023-01-13T00:00:00",
          "2023-01-17T00:00:00",
          "2023-01-18T00:00:00",
          "2023-01-19T00:00:00",
          "2023-01-20T00:00:00",
          "2023-01-23T00:00:00",
          "2023-01-24T00:00:00",
          "2023-01-25T00:00:00",
          "2023-01-26T00:00:00",
          "2023-01-27T00:00:00",
          "2023-01-30T00:00:00",
          "2023-01-31T00:00:00",
          "2023-02-01T00:00:00",
          "2023-02-02T00:00:00",
          "2023-02-03T00:00:00",
          "2023-02-06T00:00:00",
          "2023-02-07T00:00:00",
          "2023-02-08T00:00:00",
          "2023-02-09T00:00:00",
          "2023-02-10T00:00:00",
          "2023-02-13T00:00:00",
          "2023-02-14T00:00:00",
          "2023-02-15T00:00:00",
          "2023-02-16T00:00:00",
          "2023-02-17T00:00:00",
          "2023-02-21T00:00:00",
          "2023-02-22T00:00:00",
          "2023-02-23T00:00:00",
          "2023-02-24T00:00:00",
          "2023-02-27T00:00:00",
          "2023-02-28T00:00:00",
          "2023-03-01T00:00:00",
          "2023-03-02T00:00:00",
          "2023-03-03T00:00:00",
          "2023-03-06T00:00:00",
          "2023-03-07T00:00:00",
          "2023-03-08T00:00:00",
          "2023-03-09T00:00:00",
          "2023-03-10T00:00:00",
          "2023-03-13T00:00:00",
          "2023-03-14T00:00:00",
          "2023-03-15T00:00:00",
          "2023-03-16T00:00:00",
          "2023-03-17T00:00:00",
          "2023-03-20T00:00:00",
          "2023-03-21T00:00:00",
          "2023-03-22T00:00:00",
          "2023-03-23T00:00:00",
          "2023-03-24T00:00:00",
          "2023-03-27T00:00:00",
          "2023-03-28T00:00:00",
          "2023-03-29T00:00:00",
          "2023-03-30T00:00:00",
          "2023-03-31T00:00:00",
          "2023-04-03T00:00:00",
          "2023-04-04T00:00:00",
          "2023-04-05T00:00:00",
          "2023-04-06T00:00:00",
          "2023-04-10T00:00:00",
          "2023-04-11T00:00:00",
          "2023-04-12T00:00:00",
          "2023-04-13T00:00:00",
          "2023-04-14T00:00:00",
          "2023-04-17T00:00:00",
          "2023-04-18T00:00:00",
          "2023-04-19T00:00:00",
          "2023-04-20T00:00:00",
          "2023-04-21T00:00:00",
          "2023-04-24T00:00:00",
          "2023-04-25T00:00:00",
          "2023-04-26T00:00:00",
          "2023-04-27T00:00:00",
          "2023-04-28T00:00:00",
          "2023-05-01T00:00:00",
          "2023-05-02T00:00:00",
          "2023-05-03T00:00:00",
          "2023-05-04T00:00:00",
          "2023-05-05T00:00:00",
          "2023-05-08T00:00:00",
          "2023-05-09T00:00:00",
          "2023-05-10T00:00:00",
          "2023-05-11T00:00:00",
          "2023-05-12T00:00:00",
          "2023-05-15T00:00:00",
          "2023-05-16T00:00:00",
          "2023-05-17T00:00:00",
          "2023-05-18T00:00:00",
          "2023-05-19T00:00:00",
          "2023-05-22T00:00:00",
          "2023-05-23T00:00:00",
          "2023-05-24T00:00:00",
          "2023-05-25T00:00:00",
          "2023-05-26T00:00:00",
          "2023-05-30T00:00:00",
          "2023-05-31T00:00:00",
          "2023-06-01T00:00:00",
          "2023-06-02T00:00:00",
          "2023-06-05T00:00:00",
          "2023-06-06T00:00:00",
          "2023-06-07T00:00:00",
          "2023-06-08T00:00:00",
          "2023-06-09T00:00:00",
          "2023-06-12T00:00:00",
          "2023-06-13T00:00:00",
          "2023-06-14T00:00:00",
          "2023-06-15T00:00:00",
          "2023-06-16T00:00:00",
          "2023-06-20T00:00:00",
          "2023-06-21T00:00:00",
          "2023-06-22T00:00:00",
          "2023-06-23T00:00:00",
          "2023-06-26T00:00:00",
          "2023-06-27T00:00:00",
          "2023-06-28T00:00:00",
          "2023-06-29T00:00:00",
          "2023-06-30T00:00:00",
          "2023-07-03T00:00:00",
          "2023-07-05T00:00:00",
          "2023-07-06T00:00:00",
          "2023-07-07T00:00:00",
          "2023-07-10T00:00:00",
          "2023-07-11T00:00:00",
          "2023-07-12T00:00:00",
          "2023-07-13T00:00:00",
          "2023-07-14T00:00:00",
          "2023-07-17T00:00:00",
          "2023-07-18T00:00:00",
          "2023-07-19T00:00:00",
          "2023-07-20T00:00:00",
          "2023-07-21T00:00:00",
          "2023-07-24T00:00:00",
          "2023-07-25T00:00:00",
          "2023-07-26T00:00:00",
          "2023-07-27T00:00:00",
          "2023-07-28T00:00:00",
          "2023-07-31T00:00:00",
          "2023-08-01T00:00:00",
          "2023-08-02T00:00:00",
          "2023-08-03T00:00:00",
          "2023-08-04T00:00:00",
          "2023-08-07T00:00:00",
          "2023-08-08T00:00:00",
          "2023-08-09T00:00:00",
          "2023-08-10T00:00:00",
          "2023-08-11T00:00:00",
          "2023-08-14T00:00:00",
          "2023-08-15T00:00:00",
          "2023-08-16T00:00:00",
          "2023-08-17T00:00:00",
          "2023-08-18T00:00:00",
          "2023-08-21T00:00:00",
          "2023-08-22T00:00:00",
          "2023-08-23T00:00:00",
          "2023-08-24T00:00:00",
          "2023-08-25T00:00:00",
          "2023-08-28T00:00:00",
          "2023-08-29T00:00:00",
          "2023-08-30T00:00:00",
          "2023-08-31T00:00:00",
          "2023-09-01T00:00:00",
          "2023-09-05T00:00:00",
          "2023-09-06T00:00:00",
          "2023-09-07T00:00:00",
          "2023-09-08T00:00:00",
          "2023-09-11T00:00:00",
          "2023-09-12T00:00:00",
          "2023-09-13T00:00:00",
          "2023-09-14T00:00:00",
          "2023-09-15T00:00:00",
          "2023-09-18T00:00:00",
          "2023-09-19T00:00:00",
          "2023-09-20T00:00:00",
          "2023-09-21T00:00:00",
          "2023-09-22T00:00:00",
          "2023-09-25T00:00:00",
          "2023-09-26T00:00:00",
          "2023-09-27T00:00:00",
          "2023-09-28T00:00:00",
          "2023-09-29T00:00:00",
          "2023-10-02T00:00:00",
          "2023-10-03T00:00:00",
          "2023-10-04T00:00:00",
          "2023-10-05T00:00:00",
          "2023-10-06T00:00:00",
          "2023-10-09T00:00:00",
          "2023-10-10T00:00:00",
          "2023-10-11T00:00:00",
          "2023-10-12T00:00:00",
          "2023-10-13T00:00:00",
          "2023-10-16T00:00:00",
          "2023-10-17T00:00:00",
          "2023-10-18T00:00:00",
          "2023-10-19T00:00:00",
          "2023-10-20T00:00:00",
          "2023-10-23T00:00:00",
          "2023-10-24T00:00:00",
          "2023-10-25T00:00:00",
          "2023-10-26T00:00:00",
          "2023-10-27T00:00:00",
          "2023-10-30T00:00:00",
          "2023-10-31T00:00:00",
          "2023-11-01T00:00:00",
          "2023-11-02T00:00:00",
          "2023-11-03T00:00:00",
          "2023-11-06T00:00:00",
          "2023-11-07T00:00:00",
          "2023-11-08T00:00:00",
          "2023-11-09T00:00:00",
          "2023-11-10T00:00:00",
          "2023-11-13T00:00:00",
          "2023-11-14T00:00:00",
          "2023-11-15T00:00:00",
          "2023-11-16T00:00:00",
          "2023-11-17T00:00:00",
          "2023-11-20T00:00:00",
          "2023-11-21T00:00:00",
          "2023-11-22T00:00:00",
          "2023-11-24T00:00:00",
          "2023-11-27T00:00:00",
          "2023-11-28T00:00:00",
          "2023-11-29T00:00:00",
          "2023-11-30T00:00:00",
          "2023-12-01T00:00:00",
          "2023-12-04T00:00:00",
          "2023-12-05T00:00:00",
          "2023-12-06T00:00:00",
          "2023-12-07T00:00:00",
          "2023-12-08T00:00:00",
          "2023-12-11T00:00:00",
          "2023-12-12T00:00:00",
          "2023-12-13T00:00:00",
          "2023-12-14T00:00:00",
          "2023-12-15T00:00:00",
          "2023-12-18T00:00:00",
          "2023-12-19T00:00:00",
          "2023-12-20T00:00:00",
          "2023-12-21T00:00:00",
          "2023-12-22T00:00:00",
          "2023-12-26T00:00:00",
          "2023-12-27T00:00:00",
          "2023-12-28T00:00:00",
          "2023-12-29T00:00:00"
         ],
         "xaxis": "x",
         "y": [
          124.375,
          125.658,
          124.325,
          128.9,
          129.427,
          130.003,
          132.748,
          132.668,
          134.011,
          135.184,
          134.458,
          134.518,
          137.104,
          140.326,
          141.738,
          141.071,
          143.16,
          145.119,
          142.205,
          143.488,
          144.622,
          149.982,
          153.641,
          150.887,
          153.79,
          151.076,
          150.031,
          150.4,
          153.228,
          152.581,
          154.702,
          153.089,
          151.934,
          147.88,
          148.308,
          148.796,
          146.117,
          147.322,
          146.814,
          144.723,
          145.321,
          150.42,
          153.209,
          150.988,
          152.252,
          149.982,
          147.9,
          149.862,
          151.974,
          152.372,
          155.22,
          154.374,
          156.764,
          158.636,
          157.192,
          158.288,
          159.603,
          157.641,
          157.013,
          160.12,
          161.704,
          164.234,
          165.499,
          164.961,
          163.098,
          163.995,
          161.375,
          160.15,
          159.453,
          164.891,
          164.543,
          164.562,
          165.797,
          166.953,
          165.977,
          164.353,
          164.662,
          163.108,
          163.098,
          167.73,
          168.994,
          168.905,
          167.859,
          166.773,
          165.12,
          172.869,
          172.799,
          171.076,
          172.854,
          173.048,
          172.111,
          171.612,
          171.612,
          172.23,
          174.584,
          174.694,
          173.736,
          171.103,
          171.382,
          172.529,
          174.963,
          176.828,
          176.778,
          179.611,
          180.468,
          179.102,
          178.733,
          177.347,
          180.089,
          180.478,
          183.301,
          182.822,
          183.46,
          185.515,
          184.428,
          184.517,
          183.47,
          186.502,
          186.183,
          184.777,
          187.559,
          188.746,
          189.085,
          193.454,
          191.948,
          190.821,
          191.299,
          190.172,
          188.108,
          187.579,
          189.265,
          190.033,
          190.182,
          193.474,
          193.214,
          194.581,
          192.616,
          191.429,
          192.237,
          193.104,
          193.982,
          192.706,
          195.309,
          195.927,
          195.084,
          192.067,
          190.661,
          181.505,
          178.374,
          179.321,
          177.716,
          177.496,
          177.556,
          179.224,
          177.217,
          176.338,
          173.771,
          174.26,
          175.609,
          176.997,
          180.882,
          176.148,
          178.375,
          179.953,
          183.878,
          187.403,
          187.623,
          189.211,
          189.45,
          182.669,
          177.326,
          177.946,
          179.124,
          176.068,
          173.981,
          175.509,
          174.78,
          177.736,
          178.834,
          175.259,
          173.701,
          174.56,
          175.848,
          171.734,
          170.206,
          170.465,
          170.985,
          173.521,
          172.173,
          173.432,
          174.68,
          177.256,
          178.754,
          178.155,
          179.563,
          180.472,
          178.615,
          178.485,
          176.917,
          175.609,
          175.229,
          172.653,
          172.772,
          173.212,
          170.875,
          166.67,
          167.999,
          170.066,
          170.545,
          173.741,
          177.336,
          176.418,
          178.994,
          181.581,
          182.649,
          182.17,
          186.4,
          184.8,
          187.44,
          188.01,
          189.71,
          189.69,
          191.45,
          190.64,
          191.31,
          189.97,
          189.79,
          190.4,
          189.37,
          189.95,
          191.24,
          189.43,
          193.42,
          192.32,
          194.27,
          195.71,
          193.18,
          194.71,
          197.96,
          198.11,
          197.57,
          195.89,
          196.94,
          194.83,
          194.68,
          193.6,
          193.05,
          193.15,
          193.58,
          192.53
         ],
         "yaxis": "y"
        }
       ],
       "layout": {
        "autosize": true,
        "hovermode": "x",
        "legend": {
         "tracegroupgap": 0
        },
        "template": {
         "data": {
          "bar": [
           {
            "error_x": {
             "color": "#2a3f5f"
            },
            "error_y": {
             "color": "#2a3f5f"
            },
            "marker": {
             "line": {
              "color": "#E5ECF6",
              "width": 0.5
             },
             "pattern": {
              "fillmode": "overlay",
              "size": 10,
              "solidity": 0.2
             }
            },
            "type": "bar"
           }
          ],
          "barpolar": [
           {
            "marker": {
             "line": {
              "color": "#E5ECF6",
              "width": 0.5
             },
             "pattern": {
              "fillmode": "overlay",
              "size": 10,
              "solidity": 0.2
             }
            },
            "type": "barpolar"
           }
          ],
          "carpet": [
           {
            "aaxis": {
             "endlinecolor": "#2a3f5f",
             "gridcolor": "white",
             "linecolor": "white",
             "minorgridcolor": "white",
             "startlinecolor": "#2a3f5f"
            },
            "baxis": {
             "endlinecolor": "#2a3f5f",
             "gridcolor": "white",
             "linecolor": "white",
             "minorgridcolor": "white",
             "startlinecolor": "#2a3f5f"
            },
            "type": "carpet"
           }
          ],
          "choropleth": [
           {
            "colorbar": {
             "outlinewidth": 0,
             "ticks": ""
            },
            "type": "choropleth"
           }
          ],
          "contour": [
           {
            "colorbar": {
             "outlinewidth": 0,
             "ticks": ""
            },
            "colorscale": [
             [
              0,
              "#0d0887"
             ],
             [
              0.1111111111111111,
              "#46039f"
             ],
             [
              0.2222222222222222,
              "#7201a8"
             ],
             [
              0.3333333333333333,
              "#9c179e"
             ],
             [
              0.4444444444444444,
              "#bd3786"
             ],
             [
              0.5555555555555556,
              "#d8576b"
             ],
             [
              0.6666666666666666,
              "#ed7953"
             ],
             [
              0.7777777777777778,
              "#fb9f3a"
             ],
             [
              0.8888888888888888,
              "#fdca26"
             ],
             [
              1,
              "#f0f921"
             ]
            ],
            "type": "contour"
           }
          ],
          "contourcarpet": [
           {
            "colorbar": {
             "outlinewidth": 0,
             "ticks": ""
            },
            "type": "contourcarpet"
           }
          ],
          "heatmap": [
           {
            "colorbar": {
             "outlinewidth": 0,
             "ticks": ""
            },
            "colorscale": [
             [
              0,
              "#0d0887"
             ],
             [
              0.1111111111111111,
              "#46039f"
             ],
             [
              0.2222222222222222,
              "#7201a8"
             ],
             [
              0.3333333333333333,
              "#9c179e"
             ],
             [
              0.4444444444444444,
              "#bd3786"
             ],
             [
              0.5555555555555556,
              "#d8576b"
             ],
             [
              0.6666666666666666,
              "#ed7953"
             ],
             [
              0.7777777777777778,
              "#fb9f3a"
             ],
             [
              0.8888888888888888,
              "#fdca26"
             ],
             [
              1,
              "#f0f921"
             ]
            ],
            "type": "heatmap"
           }
          ],
          "heatmapgl": [
           {
            "colorbar": {
             "outlinewidth": 0,
             "ticks": ""
            },
            "colorscale": [
             [
              0,
              "#0d0887"
             ],
             [
              0.1111111111111111,
              "#46039f"
             ],
             [
              0.2222222222222222,
              "#7201a8"
             ],
             [
              0.3333333333333333,
              "#9c179e"
             ],
             [
              0.4444444444444444,
              "#bd3786"
             ],
             [
              0.5555555555555556,
              "#d8576b"
             ],
             [
              0.6666666666666666,
              "#ed7953"
             ],
             [
              0.7777777777777778,
              "#fb9f3a"
             ],
             [
              0.8888888888888888,
              "#fdca26"
             ],
             [
              1,
              "#f0f921"
             ]
            ],
            "type": "heatmapgl"
           }
          ],
          "histogram": [
           {
            "marker": {
             "pattern": {
              "fillmode": "overlay",
              "size": 10,
              "solidity": 0.2
             }
            },
            "type": "histogram"
           }
          ],
          "histogram2d": [
           {
            "colorbar": {
             "outlinewidth": 0,
             "ticks": ""
            },
            "colorscale": [
             [
              0,
              "#0d0887"
             ],
             [
              0.1111111111111111,
              "#46039f"
             ],
             [
              0.2222222222222222,
              "#7201a8"
             ],
             [
              0.3333333333333333,
              "#9c179e"
             ],
             [
              0.4444444444444444,
              "#bd3786"
             ],
             [
              0.5555555555555556,
              "#d8576b"
             ],
             [
              0.6666666666666666,
              "#ed7953"
             ],
             [
              0.7777777777777778,
              "#fb9f3a"
             ],
             [
              0.8888888888888888,
              "#fdca26"
             ],
             [
              1,
              "#f0f921"
             ]
            ],
            "type": "histogram2d"
           }
          ],
          "histogram2dcontour": [
           {
            "colorbar": {
             "outlinewidth": 0,
             "ticks": ""
            },
            "colorscale": [
             [
              0,
              "#0d0887"
             ],
             [
              0.1111111111111111,
              "#46039f"
             ],
             [
              0.2222222222222222,
              "#7201a8"
             ],
             [
              0.3333333333333333,
              "#9c179e"
             ],
             [
              0.4444444444444444,
              "#bd3786"
             ],
             [
              0.5555555555555556,
              "#d8576b"
             ],
             [
              0.6666666666666666,
              "#ed7953"
             ],
             [
              0.7777777777777778,
              "#fb9f3a"
             ],
             [
              0.8888888888888888,
              "#fdca26"
             ],
             [
              1,
              "#f0f921"
             ]
            ],
            "type": "histogram2dcontour"
           }
          ],
          "mesh3d": [
           {
            "colorbar": {
             "outlinewidth": 0,
             "ticks": ""
            },
            "type": "mesh3d"
           }
          ],
          "parcoords": [
           {
            "line": {
             "colorbar": {
              "outlinewidth": 0,
              "ticks": ""
             }
            },
            "type": "parcoords"
           }
          ],
          "pie": [
           {
            "automargin": true,
            "type": "pie"
           }
          ],
          "scatter": [
           {
            "fillpattern": {
             "fillmode": "overlay",
             "size": 10,
             "solidity": 0.2
            },
            "type": "scatter"
           }
          ],
          "scatter3d": [
           {
            "line": {
             "colorbar": {
              "outlinewidth": 0,
              "ticks": ""
             }
            },
            "marker": {
             "colorbar": {
              "outlinewidth": 0,
              "ticks": ""
             }
            },
            "type": "scatter3d"
           }
          ],
          "scattercarpet": [
           {
            "marker": {
             "colorbar": {
              "outlinewidth": 0,
              "ticks": ""
             }
            },
            "type": "scattercarpet"
           }
          ],
          "scattergeo": [
           {
            "marker": {
             "colorbar": {
              "outlinewidth": 0,
              "ticks": ""
             }
            },
            "type": "scattergeo"
           }
          ],
          "scattergl": [
           {
            "marker": {
             "colorbar": {
              "outlinewidth": 0,
              "ticks": ""
             }
            },
            "type": "scattergl"
           }
          ],
          "scattermapbox": [
           {
            "marker": {
             "colorbar": {
              "outlinewidth": 0,
              "ticks": ""
             }
            },
            "type": "scattermapbox"
           }
          ],
          "scatterpolar": [
           {
            "marker": {
             "colorbar": {
              "outlinewidth": 0,
              "ticks": ""
             }
            },
            "type": "scatterpolar"
           }
          ],
          "scatterpolargl": [
           {
            "marker": {
             "colorbar": {
              "outlinewidth": 0,
              "ticks": ""
             }
            },
            "type": "scatterpolargl"
           }
          ],
          "scatterternary": [
           {
            "marker": {
             "colorbar": {
              "outlinewidth": 0,
              "ticks": ""
             }
            },
            "type": "scatterternary"
           }
          ],
          "surface": [
           {
            "colorbar": {
             "outlinewidth": 0,
             "ticks": ""
            },
            "colorscale": [
             [
              0,
              "#0d0887"
             ],
             [
              0.1111111111111111,
              "#46039f"
             ],
             [
              0.2222222222222222,
              "#7201a8"
             ],
             [
              0.3333333333333333,
              "#9c179e"
             ],
             [
              0.4444444444444444,
              "#bd3786"
             ],
             [
              0.5555555555555556,
              "#d8576b"
             ],
             [
              0.6666666666666666,
              "#ed7953"
             ],
             [
              0.7777777777777778,
              "#fb9f3a"
             ],
             [
              0.8888888888888888,
              "#fdca26"
             ],
             [
              1,
              "#f0f921"
             ]
            ],
            "type": "surface"
           }
          ],
          "table": [
           {
            "cells": {
             "fill": {
              "color": "#EBF0F8"
             },
             "line": {
              "color": "white"
             }
            },
            "header": {
             "fill": {
              "color": "#C8D4E3"
             },
             "line": {
              "color": "white"
             }
            },
            "type": "table"
           }
          ]
         },
         "layout": {
          "annotationdefaults": {
           "arrowcolor": "#2a3f5f",
           "arrowhead": 0,
           "arrowwidth": 1
          },
          "autotypenumbers": "strict",
          "coloraxis": {
           "colorbar": {
            "outlinewidth": 0,
            "ticks": ""
           }
          },
          "colorscale": {
           "diverging": [
            [
             0,
             "#8e0152"
            ],
            [
             0.1,
             "#c51b7d"
            ],
            [
             0.2,
             "#de77ae"
            ],
            [
             0.3,
             "#f1b6da"
            ],
            [
             0.4,
             "#fde0ef"
            ],
            [
             0.5,
             "#f7f7f7"
            ],
            [
             0.6,
             "#e6f5d0"
            ],
            [
             0.7,
             "#b8e186"
            ],
            [
             0.8,
             "#7fbc41"
            ],
            [
             0.9,
             "#4d9221"
            ],
            [
             1,
             "#276419"
            ]
           ],
           "sequential": [
            [
             0,
             "#0d0887"
            ],
            [
             0.1111111111111111,
             "#46039f"
            ],
            [
             0.2222222222222222,
             "#7201a8"
            ],
            [
             0.3333333333333333,
             "#9c179e"
            ],
            [
             0.4444444444444444,
             "#bd3786"
            ],
            [
             0.5555555555555556,
             "#d8576b"
            ],
            [
             0.6666666666666666,
             "#ed7953"
            ],
            [
             0.7777777777777778,
             "#fb9f3a"
            ],
            [
             0.8888888888888888,
             "#fdca26"
            ],
            [
             1,
             "#f0f921"
            ]
           ],
           "sequentialminus": [
            [
             0,
             "#0d0887"
            ],
            [
             0.1111111111111111,
             "#46039f"
            ],
            [
             0.2222222222222222,
             "#7201a8"
            ],
            [
             0.3333333333333333,
             "#9c179e"
            ],
            [
             0.4444444444444444,
             "#bd3786"
            ],
            [
             0.5555555555555556,
             "#d8576b"
            ],
            [
             0.6666666666666666,
             "#ed7953"
            ],
            [
             0.7777777777777778,
             "#fb9f3a"
            ],
            [
             0.8888888888888888,
             "#fdca26"
            ],
            [
             1,
             "#f0f921"
            ]
           ]
          },
          "colorway": [
           "#636efa",
           "#EF553B",
           "#00cc96",
           "#ab63fa",
           "#FFA15A",
           "#19d3f3",
           "#FF6692",
           "#B6E880",
           "#FF97FF",
           "#FECB52"
          ],
          "font": {
           "color": "#2a3f5f"
          },
          "geo": {
           "bgcolor": "white",
           "lakecolor": "white",
           "landcolor": "#E5ECF6",
           "showlakes": true,
           "showland": true,
           "subunitcolor": "white"
          },
          "hoverlabel": {
           "align": "left"
          },
          "hovermode": "closest",
          "mapbox": {
           "style": "light"
          },
          "paper_bgcolor": "white",
          "plot_bgcolor": "#E5ECF6",
          "polar": {
           "angularaxis": {
            "gridcolor": "white",
            "linecolor": "white",
            "ticks": ""
           },
           "bgcolor": "#E5ECF6",
           "radialaxis": {
            "gridcolor": "white",
            "linecolor": "white",
            "ticks": ""
           }
          },
          "scene": {
           "xaxis": {
            "backgroundcolor": "#E5ECF6",
            "gridcolor": "white",
            "gridwidth": 2,
            "linecolor": "white",
            "showbackground": true,
            "ticks": "",
            "zerolinecolor": "white"
           },
           "yaxis": {
            "backgroundcolor": "#E5ECF6",
            "gridcolor": "white",
            "gridwidth": 2,
            "linecolor": "white",
            "showbackground": true,
            "ticks": "",
            "zerolinecolor": "white"
           },
           "zaxis": {
            "backgroundcolor": "#E5ECF6",
            "gridcolor": "white",
            "gridwidth": 2,
            "linecolor": "white",
            "showbackground": true,
            "ticks": "",
            "zerolinecolor": "white"
           }
          },
          "shapedefaults": {
           "line": {
            "color": "#2a3f5f"
           }
          },
          "ternary": {
           "aaxis": {
            "gridcolor": "white",
            "linecolor": "white",
            "ticks": ""
           },
           "baxis": {
            "gridcolor": "white",
            "linecolor": "white",
            "ticks": ""
           },
           "bgcolor": "#E5ECF6",
           "caxis": {
            "gridcolor": "white",
            "linecolor": "white",
            "ticks": ""
           }
          },
          "title": {
           "x": 0.05
          },
          "xaxis": {
           "automargin": true,
           "gridcolor": "white",
           "linecolor": "white",
           "ticks": "",
           "title": {
            "standoff": 15
           },
           "zerolinecolor": "white",
           "zerolinewidth": 2
          },
          "yaxis": {
           "automargin": true,
           "gridcolor": "white",
           "linecolor": "white",
           "ticks": "",
           "title": {
            "standoff": 15
           },
           "zerolinecolor": "white",
           "zerolinewidth": 2
          }
         }
        },
        "title": {
         "text": "Close Price Over Time"
        },
        "xaxis": {
         "anchor": "y",
         "autorange": true,
         "domain": [
          0,
          1
         ],
         "range": [
          "2023-01-03",
          "2023-12-29"
         ],
         "rangeslider": {
          "autorange": true,
          "range": [
           "2023-01-03",
           "2023-12-29"
          ],
          "visible": true,
          "yaxis": {
           "_template": null,
           "rangemode": "match"
          }
         },
         "title": {
          "text": "Date"
         },
         "type": "date"
        },
        "yaxis": {
         "anchor": "x",
         "autorange": true,
         "domain": [
          0,
          1
         ],
         "range": [
          120.22583333333334,
          202.20916666666668
         ],
         "title": {
          "text": "Close Price"
         },
         "type": "linear"
        }
       }
      },
      "image/png": "[encoded data removed]",
      "text/html": [
       "<div>                            <div id=\"9746fc92-9fe7-476b-8882-5ac47ce0b078\" class=\"plotly-graph-div\" style=\"height:525px; width:100%;\"></div>            <script type=\"text/javascript\">                require([\"plotly\"], function(Plotly) {                    window.PLOTLYENV=window.PLOTLYENV || {};                                    if (document.getElementById(\"9746fc92-9fe7-476b-8882-5ac47ce0b078\")) {                    Plotly.newPlot(                        \"9746fc92-9fe7-476b-8882-5ac47ce0b078\",                        [{\"hovertemplate\":\"Date=%{x}\\u003cbr\\u003eclose price=%{y}\\u003cextra\\u003e\\u003c\\u002fextra\\u003e\",\"legendgroup\":\"\",\"line\":{\"color\":\"#636efa\",\"dash\":\"solid\"},\"marker\":{\"symbol\":\"circle\"},\"mode\":\"lines\",\"name\":\"\",\"orientation\":\"v\",\"showlegend\":false,\"x\":[\"2023-01-03T00:00:00\",\"2023-01-04T00:00:00\",\"2023-01-05T00:00:00\",\"2023-01-06T00:00:00\",\"2023-01-09T00:00:00\",\"2023-01-10T00:00:00\",\"2023-01-11T00:00:00\",\"2023-01-12T00:00:00\",\"2023-01-13T00:00:00\",\"2023-01-17T00:00:00\",\"2023-01-18T00:00:00\",\"2023-01-19T00:00:00\",\"2023-01-20T00:00:00\",\"2023-01-23T00:00:00\",\"2023-01-24T00:00:00\",\"2023-01-25T00:00:00\",\"2023-01-26T00:00:00\",\"2023-01-27T00:00:00\",\"2023-01-30T00:00:00\",\"2023-01-31T00:00:00\",\"2023-02-01T00:00:00\",\"2023-02-02T00:00:00\",\"2023-02-03T00:00:00\",\"2023-02-06T00:00:00\",\"2023-02-07T00:00:00\",\"2023-02-08T00:00:00\",\"2023-02-09T00:00:00\",\"2023-02-10T00:00:00\",\"2023-02-13T00:00:00\",\"2023-02-14T00:00:00\",\"2023-02-15T00:00:00\",\"2023-02-16T00:00:00\",\"2023-02-17T00:00:00\",\"2023-02-21T00:00:00\",\"2023-02-22T00:00:00\",\"2023-02-23T00:00:00\",\"2023-02-24T00:00:00\",\"2023-02-27T00:00:00\",\"2023-02-28T00:00:00\",\"2023-03-01T00:00:00\",\"2023-03-02T00:00:00\",\"2023-03-03T00:00:00\",\"2023-03-06T00:00:00\",\"2023-03-07T00:00:00\",\"2023-03-08T00:00:00\",\"2023-03-09T00:00:00\",\"2023-03-10T00:00:00\",\"2023-03-13T00:00:00\",\"2023-03-14T00:00:00\",\"2023-03-15T00:00:00\",\"2023-03-16T00:00:00\",\"2023-03-17T00:00:00\",\"2023-03-20T00:00:00\",\"2023-03-21T00:00:00\",\"2023-03-22T00:00:00\",\"2023-03-23T00:00:00\",\"2023-03-24T00:00:00\",\"2023-03-27T00:00:00\",\"2023-03-28T00:00:00\",\"2023-03-29T00:00:00\",\"2023-03-30T00:00:00\",\"2023-03-31T00:00:00\",\"2023-04-03T00:00:00\",\"2023-04-04T00:00:00\",\"2023-04-05T00:00:00\",\"2023-04-06T00:00:00\",\"2023-04-10T00:00:00\",\"2023-04-11T00:00:00\",\"2023-04-12T00:00:00\",\"2023-04-13T00:00:00\",\"2023-04-14T00:00:00\",\"2023-04-17T00:00:00\",\"2023-04-18T00:00:00\",\"2023-04-19T00:00:00\",\"2023-04-20T00:00:00\",\"2023-04-21T00:00:00\",\"2023-04-24T00:00:00\",\"2023-04-25T00:00:00\",\"2023-04-26T00:00:00\",\"2023-04-27T00:00:00\",\"2023-04-28T00:00:00\",\"2023-05-01T00:00:00\",\"2023-05-02T00:00:00\",\"2023-05-03T00:00:00\",\"2023-05-04T00:00:00\",\"2023-05-05T00:00:00\",\"2023-05-08T00:00:00\",\"2023-05-09T00:00:00\",\"2023-05-10T00:00:00\",\"2023-05-11T00:00:00\",\"2023-05-12T00:00:00\",\"2023-05-15T00:00:00\",\"2023-05-16T00:00:00\",\"2023-05-17T00:00:00\",\"2023-05-18T00:00:00\",\"2023-05-19T00:00:00\",\"2023-05-22T00:00:00\",\"2023-05-23T00:00:00\",\"2023-05-24T00:00:00\",\"2023-05-25T00:00:00\",\"2023-05-26T00:00:00\",\"2023-05-30T00:00:00\",\"2023-05-31T00:00:00\",\"2023-06-01T00:00:00\",\"2023-06-02T00:00:00\",\"2023-06-05T00:00:00\",\"2023-06-06T00:00:00\",\"2023-06-07T00:00:00\",\"2023-06-08T00:00:00\",\"2023-06-09T00:00:00\",\"2023-06-12T00:00:00\",\"2023-06-13T00:00:00\",\"2023-06-14T00:00:00\",\"2023-06-15T00:00:00\",\"2023-06-16T00:00:00\",\"2023-06-20T00:00:00\",\"2023-06-21T00:00:00\",\"2023-06-22T00:00:00\",\"2023-06-23T00:00:00\",\"2023-06-26T00:00:00\",\"2023-06-27T00:00:00\",\"2023-06-28T00:00:00\",\"2023-06-29T00:00:00\",\"2023-06-30T00:00:00\",\"2023-07-03T00:00:00\",\"2023-07-05T00:00:00\",\"2023-07-06T00:00:00\",\"2023-07-07T00:00:00\",\"2023-07-10T00:00:00\",\"2023-07-11T00:00:00\",\"2023-07-12T00:00:00\",\"2023-07-13T00:00:00\",\"2023-07-14T00:00:00\",\"2023-07-17T00:00:00\",\"2023-07-18T00:00:00\",\"2023-07-19T00:00:00\",\"2023-07-20T00:00:00\",\"2023-07-21T00:00:00\",\"2023-07-24T00:00:00\",\"2023-07-25T00:00:00\",\"2023-07-26T00:00:00\",\"2023-07-27T00:00:00\",\"2023-07-28T00:00:00\",\"2023-07-31T00:00:00\",\"2023-08-01T00:00:00\",\"2023-08-02T00:00:00\",\"2023-08-03T00:00:00\",\"2023-08-04T00:00:00\",\"2023-08-07T00:00:00\",\"2023-08-08T00:00:00\",\"2023-08-09T00:00:00\",\"2023-08-10T00:00:00\",\"2023-08-11T00:00:00\",\"2023-08-14T00:00:00\",\"2023-08-15T00:00:00\",\"2023-08-16T00:00:00\",\"2023-08-17T00:00:00\",\"2023-08-18T00:00:00\",\"2023-08-21T00:00:00\",\"2023-08-22T00:00:00\",\"2023-08-23T00:00:00\",\"2023-08-24T00:00:00\",\"2023-08-25T00:00:00\",\"2023-08-28T00:00:00\",\"2023-08-29T00:00:00\",\"2023-08-30T00:00:00\",\"2023-08-31T00:00:00\",\"2023-09-01T00:00:00\",\"2023-09-05T00:00:00\",\"2023-09-06T00:00:00\",\"2023-09-07T00:00:00\",\"2023-09-08T00:00:00\",\"2023-09-11T00:00:00\",\"2023-09-12T00:00:00\",\"2023-09-13T00:00:00\",\"2023-09-14T00:00:00\",\"2023-09-15T00:00:00\",\"2023-09-18T00:00:00\",\"2023-09-19T00:00:00\",\"2023-09-20T00:00:00\",\"2023-09-21T00:00:00\",\"2023-09-22T00:00:00\",\"2023-09-25T00:00:00\",\"2023-09-26T00:00:00\",\"2023-09-27T00:00:00\",\"2023-09-28T00:00:00\",\"2023-09-29T00:00:00\",\"2023-10-02T00:00:00\",\"2023-10-03T00:00:00\",\"2023-10-04T00:00:00\",\"2023-10-05T00:00:00\",\"2023-10-06T00:00:00\",\"2023-10-09T00:00:00\",\"2023-10-10T00:00:00\",\"2023-10-11T00:00:00\",\"2023-10-12T00:00:00\",\"2023-10-13T00:00:00\",\"2023-10-16T00:00:00\",\"2023-10-17T00:00:00\",\"2023-10-18T00:00:00\",\"2023-10-19T00:00:00\",\"2023-10-20T00:00:00\",\"2023-10-23T00:00:00\",\"2023-10-24T00:00:00\",\"2023-10-25T00:00:00\",\"2023-10-26T00:00:00\",\"2023-10-27T00:00:00\",\"2023-10-30T00:00:00\",\"2023-10-31T00:00:00\",\"2023-11-01T00:00:00\",\"2023-11-02T00:00:00\",\"2023-11-03T00:00:00\",\"2023-11-06T00:00:00\",\"2023-11-07T00:00:00\",\"2023-11-08T00:00:00\",\"2023-11-09T00:00:00\",\"2023-11-10T00:00:00\",\"2023-11-13T00:00:00\",\"2023-11-14T00:00:00\",\"2023-11-15T00:00:00\",\"2023-11-16T00:00:00\",\"2023-11-17T00:00:00\",\"2023-11-20T00:00:00\",\"2023-11-21T00:00:00\",\"2023-11-22T00:00:00\",\"2023-11-24T00:00:00\",\"2023-11-27T00:00:00\",\"2023-11-28T00:00:00\",\"2023-11-29T00:00:00\",\"2023-11-30T00:00:00\",\"2023-12-01T00:00:00\",\"2023-12-04T00:00:00\",\"2023-12-05T00:00:00\",\"2023-12-06T00:00:00\",\"2023-12-07T00:00:00\",\"2023-12-08T00:00:00\",\"2023-12-11T00:00:00\",\"2023-12-12T00:00:00\",\"2023-12-13T00:00:00\",\"2023-12-14T00:00:00\",\"2023-12-15T00:00:00\",\"2023-12-18T00:00:00\",\"2023-12-19T00:00:00\",\"2023-12-20T00:00:00\",\"2023-12-21T00:00:00\",\"2023-12-22T00:00:00\",\"2023-12-26T00:00:00\",\"2023-12-27T00:00:00\",\"2023-12-28T00:00:00\",\"2023-12-29T00:00:00\"],\"xaxis\":\"x\",\"y\":[124.375,125.658,124.325,128.9,129.427,130.003,132.748,132.668,134.011,135.184,134.458,134.518,137.104,140.326,141.738,141.071,143.16,145.119,142.205,143.488,144.622,149.982,153.641,150.887,153.79,151.076,150.031,150.4,153.228,152.581,154.702,153.089,151.934,147.88,148.308,148.796,146.117,147.322,146.814,144.723,145.321,150.42,153.209,150.988,152.252,149.982,147.9,149.862,151.974,152.372,155.22,154.374,156.764,158.636,157.192,158.288,159.603,157.641,157.013,160.12,161.704,164.234,165.499,164.961,163.098,163.995,161.375,160.15,159.453,164.891,164.543,164.562,165.797,166.953,165.977,164.353,164.662,163.108,163.098,167.73,168.994,168.905,167.859,166.773,165.12,172.869,172.799,171.076,172.854,173.048,172.111,171.612,171.612,172.23,174.584,174.694,173.736,171.103,171.382,172.529,174.963,176.828,176.778,179.611,180.468,179.102,178.733,177.347,180.089,180.478,183.301,182.822,183.46,185.515,184.428,184.517,183.47,186.502,186.183,184.777,187.559,188.746,189.085,193.454,191.948,190.821,191.299,190.172,188.108,187.579,189.265,190.033,190.182,193.474,193.214,194.581,192.616,191.429,192.237,193.104,193.982,192.706,195.309,195.927,195.084,192.067,190.661,181.505,178.374,179.321,177.716,177.496,177.556,179.224,177.217,176.338,173.771,174.26,175.609,176.997,180.882,176.148,178.375,179.953,183.878,187.403,187.623,189.211,189.45,182.669,177.326,177.946,179.124,176.068,173.981,175.509,174.78,177.736,178.834,175.259,173.701,174.56,175.848,171.734,170.206,170.465,170.985,173.521,172.173,173.432,174.68,177.256,178.754,178.155,179.563,180.472,178.615,178.485,176.917,175.609,175.229,172.653,172.772,173.212,170.875,166.67,167.999,170.066,170.545,173.741,177.336,176.418,178.994,181.581,182.649,182.17,186.4,184.8,187.44,188.01,189.71,189.69,191.45,190.64,191.31,189.97,189.79,190.4,189.37,189.95,191.24,189.43,193.42,192.32,194.27,195.71,193.18,194.71,197.96,198.11,197.57,195.89,196.94,194.83,194.68,193.6,193.05,193.15,193.58,192.53],\"yaxis\":\"y\",\"type\":\"scatter\"}],                        {\"template\":{\"data\":{\"histogram2dcontour\":[{\"type\":\"histogram2dcontour\",\"colorbar\":{\"outlinewidth\":0,\"ticks\":\"\"},\"colorscale\":[[0.0,\"#0d0887\"],[0.1111111111111111,\"#46039f\"],[0.2222222222222222,\"#7201a8\"],[0.3333333333333333,\"#9c179e\"],[0.4444444444444444,\"#bd3786\"],[0.5555555555555556,\"#d8576b\"],[0.6666666666666666,\"#ed7953\"],[0.7777777777777778,\"#fb9f3a\"],[0.8888888888888888,\"#fdca26\"],[1.0,\"#f0f921\"]]}],\"choropleth\":[{\"type\":\"choropleth\",\"colorbar\":{\"outlinewidth\":0,\"ticks\":\"\"}}],\"histogram2d\":[{\"type\":\"histogram2d\",\"colorbar\":{\"outlinewidth\":0,\"ticks\":\"\"},\"colorscale\":[[0.0,\"#0d0887\"],[0.1111111111111111,\"#46039f\"],[0.2222222222222222,\"#7201a8\"],[0.3333333333333333,\"#9c179e\"],[0.4444444444444444,\"#bd3786\"],[0.5555555555555556,\"#d8576b\"],[0.6666666666666666,\"#ed7953\"],[0.7777777777777778,\"#fb9f3a\"],[0.8888888888888888,\"#fdca26\"],[1.0,\"#f0f921\"]]}],\"heatmap\":[{\"type\":\"heatmap\",\"colorbar\":{\"outlinewidth\":0,\"ticks\":\"\"},\"colorscale\":[[0.0,\"#0d0887\"],[0.1111111111111111,\"#46039f\"],[0.2222222222222222,\"#7201a8\"],[0.3333333333333333,\"#9c179e\"],[0.4444444444444444,\"#bd3786\"],[0.5555555555555556,\"#d8576b\"],[0.6666666666666666,\"#ed7953\"],[0.7777777777777778,\"#fb9f3a\"],[0.8888888888888888,\"#fdca26\"],[1.0,\"#f0f921\"]]}],\"heatmapgl\":[{\"type\":\"heatmapgl\",\"colorbar\":{\"outlinewidth\":0,\"ticks\":\"\"},\"colorscale\":[[0.0,\"#0d0887\"],[0.1111111111111111,\"#46039f\"],[0.2222222222222222,\"#7201a8\"],[0.3333333333333333,\"#9c179e\"],[0.4444444444444444,\"#bd3786\"],[0.5555555555555556,\"#d8576b\"],[0.6666666666666666,\"#ed7953\"],[0.7777777777777778,\"#fb9f3a\"],[0.8888888888888888,\"#fdca26\"],[1.0,\"#f0f921\"]]}],\"contourcarpet\":[{\"type\":\"contourcarpet\",\"colorbar\":{\"outlinewidth\":0,\"ticks\":\"\"}}],\"contour\":[{\"type\":\"contour\",\"colorbar\":{\"outlinewidth\":0,\"ticks\":\"\"},\"colorscale\":[[0.0,\"#0d0887\"],[0.1111111111111111,\"#46039f\"],[0.2222222222222222,\"#7201a8\"],[0.3333333333333333,\"#9c179e\"],[0.4444444444444444,\"#bd3786\"],[0.5555555555555556,\"#d8576b\"],[0.6666666666666666,\"#ed7953\"],[0.7777777777777778,\"#fb9f3a\"],[0.8888888888888888,\"#fdca26\"],[1.0,\"#f0f921\"]]}],\"surface\":[{\"type\":\"surface\",\"colorbar\":{\"outlinewidth\":0,\"ticks\":\"\"},\"colorscale\":[[0.0,\"#0d0887\"],[0.1111111111111111,\"#46039f\"],[0.2222222222222222,\"#7201a8\"],[0.3333333333333333,\"#9c179e\"],[0.4444444444444444,\"#bd3786\"],[0.5555555555555556,\"#d8576b\"],[0.6666666666666666,\"#ed7953\"],[0.7777777777777778,\"#fb9f3a\"],[0.8888888888888888,\"#fdca26\"],[1.0,\"#f0f921\"]]}],\"mesh3d\":[{\"type\":\"mesh3d\",\"colorbar\":{\"outlinewidth\":0,\"ticks\":\"\"}}],\"scatter\":[{\"fillpattern\":{\"fillmode\":\"overlay\",\"size\":10,\"solidity\":0.2},\"type\":\"scatter\"}],\"parcoords\":[{\"type\":\"parcoords\",\"line\":{\"colorbar\":{\"outlinewidth\":0,\"ticks\":\"\"}}}],\"scatterpolargl\":[{\"type\":\"scatterpolargl\",\"marker\":{\"colorbar\":{\"outlinewidth\":0,\"ticks\":\"\"}}}],\"bar\":[{\"error_x\":{\"color\":\"#2a3f5f\"},\"error_y\":{\"color\":\"#2a3f5f\"},\"marker\":{\"line\":{\"color\":\"#E5ECF6\",\"width\":0.5},\"pattern\":{\"fillmode\":\"overlay\",\"size\":10,\"solidity\":0.2}},\"type\":\"bar\"}],\"scattergeo\":[{\"type\":\"scattergeo\",\"marker\":{\"colorbar\":{\"outlinewidth\":0,\"ticks\":\"\"}}}],\"scatterpolar\":[{\"type\":\"scatterpolar\",\"marker\":{\"colorbar\":{\"outlinewidth\":0,\"ticks\":\"\"}}}],\"histogram\":[{\"marker\":{\"pattern\":{\"fillmode\":\"overlay\",\"size\":10,\"solidity\":0.2}},\"type\":\"histogram\"}],\"scattergl\":[{\"type\":\"scattergl\",\"marker\":{\"colorbar\":{\"outlinewidth\":0,\"ticks\":\"\"}}}],\"scatter3d\":[{\"type\":\"scatter3d\",\"line\":{\"colorbar\":{\"outlinewidth\":0,\"ticks\":\"\"}},\"marker\":{\"colorbar\":{\"outlinewidth\":0,\"ticks\":\"\"}}}],\"scattermapbox\":[{\"type\":\"scattermapbox\",\"marker\":{\"colorbar\":{\"outlinewidth\":0,\"ticks\":\"\"}}}],\"scatterternary\":[{\"type\":\"scatterternary\",\"marker\":{\"colorbar\":{\"outlinewidth\":0,\"ticks\":\"\"}}}],\"scattercarpet\":[{\"type\":\"scattercarpet\",\"marker\":{\"colorbar\":{\"outlinewidth\":0,\"ticks\":\"\"}}}],\"carpet\":[{\"aaxis\":{\"endlinecolor\":\"#2a3f5f\",\"gridcolor\":\"white\",\"linecolor\":\"white\",\"minorgridcolor\":\"white\",\"startlinecolor\":\"#2a3f5f\"},\"baxis\":{\"endlinecolor\":\"#2a3f5f\",\"gridcolor\":\"white\",\"linecolor\":\"white\",\"minorgridcolor\":\"white\",\"startlinecolor\":\"#2a3f5f\"},\"type\":\"carpet\"}],\"table\":[{\"cells\":{\"fill\":{\"color\":\"#EBF0F8\"},\"line\":{\"color\":\"white\"}},\"header\":{\"fill\":{\"color\":\"#C8D4E3\"},\"line\":{\"color\":\"white\"}},\"type\":\"table\"}],\"barpolar\":[{\"marker\":{\"line\":{\"color\":\"#E5ECF6\",\"width\":0.5},\"pattern\":{\"fillmode\":\"overlay\",\"size\":10,\"solidity\":0.2}},\"type\":\"barpolar\"}],\"pie\":[{\"automargin\":true,\"type\":\"pie\"}]},\"layout\":{\"autotypenumbers\":\"strict\",\"colorway\":[\"#636efa\",\"#EF553B\",\"#00cc96\",\"#ab63fa\",\"#FFA15A\",\"#19d3f3\",\"#FF6692\",\"#B6E880\",\"#FF97FF\",\"#FECB52\"],\"font\":{\"color\":\"#2a3f5f\"},\"hovermode\":\"closest\",\"hoverlabel\":{\"align\":\"left\"},\"paper_bgcolor\":\"white\",\"plot_bgcolor\":\"#E5ECF6\",\"polar\":{\"bgcolor\":\"#E5ECF6\",\"angularaxis\":{\"gridcolor\":\"white\",\"linecolor\":\"white\",\"ticks\":\"\"},\"radialaxis\":{\"gridcolor\":\"white\",\"linecolor\":\"white\",\"ticks\":\"\"}},\"ternary\":{\"bgcolor\":\"#E5ECF6\",\"aaxis\":{\"gridcolor\":\"white\",\"linecolor\":\"white\",\"ticks\":\"\"},\"baxis\":{\"gridcolor\":\"white\",\"linecolor\":\"white\",\"ticks\":\"\"},\"caxis\":{\"gridcolor\":\"white\",\"linecolor\":\"white\",\"ticks\":\"\"}},\"coloraxis\":{\"colorbar\":{\"outlinewidth\":0,\"ticks\":\"\"}},\"colorscale\":{\"sequential\":[[0.0,\"#0d0887\"],[0.1111111111111111,\"#46039f\"],[0.2222222222222222,\"#7201a8\"],[0.3333333333333333,\"#9c179e\"],[0.4444444444444444,\"#bd3786\"],[0.5555555555555556,\"#d8576b\"],[0.6666666666666666,\"#ed7953\"],[0.7777777777777778,\"#fb9f3a\"],[0.8888888888888888,\"#fdca26\"],[1.0,\"#f0f921\"]],\"sequentialminus\":[[0.0,\"#0d0887\"],[0.1111111111111111,\"#46039f\"],[0.2222222222222222,\"#7201a8\"],[0.3333333333333333,\"#9c179e\"],[0.4444444444444444,\"#bd3786\"],[0.5555555555555556,\"#d8576b\"],[0.6666666666666666,\"#ed7953\"],[0.7777777777777778,\"#fb9f3a\"],[0.8888888888888888,\"#fdca26\"],[1.0,\"#f0f921\"]],\"diverging\":[[0,\"#8e0152\"],[0.1,\"#c51b7d\"],[0.2,\"#de77ae\"],[0.3,\"#f1b6da\"],[0.4,\"#fde0ef\"],[0.5,\"#f7f7f7\"],[0.6,\"#e6f5d0\"],[0.7,\"#b8e186\"],[0.8,\"#7fbc41\"],[0.9,\"#4d9221\"],[1,\"#276419\"]]},\"xaxis\":{\"gridcolor\":\"white\",\"linecolor\":\"white\",\"ticks\":\"\",\"title\":{\"standoff\":15},\"zerolinecolor\":\"white\",\"automargin\":true,\"zerolinewidth\":2},\"yaxis\":{\"gridcolor\":\"white\",\"linecolor\":\"white\",\"ticks\":\"\",\"title\":{\"standoff\":15},\"zerolinecolor\":\"white\",\"automargin\":true,\"zerolinewidth\":2},\"scene\":{\"xaxis\":{\"backgroundcolor\":\"#E5ECF6\",\"gridcolor\":\"white\",\"linecolor\":\"white\",\"showbackground\":true,\"ticks\":\"\",\"zerolinecolor\":\"white\",\"gridwidth\":2},\"yaxis\":{\"backgroundcolor\":\"#E5ECF6\",\"gridcolor\":\"white\",\"linecolor\":\"white\",\"showbackground\":true,\"ticks\":\"\",\"zerolinecolor\":\"white\",\"gridwidth\":2},\"zaxis\":{\"backgroundcolor\":\"#E5ECF6\",\"gridcolor\":\"white\",\"linecolor\":\"white\",\"showbackground\":true,\"ticks\":\"\",\"zerolinecolor\":\"white\",\"gridwidth\":2}},\"shapedefaults\":{\"line\":{\"color\":\"#2a3f5f\"}},\"annotationdefaults\":{\"arrowcolor\":\"#2a3f5f\",\"arrowhead\":0,\"arrowwidth\":1},\"geo\":{\"bgcolor\":\"white\",\"landcolor\":\"#E5ECF6\",\"subunitcolor\":\"white\",\"showland\":true,\"showlakes\":true,\"lakecolor\":\"white\"},\"title\":{\"x\":0.05},\"mapbox\":{\"style\":\"light\"}}},\"xaxis\":{\"anchor\":\"y\",\"domain\":[0.0,1.0],\"title\":{\"text\":\"Date\"},\"rangeslider\":{\"visible\":true}},\"yaxis\":{\"anchor\":\"x\",\"domain\":[0.0,1.0],\"title\":{\"text\":\"Close Price\"}},\"legend\":{\"tracegroupgap\":0},\"title\":{\"text\":\"Close Price Over Time\"},\"hovermode\":\"x\"},                        {\"responsive\": true}                    ).then(function(){\n",
       "                            \n",
       "var gd = document.getElementById('9746fc92-9fe7-476b-8882-5ac47ce0b078');\n",
       "var x = new MutationObserver(function (mutations, observer) {{\n",
       "        var display = window.getComputedStyle(gd).display;\n",
       "        if (!display || display === 'none') {{\n",
       "            console.log([gd, 'removed!']);\n",
       "            Plotly.purge(gd);\n",
       "            observer.disconnect();\n",
       "        }}\n",
       "}});\n",
       "\n",
       "// Listen for the removal of the full notebook cells\n",
       "var notebookContainer = gd.closest('#notebook-container');\n",
       "if (notebookContainer) {{\n",
       "    x.observe(notebookContainer, {childList: true});\n",
       "}}\n",
       "\n",
       "// Listen for the clearing of the current output cell\n",
       "var outputEl = gd.closest('.output');\n",
       "if (outputEl) {{\n",
       "    x.observe(outputEl, {childList: true});\n",
       "}}\n",
       "\n",
       "                        })                };                });            </script>        </div>"
      ]
     },
     "metadata": {},
     "output_type": "display_data"
    }
   ],
   "source": [
    "import plotly.express as px\n",
    "# Ensure the 'Date' column is in datetime format\n",
    "df['Date'] = pd.to_datetime(df['Date'])\n",
    "\n",
    "# Create an interactive line chart\n",
    "fig = px.line(df, x='Date', y='close price', title='Close Price Over Time')\n",
    "\n",
    "# Enhance the chart with additional options\n",
    "fig.update_layout(xaxis_title='Date', yaxis_title='Close Price', hovermode='x')\n",
    "fig.update_xaxes(rangeslider_visible=True)\n",
    "\n",
    "# Show the plot\n",
    "fig.show()"
   ]
  },
  {
   "cell_type": "markdown",
   "id": "239fda78-1ae6-44ae-8ee7-cebbed933740",
   "metadata": {},
   "source": [
    "# Distribution of Daily Returns"
   ]
  },
  {
   "cell_type": "code",
   "execution_count": 48,
   "id": "32b6f74f-2dda-4f6d-8229-e64b2c6240d7",
   "metadata": {
    "tags": []
   },
   "outputs": [
    {
     "data": {
      "application/vnd.plotly.v1+json": {
       "config": {
        "plotlyServerURL": "https://plot.ly"
       },
       "data": [
        {
         "alignmentgroup": "True",
         "bingroup": "x",
         "hovertemplate": "Daily Returns=%{x}<br>count=%{y}<extra></extra>",
         "legendgroup": "",
         "marker": {
          "color": "#636efa",
          "pattern": {
           "shape": ""
          }
         },
         "name": "",
         "nbinsx": 50,
         "offsetgroup": "",
         "orientation": "v",
         "showlegend": false,
         "type": "histogram",
         "x": [
          1.0315577889447258,
          -1.0608158652851363,
          3.6798713050472553,
          0.4088440651667913,
          0.44503851592017085,
          2.1114897348522677,
          -0.060264561424638874,
          1.0123013839056894,
          0.8753012812381167,
          -0.5370458042371906,
          0.04462359993455678,
          1.9224193044797167,
          2.350040844906043,
          1.0062283539757466,
          -0.4705865752303584,
          1.4808146252596188,
          1.368398994132436,
          -2.008007221659458,
          0.9022186280369882,
          0.7903099910794076,
          3.7062134391724566,
          2.439626088463953,
          -1.7924902857961,
          1.9239563381868496,
          -1.7647441316080315,
          -0.691704837300422,
          0.24594917050475562,
          1.8803191489361826,
          -0.4222465867857128,
          1.3900813338489026,
          -1.0426497394991685,
          -0.7544630900979121,
          -2.6682638514091694,
          0.2894238571814922,
          0.32904496048762333,
          -1.8004516250436864,
          0.8246815907799965,
          -0.34482290492934276,
          -1.4242510932199748,
          0.41320315361068616,
          3.5087840023121153,
          1.8541417364712265,
          -1.4496537409682264,
          0.8371526214003833,
          -1.4909492157738513,
          -1.3881665799895915,
          1.3265720081135912,
          1.4092965528285983,
          0.2618869017068981,
          1.8691098102013415,
          -0.5450328565906437,
          1.5481881664010766,
          1.1941517185067863,
          -0.9102599662119459,
          0.6972365005852632,
          0.8307641766905904,
          -1.2293002011240506,
          -0.398373519579287,
          1.978817040627212,
          0.9892580564576647,
          1.5645871468856765,
          0.7702424589305368,
          -0.3250774929153599,
          -1.1293578482186706,
          0.5499760879961624,
          -1.5976096832220565,
          -0.7591014717273414,
          -0.4352169840774245,
          3.4104093369205835,
          -0.21104851083442178,
          0.011547133576028656,
          0.7504770238572656,
          0.6972381888695312,
          -0.5845956646481354,
          -0.9784488212222109,
          0.18800995418397637,
          -0.9437514423485727,
          -0.006130907129009433,
          2.8400103005554733,
          0.7535920825135767,
          -0.05266459164230408,
          -0.61928302892158,
          -0.646971565420984,
          -0.9911676350488285,
          4.692950581395339,
          -0.040493090143400856,
          -0.9971122518070197,
          1.0393041689074067,
          0.11223344556676729,
          -0.5414682631408652,
          -0.2899291736147003,
          0,
          0.3601146772952868,
          1.3667769842652389,
          0.06300691930531954,
          -0.5483874660835553,
          -1.5155177971174605,
          0.16305967750418482,
          0.6692651503658498,
          1.4107773185957129,
          1.065939655812942,
          -0.028276064876608942,
          1.6025749810496759,
          0.4771422685692972,
          -0.7569208945630179,
          -0.20602785005192636,
          -0.7754583652710978,
          1.5461214455276817,
          0.21600430898056633,
          1.5641795675927161,
          -0.2613188144090839,
          0.34897331830960887,
          1.120135179330628,
          -0.5859364471875517,
          0.04825731450754933,
          -0.5674273915140637,
          1.6525862538834701,
          -0.17104374215827223,
          -0.7551709876841617,
          1.5055986405234423,
          0.632867524352343,
          0.1796064552361365,
          2.310601052436745,
          -0.7784796385704063,
          -0.5871381832579736,
          0.2504965386409319,
          -0.5891301052279418,
          -1.0853332772437496,
          -0.28122142598931976,
          0.898821296627017,
          0.40578025519772964,
          0.07840743449822885,
          1.730973488553067,
          -0.13438498196139959,
          0.7075056672911861,
          -1.009862216763191,
          -0.616252024753916,
          0.42208860726431485,
          0.4510057897283204,
          0.45467727235064537,
          -0.6577929911022684,
          1.3507623011219216,
          0.3164216702763234,
          -0.4302622915677734,
          -1.5465132968362272,
          -0.7320362165286087,
          -4.802240626032594,
          -1.725021349274125,
          0.5309069707468694,
          -0.895042967639037,
          -0.12379301807378118,
          0.033803578672197965,
          0.9394219288562322,
          -1.1198277016470914,
          -0.4960020765502282,
          -1.455727069604973,
          0.2814048374009559,
          0.7741306094341871,
          0.7903922919668238,
          2.1949524568212864,
          -2.617175838391883,
          1.2642777664236826,
          0.8846531184302675,
          2.1811250715464414,
          1.9170319450940276,
          0.11739406519639672,
          0.846378109293644,
          0.12631400922777924,
          -3.579308524676683,
          -2.9249626373385795,
          0.3496385188861195,
          0.66199858384004,
          -1.7060807038699388,
          -1.1853374832451191,
          0.8782568211471276,
          -0.4153633147017999,
          1.6912690239157646,
          0.6177701759913612,
          -1.9990605813212325,
          -0.8889700386285448,
          0.49452795320694687,
          0.7378551787351029,
          -2.3395204949729353,
          -0.8897480988039774,
          0.1521685486998159,
          0.3050479570586351,
          1.4831710383951702,
          -0.7768512168555897,
          0.7312412515318778,
          0.7195903870104825,
          1.474696588046709,
          0.8451053843029133,
          -0.3350973964218906,
          0.7903230333136779,
          0.5062290115447121,
          -1.0289684826455092,
          -0.07278224113316245,
          -0.8785051965151225,
          -0.7393297421954936,
          -0.2163898205672754,
          -1.4700763001558093,
          0.06892437432306497,
          0.2546708957470001,
          -1.3492136803454624,
          -2.460863204096564,
          0.7973840523189502,
          1.2303644664551694,
          0.28165535733184477,
          1.8739922014717747,
          2.0691719283300936,
          -0.5176613885505499,
          1.4601684635354717,
          1.4452998424528074,
          0.5881672641961488,
          -0.26225164112588795,
          2.322006916616348,
          -0.8583690987124415,
          1.4285714285714235,
          0.30409731113956173,
          0.9042072230200704,
          -0.010542406831481888,
          0.9278296167430922,
          -0.42308696787672906,
          0.3514477549307671,
          -0.7004338508180497,
          -0.09475180291624863,
          0.32140787185837016,
          -0.5409663865546199,
          0.3062787136294043,
          0.6791260858120651,
          -0.9464547165864867,
          2.106318956870612,
          -0.5687105780167512,
          1.0139351081530856,
          0.7412364235342528,
          -1.2927290378621392,
          0.7920074541878153,
          1.6691489908068347,
          0.07577288341078514,
          -0.27257584170411464,
          -0.8503315280660062,
          0.5360151105212152,
          -1.0713923022240168,
          -0.07699019658163886,
          -0.5547565235257901,
          -0.28409090909089496,
          0.05180005180005498,
          0.22262490292519477,
          -0.542411406137
         ],
         "xaxis": "x",
         "yaxis": "y"
        }
       ],
       "layout": {
        "autosize": true,
        "bargap": 0.2,
        "barmode": "relative",
        "legend": {
         "tracegroupgap": 0
        },
        "template": {
         "data": {
          "bar": [
           {
            "error_x": {
             "color": "#2a3f5f"
            },
            "error_y": {
             "color": "#2a3f5f"
            },
            "marker": {
             "line": {
              "color": "#E5ECF6",
              "width": 0.5
             },
             "pattern": {
              "fillmode": "overlay",
              "size": 10,
              "solidity": 0.2
             }
            },
            "type": "bar"
           }
          ],
          "barpolar": [
           {
            "marker": {
             "line": {
              "color": "#E5ECF6",
              "width": 0.5
             },
             "pattern": {
              "fillmode": "overlay",
              "size": 10,
              "solidity": 0.2
             }
            },
            "type": "barpolar"
           }
          ],
          "carpet": [
           {
            "aaxis": {
             "endlinecolor": "#2a3f5f",
             "gridcolor": "white",
             "linecolor": "white",
             "minorgridcolor": "white",
             "startlinecolor": "#2a3f5f"
            },
            "baxis": {
             "endlinecolor": "#2a3f5f",
             "gridcolor": "white",
             "linecolor": "white",
             "minorgridcolor": "white",
             "startlinecolor": "#2a3f5f"
            },
            "type": "carpet"
           }
          ],
          "choropleth": [
           {
            "colorbar": {
             "outlinewidth": 0,
             "ticks": ""
            },
            "type": "choropleth"
           }
          ],
          "contour": [
           {
            "colorbar": {
             "outlinewidth": 0,
             "ticks": ""
            },
            "colorscale": [
             [
              0,
              "#0d0887"
             ],
             [
              0.1111111111111111,
              "#46039f"
             ],
             [
              0.2222222222222222,
              "#7201a8"
             ],
             [
              0.3333333333333333,
              "#9c179e"
             ],
             [
              0.4444444444444444,
              "#bd3786"
             ],
             [
              0.5555555555555556,
              "#d8576b"
             ],
             [
              0.6666666666666666,
              "#ed7953"
             ],
             [
              0.7777777777777778,
              "#fb9f3a"
             ],
             [
              0.8888888888888888,
              "#fdca26"
             ],
             [
              1,
              "#f0f921"
             ]
            ],
            "type": "contour"
           }
          ],
          "contourcarpet": [
           {
            "colorbar": {
             "outlinewidth": 0,
             "ticks": ""
            },
            "type": "contourcarpet"
           }
          ],
          "heatmap": [
           {
            "colorbar": {
             "outlinewidth": 0,
             "ticks": ""
            },
            "colorscale": [
             [
              0,
              "#0d0887"
             ],
             [
              0.1111111111111111,
              "#46039f"
             ],
             [
              0.2222222222222222,
              "#7201a8"
             ],
             [
              0.3333333333333333,
              "#9c179e"
             ],
             [
              0.4444444444444444,
              "#bd3786"
             ],
             [
              0.5555555555555556,
              "#d8576b"
             ],
             [
              0.6666666666666666,
              "#ed7953"
             ],
             [
              0.7777777777777778,
              "#fb9f3a"
             ],
             [
              0.8888888888888888,
              "#fdca26"
             ],
             [
              1,
              "#f0f921"
             ]
            ],
            "type": "heatmap"
           }
          ],
          "heatmapgl": [
           {
            "colorbar": {
             "outlinewidth": 0,
             "ticks": ""
            },
            "colorscale": [
             [
              0,
              "#0d0887"
             ],
             [
              0.1111111111111111,
              "#46039f"
             ],
             [
              0.2222222222222222,
              "#7201a8"
             ],
             [
              0.3333333333333333,
              "#9c179e"
             ],
             [
              0.4444444444444444,
              "#bd3786"
             ],
             [
              0.5555555555555556,
              "#d8576b"
             ],
             [
              0.6666666666666666,
              "#ed7953"
             ],
             [
              0.7777777777777778,
              "#fb9f3a"
             ],
             [
              0.8888888888888888,
              "#fdca26"
             ],
             [
              1,
              "#f0f921"
             ]
            ],
            "type": "heatmapgl"
           }
          ],
          "histogram": [
           {
            "marker": {
             "pattern": {
              "fillmode": "overlay",
              "size": 10,
              "solidity": 0.2
             }
            },
            "type": "histogram"
           }
          ],
          "histogram2d": [
           {
            "colorbar": {
             "outlinewidth": 0,
             "ticks": ""
            },
            "colorscale": [
             [
              0,
              "#0d0887"
             ],
             [
              0.1111111111111111,
              "#46039f"
             ],
             [
              0.2222222222222222,
              "#7201a8"
             ],
             [
              0.3333333333333333,
              "#9c179e"
             ],
             [
              0.4444444444444444,
              "#bd3786"
             ],
             [
              0.5555555555555556,
              "#d8576b"
             ],
             [
              0.6666666666666666,
              "#ed7953"
             ],
             [
              0.7777777777777778,
              "#fb9f3a"
             ],
             [
              0.8888888888888888,
              "#fdca26"
             ],
             [
              1,
              "#f0f921"
             ]
            ],
            "type": "histogram2d"
           }
          ],
          "histogram2dcontour": [
           {
            "colorbar": {
             "outlinewidth": 0,
             "ticks": ""
            },
            "colorscale": [
             [
              0,
              "#0d0887"
             ],
             [
              0.1111111111111111,
              "#46039f"
             ],
             [
              0.2222222222222222,
              "#7201a8"
             ],
             [
              0.3333333333333333,
              "#9c179e"
             ],
             [
              0.4444444444444444,
              "#bd3786"
             ],
             [
              0.5555555555555556,
              "#d8576b"
             ],
             [
              0.6666666666666666,
              "#ed7953"
             ],
             [
              0.7777777777777778,
              "#fb9f3a"
             ],
             [
              0.8888888888888888,
              "#fdca26"
             ],
             [
              1,
              "#f0f921"
             ]
            ],
            "type": "histogram2dcontour"
           }
          ],
          "mesh3d": [
           {
            "colorbar": {
             "outlinewidth": 0,
             "ticks": ""
            },
            "type": "mesh3d"
           }
          ],
          "parcoords": [
           {
            "line": {
             "colorbar": {
              "outlinewidth": 0,
              "ticks": ""
             }
            },
            "type": "parcoords"
           }
          ],
          "pie": [
           {
            "automargin": true,
            "type": "pie"
           }
          ],
          "scatter": [
           {
            "fillpattern": {
             "fillmode": "overlay",
             "size": 10,
             "solidity": 0.2
            },
            "type": "scatter"
           }
          ],
          "scatter3d": [
           {
            "line": {
             "colorbar": {
              "outlinewidth": 0,
              "ticks": ""
             }
            },
            "marker": {
             "colorbar": {
              "outlinewidth": 0,
              "ticks": ""
             }
            },
            "type": "scatter3d"
           }
          ],
          "scattercarpet": [
           {
            "marker": {
             "colorbar": {
              "outlinewidth": 0,
              "ticks": ""
             }
            },
            "type": "scattercarpet"
           }
          ],
          "scattergeo": [
           {
            "marker": {
             "colorbar": {
              "outlinewidth": 0,
              "ticks": ""
             }
            },
            "type": "scattergeo"
           }
          ],
          "scattergl": [
           {
            "marker": {
             "colorbar": {
              "outlinewidth": 0,
              "ticks": ""
             }
            },
            "type": "scattergl"
           }
          ],
          "scattermapbox": [
           {
            "marker": {
             "colorbar": {
              "outlinewidth": 0,
              "ticks": ""
             }
            },
            "type": "scattermapbox"
           }
          ],
          "scatterpolar": [
           {
            "marker": {
             "colorbar": {
              "outlinewidth": 0,
              "ticks": ""
             }
            },
            "type": "scatterpolar"
           }
          ],
          "scatterpolargl": [
           {
            "marker": {
             "colorbar": {
              "outlinewidth": 0,
              "ticks": ""
             }
            },
            "type": "scatterpolargl"
           }
          ],
          "scatterternary": [
           {
            "marker": {
             "colorbar": {
              "outlinewidth": 0,
              "ticks": ""
             }
            },
            "type": "scatterternary"
           }
          ],
          "surface": [
           {
            "colorbar": {
             "outlinewidth": 0,
             "ticks": ""
            },
            "colorscale": [
             [
              0,
              "#0d0887"
             ],
             [
              0.1111111111111111,
              "#46039f"
             ],
             [
              0.2222222222222222,
              "#7201a8"
             ],
             [
              0.3333333333333333,
              "#9c179e"
             ],
             [
              0.4444444444444444,
              "#bd3786"
             ],
             [
              0.5555555555555556,
              "#d8576b"
             ],
             [
              0.6666666666666666,
              "#ed7953"
             ],
             [
              0.7777777777777778,
              "#fb9f3a"
             ],
             [
              0.8888888888888888,
              "#fdca26"
             ],
             [
              1,
              "#f0f921"
             ]
            ],
            "type": "surface"
           }
          ],
          "table": [
           {
            "cells": {
             "fill": {
              "color": "#EBF0F8"
             },
             "line": {
              "color": "white"
             }
            },
            "header": {
             "fill": {
              "color": "#C8D4E3"
             },
             "line": {
              "color": "white"
             }
            },
            "type": "table"
           }
          ]
         },
         "layout": {
          "annotationdefaults": {
           "arrowcolor": "#2a3f5f",
           "arrowhead": 0,
           "arrowwidth": 1
          },
          "autotypenumbers": "strict",
          "coloraxis": {
           "colorbar": {
            "outlinewidth": 0,
            "ticks": ""
           }
          },
          "colorscale": {
           "diverging": [
            [
             0,
             "#8e0152"
            ],
            [
             0.1,
             "#c51b7d"
            ],
            [
             0.2,
             "#de77ae"
            ],
            [
             0.3,
             "#f1b6da"
            ],
            [
             0.4,
             "#fde0ef"
            ],
            [
             0.5,
             "#f7f7f7"
            ],
            [
             0.6,
             "#e6f5d0"
            ],
            [
             0.7,
             "#b8e186"
            ],
            [
             0.8,
             "#7fbc41"
            ],
            [
             0.9,
             "#4d9221"
            ],
            [
             1,
             "#276419"
            ]
           ],
           "sequential": [
            [
             0,
             "#0d0887"
            ],
            [
             0.1111111111111111,
             "#46039f"
            ],
            [
             0.2222222222222222,
             "#7201a8"
            ],
            [
             0.3333333333333333,
             "#9c179e"
            ],
            [
             0.4444444444444444,
             "#bd3786"
            ],
            [
             0.5555555555555556,
             "#d8576b"
            ],
            [
             0.6666666666666666,
             "#ed7953"
            ],
            [
             0.7777777777777778,
             "#fb9f3a"
            ],
            [
             0.8888888888888888,
             "#fdca26"
            ],
            [
             1,
             "#f0f921"
            ]
           ],
           "sequentialminus": [
            [
             0,
             "#0d0887"
            ],
            [
             0.1111111111111111,
             "#46039f"
            ],
            [
             0.2222222222222222,
             "#7201a8"
            ],
            [
             0.3333333333333333,
             "#9c179e"
            ],
            [
             0.4444444444444444,
             "#bd3786"
            ],
            [
             0.5555555555555556,
             "#d8576b"
            ],
            [
             0.6666666666666666,
             "#ed7953"
            ],
            [
             0.7777777777777778,
             "#fb9f3a"
            ],
            [
             0.8888888888888888,
             "#fdca26"
            ],
            [
             1,
             "#f0f921"
            ]
           ]
          },
          "colorway": [
           "#636efa",
           "#EF553B",
           "#00cc96",
           "#ab63fa",
           "#FFA15A",
           "#19d3f3",
           "#FF6692",
           "#B6E880",
           "#FF97FF",
           "#FECB52"
          ],
          "font": {
           "color": "#2a3f5f"
          },
          "geo": {
           "bgcolor": "white",
           "lakecolor": "white",
           "landcolor": "#E5ECF6",
           "showlakes": true,
           "showland": true,
           "subunitcolor": "white"
          },
          "hoverlabel": {
           "align": "left"
          },
          "hovermode": "closest",
          "mapbox": {
           "style": "light"
          },
          "paper_bgcolor": "white",
          "plot_bgcolor": "#E5ECF6",
          "polar": {
           "angularaxis": {
            "gridcolor": "white",
            "linecolor": "white",
            "ticks": ""
           },
           "bgcolor": "#E5ECF6",
           "radialaxis": {
            "gridcolor": "white",
            "linecolor": "white",
            "ticks": ""
           }
          },
          "scene": {
           "xaxis": {
            "backgroundcolor": "#E5ECF6",
            "gridcolor": "white",
            "gridwidth": 2,
            "linecolor": "white",
            "showbackground": true,
            "ticks": "",
            "zerolinecolor": "white"
           },
           "yaxis": {
            "backgroundcolor": "#E5ECF6",
            "gridcolor": "white",
            "gridwidth": 2,
            "linecolor": "white",
            "showbackground": true,
            "ticks": "",
            "zerolinecolor": "white"
           },
           "zaxis": {
            "backgroundcolor": "#E5ECF6",
            "gridcolor": "white",
            "gridwidth": 2,
            "linecolor": "white",
            "showbackground": true,
            "ticks": "",
            "zerolinecolor": "white"
           }
          },
          "shapedefaults": {
           "line": {
            "color": "#2a3f5f"
           }
          },
          "ternary": {
           "aaxis": {
            "gridcolor": "white",
            "linecolor": "white",
            "ticks": ""
           },
           "baxis": {
            "gridcolor": "white",
            "linecolor": "white",
            "ticks": ""
           },
           "bgcolor": "#E5ECF6",
           "caxis": {
            "gridcolor": "white",
            "linecolor": "white",
            "ticks": ""
           }
          },
          "title": {
           "x": 0.05
          },
          "xaxis": {
           "automargin": true,
           "gridcolor": "white",
           "linecolor": "white",
           "ticks": "",
           "title": {
            "standoff": 15
           },
           "zerolinecolor": "white",
           "zerolinewidth": 2
          },
          "yaxis": {
           "automargin": true,
           "gridcolor": "white",
           "linecolor": "white",
           "ticks": "",
           "title": {
            "standoff": 15
           },
           "zerolinecolor": "white",
           "zerolinewidth": 2
          }
         }
        },
        "title": {
         "text": "Distribution of Daily Returns"
        },
        "xaxis": {
         "anchor": "y",
         "autorange": true,
         "domain": [
          0,
          1
         ],
         "range": [
          -5,
          4.799999999999999
         ],
         "title": {
          "text": "Daily Returns (%)"
         },
         "type": "linear"
        },
        "yaxis": {
         "anchor": "x",
         "autorange": true,
         "domain": [
          0,
          1
         ],
         "range": [
          0,
          22.105263157894736
         ],
         "title": {
          "text": "Frequency"
         }
        }
       }
      },
      "image/png": "[encoded data removed]",
      "text/html": [
       "<div>                            <div id=\"103c1fc7-1e30-4c28-9d8f-711c810ce06d\" class=\"plotly-graph-div\" style=\"height:525px; width:100%;\"></div>            <script type=\"text/javascript\">                require([\"plotly\"], function(Plotly) {                    window.PLOTLYENV=window.PLOTLYENV || {};                                    if (document.getElementById(\"103c1fc7-1e30-4c28-9d8f-711c810ce06d\")) {                    Plotly.newPlot(                        \"103c1fc7-1e30-4c28-9d8f-711c810ce06d\",                        [{\"alignmentgroup\":\"True\",\"bingroup\":\"x\",\"hovertemplate\":\"Daily Returns=%{x}\\u003cbr\\u003ecount=%{y}\\u003cextra\\u003e\\u003c\\u002fextra\\u003e\",\"legendgroup\":\"\",\"marker\":{\"color\":\"#636efa\",\"pattern\":{\"shape\":\"\"}},\"name\":\"\",\"nbinsx\":50,\"offsetgroup\":\"\",\"orientation\":\"v\",\"showlegend\":false,\"x\":[1.0315577889447258,-1.0608158652851363,3.6798713050472553,0.4088440651667913,0.44503851592017085,2.1114897348522677,-0.060264561424638874,1.0123013839056894,0.8753012812381167,-0.5370458042371906,0.04462359993455678,1.9224193044797167,2.350040844906043,1.0062283539757466,-0.4705865752303584,1.4808146252596188,1.368398994132436,-2.008007221659458,0.9022186280369882,0.7903099910794076,3.7062134391724566,2.439626088463953,-1.7924902857961,1.9239563381868496,-1.7647441316080315,-0.691704837300422,0.24594917050475562,1.8803191489361826,-0.4222465867857128,1.3900813338489026,-1.0426497394991685,-0.7544630900979121,-2.6682638514091694,0.2894238571814922,0.32904496048762333,-1.8004516250436864,0.8246815907799965,-0.34482290492934276,-1.4242510932199748,0.41320315361068616,3.5087840023121153,1.8541417364712265,-1.4496537409682264,0.8371526214003833,-1.4909492157738513,-1.3881665799895915,1.3265720081135912,1.4092965528285983,0.2618869017068981,1.8691098102013415,-0.5450328565906437,1.5481881664010766,1.1941517185067863,-0.9102599662119459,0.6972365005852632,0.8307641766905904,-1.2293002011240506,-0.398373519579287,1.978817040627212,0.9892580564576647,1.5645871468856765,0.7702424589305368,-0.3250774929153599,-1.1293578482186706,0.5499760879961624,-1.5976096832220565,-0.7591014717273414,-0.4352169840774245,3.4104093369205835,-0.21104851083442178,0.011547133576028656,0.7504770238572656,0.6972381888695312,-0.5845956646481354,-0.9784488212222109,0.18800995418397637,-0.9437514423485727,-0.006130907129009433,2.8400103005554733,0.7535920825135767,-0.05266459164230408,-0.61928302892158,-0.646971565420984,-0.9911676350488285,4.692950581395339,-0.040493090143400856,-0.9971122518070197,1.0393041689074067,0.11223344556676729,-0.5414682631408652,-0.2899291736147003,0.0,0.3601146772952868,1.3667769842652389,0.06300691930531954,-0.5483874660835553,-1.5155177971174605,0.16305967750418482,0.6692651503658498,1.4107773185957129,1.065939655812942,-0.028276064876608942,1.6025749810496759,0.4771422685692972,-0.7569208945630179,-0.20602785005192636,-0.7754583652710978,1.5461214455276817,0.21600430898056633,1.5641795675927161,-0.2613188144090839,0.34897331830960887,1.120135179330628,-0.5859364471875517,0.04825731450754933,-0.5674273915140637,1.6525862538834701,-0.17104374215827223,-0.7551709876841617,1.5055986405234423,0.632867524352343,0.1796064552361365,2.310601052436745,-0.7784796385704063,-0.5871381832579736,0.2504965386409319,-0.5891301052279418,-1.0853332772437496,-0.28122142598931976,0.898821296627017,0.40578025519772964,0.07840743449822885,1.730973488553067,-0.13438498196139959,0.7075056672911861,-1.009862216763191,-0.616252024753916,0.42208860726431485,0.4510057897283204,0.45467727235064537,-0.6577929911022684,1.3507623011219216,0.3164216702763234,-0.4302622915677734,-1.5465132968362272,-0.7320362165286087,-4.802240626032594,-1.725021349274125,0.5309069707468694,-0.895042967639037,-0.12379301807378118,0.033803578672197965,0.9394219288562322,-1.1198277016470914,-0.4960020765502282,-1.455727069604973,0.2814048374009559,0.7741306094341871,0.7903922919668238,2.1949524568212864,-2.617175838391883,1.2642777664236826,0.8846531184302675,2.1811250715464414,1.9170319450940276,0.11739406519639672,0.846378109293644,0.12631400922777924,-3.579308524676683,-2.9249626373385795,0.3496385188861195,0.66199858384004,-1.7060807038699388,-1.1853374832451191,0.8782568211471276,-0.4153633147017999,1.6912690239157646,0.6177701759913612,-1.9990605813212325,-0.8889700386285448,0.49452795320694687,0.7378551787351029,-2.3395204949729353,-0.8897480988039774,0.1521685486998159,0.3050479570586351,1.4831710383951702,-0.7768512168555897,0.7312412515318778,0.7195903870104825,1.474696588046709,0.8451053843029133,-0.3350973964218906,0.7903230333136779,0.5062290115447121,-1.0289684826455092,-0.07278224113316245,-0.8785051965151225,-0.7393297421954936,-0.2163898205672754,-1.4700763001558093,0.06892437432306497,0.2546708957470001,-1.3492136803454624,-2.460863204096564,0.7973840523189502,1.2303644664551694,0.28165535733184477,1.8739922014717747,2.0691719283300936,-0.5176613885505499,1.4601684635354717,1.4452998424528074,0.5881672641961488,-0.26225164112588795,2.322006916616348,-0.8583690987124415,1.4285714285714235,0.30409731113956173,0.9042072230200704,-0.010542406831481888,0.9278296167430922,-0.42308696787672906,0.3514477549307671,-0.7004338508180497,-0.09475180291624863,0.32140787185837016,-0.5409663865546199,0.3062787136294043,0.6791260858120651,-0.9464547165864867,2.106318956870612,-0.5687105780167512,1.0139351081530856,0.7412364235342528,-1.2927290378621392,0.7920074541878153,1.6691489908068347,0.07577288341078514,-0.27257584170411464,-0.8503315280660062,0.5360151105212152,-1.0713923022240168,-0.07699019658163886,-0.5547565235257901,-0.28409090909089496,0.05180005180005498,0.22262490292519477,-0.542411406137],\"xaxis\":\"x\",\"yaxis\":\"y\",\"type\":\"histogram\"}],                        {\"template\":{\"data\":{\"histogram2dcontour\":[{\"type\":\"histogram2dcontour\",\"colorbar\":{\"outlinewidth\":0,\"ticks\":\"\"},\"colorscale\":[[0.0,\"#0d0887\"],[0.1111111111111111,\"#46039f\"],[0.2222222222222222,\"#7201a8\"],[0.3333333333333333,\"#9c179e\"],[0.4444444444444444,\"#bd3786\"],[0.5555555555555556,\"#d8576b\"],[0.6666666666666666,\"#ed7953\"],[0.7777777777777778,\"#fb9f3a\"],[0.8888888888888888,\"#fdca26\"],[1.0,\"#f0f921\"]]}],\"choropleth\":[{\"type\":\"choropleth\",\"colorbar\":{\"outlinewidth\":0,\"ticks\":\"\"}}],\"histogram2d\":[{\"type\":\"histogram2d\",\"colorbar\":{\"outlinewidth\":0,\"ticks\":\"\"},\"colorscale\":[[0.0,\"#0d0887\"],[0.1111111111111111,\"#46039f\"],[0.2222222222222222,\"#7201a8\"],[0.3333333333333333,\"#9c179e\"],[0.4444444444444444,\"#bd3786\"],[0.5555555555555556,\"#d8576b\"],[0.6666666666666666,\"#ed7953\"],[0.7777777777777778,\"#fb9f3a\"],[0.8888888888888888,\"#fdca26\"],[1.0,\"#f0f921\"]]}],\"heatmap\":[{\"type\":\"heatmap\",\"colorbar\":{\"outlinewidth\":0,\"ticks\":\"\"},\"colorscale\":[[0.0,\"#0d0887\"],[0.1111111111111111,\"#46039f\"],[0.2222222222222222,\"#7201a8\"],[0.3333333333333333,\"#9c179e\"],[0.4444444444444444,\"#bd3786\"],[0.5555555555555556,\"#d8576b\"],[0.6666666666666666,\"#ed7953\"],[0.7777777777777778,\"#fb9f3a\"],[0.8888888888888888,\"#fdca26\"],[1.0,\"#f0f921\"]]}],\"heatmapgl\":[{\"type\":\"heatmapgl\",\"colorbar\":{\"outlinewidth\":0,\"ticks\":\"\"},\"colorscale\":[[0.0,\"#0d0887\"],[0.1111111111111111,\"#46039f\"],[0.2222222222222222,\"#7201a8\"],[0.3333333333333333,\"#9c179e\"],[0.4444444444444444,\"#bd3786\"],[0.5555555555555556,\"#d8576b\"],[0.6666666666666666,\"#ed7953\"],[0.7777777777777778,\"#fb9f3a\"],[0.8888888888888888,\"#fdca26\"],[1.0,\"#f0f921\"]]}],\"contourcarpet\":[{\"type\":\"contourcarpet\",\"colorbar\":{\"outlinewidth\":0,\"ticks\":\"\"}}],\"contour\":[{\"type\":\"contour\",\"colorbar\":{\"outlinewidth\":0,\"ticks\":\"\"},\"colorscale\":[[0.0,\"#0d0887\"],[0.1111111111111111,\"#46039f\"],[0.2222222222222222,\"#7201a8\"],[0.3333333333333333,\"#9c179e\"],[0.4444444444444444,\"#bd3786\"],[0.5555555555555556,\"#d8576b\"],[0.6666666666666666,\"#ed7953\"],[0.7777777777777778,\"#fb9f3a\"],[0.8888888888888888,\"#fdca26\"],[1.0,\"#f0f921\"]]}],\"surface\":[{\"type\":\"surface\",\"colorbar\":{\"outlinewidth\":0,\"ticks\":\"\"},\"colorscale\":[[0.0,\"#0d0887\"],[0.1111111111111111,\"#46039f\"],[0.2222222222222222,\"#7201a8\"],[0.3333333333333333,\"#9c179e\"],[0.4444444444444444,\"#bd3786\"],[0.5555555555555556,\"#d8576b\"],[0.6666666666666666,\"#ed7953\"],[0.7777777777777778,\"#fb9f3a\"],[0.8888888888888888,\"#fdca26\"],[1.0,\"#f0f921\"]]}],\"mesh3d\":[{\"type\":\"mesh3d\",\"colorbar\":{\"outlinewidth\":0,\"ticks\":\"\"}}],\"scatter\":[{\"fillpattern\":{\"fillmode\":\"overlay\",\"size\":10,\"solidity\":0.2},\"type\":\"scatter\"}],\"parcoords\":[{\"type\":\"parcoords\",\"line\":{\"colorbar\":{\"outlinewidth\":0,\"ticks\":\"\"}}}],\"scatterpolargl\":[{\"type\":\"scatterpolargl\",\"marker\":{\"colorbar\":{\"outlinewidth\":0,\"ticks\":\"\"}}}],\"bar\":[{\"error_x\":{\"color\":\"#2a3f5f\"},\"error_y\":{\"color\":\"#2a3f5f\"},\"marker\":{\"line\":{\"color\":\"#E5ECF6\",\"width\":0.5},\"pattern\":{\"fillmode\":\"overlay\",\"size\":10,\"solidity\":0.2}},\"type\":\"bar\"}],\"scattergeo\":[{\"type\":\"scattergeo\",\"marker\":{\"colorbar\":{\"outlinewidth\":0,\"ticks\":\"\"}}}],\"scatterpolar\":[{\"type\":\"scatterpolar\",\"marker\":{\"colorbar\":{\"outlinewidth\":0,\"ticks\":\"\"}}}],\"histogram\":[{\"marker\":{\"pattern\":{\"fillmode\":\"overlay\",\"size\":10,\"solidity\":0.2}},\"type\":\"histogram\"}],\"scattergl\":[{\"type\":\"scattergl\",\"marker\":{\"colorbar\":{\"outlinewidth\":0,\"ticks\":\"\"}}}],\"scatter3d\":[{\"type\":\"scatter3d\",\"line\":{\"colorbar\":{\"outlinewidth\":0,\"ticks\":\"\"}},\"marker\":{\"colorbar\":{\"outlinewidth\":0,\"ticks\":\"\"}}}],\"scattermapbox\":[{\"type\":\"scattermapbox\",\"marker\":{\"colorbar\":{\"outlinewidth\":0,\"ticks\":\"\"}}}],\"scatterternary\":[{\"type\":\"scatterternary\",\"marker\":{\"colorbar\":{\"outlinewidth\":0,\"ticks\":\"\"}}}],\"scattercarpet\":[{\"type\":\"scattercarpet\",\"marker\":{\"colorbar\":{\"outlinewidth\":0,\"ticks\":\"\"}}}],\"carpet\":[{\"aaxis\":{\"endlinecolor\":\"#2a3f5f\",\"gridcolor\":\"white\",\"linecolor\":\"white\",\"minorgridcolor\":\"white\",\"startlinecolor\":\"#2a3f5f\"},\"baxis\":{\"endlinecolor\":\"#2a3f5f\",\"gridcolor\":\"white\",\"linecolor\":\"white\",\"minorgridcolor\":\"white\",\"startlinecolor\":\"#2a3f5f\"},\"type\":\"carpet\"}],\"table\":[{\"cells\":{\"fill\":{\"color\":\"#EBF0F8\"},\"line\":{\"color\":\"white\"}},\"header\":{\"fill\":{\"color\":\"#C8D4E3\"},\"line\":{\"color\":\"white\"}},\"type\":\"table\"}],\"barpolar\":[{\"marker\":{\"line\":{\"color\":\"#E5ECF6\",\"width\":0.5},\"pattern\":{\"fillmode\":\"overlay\",\"size\":10,\"solidity\":0.2}},\"type\":\"barpolar\"}],\"pie\":[{\"automargin\":true,\"type\":\"pie\"}]},\"layout\":{\"autotypenumbers\":\"strict\",\"colorway\":[\"#636efa\",\"#EF553B\",\"#00cc96\",\"#ab63fa\",\"#FFA15A\",\"#19d3f3\",\"#FF6692\",\"#B6E880\",\"#FF97FF\",\"#FECB52\"],\"font\":{\"color\":\"#2a3f5f\"},\"hovermode\":\"closest\",\"hoverlabel\":{\"align\":\"left\"},\"paper_bgcolor\":\"white\",\"plot_bgcolor\":\"#E5ECF6\",\"polar\":{\"bgcolor\":\"#E5ECF6\",\"angularaxis\":{\"gridcolor\":\"white\",\"linecolor\":\"white\",\"ticks\":\"\"},\"radialaxis\":{\"gridcolor\":\"white\",\"linecolor\":\"white\",\"ticks\":\"\"}},\"ternary\":{\"bgcolor\":\"#E5ECF6\",\"aaxis\":{\"gridcolor\":\"white\",\"linecolor\":\"white\",\"ticks\":\"\"},\"baxis\":{\"gridcolor\":\"white\",\"linecolor\":\"white\",\"ticks\":\"\"},\"caxis\":{\"gridcolor\":\"white\",\"linecolor\":\"white\",\"ticks\":\"\"}},\"coloraxis\":{\"colorbar\":{\"outlinewidth\":0,\"ticks\":\"\"}},\"colorscale\":{\"sequential\":[[0.0,\"#0d0887\"],[0.1111111111111111,\"#46039f\"],[0.2222222222222222,\"#7201a8\"],[0.3333333333333333,\"#9c179e\"],[0.4444444444444444,\"#bd3786\"],[0.5555555555555556,\"#d8576b\"],[0.6666666666666666,\"#ed7953\"],[0.7777777777777778,\"#fb9f3a\"],[0.8888888888888888,\"#fdca26\"],[1.0,\"#f0f921\"]],\"sequentialminus\":[[0.0,\"#0d0887\"],[0.1111111111111111,\"#46039f\"],[0.2222222222222222,\"#7201a8\"],[0.3333333333333333,\"#9c179e\"],[0.4444444444444444,\"#bd3786\"],[0.5555555555555556,\"#d8576b\"],[0.6666666666666666,\"#ed7953\"],[0.7777777777777778,\"#fb9f3a\"],[0.8888888888888888,\"#fdca26\"],[1.0,\"#f0f921\"]],\"diverging\":[[0,\"#8e0152\"],[0.1,\"#c51b7d\"],[0.2,\"#de77ae\"],[0.3,\"#f1b6da\"],[0.4,\"#fde0ef\"],[0.5,\"#f7f7f7\"],[0.6,\"#e6f5d0\"],[0.7,\"#b8e186\"],[0.8,\"#7fbc41\"],[0.9,\"#4d9221\"],[1,\"#276419\"]]},\"xaxis\":{\"gridcolor\":\"white\",\"linecolor\":\"white\",\"ticks\":\"\",\"title\":{\"standoff\":15},\"zerolinecolor\":\"white\",\"automargin\":true,\"zerolinewidth\":2},\"yaxis\":{\"gridcolor\":\"white\",\"linecolor\":\"white\",\"ticks\":\"\",\"title\":{\"standoff\":15},\"zerolinecolor\":\"white\",\"automargin\":true,\"zerolinewidth\":2},\"scene\":{\"xaxis\":{\"backgroundcolor\":\"#E5ECF6\",\"gridcolor\":\"white\",\"linecolor\":\"white\",\"showbackground\":true,\"ticks\":\"\",\"zerolinecolor\":\"white\",\"gridwidth\":2},\"yaxis\":{\"backgroundcolor\":\"#E5ECF6\",\"gridcolor\":\"white\",\"linecolor\":\"white\",\"showbackground\":true,\"ticks\":\"\",\"zerolinecolor\":\"white\",\"gridwidth\":2},\"zaxis\":{\"backgroundcolor\":\"#E5ECF6\",\"gridcolor\":\"white\",\"linecolor\":\"white\",\"showbackground\":true,\"ticks\":\"\",\"zerolinecolor\":\"white\",\"gridwidth\":2}},\"shapedefaults\":{\"line\":{\"color\":\"#2a3f5f\"}},\"annotationdefaults\":{\"arrowcolor\":\"#2a3f5f\",\"arrowhead\":0,\"arrowwidth\":1},\"geo\":{\"bgcolor\":\"white\",\"landcolor\":\"#E5ECF6\",\"subunitcolor\":\"white\",\"showland\":true,\"showlakes\":true,\"lakecolor\":\"white\"},\"title\":{\"x\":0.05},\"mapbox\":{\"style\":\"light\"}}},\"xaxis\":{\"anchor\":\"y\",\"domain\":[0.0,1.0],\"title\":{\"text\":\"Daily Returns (%)\"}},\"yaxis\":{\"anchor\":\"x\",\"domain\":[0.0,1.0],\"title\":{\"text\":\"Frequency\"}},\"legend\":{\"tracegroupgap\":0},\"title\":{\"text\":\"Distribution of Daily Returns\"},\"barmode\":\"relative\",\"bargap\":0.2},                        {\"responsive\": true}                    ).then(function(){\n",
       "                            \n",
       "var gd = document.getElementById('103c1fc7-1e30-4c28-9d8f-711c810ce06d');\n",
       "var x = new MutationObserver(function (mutations, observer) {{\n",
       "        var display = window.getComputedStyle(gd).display;\n",
       "        if (!display || display === 'none') {{\n",
       "            console.log([gd, 'removed!']);\n",
       "            Plotly.purge(gd);\n",
       "            observer.disconnect();\n",
       "        }}\n",
       "}});\n",
       "\n",
       "// Listen for the removal of the full notebook cells\n",
       "var notebookContainer = gd.closest('#notebook-container');\n",
       "if (notebookContainer) {{\n",
       "    x.observe(notebookContainer, {childList: true});\n",
       "}}\n",
       "\n",
       "// Listen for the clearing of the current output cell\n",
       "var outputEl = gd.closest('.output');\n",
       "if (outputEl) {{\n",
       "    x.observe(outputEl, {childList: true});\n",
       "}}\n",
       "\n",
       "                        })                };                });            </script>        </div>"
      ]
     },
     "metadata": {},
     "output_type": "display_data"
    }
   ],
   "source": [
    "df.sort_values('Date', inplace=True)\n",
    "\n",
    "# Instead of directly assigning the calculated values to a slice, use .loc to ensure the operation is done on the original DataFrame\n",
    "# Calculate daily returns as percentage change in 'close price' and safely assign it back to the DataFrame\n",
    "df.loc[:, 'Daily Returns'] = df['close price'].pct_change() * 100\n",
    "\n",
    "# Drop the first row since its daily return will be NaN\n",
    "df.dropna(inplace=True)\n",
    "\n",
    "# Create a histogram to visualize the distribution of daily returns\n",
    "fig = px.histogram(df, x='Daily Returns', nbins=50, title='Distribution of Daily Returns')\n",
    "\n",
    "# Enhance the chart with additional options\n",
    "fig.update_layout(xaxis_title='Daily Returns (%)', yaxis_title='Frequency', bargap=0.2)\n",
    "\n",
    "# Show the plot\n",
    "fig.show()"
   ]
  },
  {
   "cell_type": "markdown",
   "id": "a82c61d4-366a-421b-bf4d-617a4362cbcf",
   "metadata": {},
   "source": [
    "# Moving Averages and Close Price"
   ]
  },
  {
   "cell_type": "code",
   "execution_count": 49,
   "id": "84dff5fe-7b11-4622-b270-df7ca95408bf",
   "metadata": {
    "tags": []
   },
   "outputs": [
    {
     "data": {
      "application/vnd.plotly.v1+json": {
       "config": {
        "plotlyServerURL": "https://plot.ly"
       },
       "data": [
        {
         "name": "Close Price",
         "type": "scatter",
         "x": [
          "2023-01-04T00:00:00",
          "2023-01-05T00:00:00",
          "2023-01-06T00:00:00",
          "2023-01-09T00:00:00",
          "2023-01-10T00:00:00",
          "2023-01-11T00:00:00",
          "2023-01-12T00:00:00",
          "2023-01-13T00:00:00",
          "2023-01-17T00:00:00",
          "2023-01-18T00:00:00",
          "2023-01-19T00:00:00",
          "2023-01-20T00:00:00",
          "2023-01-23T00:00:00",
          "2023-01-24T00:00:00",
          "2023-01-25T00:00:00",
          "2023-01-26T00:00:00",
          "2023-01-27T00:00:00",
          "2023-01-30T00:00:00",
          "2023-01-31T00:00:00",
          "2023-02-01T00:00:00",
          "2023-02-02T00:00:00",
          "2023-02-03T00:00:00",
          "2023-02-06T00:00:00",
          "2023-02-07T00:00:00",
          "2023-02-08T00:00:00",
          "2023-02-09T00:00:00",
          "2023-02-10T00:00:00",
          "2023-02-13T00:00:00",
          "2023-02-14T00:00:00",
          "2023-02-15T00:00:00",
          "2023-02-16T00:00:00",
          "2023-02-17T00:00:00",
          "2023-02-21T00:00:00",
          "2023-02-22T00:00:00",
          "2023-02-23T00:00:00",
          "2023-02-24T00:00:00",
          "2023-02-27T00:00:00",
          "2023-02-28T00:00:00",
          "2023-03-01T00:00:00",
          "2023-03-02T00:00:00",
          "2023-03-03T00:00:00",
          "2023-03-06T00:00:00",
          "2023-03-07T00:00:00",
          "2023-03-08T00:00:00",
          "2023-03-09T00:00:00",
          "2023-03-10T00:00:00",
          "2023-03-13T00:00:00",
          "2023-03-14T00:00:00",
          "2023-03-15T00:00:00",
          "2023-03-16T00:00:00",
          "2023-03-17T00:00:00",
          "2023-03-20T00:00:00",
          "2023-03-21T00:00:00",
          "2023-03-22T00:00:00",
          "2023-03-23T00:00:00",
          "2023-03-24T00:00:00",
          "2023-03-27T00:00:00",
          "2023-03-28T00:00:00",
          "2023-03-29T00:00:00",
          "2023-03-30T00:00:00",
          "2023-03-31T00:00:00",
          "2023-04-03T00:00:00",
          "2023-04-04T00:00:00",
          "2023-04-05T00:00:00",
          "2023-04-06T00:00:00",
          "2023-04-10T00:00:00",
          "2023-04-11T00:00:00",
          "2023-04-12T00:00:00",
          "2023-04-13T00:00:00",
          "2023-04-14T00:00:00",
          "2023-04-17T00:00:00",
          "2023-04-18T00:00:00",
          "2023-04-19T00:00:00",
          "2023-04-20T00:00:00",
          "2023-04-21T00:00:00",
          "2023-04-24T00:00:00",
          "2023-04-25T00:00:00",
          "2023-04-26T00:00:00",
          "2023-04-27T00:00:00",
          "2023-04-28T00:00:00",
          "2023-05-01T00:00:00",
          "2023-05-02T00:00:00",
          "2023-05-03T00:00:00",
          "2023-05-04T00:00:00",
          "2023-05-05T00:00:00",
          "2023-05-08T00:00:00",
          "2023-05-09T00:00:00",
          "2023-05-10T00:00:00",
          "2023-05-11T00:00:00",
          "2023-05-12T00:00:00",
          "2023-05-15T00:00:00",
          "2023-05-16T00:00:00",
          "2023-05-17T00:00:00",
          "2023-05-18T00:00:00",
          "2023-05-19T00:00:00",
          "2023-05-22T00:00:00",
          "2023-05-23T00:00:00",
          "2023-05-24T00:00:00",
          "2023-05-25T00:00:00",
          "2023-05-26T00:00:00",
          "2023-05-30T00:00:00",
          "2023-05-31T00:00:00",
          "2023-06-01T00:00:00",
          "2023-06-02T00:00:00",
          "2023-06-05T00:00:00",
          "2023-06-06T00:00:00",
          "2023-06-07T00:00:00",
          "2023-06-08T00:00:00",
          "2023-06-09T00:00:00",
          "2023-06-12T00:00:00",
          "2023-06-13T00:00:00",
          "2023-06-14T00:00:00",
          "2023-06-15T00:00:00",
          "2023-06-16T00:00:00",
          "2023-06-20T00:00:00",
          "2023-06-21T00:00:00",
          "2023-06-22T00:00:00",
          "2023-06-23T00:00:00",
          "2023-06-26T00:00:00",
          "2023-06-27T00:00:00",
          "2023-06-28T00:00:00",
          "2023-06-29T00:00:00",
          "2023-06-30T00:00:00",
          "2023-07-03T00:00:00",
          "2023-07-05T00:00:00",
          "2023-07-06T00:00:00",
          "2023-07-07T00:00:00",
          "2023-07-10T00:00:00",
          "2023-07-11T00:00:00",
          "2023-07-12T00:00:00",
          "2023-07-13T00:00:00",
          "2023-07-14T00:00:00",
          "2023-07-17T00:00:00",
          "2023-07-18T00:00:00",
          "2023-07-19T00:00:00",
          "2023-07-20T00:00:00",
          "2023-07-21T00:00:00",
          "2023-07-24T00:00:00",
          "2023-07-25T00:00:00",
          "2023-07-26T00:00:00",
          "2023-07-27T00:00:00",
          "2023-07-28T00:00:00",
          "2023-07-31T00:00:00",
          "2023-08-01T00:00:00",
          "2023-08-02T00:00:00",
          "2023-08-03T00:00:00",
          "2023-08-04T00:00:00",
          "2023-08-07T00:00:00",
          "2023-08-08T00:00:00",
          "2023-08-09T00:00:00",
          "2023-08-10T00:00:00",
          "2023-08-11T00:00:00",
          "2023-08-14T00:00:00",
          "2023-08-15T00:00:00",
          "2023-08-16T00:00:00",
          "2023-08-17T00:00:00",
          "2023-08-18T00:00:00",
          "2023-08-21T00:00:00",
          "2023-08-22T00:00:00",
          "2023-08-23T00:00:00",
          "2023-08-24T00:00:00",
          "2023-08-25T00:00:00",
          "2023-08-28T00:00:00",
          "2023-08-29T00:00:00",
          "2023-08-30T00:00:00",
          "2023-08-31T00:00:00",
          "2023-09-01T00:00:00",
          "2023-09-05T00:00:00",
          "2023-09-06T00:00:00",
          "2023-09-07T00:00:00",
          "2023-09-08T00:00:00",
          "2023-09-11T00:00:00",
          "2023-09-12T00:00:00",
          "2023-09-13T00:00:00",
          "2023-09-14T00:00:00",
          "2023-09-15T00:00:00",
          "2023-09-18T00:00:00",
          "2023-09-19T00:00:00",
          "2023-09-20T00:00:00",
          "2023-09-21T00:00:00",
          "2023-09-22T00:00:00",
          "2023-09-25T00:00:00",
          "2023-09-26T00:00:00",
          "2023-09-27T00:00:00",
          "2023-09-28T00:00:00",
          "2023-09-29T00:00:00",
          "2023-10-02T00:00:00",
          "2023-10-03T00:00:00",
          "2023-10-04T00:00:00",
          "2023-10-05T00:00:00",
          "2023-10-06T00:00:00",
          "2023-10-09T00:00:00",
          "2023-10-10T00:00:00",
          "2023-10-11T00:00:00",
          "2023-10-12T00:00:00",
          "2023-10-13T00:00:00",
          "2023-10-16T00:00:00",
          "2023-10-17T00:00:00",
          "2023-10-18T00:00:00",
          "2023-10-19T00:00:00",
          "2023-10-20T00:00:00",
          "2023-10-23T00:00:00",
          "2023-10-24T00:00:00",
          "2023-10-25T00:00:00",
          "2023-10-26T00:00:00",
          "2023-10-27T00:00:00",
          "2023-10-30T00:00:00",
          "2023-10-31T00:00:00",
          "2023-11-01T00:00:00",
          "2023-11-02T00:00:00",
          "2023-11-03T00:00:00",
          "2023-11-06T00:00:00",
          "2023-11-07T00:00:00",
          "2023-11-08T00:00:00",
          "2023-11-09T00:00:00",
          "2023-11-10T00:00:00",
          "2023-11-13T00:00:00",
          "2023-11-14T00:00:00",
          "2023-11-15T00:00:00",
          "2023-11-16T00:00:00",
          "2023-11-17T00:00:00",
          "2023-11-20T00:00:00",
          "2023-11-21T00:00:00",
          "2023-11-22T00:00:00",
          "2023-11-24T00:00:00",
          "2023-11-27T00:00:00",
          "2023-11-28T00:00:00",
          "2023-11-29T00:00:00",
          "2023-11-30T00:00:00",
          "2023-12-01T00:00:00",
          "2023-12-04T00:00:00",
          "2023-12-05T00:00:00",
          "2023-12-06T00:00:00",
          "2023-12-07T00:00:00",
          "2023-12-08T00:00:00",
          "2023-12-11T00:00:00",
          "2023-12-12T00:00:00",
          "2023-12-13T00:00:00",
          "2023-12-14T00:00:00",
          "2023-12-15T00:00:00",
          "2023-12-18T00:00:00",
          "2023-12-19T00:00:00",
          "2023-12-20T00:00:00",
          "2023-12-21T00:00:00",
          "2023-12-22T00:00:00",
          "2023-12-26T00:00:00",
          "2023-12-27T00:00:00",
          "2023-12-28T00:00:00",
          "2023-12-29T00:00:00"
         ],
         "y": [
          125.658,
          124.325,
          128.9,
          129.427,
          130.003,
          132.748,
          132.668,
          134.011,
          135.184,
          134.458,
          134.518,
          137.104,
          140.326,
          141.738,
          141.071,
          143.16,
          145.119,
          142.205,
          143.488,
          144.622,
          149.982,
          153.641,
          150.887,
          153.79,
          151.076,
          150.031,
          150.4,
          153.228,
          152.581,
          154.702,
          153.089,
          151.934,
          147.88,
          148.308,
          148.796,
          146.117,
          147.322,
          146.814,
          144.723,
          145.321,
          150.42,
          153.209,
          150.988,
          152.252,
          149.982,
          147.9,
          149.862,
          151.974,
          152.372,
          155.22,
          154.374,
          156.764,
          158.636,
          157.192,
          158.288,
          159.603,
          157.641,
          157.013,
          160.12,
          161.704,
          164.234,
          165.499,
          164.961,
          163.098,
          163.995,
          161.375,
          160.15,
          159.453,
          164.891,
          164.543,
          164.562,
          165.797,
          166.953,
          165.977,
          164.353,
          164.662,
          163.108,
          163.098,
          167.73,
          168.994,
          168.905,
          167.859,
          166.773,
          165.12,
          172.869,
          172.799,
          171.076,
          172.854,
          173.048,
          172.111,
          171.612,
          171.612,
          172.23,
          174.584,
          174.694,
          173.736,
          171.103,
          171.382,
          172.529,
          174.963,
          176.828,
          176.778,
          179.611,
          180.468,
          179.102,
          178.733,
          177.347,
          180.089,
          180.478,
          183.301,
          182.822,
          183.46,
          185.515,
          184.428,
          184.517,
          183.47,
          186.502,
          186.183,
          184.777,
          187.559,
          188.746,
          189.085,
          193.454,
          191.948,
          190.821,
          191.299,
          190.172,
          188.108,
          187.579,
          189.265,
          190.033,
          190.182,
          193.474,
          193.214,
          194.581,
          192.616,
          191.429,
          192.237,
          193.104,
          193.982,
          192.706,
          195.309,
          195.927,
          195.084,
          192.067,
          190.661,
          181.505,
          178.374,
          179.321,
          177.716,
          177.496,
          177.556,
          179.224,
          177.217,
          176.338,
          173.771,
          174.26,
          175.609,
          176.997,
          180.882,
          176.148,
          178.375,
          179.953,
          183.878,
          187.403,
          187.623,
          189.211,
          189.45,
          182.669,
          177.326,
          177.946,
          179.124,
          176.068,
          173.981,
          175.509,
          174.78,
          177.736,
          178.834,
          175.259,
          173.701,
          174.56,
          175.848,
          171.734,
          170.206,
          170.465,
          170.985,
          173.521,
          172.173,
          173.432,
          174.68,
          177.256,
          178.754,
          178.155,
          179.563,
          180.472,
          178.615,
          178.485,
          176.917,
          175.609,
          175.229,
          172.653,
          172.772,
          173.212,
          170.875,
          166.67,
          167.999,
          170.066,
          170.545,
          173.741,
          177.336,
          176.418,
          178.994,
          181.581,
          182.649,
          182.17,
          186.4,
          184.8,
          187.44,
          188.01,
          189.71,
          189.69,
          191.45,
          190.64,
          191.31,
          189.97,
          189.79,
          190.4,
          189.37,
          189.95,
          191.24,
          189.43,
          193.42,
          192.32,
          194.27,
          195.71,
          193.18,
          194.71,
          197.96,
          198.11,
          197.57,
          195.89,
          196.94,
          194.83,
          194.68,
          193.6,
          193.05,
          193.15,
          193.58,
          192.53
         ]
        },
        {
         "name": "20-Day MA",
         "type": "scatter",
         "x": [
          "2023-01-04T00:00:00",
          "2023-01-05T00:00:00",
          "2023-01-06T00:00:00",
          "2023-01-09T00:00:00",
          "2023-01-10T00:00:00",
          "2023-01-11T00:00:00",
          "2023-01-12T00:00:00",
          "2023-01-13T00:00:00",
          "2023-01-17T00:00:00",
          "2023-01-18T00:00:00",
          "2023-01-19T00:00:00",
          "2023-01-20T00:00:00",
          "2023-01-23T00:00:00",
          "2023-01-24T00:00:00",
          "2023-01-25T00:00:00",
          "2023-01-26T00:00:00",
          "2023-01-27T00:00:00",
          "2023-01-30T00:00:00",
          "2023-01-31T00:00:00",
          "2023-02-01T00:00:00",
          "2023-02-02T00:00:00",
          "2023-02-03T00:00:00",
          "2023-02-06T00:00:00",
          "2023-02-07T00:00:00",
          "2023-02-08T00:00:00",
          "2023-02-09T00:00:00",
          "2023-02-10T00:00:00",
          "2023-02-13T00:00:00",
          "2023-02-14T00:00:00",
          "2023-02-15T00:00:00",
          "2023-02-16T00:00:00",
          "2023-02-17T00:00:00",
          "2023-02-21T00:00:00",
          "2023-02-22T00:00:00",
          "2023-02-23T00:00:00",
          "2023-02-24T00:00:00",
          "2023-02-27T00:00:00",
          "2023-02-28T00:00:00",
          "2023-03-01T00:00:00",
          "2023-03-02T00:00:00",
          "2023-03-03T00:00:00",
          "2023-03-06T00:00:00",
          "2023-03-07T00:00:00",
          "2023-03-08T00:00:00",
          "2023-03-09T00:00:00",
          "2023-03-10T00:00:00",
          "2023-03-13T00:00:00",
          "2023-03-14T00:00:00",
          "2023-03-15T00:00:00",
          "2023-03-16T00:00:00",
          "2023-03-17T00:00:00",
          "2023-03-20T00:00:00",
          "2023-03-21T00:00:00",
          "2023-03-22T00:00:00",
          "2023-03-23T00:00:00",
          "2023-03-24T00:00:00",
          "2023-03-27T00:00:00",
          "2023-03-28T00:00:00",
          "2023-03-29T00:00:00",
          "2023-03-30T00:00:00",
          "2023-03-31T00:00:00",
          "2023-04-03T00:00:00",
          "2023-04-04T00:00:00",
          "2023-04-05T00:00:00",
          "2023-04-06T00:00:00",
          "2023-04-10T00:00:00",
          "2023-04-11T00:00:00",
          "2023-04-12T00:00:00",
          "2023-04-13T00:00:00",
          "2023-04-14T00:00:00",
          "2023-04-17T00:00:00",
          "2023-04-18T00:00:00",
          "2023-04-19T00:00:00",
          "2023-04-20T00:00:00",
          "2023-04-21T00:00:00",
          "2023-04-24T00:00:00",
          "2023-04-25T00:00:00",
          "2023-04-26T00:00:00",
          "2023-04-27T00:00:00",
          "2023-04-28T00:00:00",
          "2023-05-01T00:00:00",
          "2023-05-02T00:00:00",
          "2023-05-03T00:00:00",
          "2023-05-04T00:00:00",
          "2023-05-05T00:00:00",
          "2023-05-08T00:00:00",
          "2023-05-09T00:00:00",
          "2023-05-10T00:00:00",
          "2023-05-11T00:00:00",
          "2023-05-12T00:00:00",
          "2023-05-15T00:00:00",
          "2023-05-16T00:00:00",
          "2023-05-17T00:00:00",
          "2023-05-18T00:00:00",
          "2023-05-19T00:00:00",
          "2023-05-22T00:00:00",
          "2023-05-23T00:00:00",
          "2023-05-24T00:00:00",
          "2023-05-25T00:00:00",
          "2023-05-26T00:00:00",
          "2023-05-30T00:00:00",
          "2023-05-31T00:00:00",
          "2023-06-01T00:00:00",
          "2023-06-02T00:00:00",
          "2023-06-05T00:00:00",
          "2023-06-06T00:00:00",
          "2023-06-07T00:00:00",
          "2023-06-08T00:00:00",
          "2023-06-09T00:00:00",
          "2023-06-12T00:00:00",
          "2023-06-13T00:00:00",
          "2023-06-14T00:00:00",
          "2023-06-15T00:00:00",
          "2023-06-16T00:00:00",
          "2023-06-20T00:00:00",
          "2023-06-21T00:00:00",
          "2023-06-22T00:00:00",
          "2023-06-23T00:00:00",
          "2023-06-26T00:00:00",
          "2023-06-27T00:00:00",
          "2023-06-28T00:00:00",
          "2023-06-29T00:00:00",
          "2023-06-30T00:00:00",
          "2023-07-03T00:00:00",
          "2023-07-05T00:00:00",
          "2023-07-06T00:00:00",
          "2023-07-07T00:00:00",
          "2023-07-10T00:00:00",
          "2023-07-11T00:00:00",
          "2023-07-12T00:00:00",
          "2023-07-13T00:00:00",
          "2023-07-14T00:00:00",
          "2023-07-17T00:00:00",
          "2023-07-18T00:00:00",
          "2023-07-19T00:00:00",
          "2023-07-20T00:00:00",
          "2023-07-21T00:00:00",
          "2023-07-24T00:00:00",
          "2023-07-25T00:00:00",
          "2023-07-26T00:00:00",
          "2023-07-27T00:00:00",
          "2023-07-28T00:00:00",
          "2023-07-31T00:00:00",
          "2023-08-01T00:00:00",
          "2023-08-02T00:00:00",
          "2023-08-03T00:00:00",
          "2023-08-04T00:00:00",
          "2023-08-07T00:00:00",
          "2023-08-08T00:00:00",
          "2023-08-09T00:00:00",
          "2023-08-10T00:00:00",
          "2023-08-11T00:00:00",
          "2023-08-14T00:00:00",
          "2023-08-15T00:00:00",
          "2023-08-16T00:00:00",
          "2023-08-17T00:00:00",
          "2023-08-18T00:00:00",
          "2023-08-21T00:00:00",
          "2023-08-22T00:00:00",
          "2023-08-23T00:00:00",
          "2023-08-24T00:00:00",
          "2023-08-25T00:00:00",
          "2023-08-28T00:00:00",
          "2023-08-29T00:00:00",
          "2023-08-30T00:00:00",
          "2023-08-31T00:00:00",
          "2023-09-01T00:00:00",
          "2023-09-05T00:00:00",
          "2023-09-06T00:00:00",
          "2023-09-07T00:00:00",
          "2023-09-08T00:00:00",
          "2023-09-11T00:00:00",
          "2023-09-12T00:00:00",
          "2023-09-13T00:00:00",
          "2023-09-14T00:00:00",
          "2023-09-15T00:00:00",
          "2023-09-18T00:00:00",
          "2023-09-19T00:00:00",
          "2023-09-20T00:00:00",
          "2023-09-21T00:00:00",
          "2023-09-22T00:00:00",
          "2023-09-25T00:00:00",
          "2023-09-26T00:00:00",
          "2023-09-27T00:00:00",
          "2023-09-28T00:00:00",
          "2023-09-29T00:00:00",
          "2023-10-02T00:00:00",
          "2023-10-03T00:00:00",
          "2023-10-04T00:00:00",
          "2023-10-05T00:00:00",
          "2023-10-06T00:00:00",
          "2023-10-09T00:00:00",
          "2023-10-10T00:00:00",
          "2023-10-11T00:00:00",
          "2023-10-12T00:00:00",
          "2023-10-13T00:00:00",
          "2023-10-16T00:00:00",
          "2023-10-17T00:00:00",
          "2023-10-18T00:00:00",
          "2023-10-19T00:00:00",
          "2023-10-20T00:00:00",
          "2023-10-23T00:00:00",
          "2023-10-24T00:00:00",
          "2023-10-25T00:00:00",
          "2023-10-26T00:00:00",
          "2023-10-27T00:00:00",
          "2023-10-30T00:00:00",
          "2023-10-31T00:00:00",
          "2023-11-01T00:00:00",
          "2023-11-02T00:00:00",
          "2023-11-03T00:00:00",
          "2023-11-06T00:00:00",
          "2023-11-07T00:00:00",
          "2023-11-08T00:00:00",
          "2023-11-09T00:00:00",
          "2023-11-10T00:00:00",
          "2023-11-13T00:00:00",
          "2023-11-14T00:00:00",
          "2023-11-15T00:00:00",
          "2023-11-16T00:00:00",
          "2023-11-17T00:00:00",
          "2023-11-20T00:00:00",
          "2023-11-21T00:00:00",
          "2023-11-22T00:00:00",
          "2023-11-24T00:00:00",
          "2023-11-27T00:00:00",
          "2023-11-28T00:00:00",
          "2023-11-29T00:00:00",
          "2023-11-30T00:00:00",
          "2023-12-01T00:00:00",
          "2023-12-04T00:00:00",
          "2023-12-05T00:00:00",
          "2023-12-06T00:00:00",
          "2023-12-07T00:00:00",
          "2023-12-08T00:00:00",
          "2023-12-11T00:00:00",
          "2023-12-12T00:00:00",
          "2023-12-13T00:00:00",
          "2023-12-14T00:00:00",
          "2023-12-15T00:00:00",
          "2023-12-18T00:00:00",
          "2023-12-19T00:00:00",
          "2023-12-20T00:00:00",
          "2023-12-21T00:00:00",
          "2023-12-22T00:00:00",
          "2023-12-26T00:00:00",
          "2023-12-27T00:00:00",
          "2023-12-28T00:00:00",
          "2023-12-29T00:00:00"
         ],
         "y": [
          null,
          null,
          null,
          null,
          null,
          null,
          null,
          null,
          null,
          null,
          null,
          null,
          null,
          null,
          null,
          null,
          null,
          null,
          null,
          136.03665,
          137.25285000000002,
          138.71864999999997,
          139.818,
          141.03615,
          142.0898,
          142.95395,
          143.84055,
          144.8014,
          145.67125000000001,
          146.68345,
          147.612,
          148.3535,
          148.7312,
          149.05970000000002,
          149.44594999999998,
          149.59380000000002,
          149.70395,
          149.9344,
          149.99615,
          150.03109999999998,
          150.053,
          150.0314,
          150.03645,
          149.95955,
          149.90485,
          149.79829999999998,
          149.7714,
          149.7087,
          149.69824999999997,
          149.72415,
          149.7884,
          150.0299,
          150.5677,
          151.0119,
          151.4865,
          152.16080000000002,
          152.67675000000003,
          153.1867,
          153.95655,
          154.7757,
          155.4664,
          156.08089999999999,
          156.77955000000003,
          157.32184999999998,
          158.02249999999998,
          158.69625000000002,
          159.21065000000002,
          159.5846,
          160.21055,
          160.6767,
          161.1861,
          161.63775,
          162.05360000000002,
          162.49285,
          162.7961,
          163.04905,
          163.3224,
          163.62664999999998,
          164.00715,
          164.37165,
          164.6052,
          164.72320000000002,
          164.8138,
          164.91490000000002,
          165.3586,
          165.9298,
          166.4761,
          167.14615,
          167.554,
          167.93239999999997,
          168.2849,
          168.57565,
          168.8395,
          169.26985,
          169.7869,
          170.24060000000003,
          170.64035,
          171.05455,
          171.2945,
          171.59295,
          171.9891,
          172.43505,
          173.07695,
          173.84435,
          174.156,
          174.4527,
          174.76625,
          175.128,
          175.4995,
          176.05900000000003,
          176.6195,
          177.21189999999999,
          177.87615,
          178.36835000000002,
          178.8595,
          179.3462,
          180.11615,
          180.8562,
          181.4686,
          182.0984,
          182.6943,
          183.30965,
          184.0018,
          184.57580000000002,
          185.16175,
          185.79005,
          186.4313,
          186.83225,
          187.1873,
          187.4855,
          187.84605000000002,
          188.18215,
          188.5801,
          189.0194,
          189.5226,
          189.9799,
          190.22625,
          190.52894999999998,
          190.9453,
          191.26645000000002,
          191.46445,
          191.77564999999998,
          191.89929999999998,
          192.0561,
          192.1184,
          192.0865,
          191.65315,
          191.16645,
          190.75355,
          190.1761,
          189.54924999999997,
          188.91795,
          188.20544999999998,
          187.4056,
          186.49345,
          185.5512,
          184.69275,
          183.86135000000002,
          183.05599999999998,
          182.401,
          181.5731,
          180.7264,
          179.92770000000002,
          179.3674,
          179.13420000000002,
          178.9823,
          179.36759999999998,
          179.9214,
          180.08880000000002,
          180.0693,
          180.0918,
          180.1702,
          180.0124,
          179.8506,
          179.80915,
          179.8596,
          180.03339999999997,
          180.19465,
          180.10774999999998,
          179.74869999999999,
          179.6693,
          179.54295,
          179.132,
          178.44840000000002,
          177.6015,
          176.7696,
          175.98510000000002,
          175.12125,
          174.6594,
          174.5271,
          174.49259999999998,
          174.4741,
          174.57845,
          174.85755,
          175.1057,
          175.29745,
          175.3349,
          175.23905,
          175.25655,
          175.33295,
          175.2376,
          175.0838,
          175.1577,
          175.19115,
          175.00140000000002,
          174.8521,
          174.67935,
          174.59795,
          174.6134,
          174.7462,
          174.70430000000002,
          174.7163,
          174.8876,
          175.0419,
          175.1268,
          175.51605,
          175.83180000000002,
          176.35795,
          176.978,
          177.70205,
          178.5539,
          179.4878,
          180.3592,
          181.38094999999998,
          182.54595,
          183.6355,
          184.6522,
          185.59345000000002,
          186.4039,
          187.0991,
          187.7497,
          188.471,
          189.00795,
          189.589,
          190.26600000000002,
          190.605,
          191.10049999999998,
          191.62650000000002,
          192.13150000000002,
          192.5245,
          192.8345,
          193.109,
          193.31850000000003,
          193.48700000000002,
          193.6685,
          193.8315,
          193.969,
          194.17950000000002,
          194.3085
         ]
        },
        {
         "name": "50-Day MA",
         "type": "scatter",
         "x": [
          "2023-01-04T00:00:00",
          "2023-01-05T00:00:00",
          "2023-01-06T00:00:00",
          "2023-01-09T00:00:00",
          "2023-01-10T00:00:00",
          "2023-01-11T00:00:00",
          "2023-01-12T00:00:00",
          "2023-01-13T00:00:00",
          "2023-01-17T00:00:00",
          "2023-01-18T00:00:00",
          "2023-01-19T00:00:00",
          "2023-01-20T00:00:00",
          "2023-01-23T00:00:00",
          "2023-01-24T00:00:00",
          "2023-01-25T00:00:00",
          "2023-01-26T00:00:00",
          "2023-01-27T00:00:00",
          "2023-01-30T00:00:00",
          "2023-01-31T00:00:00",
          "2023-02-01T00:00:00",
          "2023-02-02T00:00:00",
          "2023-02-03T00:00:00",
          "2023-02-06T00:00:00",
          "2023-02-07T00:00:00",
          "2023-02-08T00:00:00",
          "2023-02-09T00:00:00",
          "2023-02-10T00:00:00",
          "2023-02-13T00:00:00",
          "2023-02-14T00:00:00",
          "2023-02-15T00:00:00",
          "2023-02-16T00:00:00",
          "2023-02-17T00:00:00",
          "2023-02-21T00:00:00",
          "2023-02-22T00:00:00",
          "2023-02-23T00:00:00",
          "2023-02-24T00:00:00",
          "2023-02-27T00:00:00",
          "2023-02-28T00:00:00",
          "2023-03-01T00:00:00",
          "2023-03-02T00:00:00",
          "2023-03-03T00:00:00",
          "2023-03-06T00:00:00",
          "2023-03-07T00:00:00",
          "2023-03-08T00:00:00",
          "2023-03-09T00:00:00",
          "2023-03-10T00:00:00",
          "2023-03-13T00:00:00",
          "2023-03-14T00:00:00",
          "2023-03-15T00:00:00",
          "2023-03-16T00:00:00",
          "2023-03-17T00:00:00",
          "2023-03-20T00:00:00",
          "2023-03-21T00:00:00",
          "2023-03-22T00:00:00",
          "2023-03-23T00:00:00",
          "2023-03-24T00:00:00",
          "2023-03-27T00:00:00",
          "2023-03-28T00:00:00",
          "2023-03-29T00:00:00",
          "2023-03-30T00:00:00",
          "2023-03-31T00:00:00",
          "2023-04-03T00:00:00",
          "2023-04-04T00:00:00",
          "2023-04-05T00:00:00",
          "2023-04-06T00:00:00",
          "2023-04-10T00:00:00",
          "2023-04-11T00:00:00",
          "2023-04-12T00:00:00",
          "2023-04-13T00:00:00",
          "2023-04-14T00:00:00",
          "2023-04-17T00:00:00",
          "2023-04-18T00:00:00",
          "2023-04-19T00:00:00",
          "2023-04-20T00:00:00",
          "2023-04-21T00:00:00",
          "2023-04-24T00:00:00",
          "2023-04-25T00:00:00",
          "2023-04-26T00:00:00",
          "2023-04-27T00:00:00",
          "2023-04-28T00:00:00",
          "2023-05-01T00:00:00",
          "2023-05-02T00:00:00",
          "2023-05-03T00:00:00",
          "2023-05-04T00:00:00",
          "2023-05-05T00:00:00",
          "2023-05-08T00:00:00",
          "2023-05-09T00:00:00",
          "2023-05-10T00:00:00",
          "2023-05-11T00:00:00",
          "2023-05-12T00:00:00",
          "2023-05-15T00:00:00",
          "2023-05-16T00:00:00",
          "2023-05-17T00:00:00",
          "2023-05-18T00:00:00",
          "2023-05-19T00:00:00",
          "2023-05-22T00:00:00",
          "2023-05-23T00:00:00",
          "2023-05-24T00:00:00",
          "2023-05-25T00:00:00",
          "2023-05-26T00:00:00",
          "2023-05-30T00:00:00",
          "2023-05-31T00:00:00",
          "2023-06-01T00:00:00",
          "2023-06-02T00:00:00",
          "2023-06-05T00:00:00",
          "2023-06-06T00:00:00",
          "2023-06-07T00:00:00",
          "2023-06-08T00:00:00",
          "2023-06-09T00:00:00",
          "2023-06-12T00:00:00",
          "2023-06-13T00:00:00",
          "2023-06-14T00:00:00",
          "2023-06-15T00:00:00",
          "2023-06-16T00:00:00",
          "2023-06-20T00:00:00",
          "2023-06-21T00:00:00",
          "2023-06-22T00:00:00",
          "2023-06-23T00:00:00",
          "2023-06-26T00:00:00",
          "2023-06-27T00:00:00",
          "2023-06-28T00:00:00",
          "2023-06-29T00:00:00",
          "2023-06-30T00:00:00",
          "2023-07-03T00:00:00",
          "2023-07-05T00:00:00",
          "2023-07-06T00:00:00",
          "2023-07-07T00:00:00",
          "2023-07-10T00:00:00",
          "2023-07-11T00:00:00",
          "2023-07-12T00:00:00",
          "2023-07-13T00:00:00",
          "2023-07-14T00:00:00",
          "2023-07-17T00:00:00",
          "2023-07-18T00:00:00",
          "2023-07-19T00:00:00",
          "2023-07-20T00:00:00",
          "2023-07-21T00:00:00",
          "2023-07-24T00:00:00",
          "2023-07-25T00:00:00",
          "2023-07-26T00:00:00",
          "2023-07-27T00:00:00",
          "2023-07-28T00:00:00",
          "2023-07-31T00:00:00",
          "2023-08-01T00:00:00",
          "2023-08-02T00:00:00",
          "2023-08-03T00:00:00",
          "2023-08-04T00:00:00",
          "2023-08-07T00:00:00",
          "2023-08-08T00:00:00",
          "2023-08-09T00:00:00",
          "2023-08-10T00:00:00",
          "2023-08-11T00:00:00",
          "2023-08-14T00:00:00",
          "2023-08-15T00:00:00",
          "2023-08-16T00:00:00",
          "2023-08-17T00:00:00",
          "2023-08-18T00:00:00",
          "2023-08-21T00:00:00",
          "2023-08-22T00:00:00",
          "2023-08-23T00:00:00",
          "2023-08-24T00:00:00",
          "2023-08-25T00:00:00",
          "2023-08-28T00:00:00",
          "2023-08-29T00:00:00",
          "2023-08-30T00:00:00",
          "2023-08-31T00:00:00",
          "2023-09-01T00:00:00",
          "2023-09-05T00:00:00",
          "2023-09-06T00:00:00",
          "2023-09-07T00:00:00",
          "2023-09-08T00:00:00",
          "2023-09-11T00:00:00",
          "2023-09-12T00:00:00",
          "2023-09-13T00:00:00",
          "2023-09-14T00:00:00",
          "2023-09-15T00:00:00",
          "2023-09-18T00:00:00",
          "2023-09-19T00:00:00",
          "2023-09-20T00:00:00",
          "2023-09-21T00:00:00",
          "2023-09-22T00:00:00",
          "2023-09-25T00:00:00",
          "2023-09-26T00:00:00",
          "2023-09-27T00:00:00",
          "2023-09-28T00:00:00",
          "2023-09-29T00:00:00",
          "2023-10-02T00:00:00",
          "2023-10-03T00:00:00",
          "2023-10-04T00:00:00",
          "2023-10-05T00:00:00",
          "2023-10-06T00:00:00",
          "2023-10-09T00:00:00",
          "2023-10-10T00:00:00",
          "2023-10-11T00:00:00",
          "2023-10-12T00:00:00",
          "2023-10-13T00:00:00",
          "2023-10-16T00:00:00",
          "2023-10-17T00:00:00",
          "2023-10-18T00:00:00",
          "2023-10-19T00:00:00",
          "2023-10-20T00:00:00",
          "2023-10-23T00:00:00",
          "2023-10-24T00:00:00",
          "2023-10-25T00:00:00",
          "2023-10-26T00:00:00",
          "2023-10-27T00:00:00",
          "2023-10-30T00:00:00",
          "2023-10-31T00:00:00",
          "2023-11-01T00:00:00",
          "2023-11-02T00:00:00",
          "2023-11-03T00:00:00",
          "2023-11-06T00:00:00",
          "2023-11-07T00:00:00",
          "2023-11-08T00:00:00",
          "2023-11-09T00:00:00",
          "2023-11-10T00:00:00",
          "2023-11-13T00:00:00",
          "2023-11-14T00:00:00",
          "2023-11-15T00:00:00",
          "2023-11-16T00:00:00",
          "2023-11-17T00:00:00",
          "2023-11-20T00:00:00",
          "2023-11-21T00:00:00",
          "2023-11-22T00:00:00",
          "2023-11-24T00:00:00",
          "2023-11-27T00:00:00",
          "2023-11-28T00:00:00",
          "2023-11-29T00:00:00",
          "2023-11-30T00:00:00",
          "2023-12-01T00:00:00",
          "2023-12-04T00:00:00",
          "2023-12-05T00:00:00",
          "2023-12-06T00:00:00",
          "2023-12-07T00:00:00",
          "2023-12-08T00:00:00",
          "2023-12-11T00:00:00",
          "2023-12-12T00:00:00",
          "2023-12-13T00:00:00",
          "2023-12-14T00:00:00",
          "2023-12-15T00:00:00",
          "2023-12-18T00:00:00",
          "2023-12-19T00:00:00",
          "2023-12-20T00:00:00",
          "2023-12-21T00:00:00",
          "2023-12-22T00:00:00",
          "2023-12-26T00:00:00",
          "2023-12-27T00:00:00",
          "2023-12-28T00:00:00",
          "2023-12-29T00:00:00"
         ],
         "y": [
          null,
          null,
          null,
          null,
          null,
          null,
          null,
          null,
          null,
          null,
          null,
          null,
          null,
          null,
          null,
          null,
          null,
          null,
          null,
          null,
          null,
          null,
          null,
          null,
          null,
          null,
          null,
          null,
          null,
          null,
          null,
          null,
          null,
          null,
          null,
          null,
          null,
          null,
          null,
          null,
          null,
          null,
          null,
          null,
          null,
          null,
          null,
          null,
          null,
          144.71068,
          145.285,
          145.93377999999998,
          146.5285,
          147.0838,
          147.6495,
          148.1866,
          148.68606,
          149.14610000000002,
          149.64482,
          150.18974,
          150.78406,
          151.35196,
          151.84466,
          152.27186,
          152.73033999999998,
          153.09464,
          153.39526,
          153.74022000000002,
          154.16827999999998,
          154.5667,
          154.85829999999999,
          155.10142,
          155.42274,
          155.66647999999998,
          155.93202,
          156.22464,
          156.4788,
          156.6762,
          156.97917999999999,
          157.26502,
          157.58134,
          157.89984,
          158.2777,
          158.61394,
          159.0954,
          159.62904,
          160.10412,
          160.62492,
          161.19142000000002,
          161.72722000000002,
          162.15106000000003,
          162.51912000000002,
          162.94396,
          163.3906,
          163.88484,
          164.40156,
          164.82638,
          165.21454000000003,
          165.61768,
          166.01254,
          166.46162,
          166.86190000000002,
          167.2814,
          167.74692000000002,
          168.1632,
          168.54579999999999,
          168.93991999999997,
          169.40144,
          169.8086,
          170.24054,
          170.6123,
          170.97152000000003,
          171.38260000000002,
          171.80920000000003,
          172.21964,
          172.66153999999997,
          173.18858,
          173.72317999999999,
          174.1209,
          174.58122,
          175.06490000000002,
          175.53065999999998,
          176.06068,
          176.5801,
          177.10946,
          177.6422,
          178.18347999999997,
          178.68367999999998,
          179.08066,
          179.48608000000002,
          179.90864000000002,
          180.35510000000002,
          180.88911999999996,
          181.451,
          181.88523999999998,
          182.28158,
          182.68863999999996,
          183.0763,
          183.47742,
          183.91484,
          184.33671999999999,
          184.81066,
          185.28459999999998,
          185.69459999999998,
          186.04206000000002,
          186.38056,
          186.5886,
          186.72843999999998,
          186.86428,
          186.91934,
          186.9327,
          186.94825999999998,
          186.94052,
          186.8755,
          186.82022,
          186.72098000000003,
          186.65924000000004,
          186.56964,
          186.50002,
          186.45164,
          186.31815999999998,
          186.21645999999998,
          186.10522,
          186.09421999999998,
          186.15194,
          186.235,
          186.28918000000002,
          186.35451999999998,
          186.31235999999998,
          186.1077,
          185.8917,
          185.69248,
          185.34475999999998,
          184.98542,
          184.67918,
          184.34879999999998,
          184.10008000000002,
          183.91459999999998,
          183.66819999999998,
          183.35692,
          183.04746,
          182.76077999999998,
          182.32598000000002,
          181.86581999999999,
          181.38350000000003,
          180.95088000000004,
          180.59272,
          180.19144,
          179.798,
          179.41196,
          179.10296000000002,
          178.77185999999998,
          178.41642,
          178.10600000000002,
          177.8741,
          177.63317999999998,
          177.57278000000002,
          177.54364,
          177.46940000000004,
          177.41966,
          177.3228,
          177.22711999999999,
          177.10688000000002,
          176.98004,
          176.78668000000002,
          176.67124,
          176.58735999999996,
          176.48608000000002,
          176.42095999999998,
          176.35004,
          176.35544000000002,
          176.36782000000002,
          176.40038,
          176.37580000000003,
          176.27114,
          176.24668000000003,
          176.15846,
          176.11826000000002,
          176.22508000000002,
          176.47276,
          176.70764,
          176.95416,
          177.24560000000002,
          177.59217999999998,
          177.88139999999999,
          178.1816,
          178.43487999999996,
          178.6456,
          178.93942000000004,
          179.2902,
          179.5876,
          179.93904000000003,
          180.35076,
          180.83203999999998,
          181.33694,
          181.78084,
          182.20462,
          182.72036,
          183.21392,
          183.67172000000002,
          184.0444,
          184.40812000000003,
          184.74162,
          185.04396,
          185.30651999999998,
          185.59522,
          185.88852,
          186.22178,
          186.5602
         ]
        }
       ],
       "layout": {
        "autosize": true,
        "template": {
         "data": {
          "bar": [
           {
            "error_x": {
             "color": "#2a3f5f"
            },
            "error_y": {
             "color": "#2a3f5f"
            },
            "marker": {
             "line": {
              "color": "#E5ECF6",
              "width": 0.5
             },
             "pattern": {
              "fillmode": "overlay",
              "size": 10,
              "solidity": 0.2
             }
            },
            "type": "bar"
           }
          ],
          "barpolar": [
           {
            "marker": {
             "line": {
              "color": "#E5ECF6",
              "width": 0.5
             },
             "pattern": {
              "fillmode": "overlay",
              "size": 10,
              "solidity": 0.2
             }
            },
            "type": "barpolar"
           }
          ],
          "carpet": [
           {
            "aaxis": {
             "endlinecolor": "#2a3f5f",
             "gridcolor": "white",
             "linecolor": "white",
             "minorgridcolor": "white",
             "startlinecolor": "#2a3f5f"
            },
            "baxis": {
             "endlinecolor": "#2a3f5f",
             "gridcolor": "white",
             "linecolor": "white",
             "minorgridcolor": "white",
             "startlinecolor": "#2a3f5f"
            },
            "type": "carpet"
           }
          ],
          "choropleth": [
           {
            "colorbar": {
             "outlinewidth": 0,
             "ticks": ""
            },
            "type": "choropleth"
           }
          ],
          "contour": [
           {
            "colorbar": {
             "outlinewidth": 0,
             "ticks": ""
            },
            "colorscale": [
             [
              0,
              "#0d0887"
             ],
             [
              0.1111111111111111,
              "#46039f"
             ],
             [
              0.2222222222222222,
              "#7201a8"
             ],
             [
              0.3333333333333333,
              "#9c179e"
             ],
             [
              0.4444444444444444,
              "#bd3786"
             ],
             [
              0.5555555555555556,
              "#d8576b"
             ],
             [
              0.6666666666666666,
              "#ed7953"
             ],
             [
              0.7777777777777778,
              "#fb9f3a"
             ],
             [
              0.8888888888888888,
              "#fdca26"
             ],
             [
              1,
              "#f0f921"
             ]
            ],
            "type": "contour"
           }
          ],
          "contourcarpet": [
           {
            "colorbar": {
             "outlinewidth": 0,
             "ticks": ""
            },
            "type": "contourcarpet"
           }
          ],
          "heatmap": [
           {
            "colorbar": {
             "outlinewidth": 0,
             "ticks": ""
            },
            "colorscale": [
             [
              0,
              "#0d0887"
             ],
             [
              0.1111111111111111,
              "#46039f"
             ],
             [
              0.2222222222222222,
              "#7201a8"
             ],
             [
              0.3333333333333333,
              "#9c179e"
             ],
             [
              0.4444444444444444,
              "#bd3786"
             ],
             [
              0.5555555555555556,
              "#d8576b"
             ],
             [
              0.6666666666666666,
              "#ed7953"
             ],
             [
              0.7777777777777778,
              "#fb9f3a"
             ],
             [
              0.8888888888888888,
              "#fdca26"
             ],
             [
              1,
              "#f0f921"
             ]
            ],
            "type": "heatmap"
           }
          ],
          "heatmapgl": [
           {
            "colorbar": {
             "outlinewidth": 0,
             "ticks": ""
            },
            "colorscale": [
             [
              0,
              "#0d0887"
             ],
             [
              0.1111111111111111,
              "#46039f"
             ],
             [
              0.2222222222222222,
              "#7201a8"
             ],
             [
              0.3333333333333333,
              "#9c179e"
             ],
             [
              0.4444444444444444,
              "#bd3786"
             ],
             [
              0.5555555555555556,
              "#d8576b"
             ],
             [
              0.6666666666666666,
              "#ed7953"
             ],
             [
              0.7777777777777778,
              "#fb9f3a"
             ],
             [
              0.8888888888888888,
              "#fdca26"
             ],
             [
              1,
              "#f0f921"
             ]
            ],
            "type": "heatmapgl"
           }
          ],
          "histogram": [
           {
            "marker": {
             "pattern": {
              "fillmode": "overlay",
              "size": 10,
              "solidity": 0.2
             }
            },
            "type": "histogram"
           }
          ],
          "histogram2d": [
           {
            "colorbar": {
             "outlinewidth": 0,
             "ticks": ""
            },
            "colorscale": [
             [
              0,
              "#0d0887"
             ],
             [
              0.1111111111111111,
              "#46039f"
             ],
             [
              0.2222222222222222,
              "#7201a8"
             ],
             [
              0.3333333333333333,
              "#9c179e"
             ],
             [
              0.4444444444444444,
              "#bd3786"
             ],
             [
              0.5555555555555556,
              "#d8576b"
             ],
             [
              0.6666666666666666,
              "#ed7953"
             ],
             [
              0.7777777777777778,
              "#fb9f3a"
             ],
             [
              0.8888888888888888,
              "#fdca26"
             ],
             [
              1,
              "#f0f921"
             ]
            ],
            "type": "histogram2d"
           }
          ],
          "histogram2dcontour": [
           {
            "colorbar": {
             "outlinewidth": 0,
             "ticks": ""
            },
            "colorscale": [
             [
              0,
              "#0d0887"
             ],
             [
              0.1111111111111111,
              "#46039f"
             ],
             [
              0.2222222222222222,
              "#7201a8"
             ],
             [
              0.3333333333333333,
              "#9c179e"
             ],
             [
              0.4444444444444444,
              "#bd3786"
             ],
             [
              0.5555555555555556,
              "#d8576b"
             ],
             [
              0.6666666666666666,
              "#ed7953"
             ],
             [
              0.7777777777777778,
              "#fb9f3a"
             ],
             [
              0.8888888888888888,
              "#fdca26"
             ],
             [
              1,
              "#f0f921"
             ]
            ],
            "type": "histogram2dcontour"
           }
          ],
          "mesh3d": [
           {
            "colorbar": {
             "outlinewidth": 0,
             "ticks": ""
            },
            "type": "mesh3d"
           }
          ],
          "parcoords": [
           {
            "line": {
             "colorbar": {
              "outlinewidth": 0,
              "ticks": ""
             }
            },
            "type": "parcoords"
           }
          ],
          "pie": [
           {
            "automargin": true,
            "type": "pie"
           }
          ],
          "scatter": [
           {
            "fillpattern": {
             "fillmode": "overlay",
             "size": 10,
             "solidity": 0.2
            },
            "type": "scatter"
           }
          ],
          "scatter3d": [
           {
            "line": {
             "colorbar": {
              "outlinewidth": 0,
              "ticks": ""
             }
            },
            "marker": {
             "colorbar": {
              "outlinewidth": 0,
              "ticks": ""
             }
            },
            "type": "scatter3d"
           }
          ],
          "scattercarpet": [
           {
            "marker": {
             "colorbar": {
              "outlinewidth": 0,
              "ticks": ""
             }
            },
            "type": "scattercarpet"
           }
          ],
          "scattergeo": [
           {
            "marker": {
             "colorbar": {
              "outlinewidth": 0,
              "ticks": ""
             }
            },
            "type": "scattergeo"
           }
          ],
          "scattergl": [
           {
            "marker": {
             "colorbar": {
              "outlinewidth": 0,
              "ticks": ""
             }
            },
            "type": "scattergl"
           }
          ],
          "scattermapbox": [
           {
            "marker": {
             "colorbar": {
              "outlinewidth": 0,
              "ticks": ""
             }
            },
            "type": "scattermapbox"
           }
          ],
          "scatterpolar": [
           {
            "marker": {
             "colorbar": {
              "outlinewidth": 0,
              "ticks": ""
             }
            },
            "type": "scatterpolar"
           }
          ],
          "scatterpolargl": [
           {
            "marker": {
             "colorbar": {
              "outlinewidth": 0,
              "ticks": ""
             }
            },
            "type": "scatterpolargl"
           }
          ],
          "scatterternary": [
           {
            "marker": {
             "colorbar": {
              "outlinewidth": 0,
              "ticks": ""
             }
            },
            "type": "scatterternary"
           }
          ],
          "surface": [
           {
            "colorbar": {
             "outlinewidth": 0,
             "ticks": ""
            },
            "colorscale": [
             [
              0,
              "#0d0887"
             ],
             [
              0.1111111111111111,
              "#46039f"
             ],
             [
              0.2222222222222222,
              "#7201a8"
             ],
             [
              0.3333333333333333,
              "#9c179e"
             ],
             [
              0.4444444444444444,
              "#bd3786"
             ],
             [
              0.5555555555555556,
              "#d8576b"
             ],
             [
              0.6666666666666666,
              "#ed7953"
             ],
             [
              0.7777777777777778,
              "#fb9f3a"
             ],
             [
              0.8888888888888888,
              "#fdca26"
             ],
             [
              1,
              "#f0f921"
             ]
            ],
            "type": "surface"
           }
          ],
          "table": [
           {
            "cells": {
             "fill": {
              "color": "#EBF0F8"
             },
             "line": {
              "color": "white"
             }
            },
            "header": {
             "fill": {
              "color": "#C8D4E3"
             },
             "line": {
              "color": "white"
             }
            },
            "type": "table"
           }
          ]
         },
         "layout": {
          "annotationdefaults": {
           "arrowcolor": "#2a3f5f",
           "arrowhead": 0,
           "arrowwidth": 1
          },
          "autotypenumbers": "strict",
          "coloraxis": {
           "colorbar": {
            "outlinewidth": 0,
            "ticks": ""
           }
          },
          "colorscale": {
           "diverging": [
            [
             0,
             "#8e0152"
            ],
            [
             0.1,
             "#c51b7d"
            ],
            [
             0.2,
             "#de77ae"
            ],
            [
             0.3,
             "#f1b6da"
            ],
            [
             0.4,
             "#fde0ef"
            ],
            [
             0.5,
             "#f7f7f7"
            ],
            [
             0.6,
             "#e6f5d0"
            ],
            [
             0.7,
             "#b8e186"
            ],
            [
             0.8,
             "#7fbc41"
            ],
            [
             0.9,
             "#4d9221"
            ],
            [
             1,
             "#276419"
            ]
           ],
           "sequential": [
            [
             0,
             "#0d0887"
            ],
            [
             0.1111111111111111,
             "#46039f"
            ],
            [
             0.2222222222222222,
             "#7201a8"
            ],
            [
             0.3333333333333333,
             "#9c179e"
            ],
            [
             0.4444444444444444,
             "#bd3786"
            ],
            [
             0.5555555555555556,
             "#d8576b"
            ],
            [
             0.6666666666666666,
             "#ed7953"
            ],
            [
             0.7777777777777778,
             "#fb9f3a"
            ],
            [
             0.8888888888888888,
             "#fdca26"
            ],
            [
             1,
             "#f0f921"
            ]
           ],
           "sequentialminus": [
            [
             0,
             "#0d0887"
            ],
            [
             0.1111111111111111,
             "#46039f"
            ],
            [
             0.2222222222222222,
             "#7201a8"
            ],
            [
             0.3333333333333333,
             "#9c179e"
            ],
            [
             0.4444444444444444,
             "#bd3786"
            ],
            [
             0.5555555555555556,
             "#d8576b"
            ],
            [
             0.6666666666666666,
             "#ed7953"
            ],
            [
             0.7777777777777778,
             "#fb9f3a"
            ],
            [
             0.8888888888888888,
             "#fdca26"
            ],
            [
             1,
             "#f0f921"
            ]
           ]
          },
          "colorway": [
           "#636efa",
           "#EF553B",
           "#00cc96",
           "#ab63fa",
           "#FFA15A",
           "#19d3f3",
           "#FF6692",
           "#B6E880",
           "#FF97FF",
           "#FECB52"
          ],
          "font": {
           "color": "#2a3f5f"
          },
          "geo": {
           "bgcolor": "white",
           "lakecolor": "white",
           "landcolor": "#E5ECF6",
           "showlakes": true,
           "showland": true,
           "subunitcolor": "white"
          },
          "hoverlabel": {
           "align": "left"
          },
          "hovermode": "closest",
          "mapbox": {
           "style": "light"
          },
          "paper_bgcolor": "white",
          "plot_bgcolor": "#E5ECF6",
          "polar": {
           "angularaxis": {
            "gridcolor": "white",
            "linecolor": "white",
            "ticks": ""
           },
           "bgcolor": "#E5ECF6",
           "radialaxis": {
            "gridcolor": "white",
            "linecolor": "white",
            "ticks": ""
           }
          },
          "scene": {
           "xaxis": {
            "backgroundcolor": "#E5ECF6",
            "gridcolor": "white",
            "gridwidth": 2,
            "linecolor": "white",
            "showbackground": true,
            "ticks": "",
            "zerolinecolor": "white"
           },
           "yaxis": {
            "backgroundcolor": "#E5ECF6",
            "gridcolor": "white",
            "gridwidth": 2,
            "linecolor": "white",
            "showbackground": true,
            "ticks": "",
            "zerolinecolor": "white"
           },
           "zaxis": {
            "backgroundcolor": "#E5ECF6",
            "gridcolor": "white",
            "gridwidth": 2,
            "linecolor": "white",
            "showbackground": true,
            "ticks": "",
            "zerolinecolor": "white"
           }
          },
          "shapedefaults": {
           "line": {
            "color": "#2a3f5f"
           }
          },
          "ternary": {
           "aaxis": {
            "gridcolor": "white",
            "linecolor": "white",
            "ticks": ""
           },
           "baxis": {
            "gridcolor": "white",
            "linecolor": "white",
            "ticks": ""
           },
           "bgcolor": "#E5ECF6",
           "caxis": {
            "gridcolor": "white",
            "linecolor": "white",
            "ticks": ""
           }
          },
          "title": {
           "x": 0.05
          },
          "xaxis": {
           "automargin": true,
           "gridcolor": "white",
           "linecolor": "white",
           "ticks": "",
           "title": {
            "standoff": 15
           },
           "zerolinecolor": "white",
           "zerolinewidth": 2
          },
          "yaxis": {
           "automargin": true,
           "gridcolor": "white",
           "linecolor": "white",
           "ticks": "",
           "title": {
            "standoff": 15
           },
           "zerolinecolor": "white",
           "zerolinewidth": 2
          }
         }
        },
        "title": {
         "text": "Moving Averages and Close Price"
        },
        "xaxis": {
         "autorange": true,
         "range": [
          "2023-01-04",
          "2023-12-29"
         ],
         "title": {
          "text": "Date"
         },
         "type": "date"
        },
        "yaxis": {
         "autorange": true,
         "range": [
          120.22583333333334,
          202.20916666666668
         ],
         "title": {
          "text": "Price"
         },
         "type": "linear"
        }
       }
      },
      "image/png": "[encoded data removed]",
      "text/html": [
       "<div>                            <div id=\"5d5a68c8-e7fb-4bcd-b4b3-ba8ec246bada\" class=\"plotly-graph-div\" style=\"height:525px; width:100%;\"></div>            <script type=\"text/javascript\">                require([\"plotly\"], function(Plotly) {                    window.PLOTLYENV=window.PLOTLYENV || {};                                    if (document.getElementById(\"5d5a68c8-e7fb-4bcd-b4b3-ba8ec246bada\")) {                    Plotly.newPlot(                        \"5d5a68c8-e7fb-4bcd-b4b3-ba8ec246bada\",                        [{\"name\":\"Close Price\",\"x\":[\"2023-01-04T00:00:00\",\"2023-01-05T00:00:00\",\"2023-01-06T00:00:00\",\"2023-01-09T00:00:00\",\"2023-01-10T00:00:00\",\"2023-01-11T00:00:00\",\"2023-01-12T00:00:00\",\"2023-01-13T00:00:00\",\"2023-01-17T00:00:00\",\"2023-01-18T00:00:00\",\"2023-01-19T00:00:00\",\"2023-01-20T00:00:00\",\"2023-01-23T00:00:00\",\"2023-01-24T00:00:00\",\"2023-01-25T00:00:00\",\"2023-01-26T00:00:00\",\"2023-01-27T00:00:00\",\"2023-01-30T00:00:00\",\"2023-01-31T00:00:00\",\"2023-02-01T00:00:00\",\"2023-02-02T00:00:00\",\"2023-02-03T00:00:00\",\"2023-02-06T00:00:00\",\"2023-02-07T00:00:00\",\"2023-02-08T00:00:00\",\"2023-02-09T00:00:00\",\"2023-02-10T00:00:00\",\"2023-02-13T00:00:00\",\"2023-02-14T00:00:00\",\"2023-02-15T00:00:00\",\"2023-02-16T00:00:00\",\"2023-02-17T00:00:00\",\"2023-02-21T00:00:00\",\"2023-02-22T00:00:00\",\"2023-02-23T00:00:00\",\"2023-02-24T00:00:00\",\"2023-02-27T00:00:00\",\"2023-02-28T00:00:00\",\"2023-03-01T00:00:00\",\"2023-03-02T00:00:00\",\"2023-03-03T00:00:00\",\"2023-03-06T00:00:00\",\"2023-03-07T00:00:00\",\"2023-03-08T00:00:00\",\"2023-03-09T00:00:00\",\"2023-03-10T00:00:00\",\"2023-03-13T00:00:00\",\"2023-03-14T00:00:00\",\"2023-03-15T00:00:00\",\"2023-03-16T00:00:00\",\"2023-03-17T00:00:00\",\"2023-03-20T00:00:00\",\"2023-03-21T00:00:00\",\"2023-03-22T00:00:00\",\"2023-03-23T00:00:00\",\"2023-03-24T00:00:00\",\"2023-03-27T00:00:00\",\"2023-03-28T00:00:00\",\"2023-03-29T00:00:00\",\"2023-03-30T00:00:00\",\"2023-03-31T00:00:00\",\"2023-04-03T00:00:00\",\"2023-04-04T00:00:00\",\"2023-04-05T00:00:00\",\"2023-04-06T00:00:00\",\"2023-04-10T00:00:00\",\"2023-04-11T00:00:00\",\"2023-04-12T00:00:00\",\"2023-04-13T00:00:00\",\"2023-04-14T00:00:00\",\"2023-04-17T00:00:00\",\"2023-04-18T00:00:00\",\"2023-04-19T00:00:00\",\"2023-04-20T00:00:00\",\"2023-04-21T00:00:00\",\"2023-04-24T00:00:00\",\"2023-04-25T00:00:00\",\"2023-04-26T00:00:00\",\"2023-04-27T00:00:00\",\"2023-04-28T00:00:00\",\"2023-05-01T00:00:00\",\"2023-05-02T00:00:00\",\"2023-05-03T00:00:00\",\"2023-05-04T00:00:00\",\"2023-05-05T00:00:00\",\"2023-05-08T00:00:00\",\"2023-05-09T00:00:00\",\"2023-05-10T00:00:00\",\"2023-05-11T00:00:00\",\"2023-05-12T00:00:00\",\"2023-05-15T00:00:00\",\"2023-05-16T00:00:00\",\"2023-05-17T00:00:00\",\"2023-05-18T00:00:00\",\"2023-05-19T00:00:00\",\"2023-05-22T00:00:00\",\"2023-05-23T00:00:00\",\"2023-05-24T00:00:00\",\"2023-05-25T00:00:00\",\"2023-05-26T00:00:00\",\"2023-05-30T00:00:00\",\"2023-05-31T00:00:00\",\"2023-06-01T00:00:00\",\"2023-06-02T00:00:00\",\"2023-06-05T00:00:00\",\"2023-06-06T00:00:00\",\"2023-06-07T00:00:00\",\"2023-06-08T00:00:00\",\"2023-06-09T00:00:00\",\"2023-06-12T00:00:00\",\"2023-06-13T00:00:00\",\"2023-06-14T00:00:00\",\"2023-06-15T00:00:00\",\"2023-06-16T00:00:00\",\"2023-06-20T00:00:00\",\"2023-06-21T00:00:00\",\"2023-06-22T00:00:00\",\"2023-06-23T00:00:00\",\"2023-06-26T00:00:00\",\"2023-06-27T00:00:00\",\"2023-06-28T00:00:00\",\"2023-06-29T00:00:00\",\"2023-06-30T00:00:00\",\"2023-07-03T00:00:00\",\"2023-07-05T00:00:00\",\"2023-07-06T00:00:00\",\"2023-07-07T00:00:00\",\"2023-07-10T00:00:00\",\"2023-07-11T00:00:00\",\"2023-07-12T00:00:00\",\"2023-07-13T00:00:00\",\"2023-07-14T00:00:00\",\"2023-07-17T00:00:00\",\"2023-07-18T00:00:00\",\"2023-07-19T00:00:00\",\"2023-07-20T00:00:00\",\"2023-07-21T00:00:00\",\"2023-07-24T00:00:00\",\"2023-07-25T00:00:00\",\"2023-07-26T00:00:00\",\"2023-07-27T00:00:00\",\"2023-07-28T00:00:00\",\"2023-07-31T00:00:00\",\"2023-08-01T00:00:00\",\"2023-08-02T00:00:00\",\"2023-08-03T00:00:00\",\"2023-08-04T00:00:00\",\"2023-08-07T00:00:00\",\"2023-08-08T00:00:00\",\"2023-08-09T00:00:00\",\"2023-08-10T00:00:00\",\"2023-08-11T00:00:00\",\"2023-08-14T00:00:00\",\"2023-08-15T00:00:00\",\"2023-08-16T00:00:00\",\"2023-08-17T00:00:00\",\"2023-08-18T00:00:00\",\"2023-08-21T00:00:00\",\"2023-08-22T00:00:00\",\"2023-08-23T00:00:00\",\"2023-08-24T00:00:00\",\"2023-08-25T00:00:00\",\"2023-08-28T00:00:00\",\"2023-08-29T00:00:00\",\"2023-08-30T00:00:00\",\"2023-08-31T00:00:00\",\"2023-09-01T00:00:00\",\"2023-09-05T00:00:00\",\"2023-09-06T00:00:00\",\"2023-09-07T00:00:00\",\"2023-09-08T00:00:00\",\"2023-09-11T00:00:00\",\"2023-09-12T00:00:00\",\"2023-09-13T00:00:00\",\"2023-09-14T00:00:00\",\"2023-09-15T00:00:00\",\"2023-09-18T00:00:00\",\"2023-09-19T00:00:00\",\"2023-09-20T00:00:00\",\"2023-09-21T00:00:00\",\"2023-09-22T00:00:00\",\"2023-09-25T00:00:00\",\"2023-09-26T00:00:00\",\"2023-09-27T00:00:00\",\"2023-09-28T00:00:00\",\"2023-09-29T00:00:00\",\"2023-10-02T00:00:00\",\"2023-10-03T00:00:00\",\"2023-10-04T00:00:00\",\"2023-10-05T00:00:00\",\"2023-10-06T00:00:00\",\"2023-10-09T00:00:00\",\"2023-10-10T00:00:00\",\"2023-10-11T00:00:00\",\"2023-10-12T00:00:00\",\"2023-10-13T00:00:00\",\"2023-10-16T00:00:00\",\"2023-10-17T00:00:00\",\"2023-10-18T00:00:00\",\"2023-10-19T00:00:00\",\"2023-10-20T00:00:00\",\"2023-10-23T00:00:00\",\"2023-10-24T00:00:00\",\"2023-10-25T00:00:00\",\"2023-10-26T00:00:00\",\"2023-10-27T00:00:00\",\"2023-10-30T00:00:00\",\"2023-10-31T00:00:00\",\"2023-11-01T00:00:00\",\"2023-11-02T00:00:00\",\"2023-11-03T00:00:00\",\"2023-11-06T00:00:00\",\"2023-11-07T00:00:00\",\"2023-11-08T00:00:00\",\"2023-11-09T00:00:00\",\"2023-11-10T00:00:00\",\"2023-11-13T00:00:00\",\"2023-11-14T00:00:00\",\"2023-11-15T00:00:00\",\"2023-11-16T00:00:00\",\"2023-11-17T00:00:00\",\"2023-11-20T00:00:00\",\"2023-11-21T00:00:00\",\"2023-11-22T00:00:00\",\"2023-11-24T00:00:00\",\"2023-11-27T00:00:00\",\"2023-11-28T00:00:00\",\"2023-11-29T00:00:00\",\"2023-11-30T00:00:00\",\"2023-12-01T00:00:00\",\"2023-12-04T00:00:00\",\"2023-12-05T00:00:00\",\"2023-12-06T00:00:00\",\"2023-12-07T00:00:00\",\"2023-12-08T00:00:00\",\"2023-12-11T00:00:00\",\"2023-12-12T00:00:00\",\"2023-12-13T00:00:00\",\"2023-12-14T00:00:00\",\"2023-12-15T00:00:00\",\"2023-12-18T00:00:00\",\"2023-12-19T00:00:00\",\"2023-12-20T00:00:00\",\"2023-12-21T00:00:00\",\"2023-12-22T00:00:00\",\"2023-12-26T00:00:00\",\"2023-12-27T00:00:00\",\"2023-12-28T00:00:00\",\"2023-12-29T00:00:00\"],\"y\":[125.658,124.325,128.9,129.427,130.003,132.748,132.668,134.011,135.184,134.458,134.518,137.104,140.326,141.738,141.071,143.16,145.119,142.205,143.488,144.622,149.982,153.641,150.887,153.79,151.076,150.031,150.4,153.228,152.581,154.702,153.089,151.934,147.88,148.308,148.796,146.117,147.322,146.814,144.723,145.321,150.42,153.209,150.988,152.252,149.982,147.9,149.862,151.974,152.372,155.22,154.374,156.764,158.636,157.192,158.288,159.603,157.641,157.013,160.12,161.704,164.234,165.499,164.961,163.098,163.995,161.375,160.15,159.453,164.891,164.543,164.562,165.797,166.953,165.977,164.353,164.662,163.108,163.098,167.73,168.994,168.905,167.859,166.773,165.12,172.869,172.799,171.076,172.854,173.048,172.111,171.612,171.612,172.23,174.584,174.694,173.736,171.103,171.382,172.529,174.963,176.828,176.778,179.611,180.468,179.102,178.733,177.347,180.089,180.478,183.301,182.822,183.46,185.515,184.428,184.517,183.47,186.502,186.183,184.777,187.559,188.746,189.085,193.454,191.948,190.821,191.299,190.172,188.108,187.579,189.265,190.033,190.182,193.474,193.214,194.581,192.616,191.429,192.237,193.104,193.982,192.706,195.309,195.927,195.084,192.067,190.661,181.505,178.374,179.321,177.716,177.496,177.556,179.224,177.217,176.338,173.771,174.26,175.609,176.997,180.882,176.148,178.375,179.953,183.878,187.403,187.623,189.211,189.45,182.669,177.326,177.946,179.124,176.068,173.981,175.509,174.78,177.736,178.834,175.259,173.701,174.56,175.848,171.734,170.206,170.465,170.985,173.521,172.173,173.432,174.68,177.256,178.754,178.155,179.563,180.472,178.615,178.485,176.917,175.609,175.229,172.653,172.772,173.212,170.875,166.67,167.999,170.066,170.545,173.741,177.336,176.418,178.994,181.581,182.649,182.17,186.4,184.8,187.44,188.01,189.71,189.69,191.45,190.64,191.31,189.97,189.79,190.4,189.37,189.95,191.24,189.43,193.42,192.32,194.27,195.71,193.18,194.71,197.96,198.11,197.57,195.89,196.94,194.83,194.68,193.6,193.05,193.15,193.58,192.53],\"type\":\"scatter\"},{\"name\":\"20-Day MA\",\"x\":[\"2023-01-04T00:00:00\",\"2023-01-05T00:00:00\",\"2023-01-06T00:00:00\",\"2023-01-09T00:00:00\",\"2023-01-10T00:00:00\",\"2023-01-11T00:00:00\",\"2023-01-12T00:00:00\",\"2023-01-13T00:00:00\",\"2023-01-17T00:00:00\",\"2023-01-18T00:00:00\",\"2023-01-19T00:00:00\",\"2023-01-20T00:00:00\",\"2023-01-23T00:00:00\",\"2023-01-24T00:00:00\",\"2023-01-25T00:00:00\",\"2023-01-26T00:00:00\",\"2023-01-27T00:00:00\",\"2023-01-30T00:00:00\",\"2023-01-31T00:00:00\",\"2023-02-01T00:00:00\",\"2023-02-02T00:00:00\",\"2023-02-03T00:00:00\",\"2023-02-06T00:00:00\",\"2023-02-07T00:00:00\",\"2023-02-08T00:00:00\",\"2023-02-09T00:00:00\",\"2023-02-10T00:00:00\",\"2023-02-13T00:00:00\",\"2023-02-14T00:00:00\",\"2023-02-15T00:00:00\",\"2023-02-16T00:00:00\",\"2023-02-17T00:00:00\",\"2023-02-21T00:00:00\",\"2023-02-22T00:00:00\",\"2023-02-23T00:00:00\",\"2023-02-24T00:00:00\",\"2023-02-27T00:00:00\",\"2023-02-28T00:00:00\",\"2023-03-01T00:00:00\",\"2023-03-02T00:00:00\",\"2023-03-03T00:00:00\",\"2023-03-06T00:00:00\",\"2023-03-07T00:00:00\",\"2023-03-08T00:00:00\",\"2023-03-09T00:00:00\",\"2023-03-10T00:00:00\",\"2023-03-13T00:00:00\",\"2023-03-14T00:00:00\",\"2023-03-15T00:00:00\",\"2023-03-16T00:00:00\",\"2023-03-17T00:00:00\",\"2023-03-20T00:00:00\",\"2023-03-21T00:00:00\",\"2023-03-22T00:00:00\",\"2023-03-23T00:00:00\",\"2023-03-24T00:00:00\",\"2023-03-27T00:00:00\",\"2023-03-28T00:00:00\",\"2023-03-29T00:00:00\",\"2023-03-30T00:00:00\",\"2023-03-31T00:00:00\",\"2023-04-03T00:00:00\",\"2023-04-04T00:00:00\",\"2023-04-05T00:00:00\",\"2023-04-06T00:00:00\",\"2023-04-10T00:00:00\",\"2023-04-11T00:00:00\",\"2023-04-12T00:00:00\",\"2023-04-13T00:00:00\",\"2023-04-14T00:00:00\",\"2023-04-17T00:00:00\",\"2023-04-18T00:00:00\",\"2023-04-19T00:00:00\",\"2023-04-20T00:00:00\",\"2023-04-21T00:00:00\",\"2023-04-24T00:00:00\",\"2023-04-25T00:00:00\",\"2023-04-26T00:00:00\",\"2023-04-27T00:00:00\",\"2023-04-28T00:00:00\",\"2023-05-01T00:00:00\",\"2023-05-02T00:00:00\",\"2023-05-03T00:00:00\",\"2023-05-04T00:00:00\",\"2023-05-05T00:00:00\",\"2023-05-08T00:00:00\",\"2023-05-09T00:00:00\",\"2023-05-10T00:00:00\",\"2023-05-11T00:00:00\",\"2023-05-12T00:00:00\",\"2023-05-15T00:00:00\",\"2023-05-16T00:00:00\",\"2023-05-17T00:00:00\",\"2023-05-18T00:00:00\",\"2023-05-19T00:00:00\",\"2023-05-22T00:00:00\",\"2023-05-23T00:00:00\",\"2023-05-24T00:00:00\",\"2023-05-25T00:00:00\",\"2023-05-26T00:00:00\",\"2023-05-30T00:00:00\",\"2023-05-31T00:00:00\",\"2023-06-01T00:00:00\",\"2023-06-02T00:00:00\",\"2023-06-05T00:00:00\",\"2023-06-06T00:00:00\",\"2023-06-07T00:00:00\",\"2023-06-08T00:00:00\",\"2023-06-09T00:00:00\",\"2023-06-12T00:00:00\",\"2023-06-13T00:00:00\",\"2023-06-14T00:00:00\",\"2023-06-15T00:00:00\",\"2023-06-16T00:00:00\",\"2023-06-20T00:00:00\",\"2023-06-21T00:00:00\",\"2023-06-22T00:00:00\",\"2023-06-23T00:00:00\",\"2023-06-26T00:00:00\",\"2023-06-27T00:00:00\",\"2023-06-28T00:00:00\",\"2023-06-29T00:00:00\",\"2023-06-30T00:00:00\",\"2023-07-03T00:00:00\",\"2023-07-05T00:00:00\",\"2023-07-06T00:00:00\",\"2023-07-07T00:00:00\",\"2023-07-10T00:00:00\",\"2023-07-11T00:00:00\",\"2023-07-12T00:00:00\",\"2023-07-13T00:00:00\",\"2023-07-14T00:00:00\",\"2023-07-17T00:00:00\",\"2023-07-18T00:00:00\",\"2023-07-19T00:00:00\",\"2023-07-20T00:00:00\",\"2023-07-21T00:00:00\",\"2023-07-24T00:00:00\",\"2023-07-25T00:00:00\",\"2023-07-26T00:00:00\",\"2023-07-27T00:00:00\",\"2023-07-28T00:00:00\",\"2023-07-31T00:00:00\",\"2023-08-01T00:00:00\",\"2023-08-02T00:00:00\",\"2023-08-03T00:00:00\",\"2023-08-04T00:00:00\",\"2023-08-07T00:00:00\",\"2023-08-08T00:00:00\",\"2023-08-09T00:00:00\",\"2023-08-10T00:00:00\",\"2023-08-11T00:00:00\",\"2023-08-14T00:00:00\",\"2023-08-15T00:00:00\",\"2023-08-16T00:00:00\",\"2023-08-17T00:00:00\",\"2023-08-18T00:00:00\",\"2023-08-21T00:00:00\",\"2023-08-22T00:00:00\",\"2023-08-23T00:00:00\",\"2023-08-24T00:00:00\",\"2023-08-25T00:00:00\",\"2023-08-28T00:00:00\",\"2023-08-29T00:00:00\",\"2023-08-30T00:00:00\",\"2023-08-31T00:00:00\",\"2023-09-01T00:00:00\",\"2023-09-05T00:00:00\",\"2023-09-06T00:00:00\",\"2023-09-07T00:00:00\",\"2023-09-08T00:00:00\",\"2023-09-11T00:00:00\",\"2023-09-12T00:00:00\",\"2023-09-13T00:00:00\",\"2023-09-14T00:00:00\",\"2023-09-15T00:00:00\",\"2023-09-18T00:00:00\",\"2023-09-19T00:00:00\",\"2023-09-20T00:00:00\",\"2023-09-21T00:00:00\",\"2023-09-22T00:00:00\",\"2023-09-25T00:00:00\",\"2023-09-26T00:00:00\",\"2023-09-27T00:00:00\",\"2023-09-28T00:00:00\",\"2023-09-29T00:00:00\",\"2023-10-02T00:00:00\",\"2023-10-03T00:00:00\",\"2023-10-04T00:00:00\",\"2023-10-05T00:00:00\",\"2023-10-06T00:00:00\",\"2023-10-09T00:00:00\",\"2023-10-10T00:00:00\",\"2023-10-11T00:00:00\",\"2023-10-12T00:00:00\",\"2023-10-13T00:00:00\",\"2023-10-16T00:00:00\",\"2023-10-17T00:00:00\",\"2023-10-18T00:00:00\",\"2023-10-19T00:00:00\",\"2023-10-20T00:00:00\",\"2023-10-23T00:00:00\",\"2023-10-24T00:00:00\",\"2023-10-25T00:00:00\",\"2023-10-26T00:00:00\",\"2023-10-27T00:00:00\",\"2023-10-30T00:00:00\",\"2023-10-31T00:00:00\",\"2023-11-01T00:00:00\",\"2023-11-02T00:00:00\",\"2023-11-03T00:00:00\",\"2023-11-06T00:00:00\",\"2023-11-07T00:00:00\",\"2023-11-08T00:00:00\",\"2023-11-09T00:00:00\",\"2023-11-10T00:00:00\",\"2023-11-13T00:00:00\",\"2023-11-14T00:00:00\",\"2023-11-15T00:00:00\",\"2023-11-16T00:00:00\",\"2023-11-17T00:00:00\",\"2023-11-20T00:00:00\",\"2023-11-21T00:00:00\",\"2023-11-22T00:00:00\",\"2023-11-24T00:00:00\",\"2023-11-27T00:00:00\",\"2023-11-28T00:00:00\",\"2023-11-29T00:00:00\",\"2023-11-30T00:00:00\",\"2023-12-01T00:00:00\",\"2023-12-04T00:00:00\",\"2023-12-05T00:00:00\",\"2023-12-06T00:00:00\",\"2023-12-07T00:00:00\",\"2023-12-08T00:00:00\",\"2023-12-11T00:00:00\",\"2023-12-12T00:00:00\",\"2023-12-13T00:00:00\",\"2023-12-14T00:00:00\",\"2023-12-15T00:00:00\",\"2023-12-18T00:00:00\",\"2023-12-19T00:00:00\",\"2023-12-20T00:00:00\",\"2023-12-21T00:00:00\",\"2023-12-22T00:00:00\",\"2023-12-26T00:00:00\",\"2023-12-27T00:00:00\",\"2023-12-28T00:00:00\",\"2023-12-29T00:00:00\"],\"y\":[null,null,null,null,null,null,null,null,null,null,null,null,null,null,null,null,null,null,null,136.03665,137.25285000000002,138.71864999999997,139.818,141.03615,142.0898,142.95395,143.84055,144.8014,145.67125000000001,146.68345,147.612,148.3535,148.7312,149.05970000000002,149.44594999999998,149.59380000000002,149.70395,149.9344,149.99615,150.03109999999998,150.053,150.0314,150.03645,149.95955,149.90485,149.79829999999998,149.7714,149.7087,149.69824999999997,149.72415,149.7884,150.0299,150.5677,151.0119,151.4865,152.16080000000002,152.67675000000003,153.1867,153.95655,154.7757,155.4664,156.08089999999999,156.77955000000003,157.32184999999998,158.02249999999998,158.69625000000002,159.21065000000002,159.5846,160.21055,160.6767,161.1861,161.63775,162.05360000000002,162.49285,162.7961,163.04905,163.3224,163.62664999999998,164.00715,164.37165,164.6052,164.72320000000002,164.8138,164.91490000000002,165.3586,165.9298,166.4761,167.14615,167.554,167.93239999999997,168.2849,168.57565,168.8395,169.26985,169.7869,170.24060000000003,170.64035,171.05455,171.2945,171.59295,171.9891,172.43505,173.07695,173.84435,174.156,174.4527,174.76625,175.128,175.4995,176.05900000000003,176.6195,177.21189999999999,177.87615,178.36835000000002,178.8595,179.3462,180.11615,180.8562,181.4686,182.0984,182.6943,183.30965,184.0018,184.57580000000002,185.16175,185.79005,186.4313,186.83225,187.1873,187.4855,187.84605000000002,188.18215,188.5801,189.0194,189.5226,189.9799,190.22625,190.52894999999998,190.9453,191.26645000000002,191.46445,191.77564999999998,191.89929999999998,192.0561,192.1184,192.0865,191.65315,191.16645,190.75355,190.1761,189.54924999999997,188.91795,188.20544999999998,187.4056,186.49345,185.5512,184.69275,183.86135000000002,183.05599999999998,182.401,181.5731,180.7264,179.92770000000002,179.3674,179.13420000000002,178.9823,179.36759999999998,179.9214,180.08880000000002,180.0693,180.0918,180.1702,180.0124,179.8506,179.80915,179.8596,180.03339999999997,180.19465,180.10774999999998,179.74869999999999,179.6693,179.54295,179.132,178.44840000000002,177.6015,176.7696,175.98510000000002,175.12125,174.6594,174.5271,174.49259999999998,174.4741,174.57845,174.85755,175.1057,175.29745,175.3349,175.23905,175.25655,175.33295,175.2376,175.0838,175.1577,175.19115,175.00140000000002,174.8521,174.67935,174.59795,174.6134,174.7462,174.70430000000002,174.7163,174.8876,175.0419,175.1268,175.51605,175.83180000000002,176.35795,176.978,177.70205,178.5539,179.4878,180.3592,181.38094999999998,182.54595,183.6355,184.6522,185.59345000000002,186.4039,187.0991,187.7497,188.471,189.00795,189.589,190.26600000000002,190.605,191.10049999999998,191.62650000000002,192.13150000000002,192.5245,192.8345,193.109,193.31850000000003,193.48700000000002,193.6685,193.8315,193.969,194.17950000000002,194.3085],\"type\":\"scatter\"},{\"name\":\"50-Day MA\",\"x\":[\"2023-01-04T00:00:00\",\"2023-01-05T00:00:00\",\"2023-01-06T00:00:00\",\"2023-01-09T00:00:00\",\"2023-01-10T00:00:00\",\"2023-01-11T00:00:00\",\"2023-01-12T00:00:00\",\"2023-01-13T00:00:00\",\"2023-01-17T00:00:00\",\"2023-01-18T00:00:00\",\"2023-01-19T00:00:00\",\"2023-01-20T00:00:00\",\"2023-01-23T00:00:00\",\"2023-01-24T00:00:00\",\"2023-01-25T00:00:00\",\"2023-01-26T00:00:00\",\"2023-01-27T00:00:00\",\"2023-01-30T00:00:00\",\"2023-01-31T00:00:00\",\"2023-02-01T00:00:00\",\"2023-02-02T00:00:00\",\"2023-02-03T00:00:00\",\"2023-02-06T00:00:00\",\"2023-02-07T00:00:00\",\"2023-02-08T00:00:00\",\"2023-02-09T00:00:00\",\"2023-02-10T00:00:00\",\"2023-02-13T00:00:00\",\"2023-02-14T00:00:00\",\"2023-02-15T00:00:00\",\"2023-02-16T00:00:00\",\"2023-02-17T00:00:00\",\"2023-02-21T00:00:00\",\"2023-02-22T00:00:00\",\"2023-02-23T00:00:00\",\"2023-02-24T00:00:00\",\"2023-02-27T00:00:00\",\"2023-02-28T00:00:00\",\"2023-03-01T00:00:00\",\"2023-03-02T00:00:00\",\"2023-03-03T00:00:00\",\"2023-03-06T00:00:00\",\"2023-03-07T00:00:00\",\"2023-03-08T00:00:00\",\"2023-03-09T00:00:00\",\"2023-03-10T00:00:00\",\"2023-03-13T00:00:00\",\"2023-03-14T00:00:00\",\"2023-03-15T00:00:00\",\"2023-03-16T00:00:00\",\"2023-03-17T00:00:00\",\"2023-03-20T00:00:00\",\"2023-03-21T00:00:00\",\"2023-03-22T00:00:00\",\"2023-03-23T00:00:00\",\"2023-03-24T00:00:00\",\"2023-03-27T00:00:00\",\"2023-03-28T00:00:00\",\"2023-03-29T00:00:00\",\"2023-03-30T00:00:00\",\"2023-03-31T00:00:00\",\"2023-04-03T00:00:00\",\"2023-04-04T00:00:00\",\"2023-04-05T00:00:00\",\"2023-04-06T00:00:00\",\"2023-04-10T00:00:00\",\"2023-04-11T00:00:00\",\"2023-04-12T00:00:00\",\"2023-04-13T00:00:00\",\"2023-04-14T00:00:00\",\"2023-04-17T00:00:00\",\"2023-04-18T00:00:00\",\"2023-04-19T00:00:00\",\"2023-04-20T00:00:00\",\"2023-04-21T00:00:00\",\"2023-04-24T00:00:00\",\"2023-04-25T00:00:00\",\"2023-04-26T00:00:00\",\"2023-04-27T00:00:00\",\"2023-04-28T00:00:00\",\"2023-05-01T00:00:00\",\"2023-05-02T00:00:00\",\"2023-05-03T00:00:00\",\"2023-05-04T00:00:00\",\"2023-05-05T00:00:00\",\"2023-05-08T00:00:00\",\"2023-05-09T00:00:00\",\"2023-05-10T00:00:00\",\"2023-05-11T00:00:00\",\"2023-05-12T00:00:00\",\"2023-05-15T00:00:00\",\"2023-05-16T00:00:00\",\"2023-05-17T00:00:00\",\"2023-05-18T00:00:00\",\"2023-05-19T00:00:00\",\"2023-05-22T00:00:00\",\"2023-05-23T00:00:00\",\"2023-05-24T00:00:00\",\"2023-05-25T00:00:00\",\"2023-05-26T00:00:00\",\"2023-05-30T00:00:00\",\"2023-05-31T00:00:00\",\"2023-06-01T00:00:00\",\"2023-06-02T00:00:00\",\"2023-06-05T00:00:00\",\"2023-06-06T00:00:00\",\"2023-06-07T00:00:00\",\"2023-06-08T00:00:00\",\"2023-06-09T00:00:00\",\"2023-06-12T00:00:00\",\"2023-06-13T00:00:00\",\"2023-06-14T00:00:00\",\"2023-06-15T00:00:00\",\"2023-06-16T00:00:00\",\"2023-06-20T00:00:00\",\"2023-06-21T00:00:00\",\"2023-06-22T00:00:00\",\"2023-06-23T00:00:00\",\"2023-06-26T00:00:00\",\"2023-06-27T00:00:00\",\"2023-06-28T00:00:00\",\"2023-06-29T00:00:00\",\"2023-06-30T00:00:00\",\"2023-07-03T00:00:00\",\"2023-07-05T00:00:00\",\"2023-07-06T00:00:00\",\"2023-07-07T00:00:00\",\"2023-07-10T00:00:00\",\"2023-07-11T00:00:00\",\"2023-07-12T00:00:00\",\"2023-07-13T00:00:00\",\"2023-07-14T00:00:00\",\"2023-07-17T00:00:00\",\"2023-07-18T00:00:00\",\"2023-07-19T00:00:00\",\"2023-07-20T00:00:00\",\"2023-07-21T00:00:00\",\"2023-07-24T00:00:00\",\"2023-07-25T00:00:00\",\"2023-07-26T00:00:00\",\"2023-07-27T00:00:00\",\"2023-07-28T00:00:00\",\"2023-07-31T00:00:00\",\"2023-08-01T00:00:00\",\"2023-08-02T00:00:00\",\"2023-08-03T00:00:00\",\"2023-08-04T00:00:00\",\"2023-08-07T00:00:00\",\"2023-08-08T00:00:00\",\"2023-08-09T00:00:00\",\"2023-08-10T00:00:00\",\"2023-08-11T00:00:00\",\"2023-08-14T00:00:00\",\"2023-08-15T00:00:00\",\"2023-08-16T00:00:00\",\"2023-08-17T00:00:00\",\"2023-08-18T00:00:00\",\"2023-08-21T00:00:00\",\"2023-08-22T00:00:00\",\"2023-08-23T00:00:00\",\"2023-08-24T00:00:00\",\"2023-08-25T00:00:00\",\"2023-08-28T00:00:00\",\"2023-08-29T00:00:00\",\"2023-08-30T00:00:00\",\"2023-08-31T00:00:00\",\"2023-09-01T00:00:00\",\"2023-09-05T00:00:00\",\"2023-09-06T00:00:00\",\"2023-09-07T00:00:00\",\"2023-09-08T00:00:00\",\"2023-09-11T00:00:00\",\"2023-09-12T00:00:00\",\"2023-09-13T00:00:00\",\"2023-09-14T00:00:00\",\"2023-09-15T00:00:00\",\"2023-09-18T00:00:00\",\"2023-09-19T00:00:00\",\"2023-09-20T00:00:00\",\"2023-09-21T00:00:00\",\"2023-09-22T00:00:00\",\"2023-09-25T00:00:00\",\"2023-09-26T00:00:00\",\"2023-09-27T00:00:00\",\"2023-09-28T00:00:00\",\"2023-09-29T00:00:00\",\"2023-10-02T00:00:00\",\"2023-10-03T00:00:00\",\"2023-10-04T00:00:00\",\"2023-10-05T00:00:00\",\"2023-10-06T00:00:00\",\"2023-10-09T00:00:00\",\"2023-10-10T00:00:00\",\"2023-10-11T00:00:00\",\"2023-10-12T00:00:00\",\"2023-10-13T00:00:00\",\"2023-10-16T00:00:00\",\"2023-10-17T00:00:00\",\"2023-10-18T00:00:00\",\"2023-10-19T00:00:00\",\"2023-10-20T00:00:00\",\"2023-10-23T00:00:00\",\"2023-10-24T00:00:00\",\"2023-10-25T00:00:00\",\"2023-10-26T00:00:00\",\"2023-10-27T00:00:00\",\"2023-10-30T00:00:00\",\"2023-10-31T00:00:00\",\"2023-11-01T00:00:00\",\"2023-11-02T00:00:00\",\"2023-11-03T00:00:00\",\"2023-11-06T00:00:00\",\"2023-11-07T00:00:00\",\"2023-11-08T00:00:00\",\"2023-11-09T00:00:00\",\"2023-11-10T00:00:00\",\"2023-11-13T00:00:00\",\"2023-11-14T00:00:00\",\"2023-11-15T00:00:00\",\"2023-11-16T00:00:00\",\"2023-11-17T00:00:00\",\"2023-11-20T00:00:00\",\"2023-11-21T00:00:00\",\"2023-11-22T00:00:00\",\"2023-11-24T00:00:00\",\"2023-11-27T00:00:00\",\"2023-11-28T00:00:00\",\"2023-11-29T00:00:00\",\"2023-11-30T00:00:00\",\"2023-12-01T00:00:00\",\"2023-12-04T00:00:00\",\"2023-12-05T00:00:00\",\"2023-12-06T00:00:00\",\"2023-12-07T00:00:00\",\"2023-12-08T00:00:00\",\"2023-12-11T00:00:00\",\"2023-12-12T00:00:00\",\"2023-12-13T00:00:00\",\"2023-12-14T00:00:00\",\"2023-12-15T00:00:00\",\"2023-12-18T00:00:00\",\"2023-12-19T00:00:00\",\"2023-12-20T00:00:00\",\"2023-12-21T00:00:00\",\"2023-12-22T00:00:00\",\"2023-12-26T00:00:00\",\"2023-12-27T00:00:00\",\"2023-12-28T00:00:00\",\"2023-12-29T00:00:00\"],\"y\":[null,null,null,null,null,null,null,null,null,null,null,null,null,null,null,null,null,null,null,null,null,null,null,null,null,null,null,null,null,null,null,null,null,null,null,null,null,null,null,null,null,null,null,null,null,null,null,null,null,144.71068,145.285,145.93377999999998,146.5285,147.0838,147.6495,148.1866,148.68606,149.14610000000002,149.64482,150.18974,150.78406,151.35196,151.84466,152.27186,152.73033999999998,153.09464,153.39526,153.74022000000002,154.16827999999998,154.5667,154.85829999999999,155.10142,155.42274,155.66647999999998,155.93202,156.22464,156.4788,156.6762,156.97917999999999,157.26502,157.58134,157.89984,158.2777,158.61394,159.0954,159.62904,160.10412,160.62492,161.19142000000002,161.72722000000002,162.15106000000003,162.51912000000002,162.94396,163.3906,163.88484,164.40156,164.82638,165.21454000000003,165.61768,166.01254,166.46162,166.86190000000002,167.2814,167.74692000000002,168.1632,168.54579999999999,168.93991999999997,169.40144,169.8086,170.24054,170.6123,170.97152000000003,171.38260000000002,171.80920000000003,172.21964,172.66153999999997,173.18858,173.72317999999999,174.1209,174.58122,175.06490000000002,175.53065999999998,176.06068,176.5801,177.10946,177.6422,178.18347999999997,178.68367999999998,179.08066,179.48608000000002,179.90864000000002,180.35510000000002,180.88911999999996,181.451,181.88523999999998,182.28158,182.68863999999996,183.0763,183.47742,183.91484,184.33671999999999,184.81066,185.28459999999998,185.69459999999998,186.04206000000002,186.38056,186.5886,186.72843999999998,186.86428,186.91934,186.9327,186.94825999999998,186.94052,186.8755,186.82022,186.72098000000003,186.65924000000004,186.56964,186.50002,186.45164,186.31815999999998,186.21645999999998,186.10522,186.09421999999998,186.15194,186.235,186.28918000000002,186.35451999999998,186.31235999999998,186.1077,185.8917,185.69248,185.34475999999998,184.98542,184.67918,184.34879999999998,184.10008000000002,183.91459999999998,183.66819999999998,183.35692,183.04746,182.76077999999998,182.32598000000002,181.86581999999999,181.38350000000003,180.95088000000004,180.59272,180.19144,179.798,179.41196,179.10296000000002,178.77185999999998,178.41642,178.10600000000002,177.8741,177.63317999999998,177.57278000000002,177.54364,177.46940000000004,177.41966,177.3228,177.22711999999999,177.10688000000002,176.98004,176.78668000000002,176.67124,176.58735999999996,176.48608000000002,176.42095999999998,176.35004,176.35544000000002,176.36782000000002,176.40038,176.37580000000003,176.27114,176.24668000000003,176.15846,176.11826000000002,176.22508000000002,176.47276,176.70764,176.95416,177.24560000000002,177.59217999999998,177.88139999999999,178.1816,178.43487999999996,178.6456,178.93942000000004,179.2902,179.5876,179.93904000000003,180.35076,180.83203999999998,181.33694,181.78084,182.20462,182.72036,183.21392,183.67172000000002,184.0444,184.40812000000003,184.74162,185.04396,185.30651999999998,185.59522,185.88852,186.22178,186.5602],\"type\":\"scatter\"}],                        {\"template\":{\"data\":{\"histogram2dcontour\":[{\"type\":\"histogram2dcontour\",\"colorbar\":{\"outlinewidth\":0,\"ticks\":\"\"},\"colorscale\":[[0.0,\"#0d0887\"],[0.1111111111111111,\"#46039f\"],[0.2222222222222222,\"#7201a8\"],[0.3333333333333333,\"#9c179e\"],[0.4444444444444444,\"#bd3786\"],[0.5555555555555556,\"#d8576b\"],[0.6666666666666666,\"#ed7953\"],[0.7777777777777778,\"#fb9f3a\"],[0.8888888888888888,\"#fdca26\"],[1.0,\"#f0f921\"]]}],\"choropleth\":[{\"type\":\"choropleth\",\"colorbar\":{\"outlinewidth\":0,\"ticks\":\"\"}}],\"histogram2d\":[{\"type\":\"histogram2d\",\"colorbar\":{\"outlinewidth\":0,\"ticks\":\"\"},\"colorscale\":[[0.0,\"#0d0887\"],[0.1111111111111111,\"#46039f\"],[0.2222222222222222,\"#7201a8\"],[0.3333333333333333,\"#9c179e\"],[0.4444444444444444,\"#bd3786\"],[0.5555555555555556,\"#d8576b\"],[0.6666666666666666,\"#ed7953\"],[0.7777777777777778,\"#fb9f3a\"],[0.8888888888888888,\"#fdca26\"],[1.0,\"#f0f921\"]]}],\"heatmap\":[{\"type\":\"heatmap\",\"colorbar\":{\"outlinewidth\":0,\"ticks\":\"\"},\"colorscale\":[[0.0,\"#0d0887\"],[0.1111111111111111,\"#46039f\"],[0.2222222222222222,\"#7201a8\"],[0.3333333333333333,\"#9c179e\"],[0.4444444444444444,\"#bd3786\"],[0.5555555555555556,\"#d8576b\"],[0.6666666666666666,\"#ed7953\"],[0.7777777777777778,\"#fb9f3a\"],[0.8888888888888888,\"#fdca26\"],[1.0,\"#f0f921\"]]}],\"heatmapgl\":[{\"type\":\"heatmapgl\",\"colorbar\":{\"outlinewidth\":0,\"ticks\":\"\"},\"colorscale\":[[0.0,\"#0d0887\"],[0.1111111111111111,\"#46039f\"],[0.2222222222222222,\"#7201a8\"],[0.3333333333333333,\"#9c179e\"],[0.4444444444444444,\"#bd3786\"],[0.5555555555555556,\"#d8576b\"],[0.6666666666666666,\"#ed7953\"],[0.7777777777777778,\"#fb9f3a\"],[0.8888888888888888,\"#fdca26\"],[1.0,\"#f0f921\"]]}],\"contourcarpet\":[{\"type\":\"contourcarpet\",\"colorbar\":{\"outlinewidth\":0,\"ticks\":\"\"}}],\"contour\":[{\"type\":\"contour\",\"colorbar\":{\"outlinewidth\":0,\"ticks\":\"\"},\"colorscale\":[[0.0,\"#0d0887\"],[0.1111111111111111,\"#46039f\"],[0.2222222222222222,\"#7201a8\"],[0.3333333333333333,\"#9c179e\"],[0.4444444444444444,\"#bd3786\"],[0.5555555555555556,\"#d8576b\"],[0.6666666666666666,\"#ed7953\"],[0.7777777777777778,\"#fb9f3a\"],[0.8888888888888888,\"#fdca26\"],[1.0,\"#f0f921\"]]}],\"surface\":[{\"type\":\"surface\",\"colorbar\":{\"outlinewidth\":0,\"ticks\":\"\"},\"colorscale\":[[0.0,\"#0d0887\"],[0.1111111111111111,\"#46039f\"],[0.2222222222222222,\"#7201a8\"],[0.3333333333333333,\"#9c179e\"],[0.4444444444444444,\"#bd3786\"],[0.5555555555555556,\"#d8576b\"],[0.6666666666666666,\"#ed7953\"],[0.7777777777777778,\"#fb9f3a\"],[0.8888888888888888,\"#fdca26\"],[1.0,\"#f0f921\"]]}],\"mesh3d\":[{\"type\":\"mesh3d\",\"colorbar\":{\"outlinewidth\":0,\"ticks\":\"\"}}],\"scatter\":[{\"fillpattern\":{\"fillmode\":\"overlay\",\"size\":10,\"solidity\":0.2},\"type\":\"scatter\"}],\"parcoords\":[{\"type\":\"parcoords\",\"line\":{\"colorbar\":{\"outlinewidth\":0,\"ticks\":\"\"}}}],\"scatterpolargl\":[{\"type\":\"scatterpolargl\",\"marker\":{\"colorbar\":{\"outlinewidth\":0,\"ticks\":\"\"}}}],\"bar\":[{\"error_x\":{\"color\":\"#2a3f5f\"},\"error_y\":{\"color\":\"#2a3f5f\"},\"marker\":{\"line\":{\"color\":\"#E5ECF6\",\"width\":0.5},\"pattern\":{\"fillmode\":\"overlay\",\"size\":10,\"solidity\":0.2}},\"type\":\"bar\"}],\"scattergeo\":[{\"type\":\"scattergeo\",\"marker\":{\"colorbar\":{\"outlinewidth\":0,\"ticks\":\"\"}}}],\"scatterpolar\":[{\"type\":\"scatterpolar\",\"marker\":{\"colorbar\":{\"outlinewidth\":0,\"ticks\":\"\"}}}],\"histogram\":[{\"marker\":{\"pattern\":{\"fillmode\":\"overlay\",\"size\":10,\"solidity\":0.2}},\"type\":\"histogram\"}],\"scattergl\":[{\"type\":\"scattergl\",\"marker\":{\"colorbar\":{\"outlinewidth\":0,\"ticks\":\"\"}}}],\"scatter3d\":[{\"type\":\"scatter3d\",\"line\":{\"colorbar\":{\"outlinewidth\":0,\"ticks\":\"\"}},\"marker\":{\"colorbar\":{\"outlinewidth\":0,\"ticks\":\"\"}}}],\"scattermapbox\":[{\"type\":\"scattermapbox\",\"marker\":{\"colorbar\":{\"outlinewidth\":0,\"ticks\":\"\"}}}],\"scatterternary\":[{\"type\":\"scatterternary\",\"marker\":{\"colorbar\":{\"outlinewidth\":0,\"ticks\":\"\"}}}],\"scattercarpet\":[{\"type\":\"scattercarpet\",\"marker\":{\"colorbar\":{\"outlinewidth\":0,\"ticks\":\"\"}}}],\"carpet\":[{\"aaxis\":{\"endlinecolor\":\"#2a3f5f\",\"gridcolor\":\"white\",\"linecolor\":\"white\",\"minorgridcolor\":\"white\",\"startlinecolor\":\"#2a3f5f\"},\"baxis\":{\"endlinecolor\":\"#2a3f5f\",\"gridcolor\":\"white\",\"linecolor\":\"white\",\"minorgridcolor\":\"white\",\"startlinecolor\":\"#2a3f5f\"},\"type\":\"carpet\"}],\"table\":[{\"cells\":{\"fill\":{\"color\":\"#EBF0F8\"},\"line\":{\"color\":\"white\"}},\"header\":{\"fill\":{\"color\":\"#C8D4E3\"},\"line\":{\"color\":\"white\"}},\"type\":\"table\"}],\"barpolar\":[{\"marker\":{\"line\":{\"color\":\"#E5ECF6\",\"width\":0.5},\"pattern\":{\"fillmode\":\"overlay\",\"size\":10,\"solidity\":0.2}},\"type\":\"barpolar\"}],\"pie\":[{\"automargin\":true,\"type\":\"pie\"}]},\"layout\":{\"autotypenumbers\":\"strict\",\"colorway\":[\"#636efa\",\"#EF553B\",\"#00cc96\",\"#ab63fa\",\"#FFA15A\",\"#19d3f3\",\"#FF6692\",\"#B6E880\",\"#FF97FF\",\"#FECB52\"],\"font\":{\"color\":\"#2a3f5f\"},\"hovermode\":\"closest\",\"hoverlabel\":{\"align\":\"left\"},\"paper_bgcolor\":\"white\",\"plot_bgcolor\":\"#E5ECF6\",\"polar\":{\"bgcolor\":\"#E5ECF6\",\"angularaxis\":{\"gridcolor\":\"white\",\"linecolor\":\"white\",\"ticks\":\"\"},\"radialaxis\":{\"gridcolor\":\"white\",\"linecolor\":\"white\",\"ticks\":\"\"}},\"ternary\":{\"bgcolor\":\"#E5ECF6\",\"aaxis\":{\"gridcolor\":\"white\",\"linecolor\":\"white\",\"ticks\":\"\"},\"baxis\":{\"gridcolor\":\"white\",\"linecolor\":\"white\",\"ticks\":\"\"},\"caxis\":{\"gridcolor\":\"white\",\"linecolor\":\"white\",\"ticks\":\"\"}},\"coloraxis\":{\"colorbar\":{\"outlinewidth\":0,\"ticks\":\"\"}},\"colorscale\":{\"sequential\":[[0.0,\"#0d0887\"],[0.1111111111111111,\"#46039f\"],[0.2222222222222222,\"#7201a8\"],[0.3333333333333333,\"#9c179e\"],[0.4444444444444444,\"#bd3786\"],[0.5555555555555556,\"#d8576b\"],[0.6666666666666666,\"#ed7953\"],[0.7777777777777778,\"#fb9f3a\"],[0.8888888888888888,\"#fdca26\"],[1.0,\"#f0f921\"]],\"sequentialminus\":[[0.0,\"#0d0887\"],[0.1111111111111111,\"#46039f\"],[0.2222222222222222,\"#7201a8\"],[0.3333333333333333,\"#9c179e\"],[0.4444444444444444,\"#bd3786\"],[0.5555555555555556,\"#d8576b\"],[0.6666666666666666,\"#ed7953\"],[0.7777777777777778,\"#fb9f3a\"],[0.8888888888888888,\"#fdca26\"],[1.0,\"#f0f921\"]],\"diverging\":[[0,\"#8e0152\"],[0.1,\"#c51b7d\"],[0.2,\"#de77ae\"],[0.3,\"#f1b6da\"],[0.4,\"#fde0ef\"],[0.5,\"#f7f7f7\"],[0.6,\"#e6f5d0\"],[0.7,\"#b8e186\"],[0.8,\"#7fbc41\"],[0.9,\"#4d9221\"],[1,\"#276419\"]]},\"xaxis\":{\"gridcolor\":\"white\",\"linecolor\":\"white\",\"ticks\":\"\",\"title\":{\"standoff\":15},\"zerolinecolor\":\"white\",\"automargin\":true,\"zerolinewidth\":2},\"yaxis\":{\"gridcolor\":\"white\",\"linecolor\":\"white\",\"ticks\":\"\",\"title\":{\"standoff\":15},\"zerolinecolor\":\"white\",\"automargin\":true,\"zerolinewidth\":2},\"scene\":{\"xaxis\":{\"backgroundcolor\":\"#E5ECF6\",\"gridcolor\":\"white\",\"linecolor\":\"white\",\"showbackground\":true,\"ticks\":\"\",\"zerolinecolor\":\"white\",\"gridwidth\":2},\"yaxis\":{\"backgroundcolor\":\"#E5ECF6\",\"gridcolor\":\"white\",\"linecolor\":\"white\",\"showbackground\":true,\"ticks\":\"\",\"zerolinecolor\":\"white\",\"gridwidth\":2},\"zaxis\":{\"backgroundcolor\":\"#E5ECF6\",\"gridcolor\":\"white\",\"linecolor\":\"white\",\"showbackground\":true,\"ticks\":\"\",\"zerolinecolor\":\"white\",\"gridwidth\":2}},\"shapedefaults\":{\"line\":{\"color\":\"#2a3f5f\"}},\"annotationdefaults\":{\"arrowcolor\":\"#2a3f5f\",\"arrowhead\":0,\"arrowwidth\":1},\"geo\":{\"bgcolor\":\"white\",\"landcolor\":\"#E5ECF6\",\"subunitcolor\":\"white\",\"showland\":true,\"showlakes\":true,\"lakecolor\":\"white\"},\"title\":{\"x\":0.05},\"mapbox\":{\"style\":\"light\"}}},\"title\":{\"text\":\"Moving Averages and Close Price\"},\"xaxis\":{\"title\":{\"text\":\"Date\"}},\"yaxis\":{\"title\":{\"text\":\"Price\"}}},                        {\"responsive\": true}                    ).then(function(){\n",
       "                            \n",
       "var gd = document.getElementById('5d5a68c8-e7fb-4bcd-b4b3-ba8ec246bada');\n",
       "var x = new MutationObserver(function (mutations, observer) {{\n",
       "        var display = window.getComputedStyle(gd).display;\n",
       "        if (!display || display === 'none') {{\n",
       "            console.log([gd, 'removed!']);\n",
       "            Plotly.purge(gd);\n",
       "            observer.disconnect();\n",
       "        }}\n",
       "}});\n",
       "\n",
       "// Listen for the removal of the full notebook cells\n",
       "var notebookContainer = gd.closest('#notebook-container');\n",
       "if (notebookContainer) {{\n",
       "    x.observe(notebookContainer, {childList: true});\n",
       "}}\n",
       "\n",
       "// Listen for the clearing of the current output cell\n",
       "var outputEl = gd.closest('.output');\n",
       "if (outputEl) {{\n",
       "    x.observe(outputEl, {childList: true});\n",
       "}}\n",
       "\n",
       "                        })                };                });            </script>        </div>"
      ]
     },
     "metadata": {},
     "output_type": "display_data"
    }
   ],
   "source": [
    "import plotly.graph_objects as go\n",
    "# Calculate moving averages\n",
    "df['MA20'] = df['close price'].rolling(window=20).mean()\n",
    "df['MA50'] = df['close price'].rolling(window=50).mean()\n",
    "\n",
    "# Plot\n",
    "fig = go.Figure()\n",
    "fig.add_trace(go.Scatter(x=df['Date'], y=df['close price'], name='Close Price'))\n",
    "fig.add_trace(go.Scatter(x=df['Date'], y=df['MA20'], name='20-Day MA'))\n",
    "fig.add_trace(go.Scatter(x=df['Date'], y=df['MA50'], name='50-Day MA'))\n",
    "fig.update_layout(title='Moving Averages and Close Price', xaxis_title='Date', yaxis_title='Price')\n",
    "fig.show()\n"
   ]
  },
  {
   "cell_type": "markdown",
   "id": "aad69cb4-acd6-4a55-9708-52ad64bfa26f",
   "metadata": {},
   "source": [
    "# Bollinger Bands\n",
    "\n",
    "Bollinger Bands are a type of price envelope developed by John Bollinger in the 1980s. They are volatility bands placed above and below a moving average. Volatility is based on the standard deviation, which changes as volatility increases and decreases. The bands automatically widen when volatility increases and narrow when volatility decreases.\n",
    "\n"
   ]
  },
  {
   "cell_type": "code",
   "execution_count": 50,
   "id": "5add521e-5e43-4b64-b519-c31b89ef7924",
   "metadata": {
    "tags": []
   },
   "outputs": [
    {
     "data": {
      "application/vnd.plotly.v1+json": {
       "config": {
        "plotlyServerURL": "https://plot.ly"
       },
       "data": [
        {
         "name": "Close Price",
         "type": "scatter",
         "x": [
          "2023-01-04T00:00:00",
          "2023-01-05T00:00:00",
          "2023-01-06T00:00:00",
          "2023-01-09T00:00:00",
          "2023-01-10T00:00:00",
          "2023-01-11T00:00:00",
          "2023-01-12T00:00:00",
          "2023-01-13T00:00:00",
          "2023-01-17T00:00:00",
          "2023-01-18T00:00:00",
          "2023-01-19T00:00:00",
          "2023-01-20T00:00:00",
          "2023-01-23T00:00:00",
          "2023-01-24T00:00:00",
          "2023-01-25T00:00:00",
          "2023-01-26T00:00:00",
          "2023-01-27T00:00:00",
          "2023-01-30T00:00:00",
          "2023-01-31T00:00:00",
          "2023-02-01T00:00:00",
          "2023-02-02T00:00:00",
          "2023-02-03T00:00:00",
          "2023-02-06T00:00:00",
          "2023-02-07T00:00:00",
          "2023-02-08T00:00:00",
          "2023-02-09T00:00:00",
          "2023-02-10T00:00:00",
          "2023-02-13T00:00:00",
          "2023-02-14T00:00:00",
          "2023-02-15T00:00:00",
          "2023-02-16T00:00:00",
          "2023-02-17T00:00:00",
          "2023-02-21T00:00:00",
          "2023-02-22T00:00:00",
          "2023-02-23T00:00:00",
          "2023-02-24T00:00:00",
          "2023-02-27T00:00:00",
          "2023-02-28T00:00:00",
          "2023-03-01T00:00:00",
          "2023-03-02T00:00:00",
          "2023-03-03T00:00:00",
          "2023-03-06T00:00:00",
          "2023-03-07T00:00:00",
          "2023-03-08T00:00:00",
          "2023-03-09T00:00:00",
          "2023-03-10T00:00:00",
          "2023-03-13T00:00:00",
          "2023-03-14T00:00:00",
          "2023-03-15T00:00:00",
          "2023-03-16T00:00:00",
          "2023-03-17T00:00:00",
          "2023-03-20T00:00:00",
          "2023-03-21T00:00:00",
          "2023-03-22T00:00:00",
          "2023-03-23T00:00:00",
          "2023-03-24T00:00:00",
          "2023-03-27T00:00:00",
          "2023-03-28T00:00:00",
          "2023-03-29T00:00:00",
          "2023-03-30T00:00:00",
          "2023-03-31T00:00:00",
          "2023-04-03T00:00:00",
          "2023-04-04T00:00:00",
          "2023-04-05T00:00:00",
          "2023-04-06T00:00:00",
          "2023-04-10T00:00:00",
          "2023-04-11T00:00:00",
          "2023-04-12T00:00:00",
          "2023-04-13T00:00:00",
          "2023-04-14T00:00:00",
          "2023-04-17T00:00:00",
          "2023-04-18T00:00:00",
          "2023-04-19T00:00:00",
          "2023-04-20T00:00:00",
          "2023-04-21T00:00:00",
          "2023-04-24T00:00:00",
          "2023-04-25T00:00:00",
          "2023-04-26T00:00:00",
          "2023-04-27T00:00:00",
          "2023-04-28T00:00:00",
          "2023-05-01T00:00:00",
          "2023-05-02T00:00:00",
          "2023-05-03T00:00:00",
          "2023-05-04T00:00:00",
          "2023-05-05T00:00:00",
          "2023-05-08T00:00:00",
          "2023-05-09T00:00:00",
          "2023-05-10T00:00:00",
          "2023-05-11T00:00:00",
          "2023-05-12T00:00:00",
          "2023-05-15T00:00:00",
          "2023-05-16T00:00:00",
          "2023-05-17T00:00:00",
          "2023-05-18T00:00:00",
          "2023-05-19T00:00:00",
          "2023-05-22T00:00:00",
          "2023-05-23T00:00:00",
          "2023-05-24T00:00:00",
          "2023-05-25T00:00:00",
          "2023-05-26T00:00:00",
          "2023-05-30T00:00:00",
          "2023-05-31T00:00:00",
          "2023-06-01T00:00:00",
          "2023-06-02T00:00:00",
          "2023-06-05T00:00:00",
          "2023-06-06T00:00:00",
          "2023-06-07T00:00:00",
          "2023-06-08T00:00:00",
          "2023-06-09T00:00:00",
          "2023-06-12T00:00:00",
          "2023-06-13T00:00:00",
          "2023-06-14T00:00:00",
          "2023-06-15T00:00:00",
          "2023-06-16T00:00:00",
          "2023-06-20T00:00:00",
          "2023-06-21T00:00:00",
          "2023-06-22T00:00:00",
          "2023-06-23T00:00:00",
          "2023-06-26T00:00:00",
          "2023-06-27T00:00:00",
          "2023-06-28T00:00:00",
          "2023-06-29T00:00:00",
          "2023-06-30T00:00:00",
          "2023-07-03T00:00:00",
          "2023-07-05T00:00:00",
          "2023-07-06T00:00:00",
          "2023-07-07T00:00:00",
          "2023-07-10T00:00:00",
          "2023-07-11T00:00:00",
          "2023-07-12T00:00:00",
          "2023-07-13T00:00:00",
          "2023-07-14T00:00:00",
          "2023-07-17T00:00:00",
          "2023-07-18T00:00:00",
          "2023-07-19T00:00:00",
          "2023-07-20T00:00:00",
          "2023-07-21T00:00:00",
          "2023-07-24T00:00:00",
          "2023-07-25T00:00:00",
          "2023-07-26T00:00:00",
          "2023-07-27T00:00:00",
          "2023-07-28T00:00:00",
          "2023-07-31T00:00:00",
          "2023-08-01T00:00:00",
          "2023-08-02T00:00:00",
          "2023-08-03T00:00:00",
          "2023-08-04T00:00:00",
          "2023-08-07T00:00:00",
          "2023-08-08T00:00:00",
          "2023-08-09T00:00:00",
          "2023-08-10T00:00:00",
          "2023-08-11T00:00:00",
          "2023-08-14T00:00:00",
          "2023-08-15T00:00:00",
          "2023-08-16T00:00:00",
          "2023-08-17T00:00:00",
          "2023-08-18T00:00:00",
          "2023-08-21T00:00:00",
          "2023-08-22T00:00:00",
          "2023-08-23T00:00:00",
          "2023-08-24T00:00:00",
          "2023-08-25T00:00:00",
          "2023-08-28T00:00:00",
          "2023-08-29T00:00:00",
          "2023-08-30T00:00:00",
          "2023-08-31T00:00:00",
          "2023-09-01T00:00:00",
          "2023-09-05T00:00:00",
          "2023-09-06T00:00:00",
          "2023-09-07T00:00:00",
          "2023-09-08T00:00:00",
          "2023-09-11T00:00:00",
          "2023-09-12T00:00:00",
          "2023-09-13T00:00:00",
          "2023-09-14T00:00:00",
          "2023-09-15T00:00:00",
          "2023-09-18T00:00:00",
          "2023-09-19T00:00:00",
          "2023-09-20T00:00:00",
          "2023-09-21T00:00:00",
          "2023-09-22T00:00:00",
          "2023-09-25T00:00:00",
          "2023-09-26T00:00:00",
          "2023-09-27T00:00:00",
          "2023-09-28T00:00:00",
          "2023-09-29T00:00:00",
          "2023-10-02T00:00:00",
          "2023-10-03T00:00:00",
          "2023-10-04T00:00:00",
          "2023-10-05T00:00:00",
          "2023-10-06T00:00:00",
          "2023-10-09T00:00:00",
          "2023-10-10T00:00:00",
          "2023-10-11T00:00:00",
          "2023-10-12T00:00:00",
          "2023-10-13T00:00:00",
          "2023-10-16T00:00:00",
          "2023-10-17T00:00:00",
          "2023-10-18T00:00:00",
          "2023-10-19T00:00:00",
          "2023-10-20T00:00:00",
          "2023-10-23T00:00:00",
          "2023-10-24T00:00:00",
          "2023-10-25T00:00:00",
          "2023-10-26T00:00:00",
          "2023-10-27T00:00:00",
          "2023-10-30T00:00:00",
          "2023-10-31T00:00:00",
          "2023-11-01T00:00:00",
          "2023-11-02T00:00:00",
          "2023-11-03T00:00:00",
          "2023-11-06T00:00:00",
          "2023-11-07T00:00:00",
          "2023-11-08T00:00:00",
          "2023-11-09T00:00:00",
          "2023-11-10T00:00:00",
          "2023-11-13T00:00:00",
          "2023-11-14T00:00:00",
          "2023-11-15T00:00:00",
          "2023-11-16T00:00:00",
          "2023-11-17T00:00:00",
          "2023-11-20T00:00:00",
          "2023-11-21T00:00:00",
          "2023-11-22T00:00:00",
          "2023-11-24T00:00:00",
          "2023-11-27T00:00:00",
          "2023-11-28T00:00:00",
          "2023-11-29T00:00:00",
          "2023-11-30T00:00:00",
          "2023-12-01T00:00:00",
          "2023-12-04T00:00:00",
          "2023-12-05T00:00:00",
          "2023-12-06T00:00:00",
          "2023-12-07T00:00:00",
          "2023-12-08T00:00:00",
          "2023-12-11T00:00:00",
          "2023-12-12T00:00:00",
          "2023-12-13T00:00:00",
          "2023-12-14T00:00:00",
          "2023-12-15T00:00:00",
          "2023-12-18T00:00:00",
          "2023-12-19T00:00:00",
          "2023-12-20T00:00:00",
          "2023-12-21T00:00:00",
          "2023-12-22T00:00:00",
          "2023-12-26T00:00:00",
          "2023-12-27T00:00:00",
          "2023-12-28T00:00:00",
          "2023-12-29T00:00:00"
         ],
         "y": [
          125.658,
          124.325,
          128.9,
          129.427,
          130.003,
          132.748,
          132.668,
          134.011,
          135.184,
          134.458,
          134.518,
          137.104,
          140.326,
          141.738,
          141.071,
          143.16,
          145.119,
          142.205,
          143.488,
          144.622,
          149.982,
          153.641,
          150.887,
          153.79,
          151.076,
          150.031,
          150.4,
          153.228,
          152.581,
          154.702,
          153.089,
          151.934,
          147.88,
          148.308,
          148.796,
          146.117,
          147.322,
          146.814,
          144.723,
          145.321,
          150.42,
          153.209,
          150.988,
          152.252,
          149.982,
          147.9,
          149.862,
          151.974,
          152.372,
          155.22,
          154.374,
          156.764,
          158.636,
          157.192,
          158.288,
          159.603,
          157.641,
          157.013,
          160.12,
          161.704,
          164.234,
          165.499,
          164.961,
          163.098,
          163.995,
          161.375,
          160.15,
          159.453,
          164.891,
          164.543,
          164.562,
          165.797,
          166.953,
          165.977,
          164.353,
          164.662,
          163.108,
          163.098,
          167.73,
          168.994,
          168.905,
          167.859,
          166.773,
          165.12,
          172.869,
          172.799,
          171.076,
          172.854,
          173.048,
          172.111,
          171.612,
          171.612,
          172.23,
          174.584,
          174.694,
          173.736,
          171.103,
          171.382,
          172.529,
          174.963,
          176.828,
          176.778,
          179.611,
          180.468,
          179.102,
          178.733,
          177.347,
          180.089,
          180.478,
          183.301,
          182.822,
          183.46,
          185.515,
          184.428,
          184.517,
          183.47,
          186.502,
          186.183,
          184.777,
          187.559,
          188.746,
          189.085,
          193.454,
          191.948,
          190.821,
          191.299,
          190.172,
          188.108,
          187.579,
          189.265,
          190.033,
          190.182,
          193.474,
          193.214,
          194.581,
          192.616,
          191.429,
          192.237,
          193.104,
          193.982,
          192.706,
          195.309,
          195.927,
          195.084,
          192.067,
          190.661,
          181.505,
          178.374,
          179.321,
          177.716,
          177.496,
          177.556,
          179.224,
          177.217,
          176.338,
          173.771,
          174.26,
          175.609,
          176.997,
          180.882,
          176.148,
          178.375,
          179.953,
          183.878,
          187.403,
          187.623,
          189.211,
          189.45,
          182.669,
          177.326,
          177.946,
          179.124,
          176.068,
          173.981,
          175.509,
          174.78,
          177.736,
          178.834,
          175.259,
          173.701,
          174.56,
          175.848,
          171.734,
          170.206,
          170.465,
          170.985,
          173.521,
          172.173,
          173.432,
          174.68,
          177.256,
          178.754,
          178.155,
          179.563,
          180.472,
          178.615,
          178.485,
          176.917,
          175.609,
          175.229,
          172.653,
          172.772,
          173.212,
          170.875,
          166.67,
          167.999,
          170.066,
          170.545,
          173.741,
          177.336,
          176.418,
          178.994,
          181.581,
          182.649,
          182.17,
          186.4,
          184.8,
          187.44,
          188.01,
          189.71,
          189.69,
          191.45,
          190.64,
          191.31,
          189.97,
          189.79,
          190.4,
          189.37,
          189.95,
          191.24,
          189.43,
          193.42,
          192.32,
          194.27,
          195.71,
          193.18,
          194.71,
          197.96,
          198.11,
          197.57,
          195.89,
          196.94,
          194.83,
          194.68,
          193.6,
          193.05,
          193.15,
          193.58,
          192.53
         ]
        },
        {
         "line": {
          "color": "red"
         },
         "name": "Upper Band",
         "type": "scatter",
         "x": [
          "2023-01-04T00:00:00",
          "2023-01-05T00:00:00",
          "2023-01-06T00:00:00",
          "2023-01-09T00:00:00",
          "2023-01-10T00:00:00",
          "2023-01-11T00:00:00",
          "2023-01-12T00:00:00",
          "2023-01-13T00:00:00",
          "2023-01-17T00:00:00",
          "2023-01-18T00:00:00",
          "2023-01-19T00:00:00",
          "2023-01-20T00:00:00",
          "2023-01-23T00:00:00",
          "2023-01-24T00:00:00",
          "2023-01-25T00:00:00",
          "2023-01-26T00:00:00",
          "2023-01-27T00:00:00",
          "2023-01-30T00:00:00",
          "2023-01-31T00:00:00",
          "2023-02-01T00:00:00",
          "2023-02-02T00:00:00",
          "2023-02-03T00:00:00",
          "2023-02-06T00:00:00",
          "2023-02-07T00:00:00",
          "2023-02-08T00:00:00",
          "2023-02-09T00:00:00",
          "2023-02-10T00:00:00",
          "2023-02-13T00:00:00",
          "2023-02-14T00:00:00",
          "2023-02-15T00:00:00",
          "2023-02-16T00:00:00",
          "2023-02-17T00:00:00",
          "2023-02-21T00:00:00",
          "2023-02-22T00:00:00",
          "2023-02-23T00:00:00",
          "2023-02-24T00:00:00",
          "2023-02-27T00:00:00",
          "2023-02-28T00:00:00",
          "2023-03-01T00:00:00",
          "2023-03-02T00:00:00",
          "2023-03-03T00:00:00",
          "2023-03-06T00:00:00",
          "2023-03-07T00:00:00",
          "2023-03-08T00:00:00",
          "2023-03-09T00:00:00",
          "2023-03-10T00:00:00",
          "2023-03-13T00:00:00",
          "2023-03-14T00:00:00",
          "2023-03-15T00:00:00",
          "2023-03-16T00:00:00",
          "2023-03-17T00:00:00",
          "2023-03-20T00:00:00",
          "2023-03-21T00:00:00",
          "2023-03-22T00:00:00",
          "2023-03-23T00:00:00",
          "2023-03-24T00:00:00",
          "2023-03-27T00:00:00",
          "2023-03-28T00:00:00",
          "2023-03-29T00:00:00",
          "2023-03-30T00:00:00",
          "2023-03-31T00:00:00",
          "2023-04-03T00:00:00",
          "2023-04-04T00:00:00",
          "2023-04-05T00:00:00",
          "2023-04-06T00:00:00",
          "2023-04-10T00:00:00",
          "2023-04-11T00:00:00",
          "2023-04-12T00:00:00",
          "2023-04-13T00:00:00",
          "2023-04-14T00:00:00",
          "2023-04-17T00:00:00",
          "2023-04-18T00:00:00",
          "2023-04-19T00:00:00",
          "2023-04-20T00:00:00",
          "2023-04-21T00:00:00",
          "2023-04-24T00:00:00",
          "2023-04-25T00:00:00",
          "2023-04-26T00:00:00",
          "2023-04-27T00:00:00",
          "2023-04-28T00:00:00",
          "2023-05-01T00:00:00",
          "2023-05-02T00:00:00",
          "2023-05-03T00:00:00",
          "2023-05-04T00:00:00",
          "2023-05-05T00:00:00",
          "2023-05-08T00:00:00",
          "2023-05-09T00:00:00",
          "2023-05-10T00:00:00",
          "2023-05-11T00:00:00",
          "2023-05-12T00:00:00",
          "2023-05-15T00:00:00",
          "2023-05-16T00:00:00",
          "2023-05-17T00:00:00",
          "2023-05-18T00:00:00",
          "2023-05-19T00:00:00",
          "2023-05-22T00:00:00",
          "2023-05-23T00:00:00",
          "2023-05-24T00:00:00",
          "2023-05-25T00:00:00",
          "2023-05-26T00:00:00",
          "2023-05-30T00:00:00",
          "2023-05-31T00:00:00",
          "2023-06-01T00:00:00",
          "2023-06-02T00:00:00",
          "2023-06-05T00:00:00",
          "2023-06-06T00:00:00",
          "2023-06-07T00:00:00",
          "2023-06-08T00:00:00",
          "2023-06-09T00:00:00",
          "2023-06-12T00:00:00",
          "2023-06-13T00:00:00",
          "2023-06-14T00:00:00",
          "2023-06-15T00:00:00",
          "2023-06-16T00:00:00",
          "2023-06-20T00:00:00",
          "2023-06-21T00:00:00",
          "2023-06-22T00:00:00",
          "2023-06-23T00:00:00",
          "2023-06-26T00:00:00",
          "2023-06-27T00:00:00",
          "2023-06-28T00:00:00",
          "2023-06-29T00:00:00",
          "2023-06-30T00:00:00",
          "2023-07-03T00:00:00",
          "2023-07-05T00:00:00",
          "2023-07-06T00:00:00",
          "2023-07-07T00:00:00",
          "2023-07-10T00:00:00",
          "2023-07-11T00:00:00",
          "2023-07-12T00:00:00",
          "2023-07-13T00:00:00",
          "2023-07-14T00:00:00",
          "2023-07-17T00:00:00",
          "2023-07-18T00:00:00",
          "2023-07-19T00:00:00",
          "2023-07-20T00:00:00",
          "2023-07-21T00:00:00",
          "2023-07-24T00:00:00",
          "2023-07-25T00:00:00",
          "2023-07-26T00:00:00",
          "2023-07-27T00:00:00",
          "2023-07-28T00:00:00",
          "2023-07-31T00:00:00",
          "2023-08-01T00:00:00",
          "2023-08-02T00:00:00",
          "2023-08-03T00:00:00",
          "2023-08-04T00:00:00",
          "2023-08-07T00:00:00",
          "2023-08-08T00:00:00",
          "2023-08-09T00:00:00",
          "2023-08-10T00:00:00",
          "2023-08-11T00:00:00",
          "2023-08-14T00:00:00",
          "2023-08-15T00:00:00",
          "2023-08-16T00:00:00",
          "2023-08-17T00:00:00",
          "2023-08-18T00:00:00",
          "2023-08-21T00:00:00",
          "2023-08-22T00:00:00",
          "2023-08-23T00:00:00",
          "2023-08-24T00:00:00",
          "2023-08-25T00:00:00",
          "2023-08-28T00:00:00",
          "2023-08-29T00:00:00",
          "2023-08-30T00:00:00",
          "2023-08-31T00:00:00",
          "2023-09-01T00:00:00",
          "2023-09-05T00:00:00",
          "2023-09-06T00:00:00",
          "2023-09-07T00:00:00",
          "2023-09-08T00:00:00",
          "2023-09-11T00:00:00",
          "2023-09-12T00:00:00",
          "2023-09-13T00:00:00",
          "2023-09-14T00:00:00",
          "2023-09-15T00:00:00",
          "2023-09-18T00:00:00",
          "2023-09-19T00:00:00",
          "2023-09-20T00:00:00",
          "2023-09-21T00:00:00",
          "2023-09-22T00:00:00",
          "2023-09-25T00:00:00",
          "2023-09-26T00:00:00",
          "2023-09-27T00:00:00",
          "2023-09-28T00:00:00",
          "2023-09-29T00:00:00",
          "2023-10-02T00:00:00",
          "2023-10-03T00:00:00",
          "2023-10-04T00:00:00",
          "2023-10-05T00:00:00",
          "2023-10-06T00:00:00",
          "2023-10-09T00:00:00",
          "2023-10-10T00:00:00",
          "2023-10-11T00:00:00",
          "2023-10-12T00:00:00",
          "2023-10-13T00:00:00",
          "2023-10-16T00:00:00",
          "2023-10-17T00:00:00",
          "2023-10-18T00:00:00",
          "2023-10-19T00:00:00",
          "2023-10-20T00:00:00",
          "2023-10-23T00:00:00",
          "2023-10-24T00:00:00",
          "2023-10-25T00:00:00",
          "2023-10-26T00:00:00",
          "2023-10-27T00:00:00",
          "2023-10-30T00:00:00",
          "2023-10-31T00:00:00",
          "2023-11-01T00:00:00",
          "2023-11-02T00:00:00",
          "2023-11-03T00:00:00",
          "2023-11-06T00:00:00",
          "2023-11-07T00:00:00",
          "2023-11-08T00:00:00",
          "2023-11-09T00:00:00",
          "2023-11-10T00:00:00",
          "2023-11-13T00:00:00",
          "2023-11-14T00:00:00",
          "2023-11-15T00:00:00",
          "2023-11-16T00:00:00",
          "2023-11-17T00:00:00",
          "2023-11-20T00:00:00",
          "2023-11-21T00:00:00",
          "2023-11-22T00:00:00",
          "2023-11-24T00:00:00",
          "2023-11-27T00:00:00",
          "2023-11-28T00:00:00",
          "2023-11-29T00:00:00",
          "2023-11-30T00:00:00",
          "2023-12-01T00:00:00",
          "2023-12-04T00:00:00",
          "2023-12-05T00:00:00",
          "2023-12-06T00:00:00",
          "2023-12-07T00:00:00",
          "2023-12-08T00:00:00",
          "2023-12-11T00:00:00",
          "2023-12-12T00:00:00",
          "2023-12-13T00:00:00",
          "2023-12-14T00:00:00",
          "2023-12-15T00:00:00",
          "2023-12-18T00:00:00",
          "2023-12-19T00:00:00",
          "2023-12-20T00:00:00",
          "2023-12-21T00:00:00",
          "2023-12-22T00:00:00",
          "2023-12-26T00:00:00",
          "2023-12-27T00:00:00",
          "2023-12-28T00:00:00",
          "2023-12-29T00:00:00"
         ],
         "y": [
          null,
          null,
          null,
          null,
          null,
          null,
          null,
          null,
          null,
          null,
          null,
          null,
          null,
          null,
          null,
          null,
          null,
          null,
          null,
          148.8969802450025,
          150.57293383528224,
          152.4930562479734,
          153.80091601242478,
          155.44590788211067,
          156.18093161344277,
          156.74958835687502,
          157.12243303826315,
          157.8678656422058,
          158.35256243207883,
          158.8160593600761,
          158.61429442099742,
          158.32456304843092,
          157.96711692880487,
          157.69623529702955,
          157.22673203281008,
          156.97370516555782,
          156.865158821068,
          156.33586770670564,
          156.15502212076976,
          156.06829544159328,
          156.09262271390446,
          156.01986633208546,
          156.02812378336895,
          155.78557124682155,
          155.70723042893607,
          155.66879070306152,
          155.63520840499768,
          155.44225626208737,
          155.41048609548145,
          155.53574618530467,
          155.78218479497022,
          156.73472729162515,
          158.20683991025274,
          159.11676548867214,
          160.1382236128808,
          161.1461794601063,
          161.67728188779157,
          161.94095579752016,
          162.27404930726237,
          162.7313520550516,
          164.19125722760543,
          165.80974899125945,
          166.96463917305843,
          167.64595070048122,
          168.14935680959783,
          167.72046660982525,
          167.23168254345416,
          166.84651844741006,
          166.9974328121057,
          167.29902371683224,
          167.31616097333742,
          167.7269034585768,
          168.4097368075099,
          168.64532247774957,
          168.66737784531054,
          168.77521456461434,
          168.4524893354274,
          167.8168665388077,
          168.23849609787385,
          169.00453802845513,
          169.66055145740503,
          169.97283363533649,
          170.14266019608942,
          170.18307519190702,
          171.68837972178406,
          172.78590174953618,
          173.1313319869403,
          173.5165068527652,
          174.34689365517522,
          174.86087012504763,
          175.20873072856986,
          175.54779817836268,
          175.95109887270854,
          176.68720992967238,
          177.20282894134996,
          177.44359538276993,
          177.0165999546524,
          176.35301939070192,
          176.38980836833412,
          176.81848324299816,
          177.54733553600232,
          178.02912251989903,
          178.87784940304135,
          179.26120619738543,
          180.0341510519439,
          180.63368946601133,
          180.8616424574651,
          181.593101456443,
          182.30621734778435,
          183.50275145941018,
          184.33652117332014,
          185.12687719250616,
          186.24740639252988,
          187.0754367029467,
          187.7989917670207,
          188.17036368126094,
          188.59226535340403,
          188.68098299278722,
          188.41742155552498,
          188.8448806388612,
          189.5845339460705,
          190.17333194193205,
          191.99415831344734,
          193.12884613265788,
          193.74150131218576,
          194.22680446390476,
          194.0786839242068,
          193.89830107836843,
          193.59162505503377,
          193.67986241143652,
          193.7291157054587,
          193.77085399344278,
          194.49319629106242,
          194.93913980224838,
          195.5410164869619,
          195.42443452265934,
          195.44956569931833,
          195.45913793172366,
          195.1888358692596,
          195.40173734952805,
          195.46874803165605,
          195.9644894712376,
          196.42888341758388,
          196.80460814910475,
          196.83123994837047,
          196.8312218985675,
          198.32565163061315,
          199.9983421969732,
          200.95722507529095,
          201.9246868158017,
          202.59608690441993,
          203.01544255009583,
          202.76620191053016,
          202.55356402369523,
          202.01459970612706,
          201.7793258975698,
          201.4204532729984,
          200.6629824805221,
          199.53323473223162,
          198.07121852532973,
          196.69080256703282,
          194.4361990219062,
          191.62191604402014,
          188.87304918794172,
          187.48696031526208,
          186.5235131957109,
          188.13866696744327,
          189.76179831029566,
          189.99984864811339,
          190.0015174785952,
          190.00148573722362,
          190.02004438242054,
          190.02583357484843,
          190.1545796787969,
          190.17908383270807,
          190.1150319039643,
          190.0031012023011,
          189.96538168137783,
          190.0279986359973,
          190.0629464193952,
          190.12375214855004,
          190.12358564850064,
          190.26937899810252,
          190.02876934962316,
          188.89848194442382,
          187.3894425283204,
          184.91955342833933,
          181.56893442727235,
          180.07067362768603,
          179.79124972991397,
          179.67074754114833,
          179.58478181258425,
          179.90675189104476,
          180.62108621257735,
          181.39107574474576,
          181.77212941006846,
          181.87727841509664,
          181.61975269929957,
          181.63940257050865,
          181.67384678117224,
          181.68391212073237,
          181.6150120451685,
          181.5615265238352,
          181.4922364652147,
          182.08207693463262,
          182.39987429445307,
          182.50831557729902,
          182.56919932359753,
          182.57632758647065,
          182.801854087593,
          182.71357265506455,
          182.75179633222925,
          183.36563702205734,
          183.97816644987518,
          184.30915996726483,
          185.90214320146322,
          186.95569584538416,
          188.6337799189915,
          190.30250140471375,
          192.1525896653918,
          193.74109009941597,
          195.45504722147146,
          196.78014819494481,
          197.8600680330556,
          197.902289701964,
          197.68242642912585,
          197.4519140362798,
          196.67905698858095,
          196.12737256358284,
          196.05029052123123,
          195.19733750884598,
          195.0971720631552,
          194.99267858198363,
          195.2203255427504,
          195.37305765531866,
          195.5283428951445,
          195.53432441548833,
          196.68404787682016,
          197.6633304765299,
          198.43577548797626,
          198.7701247398773,
          199.27822037213878,
          199.41888230035943,
          199.53977526603,
          199.49052813278664,
          199.3720577336593,
          199.28284646094878,
          199.0405134312671,
          198.82138809382417
         ]
        },
        {
         "line": {
          "color": "green"
         },
         "name": "Middle Band",
         "type": "scatter",
         "x": [
          "2023-01-04T00:00:00",
          "2023-01-05T00:00:00",
          "2023-01-06T00:00:00",
          "2023-01-09T00:00:00",
          "2023-01-10T00:00:00",
          "2023-01-11T00:00:00",
          "2023-01-12T00:00:00",
          "2023-01-13T00:00:00",
          "2023-01-17T00:00:00",
          "2023-01-18T00:00:00",
          "2023-01-19T00:00:00",
          "2023-01-20T00:00:00",
          "2023-01-23T00:00:00",
          "2023-01-24T00:00:00",
          "2023-01-25T00:00:00",
          "2023-01-26T00:00:00",
          "2023-01-27T00:00:00",
          "2023-01-30T00:00:00",
          "2023-01-31T00:00:00",
          "2023-02-01T00:00:00",
          "2023-02-02T00:00:00",
          "2023-02-03T00:00:00",
          "2023-02-06T00:00:00",
          "2023-02-07T00:00:00",
          "2023-02-08T00:00:00",
          "2023-02-09T00:00:00",
          "2023-02-10T00:00:00",
          "2023-02-13T00:00:00",
          "2023-02-14T00:00:00",
          "2023-02-15T00:00:00",
          "2023-02-16T00:00:00",
          "2023-02-17T00:00:00",
          "2023-02-21T00:00:00",
          "2023-02-22T00:00:00",
          "2023-02-23T00:00:00",
          "2023-02-24T00:00:00",
          "2023-02-27T00:00:00",
          "2023-02-28T00:00:00",
          "2023-03-01T00:00:00",
          "2023-03-02T00:00:00",
          "2023-03-03T00:00:00",
          "2023-03-06T00:00:00",
          "2023-03-07T00:00:00",
          "2023-03-08T00:00:00",
          "2023-03-09T00:00:00",
          "2023-03-10T00:00:00",
          "2023-03-13T00:00:00",
          "2023-03-14T00:00:00",
          "2023-03-15T00:00:00",
          "2023-03-16T00:00:00",
          "2023-03-17T00:00:00",
          "2023-03-20T00:00:00",
          "2023-03-21T00:00:00",
          "2023-03-22T00:00:00",
          "2023-03-23T00:00:00",
          "2023-03-24T00:00:00",
          "2023-03-27T00:00:00",
          "2023-03-28T00:00:00",
          "2023-03-29T00:00:00",
          "2023-03-30T00:00:00",
          "2023-03-31T00:00:00",
          "2023-04-03T00:00:00",
          "2023-04-04T00:00:00",
          "2023-04-05T00:00:00",
          "2023-04-06T00:00:00",
          "2023-04-10T00:00:00",
          "2023-04-11T00:00:00",
          "2023-04-12T00:00:00",
          "2023-04-13T00:00:00",
          "2023-04-14T00:00:00",
          "2023-04-17T00:00:00",
          "2023-04-18T00:00:00",
          "2023-04-19T00:00:00",
          "2023-04-20T00:00:00",
          "2023-04-21T00:00:00",
          "2023-04-24T00:00:00",
          "2023-04-25T00:00:00",
          "2023-04-26T00:00:00",
          "2023-04-27T00:00:00",
          "2023-04-28T00:00:00",
          "2023-05-01T00:00:00",
          "2023-05-02T00:00:00",
          "2023-05-03T00:00:00",
          "2023-05-04T00:00:00",
          "2023-05-05T00:00:00",
          "2023-05-08T00:00:00",
          "2023-05-09T00:00:00",
          "2023-05-10T00:00:00",
          "2023-05-11T00:00:00",
          "2023-05-12T00:00:00",
          "2023-05-15T00:00:00",
          "2023-05-16T00:00:00",
          "2023-05-17T00:00:00",
          "2023-05-18T00:00:00",
          "2023-05-19T00:00:00",
          "2023-05-22T00:00:00",
          "2023-05-23T00:00:00",
          "2023-05-24T00:00:00",
          "2023-05-25T00:00:00",
          "2023-05-26T00:00:00",
          "2023-05-30T00:00:00",
          "2023-05-31T00:00:00",
          "2023-06-01T00:00:00",
          "2023-06-02T00:00:00",
          "2023-06-05T00:00:00",
          "2023-06-06T00:00:00",
          "2023-06-07T00:00:00",
          "2023-06-08T00:00:00",
          "2023-06-09T00:00:00",
          "2023-06-12T00:00:00",
          "2023-06-13T00:00:00",
          "2023-06-14T00:00:00",
          "2023-06-15T00:00:00",
          "2023-06-16T00:00:00",
          "2023-06-20T00:00:00",
          "2023-06-21T00:00:00",
          "2023-06-22T00:00:00",
          "2023-06-23T00:00:00",
          "2023-06-26T00:00:00",
          "2023-06-27T00:00:00",
          "2023-06-28T00:00:00",
          "2023-06-29T00:00:00",
          "2023-06-30T00:00:00",
          "2023-07-03T00:00:00",
          "2023-07-05T00:00:00",
          "2023-07-06T00:00:00",
          "2023-07-07T00:00:00",
          "2023-07-10T00:00:00",
          "2023-07-11T00:00:00",
          "2023-07-12T00:00:00",
          "2023-07-13T00:00:00",
          "2023-07-14T00:00:00",
          "2023-07-17T00:00:00",
          "2023-07-18T00:00:00",
          "2023-07-19T00:00:00",
          "2023-07-20T00:00:00",
          "2023-07-21T00:00:00",
          "2023-07-24T00:00:00",
          "2023-07-25T00:00:00",
          "2023-07-26T00:00:00",
          "2023-07-27T00:00:00",
          "2023-07-28T00:00:00",
          "2023-07-31T00:00:00",
          "2023-08-01T00:00:00",
          "2023-08-02T00:00:00",
          "2023-08-03T00:00:00",
          "2023-08-04T00:00:00",
          "2023-08-07T00:00:00",
          "2023-08-08T00:00:00",
          "2023-08-09T00:00:00",
          "2023-08-10T00:00:00",
          "2023-08-11T00:00:00",
          "2023-08-14T00:00:00",
          "2023-08-15T00:00:00",
          "2023-08-16T00:00:00",
          "2023-08-17T00:00:00",
          "2023-08-18T00:00:00",
          "2023-08-21T00:00:00",
          "2023-08-22T00:00:00",
          "2023-08-23T00:00:00",
          "2023-08-24T00:00:00",
          "2023-08-25T00:00:00",
          "2023-08-28T00:00:00",
          "2023-08-29T00:00:00",
          "2023-08-30T00:00:00",
          "2023-08-31T00:00:00",
          "2023-09-01T00:00:00",
          "2023-09-05T00:00:00",
          "2023-09-06T00:00:00",
          "2023-09-07T00:00:00",
          "2023-09-08T00:00:00",
          "2023-09-11T00:00:00",
          "2023-09-12T00:00:00",
          "2023-09-13T00:00:00",
          "2023-09-14T00:00:00",
          "2023-09-15T00:00:00",
          "2023-09-18T00:00:00",
          "2023-09-19T00:00:00",
          "2023-09-20T00:00:00",
          "2023-09-21T00:00:00",
          "2023-09-22T00:00:00",
          "2023-09-25T00:00:00",
          "2023-09-26T00:00:00",
          "2023-09-27T00:00:00",
          "2023-09-28T00:00:00",
          "2023-09-29T00:00:00",
          "2023-10-02T00:00:00",
          "2023-10-03T00:00:00",
          "2023-10-04T00:00:00",
          "2023-10-05T00:00:00",
          "2023-10-06T00:00:00",
          "2023-10-09T00:00:00",
          "2023-10-10T00:00:00",
          "2023-10-11T00:00:00",
          "2023-10-12T00:00:00",
          "2023-10-13T00:00:00",
          "2023-10-16T00:00:00",
          "2023-10-17T00:00:00",
          "2023-10-18T00:00:00",
          "2023-10-19T00:00:00",
          "2023-10-20T00:00:00",
          "2023-10-23T00:00:00",
          "2023-10-24T00:00:00",
          "2023-10-25T00:00:00",
          "2023-10-26T00:00:00",
          "2023-10-27T00:00:00",
          "2023-10-30T00:00:00",
          "2023-10-31T00:00:00",
          "2023-11-01T00:00:00",
          "2023-11-02T00:00:00",
          "2023-11-03T00:00:00",
          "2023-11-06T00:00:00",
          "2023-11-07T00:00:00",
          "2023-11-08T00:00:00",
          "2023-11-09T00:00:00",
          "2023-11-10T00:00:00",
          "2023-11-13T00:00:00",
          "2023-11-14T00:00:00",
          "2023-11-15T00:00:00",
          "2023-11-16T00:00:00",
          "2023-11-17T00:00:00",
          "2023-11-20T00:00:00",
          "2023-11-21T00:00:00",
          "2023-11-22T00:00:00",
          "2023-11-24T00:00:00",
          "2023-11-27T00:00:00",
          "2023-11-28T00:00:00",
          "2023-11-29T00:00:00",
          "2023-11-30T00:00:00",
          "2023-12-01T00:00:00",
          "2023-12-04T00:00:00",
          "2023-12-05T00:00:00",
          "2023-12-06T00:00:00",
          "2023-12-07T00:00:00",
          "2023-12-08T00:00:00",
          "2023-12-11T00:00:00",
          "2023-12-12T00:00:00",
          "2023-12-13T00:00:00",
          "2023-12-14T00:00:00",
          "2023-12-15T00:00:00",
          "2023-12-18T00:00:00",
          "2023-12-19T00:00:00",
          "2023-12-20T00:00:00",
          "2023-12-21T00:00:00",
          "2023-12-22T00:00:00",
          "2023-12-26T00:00:00",
          "2023-12-27T00:00:00",
          "2023-12-28T00:00:00",
          "2023-12-29T00:00:00"
         ],
         "y": [
          null,
          null,
          null,
          null,
          null,
          null,
          null,
          null,
          null,
          null,
          null,
          null,
          null,
          null,
          null,
          null,
          null,
          null,
          null,
          136.03665,
          137.25285000000002,
          138.71864999999997,
          139.818,
          141.03615,
          142.0898,
          142.95395,
          143.84055,
          144.8014,
          145.67125000000001,
          146.68345,
          147.612,
          148.3535,
          148.7312,
          149.05970000000002,
          149.44594999999998,
          149.59380000000002,
          149.70395,
          149.9344,
          149.99615,
          150.03109999999998,
          150.053,
          150.0314,
          150.03645,
          149.95955,
          149.90485,
          149.79829999999998,
          149.7714,
          149.7087,
          149.69824999999997,
          149.72415,
          149.7884,
          150.0299,
          150.5677,
          151.0119,
          151.4865,
          152.16080000000002,
          152.67675000000003,
          153.1867,
          153.95655,
          154.7757,
          155.4664,
          156.08089999999999,
          156.77955000000003,
          157.32184999999998,
          158.02249999999998,
          158.69625000000002,
          159.21065000000002,
          159.5846,
          160.21055,
          160.6767,
          161.1861,
          161.63775,
          162.05360000000002,
          162.49285,
          162.7961,
          163.04905,
          163.3224,
          163.62664999999998,
          164.00715,
          164.37165,
          164.6052,
          164.72320000000002,
          164.8138,
          164.91490000000002,
          165.3586,
          165.9298,
          166.4761,
          167.14615,
          167.554,
          167.93239999999997,
          168.2849,
          168.57565,
          168.8395,
          169.26985,
          169.7869,
          170.24060000000003,
          170.64035,
          171.05455,
          171.2945,
          171.59295,
          171.9891,
          172.43505,
          173.07695,
          173.84435,
          174.156,
          174.4527,
          174.76625,
          175.128,
          175.4995,
          176.05900000000003,
          176.6195,
          177.21189999999999,
          177.87615,
          178.36835000000002,
          178.8595,
          179.3462,
          180.11615,
          180.8562,
          181.4686,
          182.0984,
          182.6943,
          183.30965,
          184.0018,
          184.57580000000002,
          185.16175,
          185.79005,
          186.4313,
          186.83225,
          187.1873,
          187.4855,
          187.84605000000002,
          188.18215,
          188.5801,
          189.0194,
          189.5226,
          189.9799,
          190.22625,
          190.52894999999998,
          190.9453,
          191.26645000000002,
          191.46445,
          191.77564999999998,
          191.89929999999998,
          192.0561,
          192.1184,
          192.0865,
          191.65315,
          191.16645,
          190.75355,
          190.1761,
          189.54924999999997,
          188.91795,
          188.20544999999998,
          187.4056,
          186.49345,
          185.5512,
          184.69275,
          183.86135000000002,
          183.05599999999998,
          182.401,
          181.5731,
          180.7264,
          179.92770000000002,
          179.3674,
          179.13420000000002,
          178.9823,
          179.36759999999998,
          179.9214,
          180.08880000000002,
          180.0693,
          180.0918,
          180.1702,
          180.0124,
          179.8506,
          179.80915,
          179.8596,
          180.03339999999997,
          180.19465,
          180.10774999999998,
          179.74869999999999,
          179.6693,
          179.54295,
          179.132,
          178.44840000000002,
          177.6015,
          176.7696,
          175.98510000000002,
          175.12125,
          174.6594,
          174.5271,
          174.49259999999998,
          174.4741,
          174.57845,
          174.85755,
          175.1057,
          175.29745,
          175.3349,
          175.23905,
          175.25655,
          175.33295,
          175.2376,
          175.0838,
          175.1577,
          175.19115,
          175.00140000000002,
          174.8521,
          174.67935,
          174.59795,
          174.6134,
          174.7462,
          174.70430000000002,
          174.7163,
          174.8876,
          175.0419,
          175.1268,
          175.51605,
          175.83180000000002,
          176.35795,
          176.978,
          177.70205,
          178.5539,
          179.4878,
          180.3592,
          181.38094999999998,
          182.54595,
          183.6355,
          184.6522,
          185.59345000000002,
          186.4039,
          187.0991,
          187.7497,
          188.471,
          189.00795,
          189.589,
          190.26600000000002,
          190.605,
          191.10049999999998,
          191.62650000000002,
          192.13150000000002,
          192.5245,
          192.8345,
          193.109,
          193.31850000000003,
          193.48700000000002,
          193.6685,
          193.8315,
          193.969,
          194.17950000000002,
          194.3085
         ]
        },
        {
         "line": {
          "color": "red"
         },
         "name": "Lower Band",
         "type": "scatter",
         "x": [
          "2023-01-04T00:00:00",
          "2023-01-05T00:00:00",
          "2023-01-06T00:00:00",
          "2023-01-09T00:00:00",
          "2023-01-10T00:00:00",
          "2023-01-11T00:00:00",
          "2023-01-12T00:00:00",
          "2023-01-13T00:00:00",
          "2023-01-17T00:00:00",
          "2023-01-18T00:00:00",
          "2023-01-19T00:00:00",
          "2023-01-20T00:00:00",
          "2023-01-23T00:00:00",
          "2023-01-24T00:00:00",
          "2023-01-25T00:00:00",
          "2023-01-26T00:00:00",
          "2023-01-27T00:00:00",
          "2023-01-30T00:00:00",
          "2023-01-31T00:00:00",
          "2023-02-01T00:00:00",
          "2023-02-02T00:00:00",
          "2023-02-03T00:00:00",
          "2023-02-06T00:00:00",
          "2023-02-07T00:00:00",
          "2023-02-08T00:00:00",
          "2023-02-09T00:00:00",
          "2023-02-10T00:00:00",
          "2023-02-13T00:00:00",
          "2023-02-14T00:00:00",
          "2023-02-15T00:00:00",
          "2023-02-16T00:00:00",
          "2023-02-17T00:00:00",
          "2023-02-21T00:00:00",
          "2023-02-22T00:00:00",
          "2023-02-23T00:00:00",
          "2023-02-24T00:00:00",
          "2023-02-27T00:00:00",
          "2023-02-28T00:00:00",
          "2023-03-01T00:00:00",
          "2023-03-02T00:00:00",
          "2023-03-03T00:00:00",
          "2023-03-06T00:00:00",
          "2023-03-07T00:00:00",
          "2023-03-08T00:00:00",
          "2023-03-09T00:00:00",
          "2023-03-10T00:00:00",
          "2023-03-13T00:00:00",
          "2023-03-14T00:00:00",
          "2023-03-15T00:00:00",
          "2023-03-16T00:00:00",
          "2023-03-17T00:00:00",
          "2023-03-20T00:00:00",
          "2023-03-21T00:00:00",
          "2023-03-22T00:00:00",
          "2023-03-23T00:00:00",
          "2023-03-24T00:00:00",
          "2023-03-27T00:00:00",
          "2023-03-28T00:00:00",
          "2023-03-29T00:00:00",
          "2023-03-30T00:00:00",
          "2023-03-31T00:00:00",
          "2023-04-03T00:00:00",
          "2023-04-04T00:00:00",
          "2023-04-05T00:00:00",
          "2023-04-06T00:00:00",
          "2023-04-10T00:00:00",
          "2023-04-11T00:00:00",
          "2023-04-12T00:00:00",
          "2023-04-13T00:00:00",
          "2023-04-14T00:00:00",
          "2023-04-17T00:00:00",
          "2023-04-18T00:00:00",
          "2023-04-19T00:00:00",
          "2023-04-20T00:00:00",
          "2023-04-21T00:00:00",
          "2023-04-24T00:00:00",
          "2023-04-25T00:00:00",
          "2023-04-26T00:00:00",
          "2023-04-27T00:00:00",
          "2023-04-28T00:00:00",
          "2023-05-01T00:00:00",
          "2023-05-02T00:00:00",
          "2023-05-03T00:00:00",
          "2023-05-04T00:00:00",
          "2023-05-05T00:00:00",
          "2023-05-08T00:00:00",
          "2023-05-09T00:00:00",
          "2023-05-10T00:00:00",
          "2023-05-11T00:00:00",
          "2023-05-12T00:00:00",
          "2023-05-15T00:00:00",
          "2023-05-16T00:00:00",
          "2023-05-17T00:00:00",
          "2023-05-18T00:00:00",
          "2023-05-19T00:00:00",
          "2023-05-22T00:00:00",
          "2023-05-23T00:00:00",
          "2023-05-24T00:00:00",
          "2023-05-25T00:00:00",
          "2023-05-26T00:00:00",
          "2023-05-30T00:00:00",
          "2023-05-31T00:00:00",
          "2023-06-01T00:00:00",
          "2023-06-02T00:00:00",
          "2023-06-05T00:00:00",
          "2023-06-06T00:00:00",
          "2023-06-07T00:00:00",
          "2023-06-08T00:00:00",
          "2023-06-09T00:00:00",
          "2023-06-12T00:00:00",
          "2023-06-13T00:00:00",
          "2023-06-14T00:00:00",
          "2023-06-15T00:00:00",
          "2023-06-16T00:00:00",
          "2023-06-20T00:00:00",
          "2023-06-21T00:00:00",
          "2023-06-22T00:00:00",
          "2023-06-23T00:00:00",
          "2023-06-26T00:00:00",
          "2023-06-27T00:00:00",
          "2023-06-28T00:00:00",
          "2023-06-29T00:00:00",
          "2023-06-30T00:00:00",
          "2023-07-03T00:00:00",
          "2023-07-05T00:00:00",
          "2023-07-06T00:00:00",
          "2023-07-07T00:00:00",
          "2023-07-10T00:00:00",
          "2023-07-11T00:00:00",
          "2023-07-12T00:00:00",
          "2023-07-13T00:00:00",
          "2023-07-14T00:00:00",
          "2023-07-17T00:00:00",
          "2023-07-18T00:00:00",
          "2023-07-19T00:00:00",
          "2023-07-20T00:00:00",
          "2023-07-21T00:00:00",
          "2023-07-24T00:00:00",
          "2023-07-25T00:00:00",
          "2023-07-26T00:00:00",
          "2023-07-27T00:00:00",
          "2023-07-28T00:00:00",
          "2023-07-31T00:00:00",
          "2023-08-01T00:00:00",
          "2023-08-02T00:00:00",
          "2023-08-03T00:00:00",
          "2023-08-04T00:00:00",
          "2023-08-07T00:00:00",
          "2023-08-08T00:00:00",
          "2023-08-09T00:00:00",
          "2023-08-10T00:00:00",
          "2023-08-11T00:00:00",
          "2023-08-14T00:00:00",
          "2023-08-15T00:00:00",
          "2023-08-16T00:00:00",
          "2023-08-17T00:00:00",
          "2023-08-18T00:00:00",
          "2023-08-21T00:00:00",
          "2023-08-22T00:00:00",
          "2023-08-23T00:00:00",
          "2023-08-24T00:00:00",
          "2023-08-25T00:00:00",
          "2023-08-28T00:00:00",
          "2023-08-29T00:00:00",
          "2023-08-30T00:00:00",
          "2023-08-31T00:00:00",
          "2023-09-01T00:00:00",
          "2023-09-05T00:00:00",
          "2023-09-06T00:00:00",
          "2023-09-07T00:00:00",
          "2023-09-08T00:00:00",
          "2023-09-11T00:00:00",
          "2023-09-12T00:00:00",
          "2023-09-13T00:00:00",
          "2023-09-14T00:00:00",
          "2023-09-15T00:00:00",
          "2023-09-18T00:00:00",
          "2023-09-19T00:00:00",
          "2023-09-20T00:00:00",
          "2023-09-21T00:00:00",
          "2023-09-22T00:00:00",
          "2023-09-25T00:00:00",
          "2023-09-26T00:00:00",
          "2023-09-27T00:00:00",
          "2023-09-28T00:00:00",
          "2023-09-29T00:00:00",
          "2023-10-02T00:00:00",
          "2023-10-03T00:00:00",
          "2023-10-04T00:00:00",
          "2023-10-05T00:00:00",
          "2023-10-06T00:00:00",
          "2023-10-09T00:00:00",
          "2023-10-10T00:00:00",
          "2023-10-11T00:00:00",
          "2023-10-12T00:00:00",
          "2023-10-13T00:00:00",
          "2023-10-16T00:00:00",
          "2023-10-17T00:00:00",
          "2023-10-18T00:00:00",
          "2023-10-19T00:00:00",
          "2023-10-20T00:00:00",
          "2023-10-23T00:00:00",
          "2023-10-24T00:00:00",
          "2023-10-25T00:00:00",
          "2023-10-26T00:00:00",
          "2023-10-27T00:00:00",
          "2023-10-30T00:00:00",
          "2023-10-31T00:00:00",
          "2023-11-01T00:00:00",
          "2023-11-02T00:00:00",
          "2023-11-03T00:00:00",
          "2023-11-06T00:00:00",
          "2023-11-07T00:00:00",
          "2023-11-08T00:00:00",
          "2023-11-09T00:00:00",
          "2023-11-10T00:00:00",
          "2023-11-13T00:00:00",
          "2023-11-14T00:00:00",
          "2023-11-15T00:00:00",
          "2023-11-16T00:00:00",
          "2023-11-17T00:00:00",
          "2023-11-20T00:00:00",
          "2023-11-21T00:00:00",
          "2023-11-22T00:00:00",
          "2023-11-24T00:00:00",
          "2023-11-27T00:00:00",
          "2023-11-28T00:00:00",
          "2023-11-29T00:00:00",
          "2023-11-30T00:00:00",
          "2023-12-01T00:00:00",
          "2023-12-04T00:00:00",
          "2023-12-05T00:00:00",
          "2023-12-06T00:00:00",
          "2023-12-07T00:00:00",
          "2023-12-08T00:00:00",
          "2023-12-11T00:00:00",
          "2023-12-12T00:00:00",
          "2023-12-13T00:00:00",
          "2023-12-14T00:00:00",
          "2023-12-15T00:00:00",
          "2023-12-18T00:00:00",
          "2023-12-19T00:00:00",
          "2023-12-20T00:00:00",
          "2023-12-21T00:00:00",
          "2023-12-22T00:00:00",
          "2023-12-26T00:00:00",
          "2023-12-27T00:00:00",
          "2023-12-28T00:00:00",
          "2023-12-29T00:00:00"
         ],
         "y": [
          null,
          null,
          null,
          null,
          null,
          null,
          null,
          null,
          null,
          null,
          null,
          null,
          null,
          null,
          null,
          null,
          null,
          null,
          null,
          123.17631975499751,
          123.93276616471779,
          124.94424375202652,
          125.83508398757523,
          126.62639211788931,
          127.99866838655723,
          129.15831164312496,
          130.55866696173686,
          131.7349343577942,
          132.9899375679212,
          134.55084063992388,
          136.60970557900256,
          138.38243695156908,
          139.49528307119513,
          140.4231647029705,
          141.6651679671899,
          142.21389483444221,
          142.54274117893198,
          143.53293229329438,
          143.83727787923024,
          143.99390455840668,
          144.01337728609553,
          144.04293366791453,
          144.04477621663105,
          144.13352875317847,
          144.10246957106395,
          143.92780929693845,
          143.90759159500232,
          143.97514373791262,
          143.9860139045185,
          143.91255381469534,
          143.79461520502977,
          143.32507270837485,
          142.92856008974726,
          142.90703451132785,
          142.8347763871192,
          143.17542053989374,
          143.6762181122085,
          144.43244420247984,
          145.6390506927376,
          146.8200479449484,
          146.74154277239455,
          146.35205100874052,
          146.59446082694163,
          146.99774929951874,
          147.89564319040213,
          149.6720333901748,
          151.18961745654588,
          152.32268155258993,
          153.42366718789432,
          154.05437628316778,
          155.0560390266626,
          155.54859654142322,
          155.69746319249015,
          156.34037752225044,
          156.92482215468945,
          157.32288543538564,
          158.19231066457257,
          159.43643346119228,
          159.77580390212614,
          159.73876197154485,
          159.54984854259496,
          159.47356636466355,
          159.48493980391055,
          159.646724808093,
          159.02882027821593,
          159.07369825046382,
          159.8208680130597,
          160.77579314723482,
          160.76110634482478,
          161.00392987495232,
          161.36106927143013,
          161.6035018216373,
          161.72790112729143,
          161.8524900703276,
          162.37097105865004,
          163.03760461723013,
          164.26410004534762,
          165.7560806092981,
          166.19919163166588,
          166.36741675700185,
          166.4308644639977,
          166.84097748010095,
          167.27605059695867,
          168.42749380261455,
          168.27784894805612,
          168.27171053398865,
          168.67085754253492,
          168.66289854355696,
          168.69278265221567,
          168.61524854058987,
          168.90247882667984,
          169.29692280749381,
          169.5048936074701,
          169.66126329705335,
          169.92000823297928,
          170.52203631873908,
          171.64003464659598,
          173.03141700721278,
          174.51977844447504,
          175.35191936113878,
          175.8040660539295,
          176.44596805806796,
          176.00944168655266,
          176.02275386734215,
          176.58199868781426,
          177.35329553609526,
          178.78391607579317,
          179.76619892163154,
          180.7829749449662,
          181.2911375885635,
          181.96298429454134,
          182.59344600655723,
          182.66700370893756,
          183.0996601977516,
          183.50418351303813,
          184.53536547734063,
          185.00293430068166,
          185.5987620682763,
          186.7017641307404,
          187.131162650472,
          187.46015196834395,
          187.58681052876236,
          187.3697165824161,
          187.30759185089522,
          187.40556005162955,
          187.3417781014325,
          184.98064836938687,
          182.3345578030268,
          180.54987492470903,
          178.4275131841983,
          176.50241309558,
          174.82045744990415,
          173.6446980894698,
          172.25763597630475,
          170.97230029387293,
          169.32307410243018,
          167.96504672700158,
          167.05971751947794,
          166.57876526776835,
          166.7307814746703,
          166.4553974329672,
          167.01660097809383,
          168.2334839559799,
          169.8617508120583,
          170.78143968473796,
          171.4410868042891,
          170.5965330325567,
          170.08100168970435,
          170.17775135188666,
          170.1370825214048,
          170.1821142627764,
          170.32035561757945,
          169.9989664251516,
          169.54662032120308,
          169.4392161672919,
          169.6041680960357,
          170.06369879769883,
          170.42391831862216,
          170.18750136400266,
          169.43445358060478,
          169.21484785144995,
          168.96231435149934,
          167.99462100189749,
          166.86803065037688,
          166.30451805557615,
          166.1497574716796,
          167.0506465716607,
          168.67356557272765,
          169.24812637231398,
          169.262950270086,
          169.31445245885163,
          169.36341818741573,
          169.25014810895524,
          169.09401378742265,
          168.82032425525426,
          168.82277058993154,
          168.79252158490337,
          168.85834730070042,
          168.87369742949136,
          168.99205321882778,
          168.7912878792676,
          168.5525879548315,
          168.7538734761648,
          168.8900635347853,
          167.9207230653674,
          167.30432570554694,
          166.85038442270098,
          166.62670067640246,
          166.65047241352937,
          166.69054591240698,
          166.69502734493548,
          166.68080366777073,
          166.40956297794264,
          166.10563355012482,
          165.94444003273517,
          165.1299567985368,
          164.70790415461587,
          164.08212008100847,
          163.65349859528627,
          163.25151033460824,
          163.36670990058403,
          163.52055277852853,
          163.93825180505516,
          164.90183196694437,
          167.189610298036,
          169.58857357087416,
          171.8524859637202,
          174.50784301141908,
          176.68042743641715,
          178.14790947876875,
          180.302062491154,
          181.8448279368448,
          183.02322141801636,
          183.9576744572496,
          185.15894234468138,
          185.68165710485547,
          186.66667558451164,
          186.56895212317988,
          186.59966952347014,
          186.61322451202372,
          186.89887526012268,
          186.93977962786124,
          187.21811769964063,
          187.43422473397004,
          187.84647186721335,
          188.29094226634072,
          188.6551535390512,
          189.31848656873294,
          189.79561190617585
         ]
        }
       ],
       "layout": {
        "autosize": true,
        "template": {
         "data": {
          "bar": [
           {
            "error_x": {
             "color": "#2a3f5f"
            },
            "error_y": {
             "color": "#2a3f5f"
            },
            "marker": {
             "line": {
              "color": "#E5ECF6",
              "width": 0.5
             },
             "pattern": {
              "fillmode": "overlay",
              "size": 10,
              "solidity": 0.2
             }
            },
            "type": "bar"
           }
          ],
          "barpolar": [
           {
            "marker": {
             "line": {
              "color": "#E5ECF6",
              "width": 0.5
             },
             "pattern": {
              "fillmode": "overlay",
              "size": 10,
              "solidity": 0.2
             }
            },
            "type": "barpolar"
           }
          ],
          "carpet": [
           {
            "aaxis": {
             "endlinecolor": "#2a3f5f",
             "gridcolor": "white",
             "linecolor": "white",
             "minorgridcolor": "white",
             "startlinecolor": "#2a3f5f"
            },
            "baxis": {
             "endlinecolor": "#2a3f5f",
             "gridcolor": "white",
             "linecolor": "white",
             "minorgridcolor": "white",
             "startlinecolor": "#2a3f5f"
            },
            "type": "carpet"
           }
          ],
          "choropleth": [
           {
            "colorbar": {
             "outlinewidth": 0,
             "ticks": ""
            },
            "type": "choropleth"
           }
          ],
          "contour": [
           {
            "colorbar": {
             "outlinewidth": 0,
             "ticks": ""
            },
            "colorscale": [
             [
              0,
              "#0d0887"
             ],
             [
              0.1111111111111111,
              "#46039f"
             ],
             [
              0.2222222222222222,
              "#7201a8"
             ],
             [
              0.3333333333333333,
              "#9c179e"
             ],
             [
              0.4444444444444444,
              "#bd3786"
             ],
             [
              0.5555555555555556,
              "#d8576b"
             ],
             [
              0.6666666666666666,
              "#ed7953"
             ],
             [
              0.7777777777777778,
              "#fb9f3a"
             ],
             [
              0.8888888888888888,
              "#fdca26"
             ],
             [
              1,
              "#f0f921"
             ]
            ],
            "type": "contour"
           }
          ],
          "contourcarpet": [
           {
            "colorbar": {
             "outlinewidth": 0,
             "ticks": ""
            },
            "type": "contourcarpet"
           }
          ],
          "heatmap": [
           {
            "colorbar": {
             "outlinewidth": 0,
             "ticks": ""
            },
            "colorscale": [
             [
              0,
              "#0d0887"
             ],
             [
              0.1111111111111111,
              "#46039f"
             ],
             [
              0.2222222222222222,
              "#7201a8"
             ],
             [
              0.3333333333333333,
              "#9c179e"
             ],
             [
              0.4444444444444444,
              "#bd3786"
             ],
             [
              0.5555555555555556,
              "#d8576b"
             ],
             [
              0.6666666666666666,
              "#ed7953"
             ],
             [
              0.7777777777777778,
              "#fb9f3a"
             ],
             [
              0.8888888888888888,
              "#fdca26"
             ],
             [
              1,
              "#f0f921"
             ]
            ],
            "type": "heatmap"
           }
          ],
          "heatmapgl": [
           {
            "colorbar": {
             "outlinewidth": 0,
             "ticks": ""
            },
            "colorscale": [
             [
              0,
              "#0d0887"
             ],
             [
              0.1111111111111111,
              "#46039f"
             ],
             [
              0.2222222222222222,
              "#7201a8"
             ],
             [
              0.3333333333333333,
              "#9c179e"
             ],
             [
              0.4444444444444444,
              "#bd3786"
             ],
             [
              0.5555555555555556,
              "#d8576b"
             ],
             [
              0.6666666666666666,
              "#ed7953"
             ],
             [
              0.7777777777777778,
              "#fb9f3a"
             ],
             [
              0.8888888888888888,
              "#fdca26"
             ],
             [
              1,
              "#f0f921"
             ]
            ],
            "type": "heatmapgl"
           }
          ],
          "histogram": [
           {
            "marker": {
             "pattern": {
              "fillmode": "overlay",
              "size": 10,
              "solidity": 0.2
             }
            },
            "type": "histogram"
           }
          ],
          "histogram2d": [
           {
            "colorbar": {
             "outlinewidth": 0,
             "ticks": ""
            },
            "colorscale": [
             [
              0,
              "#0d0887"
             ],
             [
              0.1111111111111111,
              "#46039f"
             ],
             [
              0.2222222222222222,
              "#7201a8"
             ],
             [
              0.3333333333333333,
              "#9c179e"
             ],
             [
              0.4444444444444444,
              "#bd3786"
             ],
             [
              0.5555555555555556,
              "#d8576b"
             ],
             [
              0.6666666666666666,
              "#ed7953"
             ],
             [
              0.7777777777777778,
              "#fb9f3a"
             ],
             [
              0.8888888888888888,
              "#fdca26"
             ],
             [
              1,
              "#f0f921"
             ]
            ],
            "type": "histogram2d"
           }
          ],
          "histogram2dcontour": [
           {
            "colorbar": {
             "outlinewidth": 0,
             "ticks": ""
            },
            "colorscale": [
             [
              0,
              "#0d0887"
             ],
             [
              0.1111111111111111,
              "#46039f"
             ],
             [
              0.2222222222222222,
              "#7201a8"
             ],
             [
              0.3333333333333333,
              "#9c179e"
             ],
             [
              0.4444444444444444,
              "#bd3786"
             ],
             [
              0.5555555555555556,
              "#d8576b"
             ],
             [
              0.6666666666666666,
              "#ed7953"
             ],
             [
              0.7777777777777778,
              "#fb9f3a"
             ],
             [
              0.8888888888888888,
              "#fdca26"
             ],
             [
              1,
              "#f0f921"
             ]
            ],
            "type": "histogram2dcontour"
           }
          ],
          "mesh3d": [
           {
            "colorbar": {
             "outlinewidth": 0,
             "ticks": ""
            },
            "type": "mesh3d"
           }
          ],
          "parcoords": [
           {
            "line": {
             "colorbar": {
              "outlinewidth": 0,
              "ticks": ""
             }
            },
            "type": "parcoords"
           }
          ],
          "pie": [
           {
            "automargin": true,
            "type": "pie"
           }
          ],
          "scatter": [
           {
            "fillpattern": {
             "fillmode": "overlay",
             "size": 10,
             "solidity": 0.2
            },
            "type": "scatter"
           }
          ],
          "scatter3d": [
           {
            "line": {
             "colorbar": {
              "outlinewidth": 0,
              "ticks": ""
             }
            },
            "marker": {
             "colorbar": {
              "outlinewidth": 0,
              "ticks": ""
             }
            },
            "type": "scatter3d"
           }
          ],
          "scattercarpet": [
           {
            "marker": {
             "colorbar": {
              "outlinewidth": 0,
              "ticks": ""
             }
            },
            "type": "scattercarpet"
           }
          ],
          "scattergeo": [
           {
            "marker": {
             "colorbar": {
              "outlinewidth": 0,
              "ticks": ""
             }
            },
            "type": "scattergeo"
           }
          ],
          "scattergl": [
           {
            "marker": {
             "colorbar": {
              "outlinewidth": 0,
              "ticks": ""
             }
            },
            "type": "scattergl"
           }
          ],
          "scattermapbox": [
           {
            "marker": {
             "colorbar": {
              "outlinewidth": 0,
              "ticks": ""
             }
            },
            "type": "scattermapbox"
           }
          ],
          "scatterpolar": [
           {
            "marker": {
             "colorbar": {
              "outlinewidth": 0,
              "ticks": ""
             }
            },
            "type": "scatterpolar"
           }
          ],
          "scatterpolargl": [
           {
            "marker": {
             "colorbar": {
              "outlinewidth": 0,
              "ticks": ""
             }
            },
            "type": "scatterpolargl"
           }
          ],
          "scatterternary": [
           {
            "marker": {
             "colorbar": {
              "outlinewidth": 0,
              "ticks": ""
             }
            },
            "type": "scatterternary"
           }
          ],
          "surface": [
           {
            "colorbar": {
             "outlinewidth": 0,
             "ticks": ""
            },
            "colorscale": [
             [
              0,
              "#0d0887"
             ],
             [
              0.1111111111111111,
              "#46039f"
             ],
             [
              0.2222222222222222,
              "#7201a8"
             ],
             [
              0.3333333333333333,
              "#9c179e"
             ],
             [
              0.4444444444444444,
              "#bd3786"
             ],
             [
              0.5555555555555556,
              "#d8576b"
             ],
             [
              0.6666666666666666,
              "#ed7953"
             ],
             [
              0.7777777777777778,
              "#fb9f3a"
             ],
             [
              0.8888888888888888,
              "#fdca26"
             ],
             [
              1,
              "#f0f921"
             ]
            ],
            "type": "surface"
           }
          ],
          "table": [
           {
            "cells": {
             "fill": {
              "color": "#EBF0F8"
             },
             "line": {
              "color": "white"
             }
            },
            "header": {
             "fill": {
              "color": "#C8D4E3"
             },
             "line": {
              "color": "white"
             }
            },
            "type": "table"
           }
          ]
         },
         "layout": {
          "annotationdefaults": {
           "arrowcolor": "#2a3f5f",
           "arrowhead": 0,
           "arrowwidth": 1
          },
          "autotypenumbers": "strict",
          "coloraxis": {
           "colorbar": {
            "outlinewidth": 0,
            "ticks": ""
           }
          },
          "colorscale": {
           "diverging": [
            [
             0,
             "#8e0152"
            ],
            [
             0.1,
             "#c51b7d"
            ],
            [
             0.2,
             "#de77ae"
            ],
            [
             0.3,
             "#f1b6da"
            ],
            [
             0.4,
             "#fde0ef"
            ],
            [
             0.5,
             "#f7f7f7"
            ],
            [
             0.6,
             "#e6f5d0"
            ],
            [
             0.7,
             "#b8e186"
            ],
            [
             0.8,
             "#7fbc41"
            ],
            [
             0.9,
             "#4d9221"
            ],
            [
             1,
             "#276419"
            ]
           ],
           "sequential": [
            [
             0,
             "#0d0887"
            ],
            [
             0.1111111111111111,
             "#46039f"
            ],
            [
             0.2222222222222222,
             "#7201a8"
            ],
            [
             0.3333333333333333,
             "#9c179e"
            ],
            [
             0.4444444444444444,
             "#bd3786"
            ],
            [
             0.5555555555555556,
             "#d8576b"
            ],
            [
             0.6666666666666666,
             "#ed7953"
            ],
            [
             0.7777777777777778,
             "#fb9f3a"
            ],
            [
             0.8888888888888888,
             "#fdca26"
            ],
            [
             1,
             "#f0f921"
            ]
           ],
           "sequentialminus": [
            [
             0,
             "#0d0887"
            ],
            [
             0.1111111111111111,
             "#46039f"
            ],
            [
             0.2222222222222222,
             "#7201a8"
            ],
            [
             0.3333333333333333,
             "#9c179e"
            ],
            [
             0.4444444444444444,
             "#bd3786"
            ],
            [
             0.5555555555555556,
             "#d8576b"
            ],
            [
             0.6666666666666666,
             "#ed7953"
            ],
            [
             0.7777777777777778,
             "#fb9f3a"
            ],
            [
             0.8888888888888888,
             "#fdca26"
            ],
            [
             1,
             "#f0f921"
            ]
           ]
          },
          "colorway": [
           "#636efa",
           "#EF553B",
           "#00cc96",
           "#ab63fa",
           "#FFA15A",
           "#19d3f3",
           "#FF6692",
           "#B6E880",
           "#FF97FF",
           "#FECB52"
          ],
          "font": {
           "color": "#2a3f5f"
          },
          "geo": {
           "bgcolor": "white",
           "lakecolor": "white",
           "landcolor": "#E5ECF6",
           "showlakes": true,
           "showland": true,
           "subunitcolor": "white"
          },
          "hoverlabel": {
           "align": "left"
          },
          "hovermode": "closest",
          "mapbox": {
           "style": "light"
          },
          "paper_bgcolor": "white",
          "plot_bgcolor": "#E5ECF6",
          "polar": {
           "angularaxis": {
            "gridcolor": "white",
            "linecolor": "white",
            "ticks": ""
           },
           "bgcolor": "#E5ECF6",
           "radialaxis": {
            "gridcolor": "white",
            "linecolor": "white",
            "ticks": ""
           }
          },
          "scene": {
           "xaxis": {
            "backgroundcolor": "#E5ECF6",
            "gridcolor": "white",
            "gridwidth": 2,
            "linecolor": "white",
            "showbackground": true,
            "ticks": "",
            "zerolinecolor": "white"
           },
           "yaxis": {
            "backgroundcolor": "#E5ECF6",
            "gridcolor": "white",
            "gridwidth": 2,
            "linecolor": "white",
            "showbackground": true,
            "ticks": "",
            "zerolinecolor": "white"
           },
           "zaxis": {
            "backgroundcolor": "#E5ECF6",
            "gridcolor": "white",
            "gridwidth": 2,
            "linecolor": "white",
            "showbackground": true,
            "ticks": "",
            "zerolinecolor": "white"
           }
          },
          "shapedefaults": {
           "line": {
            "color": "#2a3f5f"
           }
          },
          "ternary": {
           "aaxis": {
            "gridcolor": "white",
            "linecolor": "white",
            "ticks": ""
           },
           "baxis": {
            "gridcolor": "white",
            "linecolor": "white",
            "ticks": ""
           },
           "bgcolor": "#E5ECF6",
           "caxis": {
            "gridcolor": "white",
            "linecolor": "white",
            "ticks": ""
           }
          },
          "title": {
           "x": 0.05
          },
          "xaxis": {
           "automargin": true,
           "gridcolor": "white",
           "linecolor": "white",
           "ticks": "",
           "title": {
            "standoff": 15
           },
           "zerolinecolor": "white",
           "zerolinewidth": 2
          },
          "yaxis": {
           "automargin": true,
           "gridcolor": "white",
           "linecolor": "white",
           "ticks": "",
           "title": {
            "standoff": 15
           },
           "zerolinecolor": "white",
           "zerolinewidth": 2
          }
         }
        },
        "title": {
         "text": "Bollinger Bands"
        },
        "xaxis": {
         "autorange": true,
         "range": [
          "2023-01-04",
          "2023-12-29"
         ],
         "title": {
          "text": "Date"
         },
         "type": "date"
        },
        "yaxis": {
         "autorange": true,
         "range": [
          118.74081293304761,
          207.45094937204573
         ],
         "title": {
          "text": "Price"
         },
         "type": "linear"
        }
       }
      },
      "image/png": "[encoded data removed]",
      "text/html": [
       "<div>                            <div id=\"91575ee5-9fa6-4986-917b-761c6f6db4a8\" class=\"plotly-graph-div\" style=\"height:525px; width:100%;\"></div>            <script type=\"text/javascript\">                require([\"plotly\"], function(Plotly) {                    window.PLOTLYENV=window.PLOTLYENV || {};                                    if (document.getElementById(\"91575ee5-9fa6-4986-917b-761c6f6db4a8\")) {                    Plotly.newPlot(                        \"91575ee5-9fa6-4986-917b-761c6f6db4a8\",                        [{\"name\":\"Close Price\",\"x\":[\"2023-01-04T00:00:00\",\"2023-01-05T00:00:00\",\"2023-01-06T00:00:00\",\"2023-01-09T00:00:00\",\"2023-01-10T00:00:00\",\"2023-01-11T00:00:00\",\"2023-01-12T00:00:00\",\"2023-01-13T00:00:00\",\"2023-01-17T00:00:00\",\"2023-01-18T00:00:00\",\"2023-01-19T00:00:00\",\"2023-01-20T00:00:00\",\"2023-01-23T00:00:00\",\"2023-01-24T00:00:00\",\"2023-01-25T00:00:00\",\"2023-01-26T00:00:00\",\"2023-01-27T00:00:00\",\"2023-01-30T00:00:00\",\"2023-01-31T00:00:00\",\"2023-02-01T00:00:00\",\"2023-02-02T00:00:00\",\"2023-02-03T00:00:00\",\"2023-02-06T00:00:00\",\"2023-02-07T00:00:00\",\"2023-02-08T00:00:00\",\"2023-02-09T00:00:00\",\"2023-02-10T00:00:00\",\"2023-02-13T00:00:00\",\"2023-02-14T00:00:00\",\"2023-02-15T00:00:00\",\"2023-02-16T00:00:00\",\"2023-02-17T00:00:00\",\"2023-02-21T00:00:00\",\"2023-02-22T00:00:00\",\"2023-02-23T00:00:00\",\"2023-02-24T00:00:00\",\"2023-02-27T00:00:00\",\"2023-02-28T00:00:00\",\"2023-03-01T00:00:00\",\"2023-03-02T00:00:00\",\"2023-03-03T00:00:00\",\"2023-03-06T00:00:00\",\"2023-03-07T00:00:00\",\"2023-03-08T00:00:00\",\"2023-03-09T00:00:00\",\"2023-03-10T00:00:00\",\"2023-03-13T00:00:00\",\"2023-03-14T00:00:00\",\"2023-03-15T00:00:00\",\"2023-03-16T00:00:00\",\"2023-03-17T00:00:00\",\"2023-03-20T00:00:00\",\"2023-03-21T00:00:00\",\"2023-03-22T00:00:00\",\"2023-03-23T00:00:00\",\"2023-03-24T00:00:00\",\"2023-03-27T00:00:00\",\"2023-03-28T00:00:00\",\"2023-03-29T00:00:00\",\"2023-03-30T00:00:00\",\"2023-03-31T00:00:00\",\"2023-04-03T00:00:00\",\"2023-04-04T00:00:00\",\"2023-04-05T00:00:00\",\"2023-04-06T00:00:00\",\"2023-04-10T00:00:00\",\"2023-04-11T00:00:00\",\"2023-04-12T00:00:00\",\"2023-04-13T00:00:00\",\"2023-04-14T00:00:00\",\"2023-04-17T00:00:00\",\"2023-04-18T00:00:00\",\"2023-04-19T00:00:00\",\"2023-04-20T00:00:00\",\"2023-04-21T00:00:00\",\"2023-04-24T00:00:00\",\"2023-04-25T00:00:00\",\"2023-04-26T00:00:00\",\"2023-04-27T00:00:00\",\"2023-04-28T00:00:00\",\"2023-05-01T00:00:00\",\"2023-05-02T00:00:00\",\"2023-05-03T00:00:00\",\"2023-05-04T00:00:00\",\"2023-05-05T00:00:00\",\"2023-05-08T00:00:00\",\"2023-05-09T00:00:00\",\"2023-05-10T00:00:00\",\"2023-05-11T00:00:00\",\"2023-05-12T00:00:00\",\"2023-05-15T00:00:00\",\"2023-05-16T00:00:00\",\"2023-05-17T00:00:00\",\"2023-05-18T00:00:00\",\"2023-05-19T00:00:00\",\"2023-05-22T00:00:00\",\"2023-05-23T00:00:00\",\"2023-05-24T00:00:00\",\"2023-05-25T00:00:00\",\"2023-05-26T00:00:00\",\"2023-05-30T00:00:00\",\"2023-05-31T00:00:00\",\"2023-06-01T00:00:00\",\"2023-06-02T00:00:00\",\"2023-06-05T00:00:00\",\"2023-06-06T00:00:00\",\"2023-06-07T00:00:00\",\"2023-06-08T00:00:00\",\"2023-06-09T00:00:00\",\"2023-06-12T00:00:00\",\"2023-06-13T00:00:00\",\"2023-06-14T00:00:00\",\"2023-06-15T00:00:00\",\"2023-06-16T00:00:00\",\"2023-06-20T00:00:00\",\"2023-06-21T00:00:00\",\"2023-06-22T00:00:00\",\"2023-06-23T00:00:00\",\"2023-06-26T00:00:00\",\"2023-06-27T00:00:00\",\"2023-06-28T00:00:00\",\"2023-06-29T00:00:00\",\"2023-06-30T00:00:00\",\"2023-07-03T00:00:00\",\"2023-07-05T00:00:00\",\"2023-07-06T00:00:00\",\"2023-07-07T00:00:00\",\"2023-07-10T00:00:00\",\"2023-07-11T00:00:00\",\"2023-07-12T00:00:00\",\"2023-07-13T00:00:00\",\"2023-07-14T00:00:00\",\"2023-07-17T00:00:00\",\"2023-07-18T00:00:00\",\"2023-07-19T00:00:00\",\"2023-07-20T00:00:00\",\"2023-07-21T00:00:00\",\"2023-07-24T00:00:00\",\"2023-07-25T00:00:00\",\"2023-07-26T00:00:00\",\"2023-07-27T00:00:00\",\"2023-07-28T00:00:00\",\"2023-07-31T00:00:00\",\"2023-08-01T00:00:00\",\"2023-08-02T00:00:00\",\"2023-08-03T00:00:00\",\"2023-08-04T00:00:00\",\"2023-08-07T00:00:00\",\"2023-08-08T00:00:00\",\"2023-08-09T00:00:00\",\"2023-08-10T00:00:00\",\"2023-08-11T00:00:00\",\"2023-08-14T00:00:00\",\"2023-08-15T00:00:00\",\"2023-08-16T00:00:00\",\"2023-08-17T00:00:00\",\"2023-08-18T00:00:00\",\"2023-08-21T00:00:00\",\"2023-08-22T00:00:00\",\"2023-08-23T00:00:00\",\"2023-08-24T00:00:00\",\"2023-08-25T00:00:00\",\"2023-08-28T00:00:00\",\"2023-08-29T00:00:00\",\"2023-08-30T00:00:00\",\"2023-08-31T00:00:00\",\"2023-09-01T00:00:00\",\"2023-09-05T00:00:00\",\"2023-09-06T00:00:00\",\"2023-09-07T00:00:00\",\"2023-09-08T00:00:00\",\"2023-09-11T00:00:00\",\"2023-09-12T00:00:00\",\"2023-09-13T00:00:00\",\"2023-09-14T00:00:00\",\"2023-09-15T00:00:00\",\"2023-09-18T00:00:00\",\"2023-09-19T00:00:00\",\"2023-09-20T00:00:00\",\"2023-09-21T00:00:00\",\"2023-09-22T00:00:00\",\"2023-09-25T00:00:00\",\"2023-09-26T00:00:00\",\"2023-09-27T00:00:00\",\"2023-09-28T00:00:00\",\"2023-09-29T00:00:00\",\"2023-10-02T00:00:00\",\"2023-10-03T00:00:00\",\"2023-10-04T00:00:00\",\"2023-10-05T00:00:00\",\"2023-10-06T00:00:00\",\"2023-10-09T00:00:00\",\"2023-10-10T00:00:00\",\"2023-10-11T00:00:00\",\"2023-10-12T00:00:00\",\"2023-10-13T00:00:00\",\"2023-10-16T00:00:00\",\"2023-10-17T00:00:00\",\"2023-10-18T00:00:00\",\"2023-10-19T00:00:00\",\"2023-10-20T00:00:00\",\"2023-10-23T00:00:00\",\"2023-10-24T00:00:00\",\"2023-10-25T00:00:00\",\"2023-10-26T00:00:00\",\"2023-10-27T00:00:00\",\"2023-10-30T00:00:00\",\"2023-10-31T00:00:00\",\"2023-11-01T00:00:00\",\"2023-11-02T00:00:00\",\"2023-11-03T00:00:00\",\"2023-11-06T00:00:00\",\"2023-11-07T00:00:00\",\"2023-11-08T00:00:00\",\"2023-11-09T00:00:00\",\"2023-11-10T00:00:00\",\"2023-11-13T00:00:00\",\"2023-11-14T00:00:00\",\"2023-11-15T00:00:00\",\"2023-11-16T00:00:00\",\"2023-11-17T00:00:00\",\"2023-11-20T00:00:00\",\"2023-11-21T00:00:00\",\"2023-11-22T00:00:00\",\"2023-11-24T00:00:00\",\"2023-11-27T00:00:00\",\"2023-11-28T00:00:00\",\"2023-11-29T00:00:00\",\"2023-11-30T00:00:00\",\"2023-12-01T00:00:00\",\"2023-12-04T00:00:00\",\"2023-12-05T00:00:00\",\"2023-12-06T00:00:00\",\"2023-12-07T00:00:00\",\"2023-12-08T00:00:00\",\"2023-12-11T00:00:00\",\"2023-12-12T00:00:00\",\"2023-12-13T00:00:00\",\"2023-12-14T00:00:00\",\"2023-12-15T00:00:00\",\"2023-12-18T00:00:00\",\"2023-12-19T00:00:00\",\"2023-12-20T00:00:00\",\"2023-12-21T00:00:00\",\"2023-12-22T00:00:00\",\"2023-12-26T00:00:00\",\"2023-12-27T00:00:00\",\"2023-12-28T00:00:00\",\"2023-12-29T00:00:00\"],\"y\":[125.658,124.325,128.9,129.427,130.003,132.748,132.668,134.011,135.184,134.458,134.518,137.104,140.326,141.738,141.071,143.16,145.119,142.205,143.488,144.622,149.982,153.641,150.887,153.79,151.076,150.031,150.4,153.228,152.581,154.702,153.089,151.934,147.88,148.308,148.796,146.117,147.322,146.814,144.723,145.321,150.42,153.209,150.988,152.252,149.982,147.9,149.862,151.974,152.372,155.22,154.374,156.764,158.636,157.192,158.288,159.603,157.641,157.013,160.12,161.704,164.234,165.499,164.961,163.098,163.995,161.375,160.15,159.453,164.891,164.543,164.562,165.797,166.953,165.977,164.353,164.662,163.108,163.098,167.73,168.994,168.905,167.859,166.773,165.12,172.869,172.799,171.076,172.854,173.048,172.111,171.612,171.612,172.23,174.584,174.694,173.736,171.103,171.382,172.529,174.963,176.828,176.778,179.611,180.468,179.102,178.733,177.347,180.089,180.478,183.301,182.822,183.46,185.515,184.428,184.517,183.47,186.502,186.183,184.777,187.559,188.746,189.085,193.454,191.948,190.821,191.299,190.172,188.108,187.579,189.265,190.033,190.182,193.474,193.214,194.581,192.616,191.429,192.237,193.104,193.982,192.706,195.309,195.927,195.084,192.067,190.661,181.505,178.374,179.321,177.716,177.496,177.556,179.224,177.217,176.338,173.771,174.26,175.609,176.997,180.882,176.148,178.375,179.953,183.878,187.403,187.623,189.211,189.45,182.669,177.326,177.946,179.124,176.068,173.981,175.509,174.78,177.736,178.834,175.259,173.701,174.56,175.848,171.734,170.206,170.465,170.985,173.521,172.173,173.432,174.68,177.256,178.754,178.155,179.563,180.472,178.615,178.485,176.917,175.609,175.229,172.653,172.772,173.212,170.875,166.67,167.999,170.066,170.545,173.741,177.336,176.418,178.994,181.581,182.649,182.17,186.4,184.8,187.44,188.01,189.71,189.69,191.45,190.64,191.31,189.97,189.79,190.4,189.37,189.95,191.24,189.43,193.42,192.32,194.27,195.71,193.18,194.71,197.96,198.11,197.57,195.89,196.94,194.83,194.68,193.6,193.05,193.15,193.58,192.53],\"type\":\"scatter\"},{\"line\":{\"color\":\"red\"},\"name\":\"Upper Band\",\"x\":[\"2023-01-04T00:00:00\",\"2023-01-05T00:00:00\",\"2023-01-06T00:00:00\",\"2023-01-09T00:00:00\",\"2023-01-10T00:00:00\",\"2023-01-11T00:00:00\",\"2023-01-12T00:00:00\",\"2023-01-13T00:00:00\",\"2023-01-17T00:00:00\",\"2023-01-18T00:00:00\",\"2023-01-19T00:00:00\",\"2023-01-20T00:00:00\",\"2023-01-23T00:00:00\",\"2023-01-24T00:00:00\",\"2023-01-25T00:00:00\",\"2023-01-26T00:00:00\",\"2023-01-27T00:00:00\",\"2023-01-30T00:00:00\",\"2023-01-31T00:00:00\",\"2023-02-01T00:00:00\",\"2023-02-02T00:00:00\",\"2023-02-03T00:00:00\",\"2023-02-06T00:00:00\",\"2023-02-07T00:00:00\",\"2023-02-08T00:00:00\",\"2023-02-09T00:00:00\",\"2023-02-10T00:00:00\",\"2023-02-13T00:00:00\",\"2023-02-14T00:00:00\",\"2023-02-15T00:00:00\",\"2023-02-16T00:00:00\",\"2023-02-17T00:00:00\",\"2023-02-21T00:00:00\",\"2023-02-22T00:00:00\",\"2023-02-23T00:00:00\",\"2023-02-24T00:00:00\",\"2023-02-27T00:00:00\",\"2023-02-28T00:00:00\",\"2023-03-01T00:00:00\",\"2023-03-02T00:00:00\",\"2023-03-03T00:00:00\",\"2023-03-06T00:00:00\",\"2023-03-07T00:00:00\",\"2023-03-08T00:00:00\",\"2023-03-09T00:00:00\",\"2023-03-10T00:00:00\",\"2023-03-13T00:00:00\",\"2023-03-14T00:00:00\",\"2023-03-15T00:00:00\",\"2023-03-16T00:00:00\",\"2023-03-17T00:00:00\",\"2023-03-20T00:00:00\",\"2023-03-21T00:00:00\",\"2023-03-22T00:00:00\",\"2023-03-23T00:00:00\",\"2023-03-24T00:00:00\",\"2023-03-27T00:00:00\",\"2023-03-28T00:00:00\",\"2023-03-29T00:00:00\",\"2023-03-30T00:00:00\",\"2023-03-31T00:00:00\",\"2023-04-03T00:00:00\",\"2023-04-04T00:00:00\",\"2023-04-05T00:00:00\",\"2023-04-06T00:00:00\",\"2023-04-10T00:00:00\",\"2023-04-11T00:00:00\",\"2023-04-12T00:00:00\",\"2023-04-13T00:00:00\",\"2023-04-14T00:00:00\",\"2023-04-17T00:00:00\",\"2023-04-18T00:00:00\",\"2023-04-19T00:00:00\",\"2023-04-20T00:00:00\",\"2023-04-21T00:00:00\",\"2023-04-24T00:00:00\",\"2023-04-25T00:00:00\",\"2023-04-26T00:00:00\",\"2023-04-27T00:00:00\",\"2023-04-28T00:00:00\",\"2023-05-01T00:00:00\",\"2023-05-02T00:00:00\",\"2023-05-03T00:00:00\",\"2023-05-04T00:00:00\",\"2023-05-05T00:00:00\",\"2023-05-08T00:00:00\",\"2023-05-09T00:00:00\",\"2023-05-10T00:00:00\",\"2023-05-11T00:00:00\",\"2023-05-12T00:00:00\",\"2023-05-15T00:00:00\",\"2023-05-16T00:00:00\",\"2023-05-17T00:00:00\",\"2023-05-18T00:00:00\",\"2023-05-19T00:00:00\",\"2023-05-22T00:00:00\",\"2023-05-23T00:00:00\",\"2023-05-24T00:00:00\",\"2023-05-25T00:00:00\",\"2023-05-26T00:00:00\",\"2023-05-30T00:00:00\",\"2023-05-31T00:00:00\",\"2023-06-01T00:00:00\",\"2023-06-02T00:00:00\",\"2023-06-05T00:00:00\",\"2023-06-06T00:00:00\",\"2023-06-07T00:00:00\",\"2023-06-08T00:00:00\",\"2023-06-09T00:00:00\",\"2023-06-12T00:00:00\",\"2023-06-13T00:00:00\",\"2023-06-14T00:00:00\",\"2023-06-15T00:00:00\",\"2023-06-16T00:00:00\",\"2023-06-20T00:00:00\",\"2023-06-21T00:00:00\",\"2023-06-22T00:00:00\",\"2023-06-23T00:00:00\",\"2023-06-26T00:00:00\",\"2023-06-27T00:00:00\",\"2023-06-28T00:00:00\",\"2023-06-29T00:00:00\",\"2023-06-30T00:00:00\",\"2023-07-03T00:00:00\",\"2023-07-05T00:00:00\",\"2023-07-06T00:00:00\",\"2023-07-07T00:00:00\",\"2023-07-10T00:00:00\",\"2023-07-11T00:00:00\",\"2023-07-12T00:00:00\",\"2023-07-13T00:00:00\",\"2023-07-14T00:00:00\",\"2023-07-17T00:00:00\",\"2023-07-18T00:00:00\",\"2023-07-19T00:00:00\",\"2023-07-20T00:00:00\",\"2023-07-21T00:00:00\",\"2023-07-24T00:00:00\",\"2023-07-25T00:00:00\",\"2023-07-26T00:00:00\",\"2023-07-27T00:00:00\",\"2023-07-28T00:00:00\",\"2023-07-31T00:00:00\",\"2023-08-01T00:00:00\",\"2023-08-02T00:00:00\",\"2023-08-03T00:00:00\",\"2023-08-04T00:00:00\",\"2023-08-07T00:00:00\",\"2023-08-08T00:00:00\",\"2023-08-09T00:00:00\",\"2023-08-10T00:00:00\",\"2023-08-11T00:00:00\",\"2023-08-14T00:00:00\",\"2023-08-15T00:00:00\",\"2023-08-16T00:00:00\",\"2023-08-17T00:00:00\",\"2023-08-18T00:00:00\",\"2023-08-21T00:00:00\",\"2023-08-22T00:00:00\",\"2023-08-23T00:00:00\",\"2023-08-24T00:00:00\",\"2023-08-25T00:00:00\",\"2023-08-28T00:00:00\",\"2023-08-29T00:00:00\",\"2023-08-30T00:00:00\",\"2023-08-31T00:00:00\",\"2023-09-01T00:00:00\",\"2023-09-05T00:00:00\",\"2023-09-06T00:00:00\",\"2023-09-07T00:00:00\",\"2023-09-08T00:00:00\",\"2023-09-11T00:00:00\",\"2023-09-12T00:00:00\",\"2023-09-13T00:00:00\",\"2023-09-14T00:00:00\",\"2023-09-15T00:00:00\",\"2023-09-18T00:00:00\",\"2023-09-19T00:00:00\",\"2023-09-20T00:00:00\",\"2023-09-21T00:00:00\",\"2023-09-22T00:00:00\",\"2023-09-25T00:00:00\",\"2023-09-26T00:00:00\",\"2023-09-27T00:00:00\",\"2023-09-28T00:00:00\",\"2023-09-29T00:00:00\",\"2023-10-02T00:00:00\",\"2023-10-03T00:00:00\",\"2023-10-04T00:00:00\",\"2023-10-05T00:00:00\",\"2023-10-06T00:00:00\",\"2023-10-09T00:00:00\",\"2023-10-10T00:00:00\",\"2023-10-11T00:00:00\",\"2023-10-12T00:00:00\",\"2023-10-13T00:00:00\",\"2023-10-16T00:00:00\",\"2023-10-17T00:00:00\",\"2023-10-18T00:00:00\",\"2023-10-19T00:00:00\",\"2023-10-20T00:00:00\",\"2023-10-23T00:00:00\",\"2023-10-24T00:00:00\",\"2023-10-25T00:00:00\",\"2023-10-26T00:00:00\",\"2023-10-27T00:00:00\",\"2023-10-30T00:00:00\",\"2023-10-31T00:00:00\",\"2023-11-01T00:00:00\",\"2023-11-02T00:00:00\",\"2023-11-03T00:00:00\",\"2023-11-06T00:00:00\",\"2023-11-07T00:00:00\",\"2023-11-08T00:00:00\",\"2023-11-09T00:00:00\",\"2023-11-10T00:00:00\",\"2023-11-13T00:00:00\",\"2023-11-14T00:00:00\",\"2023-11-15T00:00:00\",\"2023-11-16T00:00:00\",\"2023-11-17T00:00:00\",\"2023-11-20T00:00:00\",\"2023-11-21T00:00:00\",\"2023-11-22T00:00:00\",\"2023-11-24T00:00:00\",\"2023-11-27T00:00:00\",\"2023-11-28T00:00:00\",\"2023-11-29T00:00:00\",\"2023-11-30T00:00:00\",\"2023-12-01T00:00:00\",\"2023-12-04T00:00:00\",\"2023-12-05T00:00:00\",\"2023-12-06T00:00:00\",\"2023-12-07T00:00:00\",\"2023-12-08T00:00:00\",\"2023-12-11T00:00:00\",\"2023-12-12T00:00:00\",\"2023-12-13T00:00:00\",\"2023-12-14T00:00:00\",\"2023-12-15T00:00:00\",\"2023-12-18T00:00:00\",\"2023-12-19T00:00:00\",\"2023-12-20T00:00:00\",\"2023-12-21T00:00:00\",\"2023-12-22T00:00:00\",\"2023-12-26T00:00:00\",\"2023-12-27T00:00:00\",\"2023-12-28T00:00:00\",\"2023-12-29T00:00:00\"],\"y\":[null,null,null,null,null,null,null,null,null,null,null,null,null,null,null,null,null,null,null,148.8969802450025,150.57293383528224,152.4930562479734,153.80091601242478,155.44590788211067,156.18093161344277,156.74958835687502,157.12243303826315,157.8678656422058,158.35256243207883,158.8160593600761,158.61429442099742,158.32456304843092,157.96711692880487,157.69623529702955,157.22673203281008,156.97370516555782,156.865158821068,156.33586770670564,156.15502212076976,156.06829544159328,156.09262271390446,156.01986633208546,156.02812378336895,155.78557124682155,155.70723042893607,155.66879070306152,155.63520840499768,155.44225626208737,155.41048609548145,155.53574618530467,155.78218479497022,156.73472729162515,158.20683991025274,159.11676548867214,160.1382236128808,161.1461794601063,161.67728188779157,161.94095579752016,162.27404930726237,162.7313520550516,164.19125722760543,165.80974899125945,166.96463917305843,167.64595070048122,168.14935680959783,167.72046660982525,167.23168254345416,166.84651844741006,166.9974328121057,167.29902371683224,167.31616097333742,167.7269034585768,168.4097368075099,168.64532247774957,168.66737784531054,168.77521456461434,168.4524893354274,167.8168665388077,168.23849609787385,169.00453802845513,169.66055145740503,169.97283363533649,170.14266019608942,170.18307519190702,171.68837972178406,172.78590174953618,173.1313319869403,173.5165068527652,174.34689365517522,174.86087012504763,175.20873072856986,175.54779817836268,175.95109887270854,176.68720992967238,177.20282894134996,177.44359538276993,177.0165999546524,176.35301939070192,176.38980836833412,176.81848324299816,177.54733553600232,178.02912251989903,178.87784940304135,179.26120619738543,180.0341510519439,180.63368946601133,180.8616424574651,181.593101456443,182.30621734778435,183.50275145941018,184.33652117332014,185.12687719250616,186.24740639252988,187.0754367029467,187.7989917670207,188.17036368126094,188.59226535340403,188.68098299278722,188.41742155552498,188.8448806388612,189.5845339460705,190.17333194193205,191.99415831344734,193.12884613265788,193.74150131218576,194.22680446390476,194.0786839242068,193.89830107836843,193.59162505503377,193.67986241143652,193.7291157054587,193.77085399344278,194.49319629106242,194.93913980224838,195.5410164869619,195.42443452265934,195.44956569931833,195.45913793172366,195.1888358692596,195.40173734952805,195.46874803165605,195.9644894712376,196.42888341758388,196.80460814910475,196.83123994837047,196.8312218985675,198.32565163061315,199.9983421969732,200.95722507529095,201.9246868158017,202.59608690441993,203.01544255009583,202.76620191053016,202.55356402369523,202.01459970612706,201.7793258975698,201.4204532729984,200.6629824805221,199.53323473223162,198.07121852532973,196.69080256703282,194.4361990219062,191.62191604402014,188.87304918794172,187.48696031526208,186.5235131957109,188.13866696744327,189.76179831029566,189.99984864811339,190.0015174785952,190.00148573722362,190.02004438242054,190.02583357484843,190.1545796787969,190.17908383270807,190.1150319039643,190.0031012023011,189.96538168137783,190.0279986359973,190.0629464193952,190.12375214855004,190.12358564850064,190.26937899810252,190.02876934962316,188.89848194442382,187.3894425283204,184.91955342833933,181.56893442727235,180.07067362768603,179.79124972991397,179.67074754114833,179.58478181258425,179.90675189104476,180.62108621257735,181.39107574474576,181.77212941006846,181.87727841509664,181.61975269929957,181.63940257050865,181.67384678117224,181.68391212073237,181.6150120451685,181.5615265238352,181.4922364652147,182.08207693463262,182.39987429445307,182.50831557729902,182.56919932359753,182.57632758647065,182.801854087593,182.71357265506455,182.75179633222925,183.36563702205734,183.97816644987518,184.30915996726483,185.90214320146322,186.95569584538416,188.6337799189915,190.30250140471375,192.1525896653918,193.74109009941597,195.45504722147146,196.78014819494481,197.8600680330556,197.902289701964,197.68242642912585,197.4519140362798,196.67905698858095,196.12737256358284,196.05029052123123,195.19733750884598,195.0971720631552,194.99267858198363,195.2203255427504,195.37305765531866,195.5283428951445,195.53432441548833,196.68404787682016,197.6633304765299,198.43577548797626,198.7701247398773,199.27822037213878,199.41888230035943,199.53977526603,199.49052813278664,199.3720577336593,199.28284646094878,199.0405134312671,198.82138809382417],\"type\":\"scatter\"},{\"line\":{\"color\":\"green\"},\"name\":\"Middle Band\",\"x\":[\"2023-01-04T00:00:00\",\"2023-01-05T00:00:00\",\"2023-01-06T00:00:00\",\"2023-01-09T00:00:00\",\"2023-01-10T00:00:00\",\"2023-01-11T00:00:00\",\"2023-01-12T00:00:00\",\"2023-01-13T00:00:00\",\"2023-01-17T00:00:00\",\"2023-01-18T00:00:00\",\"2023-01-19T00:00:00\",\"2023-01-20T00:00:00\",\"2023-01-23T00:00:00\",\"2023-01-24T00:00:00\",\"2023-01-25T00:00:00\",\"2023-01-26T00:00:00\",\"2023-01-27T00:00:00\",\"2023-01-30T00:00:00\",\"2023-01-31T00:00:00\",\"2023-02-01T00:00:00\",\"2023-02-02T00:00:00\",\"2023-02-03T00:00:00\",\"2023-02-06T00:00:00\",\"2023-02-07T00:00:00\",\"2023-02-08T00:00:00\",\"2023-02-09T00:00:00\",\"2023-02-10T00:00:00\",\"2023-02-13T00:00:00\",\"2023-02-14T00:00:00\",\"2023-02-15T00:00:00\",\"2023-02-16T00:00:00\",\"2023-02-17T00:00:00\",\"2023-02-21T00:00:00\",\"2023-02-22T00:00:00\",\"2023-02-23T00:00:00\",\"2023-02-24T00:00:00\",\"2023-02-27T00:00:00\",\"2023-02-28T00:00:00\",\"2023-03-01T00:00:00\",\"2023-03-02T00:00:00\",\"2023-03-03T00:00:00\",\"2023-03-06T00:00:00\",\"2023-03-07T00:00:00\",\"2023-03-08T00:00:00\",\"2023-03-09T00:00:00\",\"2023-03-10T00:00:00\",\"2023-03-13T00:00:00\",\"2023-03-14T00:00:00\",\"2023-03-15T00:00:00\",\"2023-03-16T00:00:00\",\"2023-03-17T00:00:00\",\"2023-03-20T00:00:00\",\"2023-03-21T00:00:00\",\"2023-03-22T00:00:00\",\"2023-03-23T00:00:00\",\"2023-03-24T00:00:00\",\"2023-03-27T00:00:00\",\"2023-03-28T00:00:00\",\"2023-03-29T00:00:00\",\"2023-03-30T00:00:00\",\"2023-03-31T00:00:00\",\"2023-04-03T00:00:00\",\"2023-04-04T00:00:00\",\"2023-04-05T00:00:00\",\"2023-04-06T00:00:00\",\"2023-04-10T00:00:00\",\"2023-04-11T00:00:00\",\"2023-04-12T00:00:00\",\"2023-04-13T00:00:00\",\"2023-04-14T00:00:00\",\"2023-04-17T00:00:00\",\"2023-04-18T00:00:00\",\"2023-04-19T00:00:00\",\"2023-04-20T00:00:00\",\"2023-04-21T00:00:00\",\"2023-04-24T00:00:00\",\"2023-04-25T00:00:00\",\"2023-04-26T00:00:00\",\"2023-04-27T00:00:00\",\"2023-04-28T00:00:00\",\"2023-05-01T00:00:00\",\"2023-05-02T00:00:00\",\"2023-05-03T00:00:00\",\"2023-05-04T00:00:00\",\"2023-05-05T00:00:00\",\"2023-05-08T00:00:00\",\"2023-05-09T00:00:00\",\"2023-05-10T00:00:00\",\"2023-05-11T00:00:00\",\"2023-05-12T00:00:00\",\"2023-05-15T00:00:00\",\"2023-05-16T00:00:00\",\"2023-05-17T00:00:00\",\"2023-05-18T00:00:00\",\"2023-05-19T00:00:00\",\"2023-05-22T00:00:00\",\"2023-05-23T00:00:00\",\"2023-05-24T00:00:00\",\"2023-05-25T00:00:00\",\"2023-05-26T00:00:00\",\"2023-05-30T00:00:00\",\"2023-05-31T00:00:00\",\"2023-06-01T00:00:00\",\"2023-06-02T00:00:00\",\"2023-06-05T00:00:00\",\"2023-06-06T00:00:00\",\"2023-06-07T00:00:00\",\"2023-06-08T00:00:00\",\"2023-06-09T00:00:00\",\"2023-06-12T00:00:00\",\"2023-06-13T00:00:00\",\"2023-06-14T00:00:00\",\"2023-06-15T00:00:00\",\"2023-06-16T00:00:00\",\"2023-06-20T00:00:00\",\"2023-06-21T00:00:00\",\"2023-06-22T00:00:00\",\"2023-06-23T00:00:00\",\"2023-06-26T00:00:00\",\"2023-06-27T00:00:00\",\"2023-06-28T00:00:00\",\"2023-06-29T00:00:00\",\"2023-06-30T00:00:00\",\"2023-07-03T00:00:00\",\"2023-07-05T00:00:00\",\"2023-07-06T00:00:00\",\"2023-07-07T00:00:00\",\"2023-07-10T00:00:00\",\"2023-07-11T00:00:00\",\"2023-07-12T00:00:00\",\"2023-07-13T00:00:00\",\"2023-07-14T00:00:00\",\"2023-07-17T00:00:00\",\"2023-07-18T00:00:00\",\"2023-07-19T00:00:00\",\"2023-07-20T00:00:00\",\"2023-07-21T00:00:00\",\"2023-07-24T00:00:00\",\"2023-07-25T00:00:00\",\"2023-07-26T00:00:00\",\"2023-07-27T00:00:00\",\"2023-07-28T00:00:00\",\"2023-07-31T00:00:00\",\"2023-08-01T00:00:00\",\"2023-08-02T00:00:00\",\"2023-08-03T00:00:00\",\"2023-08-04T00:00:00\",\"2023-08-07T00:00:00\",\"2023-08-08T00:00:00\",\"2023-08-09T00:00:00\",\"2023-08-10T00:00:00\",\"2023-08-11T00:00:00\",\"2023-08-14T00:00:00\",\"2023-08-15T00:00:00\",\"2023-08-16T00:00:00\",\"2023-08-17T00:00:00\",\"2023-08-18T00:00:00\",\"2023-08-21T00:00:00\",\"2023-08-22T00:00:00\",\"2023-08-23T00:00:00\",\"2023-08-24T00:00:00\",\"2023-08-25T00:00:00\",\"2023-08-28T00:00:00\",\"2023-08-29T00:00:00\",\"2023-08-30T00:00:00\",\"2023-08-31T00:00:00\",\"2023-09-01T00:00:00\",\"2023-09-05T00:00:00\",\"2023-09-06T00:00:00\",\"2023-09-07T00:00:00\",\"2023-09-08T00:00:00\",\"2023-09-11T00:00:00\",\"2023-09-12T00:00:00\",\"2023-09-13T00:00:00\",\"2023-09-14T00:00:00\",\"2023-09-15T00:00:00\",\"2023-09-18T00:00:00\",\"2023-09-19T00:00:00\",\"2023-09-20T00:00:00\",\"2023-09-21T00:00:00\",\"2023-09-22T00:00:00\",\"2023-09-25T00:00:00\",\"2023-09-26T00:00:00\",\"2023-09-27T00:00:00\",\"2023-09-28T00:00:00\",\"2023-09-29T00:00:00\",\"2023-10-02T00:00:00\",\"2023-10-03T00:00:00\",\"2023-10-04T00:00:00\",\"2023-10-05T00:00:00\",\"2023-10-06T00:00:00\",\"2023-10-09T00:00:00\",\"2023-10-10T00:00:00\",\"2023-10-11T00:00:00\",\"2023-10-12T00:00:00\",\"2023-10-13T00:00:00\",\"2023-10-16T00:00:00\",\"2023-10-17T00:00:00\",\"2023-10-18T00:00:00\",\"2023-10-19T00:00:00\",\"2023-10-20T00:00:00\",\"2023-10-23T00:00:00\",\"2023-10-24T00:00:00\",\"2023-10-25T00:00:00\",\"2023-10-26T00:00:00\",\"2023-10-27T00:00:00\",\"2023-10-30T00:00:00\",\"2023-10-31T00:00:00\",\"2023-11-01T00:00:00\",\"2023-11-02T00:00:00\",\"2023-11-03T00:00:00\",\"2023-11-06T00:00:00\",\"2023-11-07T00:00:00\",\"2023-11-08T00:00:00\",\"2023-11-09T00:00:00\",\"2023-11-10T00:00:00\",\"2023-11-13T00:00:00\",\"2023-11-14T00:00:00\",\"2023-11-15T00:00:00\",\"2023-11-16T00:00:00\",\"2023-11-17T00:00:00\",\"2023-11-20T00:00:00\",\"2023-11-21T00:00:00\",\"2023-11-22T00:00:00\",\"2023-11-24T00:00:00\",\"2023-11-27T00:00:00\",\"2023-11-28T00:00:00\",\"2023-11-29T00:00:00\",\"2023-11-30T00:00:00\",\"2023-12-01T00:00:00\",\"2023-12-04T00:00:00\",\"2023-12-05T00:00:00\",\"2023-12-06T00:00:00\",\"2023-12-07T00:00:00\",\"2023-12-08T00:00:00\",\"2023-12-11T00:00:00\",\"2023-12-12T00:00:00\",\"2023-12-13T00:00:00\",\"2023-12-14T00:00:00\",\"2023-12-15T00:00:00\",\"2023-12-18T00:00:00\",\"2023-12-19T00:00:00\",\"2023-12-20T00:00:00\",\"2023-12-21T00:00:00\",\"2023-12-22T00:00:00\",\"2023-12-26T00:00:00\",\"2023-12-27T00:00:00\",\"2023-12-28T00:00:00\",\"2023-12-29T00:00:00\"],\"y\":[null,null,null,null,null,null,null,null,null,null,null,null,null,null,null,null,null,null,null,136.03665,137.25285000000002,138.71864999999997,139.818,141.03615,142.0898,142.95395,143.84055,144.8014,145.67125000000001,146.68345,147.612,148.3535,148.7312,149.05970000000002,149.44594999999998,149.59380000000002,149.70395,149.9344,149.99615,150.03109999999998,150.053,150.0314,150.03645,149.95955,149.90485,149.79829999999998,149.7714,149.7087,149.69824999999997,149.72415,149.7884,150.0299,150.5677,151.0119,151.4865,152.16080000000002,152.67675000000003,153.1867,153.95655,154.7757,155.4664,156.08089999999999,156.77955000000003,157.32184999999998,158.02249999999998,158.69625000000002,159.21065000000002,159.5846,160.21055,160.6767,161.1861,161.63775,162.05360000000002,162.49285,162.7961,163.04905,163.3224,163.62664999999998,164.00715,164.37165,164.6052,164.72320000000002,164.8138,164.91490000000002,165.3586,165.9298,166.4761,167.14615,167.554,167.93239999999997,168.2849,168.57565,168.8395,169.26985,169.7869,170.24060000000003,170.64035,171.05455,171.2945,171.59295,171.9891,172.43505,173.07695,173.84435,174.156,174.4527,174.76625,175.128,175.4995,176.05900000000003,176.6195,177.21189999999999,177.87615,178.36835000000002,178.8595,179.3462,180.11615,180.8562,181.4686,182.0984,182.6943,183.30965,184.0018,184.57580000000002,185.16175,185.79005,186.4313,186.83225,187.1873,187.4855,187.84605000000002,188.18215,188.5801,189.0194,189.5226,189.9799,190.22625,190.52894999999998,190.9453,191.26645000000002,191.46445,191.77564999999998,191.89929999999998,192.0561,192.1184,192.0865,191.65315,191.16645,190.75355,190.1761,189.54924999999997,188.91795,188.20544999999998,187.4056,186.49345,185.5512,184.69275,183.86135000000002,183.05599999999998,182.401,181.5731,180.7264,179.92770000000002,179.3674,179.13420000000002,178.9823,179.36759999999998,179.9214,180.08880000000002,180.0693,180.0918,180.1702,180.0124,179.8506,179.80915,179.8596,180.03339999999997,180.19465,180.10774999999998,179.74869999999999,179.6693,179.54295,179.132,178.44840000000002,177.6015,176.7696,175.98510000000002,175.12125,174.6594,174.5271,174.49259999999998,174.4741,174.57845,174.85755,175.1057,175.29745,175.3349,175.23905,175.25655,175.33295,175.2376,175.0838,175.1577,175.19115,175.00140000000002,174.8521,174.67935,174.59795,174.6134,174.7462,174.70430000000002,174.7163,174.8876,175.0419,175.1268,175.51605,175.83180000000002,176.35795,176.978,177.70205,178.5539,179.4878,180.3592,181.38094999999998,182.54595,183.6355,184.6522,185.59345000000002,186.4039,187.0991,187.7497,188.471,189.00795,189.589,190.26600000000002,190.605,191.10049999999998,191.62650000000002,192.13150000000002,192.5245,192.8345,193.109,193.31850000000003,193.48700000000002,193.6685,193.8315,193.969,194.17950000000002,194.3085],\"type\":\"scatter\"},{\"line\":{\"color\":\"red\"},\"name\":\"Lower Band\",\"x\":[\"2023-01-04T00:00:00\",\"2023-01-05T00:00:00\",\"2023-01-06T00:00:00\",\"2023-01-09T00:00:00\",\"2023-01-10T00:00:00\",\"2023-01-11T00:00:00\",\"2023-01-12T00:00:00\",\"2023-01-13T00:00:00\",\"2023-01-17T00:00:00\",\"2023-01-18T00:00:00\",\"2023-01-19T00:00:00\",\"2023-01-20T00:00:00\",\"2023-01-23T00:00:00\",\"2023-01-24T00:00:00\",\"2023-01-25T00:00:00\",\"2023-01-26T00:00:00\",\"2023-01-27T00:00:00\",\"2023-01-30T00:00:00\",\"2023-01-31T00:00:00\",\"2023-02-01T00:00:00\",\"2023-02-02T00:00:00\",\"2023-02-03T00:00:00\",\"2023-02-06T00:00:00\",\"2023-02-07T00:00:00\",\"2023-02-08T00:00:00\",\"2023-02-09T00:00:00\",\"2023-02-10T00:00:00\",\"2023-02-13T00:00:00\",\"2023-02-14T00:00:00\",\"2023-02-15T00:00:00\",\"2023-02-16T00:00:00\",\"2023-02-17T00:00:00\",\"2023-02-21T00:00:00\",\"2023-02-22T00:00:00\",\"2023-02-23T00:00:00\",\"2023-02-24T00:00:00\",\"2023-02-27T00:00:00\",\"2023-02-28T00:00:00\",\"2023-03-01T00:00:00\",\"2023-03-02T00:00:00\",\"2023-03-03T00:00:00\",\"2023-03-06T00:00:00\",\"2023-03-07T00:00:00\",\"2023-03-08T00:00:00\",\"2023-03-09T00:00:00\",\"2023-03-10T00:00:00\",\"2023-03-13T00:00:00\",\"2023-03-14T00:00:00\",\"2023-03-15T00:00:00\",\"2023-03-16T00:00:00\",\"2023-03-17T00:00:00\",\"2023-03-20T00:00:00\",\"2023-03-21T00:00:00\",\"2023-03-22T00:00:00\",\"2023-03-23T00:00:00\",\"2023-03-24T00:00:00\",\"2023-03-27T00:00:00\",\"2023-03-28T00:00:00\",\"2023-03-29T00:00:00\",\"2023-03-30T00:00:00\",\"2023-03-31T00:00:00\",\"2023-04-03T00:00:00\",\"2023-04-04T00:00:00\",\"2023-04-05T00:00:00\",\"2023-04-06T00:00:00\",\"2023-04-10T00:00:00\",\"2023-04-11T00:00:00\",\"2023-04-12T00:00:00\",\"2023-04-13T00:00:00\",\"2023-04-14T00:00:00\",\"2023-04-17T00:00:00\",\"2023-04-18T00:00:00\",\"2023-04-19T00:00:00\",\"2023-04-20T00:00:00\",\"2023-04-21T00:00:00\",\"2023-04-24T00:00:00\",\"2023-04-25T00:00:00\",\"2023-04-26T00:00:00\",\"2023-04-27T00:00:00\",\"2023-04-28T00:00:00\",\"2023-05-01T00:00:00\",\"2023-05-02T00:00:00\",\"2023-05-03T00:00:00\",\"2023-05-04T00:00:00\",\"2023-05-05T00:00:00\",\"2023-05-08T00:00:00\",\"2023-05-09T00:00:00\",\"2023-05-10T00:00:00\",\"2023-05-11T00:00:00\",\"2023-05-12T00:00:00\",\"2023-05-15T00:00:00\",\"2023-05-16T00:00:00\",\"2023-05-17T00:00:00\",\"2023-05-18T00:00:00\",\"2023-05-19T00:00:00\",\"2023-05-22T00:00:00\",\"2023-05-23T00:00:00\",\"2023-05-24T00:00:00\",\"2023-05-25T00:00:00\",\"2023-05-26T00:00:00\",\"2023-05-30T00:00:00\",\"2023-05-31T00:00:00\",\"2023-06-01T00:00:00\",\"2023-06-02T00:00:00\",\"2023-06-05T00:00:00\",\"2023-06-06T00:00:00\",\"2023-06-07T00:00:00\",\"2023-06-08T00:00:00\",\"2023-06-09T00:00:00\",\"2023-06-12T00:00:00\",\"2023-06-13T00:00:00\",\"2023-06-14T00:00:00\",\"2023-06-15T00:00:00\",\"2023-06-16T00:00:00\",\"2023-06-20T00:00:00\",\"2023-06-21T00:00:00\",\"2023-06-22T00:00:00\",\"2023-06-23T00:00:00\",\"2023-06-26T00:00:00\",\"2023-06-27T00:00:00\",\"2023-06-28T00:00:00\",\"2023-06-29T00:00:00\",\"2023-06-30T00:00:00\",\"2023-07-03T00:00:00\",\"2023-07-05T00:00:00\",\"2023-07-06T00:00:00\",\"2023-07-07T00:00:00\",\"2023-07-10T00:00:00\",\"2023-07-11T00:00:00\",\"2023-07-12T00:00:00\",\"2023-07-13T00:00:00\",\"2023-07-14T00:00:00\",\"2023-07-17T00:00:00\",\"2023-07-18T00:00:00\",\"2023-07-19T00:00:00\",\"2023-07-20T00:00:00\",\"2023-07-21T00:00:00\",\"2023-07-24T00:00:00\",\"2023-07-25T00:00:00\",\"2023-07-26T00:00:00\",\"2023-07-27T00:00:00\",\"2023-07-28T00:00:00\",\"2023-07-31T00:00:00\",\"2023-08-01T00:00:00\",\"2023-08-02T00:00:00\",\"2023-08-03T00:00:00\",\"2023-08-04T00:00:00\",\"2023-08-07T00:00:00\",\"2023-08-08T00:00:00\",\"2023-08-09T00:00:00\",\"2023-08-10T00:00:00\",\"2023-08-11T00:00:00\",\"2023-08-14T00:00:00\",\"2023-08-15T00:00:00\",\"2023-08-16T00:00:00\",\"2023-08-17T00:00:00\",\"2023-08-18T00:00:00\",\"2023-08-21T00:00:00\",\"2023-08-22T00:00:00\",\"2023-08-23T00:00:00\",\"2023-08-24T00:00:00\",\"2023-08-25T00:00:00\",\"2023-08-28T00:00:00\",\"2023-08-29T00:00:00\",\"2023-08-30T00:00:00\",\"2023-08-31T00:00:00\",\"2023-09-01T00:00:00\",\"2023-09-05T00:00:00\",\"2023-09-06T00:00:00\",\"2023-09-07T00:00:00\",\"2023-09-08T00:00:00\",\"2023-09-11T00:00:00\",\"2023-09-12T00:00:00\",\"2023-09-13T00:00:00\",\"2023-09-14T00:00:00\",\"2023-09-15T00:00:00\",\"2023-09-18T00:00:00\",\"2023-09-19T00:00:00\",\"2023-09-20T00:00:00\",\"2023-09-21T00:00:00\",\"2023-09-22T00:00:00\",\"2023-09-25T00:00:00\",\"2023-09-26T00:00:00\",\"2023-09-27T00:00:00\",\"2023-09-28T00:00:00\",\"2023-09-29T00:00:00\",\"2023-10-02T00:00:00\",\"2023-10-03T00:00:00\",\"2023-10-04T00:00:00\",\"2023-10-05T00:00:00\",\"2023-10-06T00:00:00\",\"2023-10-09T00:00:00\",\"2023-10-10T00:00:00\",\"2023-10-11T00:00:00\",\"2023-10-12T00:00:00\",\"2023-10-13T00:00:00\",\"2023-10-16T00:00:00\",\"2023-10-17T00:00:00\",\"2023-10-18T00:00:00\",\"2023-10-19T00:00:00\",\"2023-10-20T00:00:00\",\"2023-10-23T00:00:00\",\"2023-10-24T00:00:00\",\"2023-10-25T00:00:00\",\"2023-10-26T00:00:00\",\"2023-10-27T00:00:00\",\"2023-10-30T00:00:00\",\"2023-10-31T00:00:00\",\"2023-11-01T00:00:00\",\"2023-11-02T00:00:00\",\"2023-11-03T00:00:00\",\"2023-11-06T00:00:00\",\"2023-11-07T00:00:00\",\"2023-11-08T00:00:00\",\"2023-11-09T00:00:00\",\"2023-11-10T00:00:00\",\"2023-11-13T00:00:00\",\"2023-11-14T00:00:00\",\"2023-11-15T00:00:00\",\"2023-11-16T00:00:00\",\"2023-11-17T00:00:00\",\"2023-11-20T00:00:00\",\"2023-11-21T00:00:00\",\"2023-11-22T00:00:00\",\"2023-11-24T00:00:00\",\"2023-11-27T00:00:00\",\"2023-11-28T00:00:00\",\"2023-11-29T00:00:00\",\"2023-11-30T00:00:00\",\"2023-12-01T00:00:00\",\"2023-12-04T00:00:00\",\"2023-12-05T00:00:00\",\"2023-12-06T00:00:00\",\"2023-12-07T00:00:00\",\"2023-12-08T00:00:00\",\"2023-12-11T00:00:00\",\"2023-12-12T00:00:00\",\"2023-12-13T00:00:00\",\"2023-12-14T00:00:00\",\"2023-12-15T00:00:00\",\"2023-12-18T00:00:00\",\"2023-12-19T00:00:00\",\"2023-12-20T00:00:00\",\"2023-12-21T00:00:00\",\"2023-12-22T00:00:00\",\"2023-12-26T00:00:00\",\"2023-12-27T00:00:00\",\"2023-12-28T00:00:00\",\"2023-12-29T00:00:00\"],\"y\":[null,null,null,null,null,null,null,null,null,null,null,null,null,null,null,null,null,null,null,123.17631975499751,123.93276616471779,124.94424375202652,125.83508398757523,126.62639211788931,127.99866838655723,129.15831164312496,130.55866696173686,131.7349343577942,132.9899375679212,134.55084063992388,136.60970557900256,138.38243695156908,139.49528307119513,140.4231647029705,141.6651679671899,142.21389483444221,142.54274117893198,143.53293229329438,143.83727787923024,143.99390455840668,144.01337728609553,144.04293366791453,144.04477621663105,144.13352875317847,144.10246957106395,143.92780929693845,143.90759159500232,143.97514373791262,143.9860139045185,143.91255381469534,143.79461520502977,143.32507270837485,142.92856008974726,142.90703451132785,142.8347763871192,143.17542053989374,143.6762181122085,144.43244420247984,145.6390506927376,146.8200479449484,146.74154277239455,146.35205100874052,146.59446082694163,146.99774929951874,147.89564319040213,149.6720333901748,151.18961745654588,152.32268155258993,153.42366718789432,154.05437628316778,155.0560390266626,155.54859654142322,155.69746319249015,156.34037752225044,156.92482215468945,157.32288543538564,158.19231066457257,159.43643346119228,159.77580390212614,159.73876197154485,159.54984854259496,159.47356636466355,159.48493980391055,159.646724808093,159.02882027821593,159.07369825046382,159.8208680130597,160.77579314723482,160.76110634482478,161.00392987495232,161.36106927143013,161.6035018216373,161.72790112729143,161.8524900703276,162.37097105865004,163.03760461723013,164.26410004534762,165.7560806092981,166.19919163166588,166.36741675700185,166.4308644639977,166.84097748010095,167.27605059695867,168.42749380261455,168.27784894805612,168.27171053398865,168.67085754253492,168.66289854355696,168.69278265221567,168.61524854058987,168.90247882667984,169.29692280749381,169.5048936074701,169.66126329705335,169.92000823297928,170.52203631873908,171.64003464659598,173.03141700721278,174.51977844447504,175.35191936113878,175.8040660539295,176.44596805806796,176.00944168655266,176.02275386734215,176.58199868781426,177.35329553609526,178.78391607579317,179.76619892163154,180.7829749449662,181.2911375885635,181.96298429454134,182.59344600655723,182.66700370893756,183.0996601977516,183.50418351303813,184.53536547734063,185.00293430068166,185.5987620682763,186.7017641307404,187.131162650472,187.46015196834395,187.58681052876236,187.3697165824161,187.30759185089522,187.40556005162955,187.3417781014325,184.98064836938687,182.3345578030268,180.54987492470903,178.4275131841983,176.50241309558,174.82045744990415,173.6446980894698,172.25763597630475,170.97230029387293,169.32307410243018,167.96504672700158,167.05971751947794,166.57876526776835,166.7307814746703,166.4553974329672,167.01660097809383,168.2334839559799,169.8617508120583,170.78143968473796,171.4410868042891,170.5965330325567,170.08100168970435,170.17775135188666,170.1370825214048,170.1821142627764,170.32035561757945,169.9989664251516,169.54662032120308,169.4392161672919,169.6041680960357,170.06369879769883,170.42391831862216,170.18750136400266,169.43445358060478,169.21484785144995,168.96231435149934,167.99462100189749,166.86803065037688,166.30451805557615,166.1497574716796,167.0506465716607,168.67356557272765,169.24812637231398,169.262950270086,169.31445245885163,169.36341818741573,169.25014810895524,169.09401378742265,168.82032425525426,168.82277058993154,168.79252158490337,168.85834730070042,168.87369742949136,168.99205321882778,168.7912878792676,168.5525879548315,168.7538734761648,168.8900635347853,167.9207230653674,167.30432570554694,166.85038442270098,166.62670067640246,166.65047241352937,166.69054591240698,166.69502734493548,166.68080366777073,166.40956297794264,166.10563355012482,165.94444003273517,165.1299567985368,164.70790415461587,164.08212008100847,163.65349859528627,163.25151033460824,163.36670990058403,163.52055277852853,163.93825180505516,164.90183196694437,167.189610298036,169.58857357087416,171.8524859637202,174.50784301141908,176.68042743641715,178.14790947876875,180.302062491154,181.8448279368448,183.02322141801636,183.9576744572496,185.15894234468138,185.68165710485547,186.66667558451164,186.56895212317988,186.59966952347014,186.61322451202372,186.89887526012268,186.93977962786124,187.21811769964063,187.43422473397004,187.84647186721335,188.29094226634072,188.6551535390512,189.31848656873294,189.79561190617585],\"type\":\"scatter\"}],                        {\"template\":{\"data\":{\"histogram2dcontour\":[{\"type\":\"histogram2dcontour\",\"colorbar\":{\"outlinewidth\":0,\"ticks\":\"\"},\"colorscale\":[[0.0,\"#0d0887\"],[0.1111111111111111,\"#46039f\"],[0.2222222222222222,\"#7201a8\"],[0.3333333333333333,\"#9c179e\"],[0.4444444444444444,\"#bd3786\"],[0.5555555555555556,\"#d8576b\"],[0.6666666666666666,\"#ed7953\"],[0.7777777777777778,\"#fb9f3a\"],[0.8888888888888888,\"#fdca26\"],[1.0,\"#f0f921\"]]}],\"choropleth\":[{\"type\":\"choropleth\",\"colorbar\":{\"outlinewidth\":0,\"ticks\":\"\"}}],\"histogram2d\":[{\"type\":\"histogram2d\",\"colorbar\":{\"outlinewidth\":0,\"ticks\":\"\"},\"colorscale\":[[0.0,\"#0d0887\"],[0.1111111111111111,\"#46039f\"],[0.2222222222222222,\"#7201a8\"],[0.3333333333333333,\"#9c179e\"],[0.4444444444444444,\"#bd3786\"],[0.5555555555555556,\"#d8576b\"],[0.6666666666666666,\"#ed7953\"],[0.7777777777777778,\"#fb9f3a\"],[0.8888888888888888,\"#fdca26\"],[1.0,\"#f0f921\"]]}],\"heatmap\":[{\"type\":\"heatmap\",\"colorbar\":{\"outlinewidth\":0,\"ticks\":\"\"},\"colorscale\":[[0.0,\"#0d0887\"],[0.1111111111111111,\"#46039f\"],[0.2222222222222222,\"#7201a8\"],[0.3333333333333333,\"#9c179e\"],[0.4444444444444444,\"#bd3786\"],[0.5555555555555556,\"#d8576b\"],[0.6666666666666666,\"#ed7953\"],[0.7777777777777778,\"#fb9f3a\"],[0.8888888888888888,\"#fdca26\"],[1.0,\"#f0f921\"]]}],\"heatmapgl\":[{\"type\":\"heatmapgl\",\"colorbar\":{\"outlinewidth\":0,\"ticks\":\"\"},\"colorscale\":[[0.0,\"#0d0887\"],[0.1111111111111111,\"#46039f\"],[0.2222222222222222,\"#7201a8\"],[0.3333333333333333,\"#9c179e\"],[0.4444444444444444,\"#bd3786\"],[0.5555555555555556,\"#d8576b\"],[0.6666666666666666,\"#ed7953\"],[0.7777777777777778,\"#fb9f3a\"],[0.8888888888888888,\"#fdca26\"],[1.0,\"#f0f921\"]]}],\"contourcarpet\":[{\"type\":\"contourcarpet\",\"colorbar\":{\"outlinewidth\":0,\"ticks\":\"\"}}],\"contour\":[{\"type\":\"contour\",\"colorbar\":{\"outlinewidth\":0,\"ticks\":\"\"},\"colorscale\":[[0.0,\"#0d0887\"],[0.1111111111111111,\"#46039f\"],[0.2222222222222222,\"#7201a8\"],[0.3333333333333333,\"#9c179e\"],[0.4444444444444444,\"#bd3786\"],[0.5555555555555556,\"#d8576b\"],[0.6666666666666666,\"#ed7953\"],[0.7777777777777778,\"#fb9f3a\"],[0.8888888888888888,\"#fdca26\"],[1.0,\"#f0f921\"]]}],\"surface\":[{\"type\":\"surface\",\"colorbar\":{\"outlinewidth\":0,\"ticks\":\"\"},\"colorscale\":[[0.0,\"#0d0887\"],[0.1111111111111111,\"#46039f\"],[0.2222222222222222,\"#7201a8\"],[0.3333333333333333,\"#9c179e\"],[0.4444444444444444,\"#bd3786\"],[0.5555555555555556,\"#d8576b\"],[0.6666666666666666,\"#ed7953\"],[0.7777777777777778,\"#fb9f3a\"],[0.8888888888888888,\"#fdca26\"],[1.0,\"#f0f921\"]]}],\"mesh3d\":[{\"type\":\"mesh3d\",\"colorbar\":{\"outlinewidth\":0,\"ticks\":\"\"}}],\"scatter\":[{\"fillpattern\":{\"fillmode\":\"overlay\",\"size\":10,\"solidity\":0.2},\"type\":\"scatter\"}],\"parcoords\":[{\"type\":\"parcoords\",\"line\":{\"colorbar\":{\"outlinewidth\":0,\"ticks\":\"\"}}}],\"scatterpolargl\":[{\"type\":\"scatterpolargl\",\"marker\":{\"colorbar\":{\"outlinewidth\":0,\"ticks\":\"\"}}}],\"bar\":[{\"error_x\":{\"color\":\"#2a3f5f\"},\"error_y\":{\"color\":\"#2a3f5f\"},\"marker\":{\"line\":{\"color\":\"#E5ECF6\",\"width\":0.5},\"pattern\":{\"fillmode\":\"overlay\",\"size\":10,\"solidity\":0.2}},\"type\":\"bar\"}],\"scattergeo\":[{\"type\":\"scattergeo\",\"marker\":{\"colorbar\":{\"outlinewidth\":0,\"ticks\":\"\"}}}],\"scatterpolar\":[{\"type\":\"scatterpolar\",\"marker\":{\"colorbar\":{\"outlinewidth\":0,\"ticks\":\"\"}}}],\"histogram\":[{\"marker\":{\"pattern\":{\"fillmode\":\"overlay\",\"size\":10,\"solidity\":0.2}},\"type\":\"histogram\"}],\"scattergl\":[{\"type\":\"scattergl\",\"marker\":{\"colorbar\":{\"outlinewidth\":0,\"ticks\":\"\"}}}],\"scatter3d\":[{\"type\":\"scatter3d\",\"line\":{\"colorbar\":{\"outlinewidth\":0,\"ticks\":\"\"}},\"marker\":{\"colorbar\":{\"outlinewidth\":0,\"ticks\":\"\"}}}],\"scattermapbox\":[{\"type\":\"scattermapbox\",\"marker\":{\"colorbar\":{\"outlinewidth\":0,\"ticks\":\"\"}}}],\"scatterternary\":[{\"type\":\"scatterternary\",\"marker\":{\"colorbar\":{\"outlinewidth\":0,\"ticks\":\"\"}}}],\"scattercarpet\":[{\"type\":\"scattercarpet\",\"marker\":{\"colorbar\":{\"outlinewidth\":0,\"ticks\":\"\"}}}],\"carpet\":[{\"aaxis\":{\"endlinecolor\":\"#2a3f5f\",\"gridcolor\":\"white\",\"linecolor\":\"white\",\"minorgridcolor\":\"white\",\"startlinecolor\":\"#2a3f5f\"},\"baxis\":{\"endlinecolor\":\"#2a3f5f\",\"gridcolor\":\"white\",\"linecolor\":\"white\",\"minorgridcolor\":\"white\",\"startlinecolor\":\"#2a3f5f\"},\"type\":\"carpet\"}],\"table\":[{\"cells\":{\"fill\":{\"color\":\"#EBF0F8\"},\"line\":{\"color\":\"white\"}},\"header\":{\"fill\":{\"color\":\"#C8D4E3\"},\"line\":{\"color\":\"white\"}},\"type\":\"table\"}],\"barpolar\":[{\"marker\":{\"line\":{\"color\":\"#E5ECF6\",\"width\":0.5},\"pattern\":{\"fillmode\":\"overlay\",\"size\":10,\"solidity\":0.2}},\"type\":\"barpolar\"}],\"pie\":[{\"automargin\":true,\"type\":\"pie\"}]},\"layout\":{\"autotypenumbers\":\"strict\",\"colorway\":[\"#636efa\",\"#EF553B\",\"#00cc96\",\"#ab63fa\",\"#FFA15A\",\"#19d3f3\",\"#FF6692\",\"#B6E880\",\"#FF97FF\",\"#FECB52\"],\"font\":{\"color\":\"#2a3f5f\"},\"hovermode\":\"closest\",\"hoverlabel\":{\"align\":\"left\"},\"paper_bgcolor\":\"white\",\"plot_bgcolor\":\"#E5ECF6\",\"polar\":{\"bgcolor\":\"#E5ECF6\",\"angularaxis\":{\"gridcolor\":\"white\",\"linecolor\":\"white\",\"ticks\":\"\"},\"radialaxis\":{\"gridcolor\":\"white\",\"linecolor\":\"white\",\"ticks\":\"\"}},\"ternary\":{\"bgcolor\":\"#E5ECF6\",\"aaxis\":{\"gridcolor\":\"white\",\"linecolor\":\"white\",\"ticks\":\"\"},\"baxis\":{\"gridcolor\":\"white\",\"linecolor\":\"white\",\"ticks\":\"\"},\"caxis\":{\"gridcolor\":\"white\",\"linecolor\":\"white\",\"ticks\":\"\"}},\"coloraxis\":{\"colorbar\":{\"outlinewidth\":0,\"ticks\":\"\"}},\"colorscale\":{\"sequential\":[[0.0,\"#0d0887\"],[0.1111111111111111,\"#46039f\"],[0.2222222222222222,\"#7201a8\"],[0.3333333333333333,\"#9c179e\"],[0.4444444444444444,\"#bd3786\"],[0.5555555555555556,\"#d8576b\"],[0.6666666666666666,\"#ed7953\"],[0.7777777777777778,\"#fb9f3a\"],[0.8888888888888888,\"#fdca26\"],[1.0,\"#f0f921\"]],\"sequentialminus\":[[0.0,\"#0d0887\"],[0.1111111111111111,\"#46039f\"],[0.2222222222222222,\"#7201a8\"],[0.3333333333333333,\"#9c179e\"],[0.4444444444444444,\"#bd3786\"],[0.5555555555555556,\"#d8576b\"],[0.6666666666666666,\"#ed7953\"],[0.7777777777777778,\"#fb9f3a\"],[0.8888888888888888,\"#fdca26\"],[1.0,\"#f0f921\"]],\"diverging\":[[0,\"#8e0152\"],[0.1,\"#c51b7d\"],[0.2,\"#de77ae\"],[0.3,\"#f1b6da\"],[0.4,\"#fde0ef\"],[0.5,\"#f7f7f7\"],[0.6,\"#e6f5d0\"],[0.7,\"#b8e186\"],[0.8,\"#7fbc41\"],[0.9,\"#4d9221\"],[1,\"#276419\"]]},\"xaxis\":{\"gridcolor\":\"white\",\"linecolor\":\"white\",\"ticks\":\"\",\"title\":{\"standoff\":15},\"zerolinecolor\":\"white\",\"automargin\":true,\"zerolinewidth\":2},\"yaxis\":{\"gridcolor\":\"white\",\"linecolor\":\"white\",\"ticks\":\"\",\"title\":{\"standoff\":15},\"zerolinecolor\":\"white\",\"automargin\":true,\"zerolinewidth\":2},\"scene\":{\"xaxis\":{\"backgroundcolor\":\"#E5ECF6\",\"gridcolor\":\"white\",\"linecolor\":\"white\",\"showbackground\":true,\"ticks\":\"\",\"zerolinecolor\":\"white\",\"gridwidth\":2},\"yaxis\":{\"backgroundcolor\":\"#E5ECF6\",\"gridcolor\":\"white\",\"linecolor\":\"white\",\"showbackground\":true,\"ticks\":\"\",\"zerolinecolor\":\"white\",\"gridwidth\":2},\"zaxis\":{\"backgroundcolor\":\"#E5ECF6\",\"gridcolor\":\"white\",\"linecolor\":\"white\",\"showbackground\":true,\"ticks\":\"\",\"zerolinecolor\":\"white\",\"gridwidth\":2}},\"shapedefaults\":{\"line\":{\"color\":\"#2a3f5f\"}},\"annotationdefaults\":{\"arrowcolor\":\"#2a3f5f\",\"arrowhead\":0,\"arrowwidth\":1},\"geo\":{\"bgcolor\":\"white\",\"landcolor\":\"#E5ECF6\",\"subunitcolor\":\"white\",\"showland\":true,\"showlakes\":true,\"lakecolor\":\"white\"},\"title\":{\"x\":0.05},\"mapbox\":{\"style\":\"light\"}}},\"title\":{\"text\":\"Bollinger Bands\"},\"xaxis\":{\"title\":{\"text\":\"Date\"}},\"yaxis\":{\"title\":{\"text\":\"Price\"}}},                        {\"responsive\": true}                    ).then(function(){\n",
       "                            \n",
       "var gd = document.getElementById('91575ee5-9fa6-4986-917b-761c6f6db4a8');\n",
       "var x = new MutationObserver(function (mutations, observer) {{\n",
       "        var display = window.getComputedStyle(gd).display;\n",
       "        if (!display || display === 'none') {{\n",
       "            console.log([gd, 'removed!']);\n",
       "            Plotly.purge(gd);\n",
       "            observer.disconnect();\n",
       "        }}\n",
       "}});\n",
       "\n",
       "// Listen for the removal of the full notebook cells\n",
       "var notebookContainer = gd.closest('#notebook-container');\n",
       "if (notebookContainer) {{\n",
       "    x.observe(notebookContainer, {childList: true});\n",
       "}}\n",
       "\n",
       "// Listen for the clearing of the current output cell\n",
       "var outputEl = gd.closest('.output');\n",
       "if (outputEl) {{\n",
       "    x.observe(outputEl, {childList: true});\n",
       "}}\n",
       "\n",
       "                        })                };                });            </script>        </div>"
      ]
     },
     "metadata": {},
     "output_type": "display_data"
    }
   ],
   "source": [
    "# Calculate Bollinger Bands\n",
    "df['MA20'] = df['close price'].rolling(window=20).mean()\n",
    "df['STD20'] = df['close price'].rolling(window=20).std()\n",
    "df['Upper'] = df['MA20'] + (df['STD20'] * 2)\n",
    "df['Lower'] = df['MA20'] - (df['STD20'] * 2)\n",
    "\n",
    "# Plot\n",
    "fig = go.Figure()\n",
    "fig.add_trace(go.Scatter(x=df['Date'], y=df['close price'], name='Close Price'))\n",
    "fig.add_trace(go.Scatter(x=df['Date'], y=df['Upper'], name='Upper Band', line=dict(color='red')))\n",
    "fig.add_trace(go.Scatter(x=df['Date'], y=df['MA20'], name='Middle Band', line=dict(color='green')))\n",
    "fig.add_trace(go.Scatter(x=df['Date'], y=df['Lower'], name='Lower Band', line=dict(color='red')))\n",
    "fig.update_layout(title='Bollinger Bands', xaxis_title='Date', yaxis_title='Price')\n",
    "fig.show()\n"
   ]
  },
  {
   "cell_type": "markdown",
   "id": "54b10ec7-c694-4658-a4ff-46bbf344f74f",
   "metadata": {},
   "source": [
    "# Strategy Development"
   ]
  },
  {
   "cell_type": "markdown",
   "id": "3c901b09-f05f-4bfb-ac34-c3cc554db2f2",
   "metadata": {},
   "source": [
    "## Approach 1\n",
    "The PortfolioOptimizer class aligns with dynamic programming and value iteration principles, focusing on optimizing portfolio value through informed decisions based on state transitions and their probabilities, without forecasting future prices. Here's a condensed overview of the approach:\n",
    "\n",
    "### Dynamic Programming and Value Iteration: \n",
    "The class enhances portfolio value over time by making sequential decisions that are grounded in current and historical data. This approach is rooted in dynamic programming and value iteration, aiming to derive an optimal policy that maximizes expected returns.\n",
    "\n",
    "### State Transitions and Probabilities:\n",
    "#### State Classification: \n",
    "It categorizes each day into 'bull', 'flat', or 'bear' states according to daily returns, essential for tracking market state transitions.\n",
    "#### Transition Probabilities: \n",
    "The class maintains a transition probability matrix, updated in a streaming fashion with each new piece of data. This process dynamically calculates the likelihood of moving between states ('bull', 'flat', 'bear'), based on observed historical transitions, thus avoiding any predictive modeling.\n",
    "#### Decision Making Based on Probabilities: \n",
    "Buy decisions are predicated on the current state's transition probabilities. If the probability of moving to a 'bull' state from the current state exceeds that of moving to a 'bear' state, a buy decision is made for the subsequent day.\n",
    "\n",
    "### Executing Trades and Portfolio Management:\n",
    "#### Trade Execution: \n",
    "The portfolio value is updated according to the buy decision and the actual state transition, following a pre-defined value function.\n",
    "#### Buy Indices: \n",
    "Identifies the days on which buy decisions are made, pinpointing optimal times for executing buy orders.\n",
    "\n",
    "This streamlined approach ensures the PortfolioOptimizer continuously updates its model with incoming data, adhering to dynamic programming without relying on future price forecasts, thereby calculating transition probabilities in a streaming fashion to inform buy decisions."
   ]
  },
  {
   "cell_type": "code",
   "execution_count": 111,
   "id": "a8d56782-22e1-45fb-a689-d46b75798d7d",
   "metadata": {
    "tags": []
   },
   "outputs": [
    {
     "name": "stdout",
     "output_type": "stream",
     "text": [
      "Final Portfolio Value: 27\n",
      "Buy Indices: [3, 6, 8, 10, 11, 12, 13, 14, 15, 16, 17, 19, 20, 21, 22, 24, 26, 27, 28, 30, 32, 34, 37, 40, 41, 42, 44, 47, 48, 49, 50, 51, 52, 53, 54, 55, 56, 58, 59, 60, 61, 62, 63, 65, 67, 69, 70, 71, 72, 73, 74, 75, 76, 77, 78, 79, 80, 81, 82, 83, 84, 85, 86, 87, 88, 89, 90, 91, 92, 93, 94, 95, 96, 98, 100, 101, 102, 103, 104, 105, 106, 107, 108, 109, 110, 111, 112, 113, 114, 115, 116, 117, 118, 119, 120, 121, 122, 123, 124, 125, 126, 127, 129, 133, 134, 135, 137, 142, 143, 144, 146, 160, 162, 164, 165, 166, 167, 168, 177, 178, 187, 188, 189, 190, 191, 192, 193, 194, 195, 207, 208, 209, 210, 211, 212, 213, 214, 215, 216, 217, 218, 219, 220, 221, 222, 223, 224, 225, 226, 227, 228, 229, 230, 231, 232, 233, 234, 235, 238, 239, 240, 241, 242]\n"
     ]
    }
   ],
   "source": [
    "import pandas as pd\n",
    "\n",
    "class PortfolioOptimizer:\n",
    "    def __init__(self):\n",
    "        self.portfolio_value = 0  # Initialize portfolio value\n",
    "        self.transition_probabilities = {'bull': {'bull': 0, 'flat': 0, 'bear': 0},\n",
    "                                         'flat': {'bull': 0, 'flat': 0, 'bear': 0},\n",
    "                                         'bear': {'bull': 0, 'flat': 0, 'bear': 0}}\n",
    "        self.current_state = 'flat'  # Initialize current state\n",
    "        self.buy_indices = []  # Initialize list to store buy indices\n",
    "\n",
    "    def calculate_return(self, current_price, previous_price):\n",
    "        return (current_price - previous_price) / previous_price\n",
    "\n",
    "    def classify_state(self, returns):\n",
    "        if returns >= 0.01:\n",
    "            return 'bull'\n",
    "        elif returns > -0.01:\n",
    "            return 'flat'\n",
    "        else:\n",
    "            return 'bear'\n",
    "\n",
    "    def update_transition_counts(self, previous_state, current_state):\n",
    "        self.transition_probabilities[previous_state][current_state] += 1\n",
    "\n",
    "    def calculate_transition_probabilities(self):\n",
    "        for previous_state in self.transition_probabilities:\n",
    "            total_transitions = sum(self.transition_probabilities[previous_state].values())\n",
    "            for current_state in self.transition_probabilities[previous_state]:\n",
    "                self.transition_probabilities[previous_state][current_state] /= total_transitions if total_transitions != 0 else 1 / 3\n",
    "\n",
    "    def make_decision(self):\n",
    "        bull_probability = self.transition_probabilities[self.current_state]['bull']\n",
    "        bear_probability = self.transition_probabilities[self.current_state]['bear']\n",
    "        if bull_probability > bear_probability:\n",
    "            return 1  # Buy decision\n",
    "        else:\n",
    "            return -1  # Don't buy decision\n",
    "\n",
    "    def execute_trade(self, decision):\n",
    "        if decision == 1:  # Execute buy trade\n",
    "            if self.current_state == 'bull':\n",
    "                self.portfolio_value += 1\n",
    "        elif decision == -1:  # Execute don't buy trade\n",
    "            if self.current_state == 'bear':\n",
    "                self.portfolio_value -= 1\n",
    "\n",
    "    def optimize_portfolio(self, data):\n",
    "        for i in range(1, len(data)):\n",
    "            current_price = data.iloc[i]['FIBBG000B9XRY4']\n",
    "            previous_price = data.iloc[i-1]['FIBBG000B9XRY4']\n",
    "            returns = self.calculate_return(current_price, previous_price)\n",
    "            current_state = self.classify_state(returns)\n",
    "            if i > 1:\n",
    "                previous_state = self.classify_state(self.calculate_return(data.iloc[i-1]['FIBBG000B9XRY4'], data.iloc[i-2]['FIBBG000B9XRY4']))\n",
    "                self.update_transition_counts(previous_state, current_state)\n",
    "            self.calculate_transition_probabilities()\n",
    "            decision = self.make_decision()\n",
    "            if decision == 1:  # If decision is to buy, store the index\n",
    "                self.buy_indices.append(i)\n",
    "            self.execute_trade(decision)\n",
    "            self.current_state = current_state\n",
    "        return self.portfolio_value, self.buy_indices\n",
    "\n",
    "# Example usage\n",
    "if __name__ == \"__main__\":\n",
    "    # Load data from CSV file\n",
    "    data = pd.read_csv(\"daily_closing_prices.csv\")  # Adjust the path to your CSV file\n",
    "    optimizer = PortfolioOptimizer()\n",
    "    final_portfolio_value, buy_indices = optimizer.optimize_portfolio(data)\n",
    "    print(\"Final Portfolio Value:\", final_portfolio_value)\n",
    "    print(\"Buy Indices:\",buy_indices)\n"
   ]
  },
  {
   "cell_type": "markdown",
   "id": "bb8d8932-c05b-41ef-9d03-e8997f5415c4",
   "metadata": {},
   "source": [
    "## Approach 2 "
   ]
  },
  {
   "cell_type": "code",
   "execution_count": 112,
   "id": "7fd0a4cd-bdd2-4f09-9f37-43441c03c4ed",
   "metadata": {
    "tags": []
   },
   "outputs": [
    {
     "name": "stdout",
     "output_type": "stream",
     "text": [
      "Final portfolio value: V(N) = 18.0\n",
      "Optimal buy indices: [2, 4, 5, 7, 9, 10, 11, 15, 19, 20, 26, 27, 29, 32, 34, 35, 37, 38, 40, 44, 49, 51, 54, 55, 56, 58, 60, 62, 63, 65, 67, 68, 70, 71, 72, 73, 74, 75, 76, 77, 78, 80, 81, 82, 83, 84, 86, 87, 89, 90, 91, 92, 93, 95, 96, 98, 99, 102, 104, 105, 106, 107, 109, 111, 112, 114, 115, 116, 118, 119, 121, 122, 124, 125, 126, 127, 129, 130, 131, 132, 134, 135, 137, 138, 139, 140, 141, 143, 144, 146, 149, 150, 151, 152, 153, 155, 157, 158, 159, 163, 166, 167, 168, 171, 172, 175, 176, 178, 180, 181, 182, 184, 185, 186, 188, 189, 190, 192, 193, 194, 195, 197, 198, 199, 200, 202, 203, 206, 208, 211, 214, 215, 217, 219, 220, 221, 222, 223, 224, 225, 226, 227, 228, 229, 230, 231, 233, 235, 237, 239, 240, 241, 242, 244, 245, 246, 247, 248]\n"
     ]
    }
   ],
   "source": [
    "import numpy as np\n",
    "\n",
    "def calculate_returns(prices):\n",
    "    \"\"\"Calculate the percentage returns.\"\"\"\n",
    "    returns = np.diff(prices) / prices[:-1]\n",
    "    return returns\n",
    "\n",
    "def classify_state(return_value):\n",
    "    \"\"\"Classify a single day's state based on return.\"\"\"\n",
    "    if return_value >= 0.01:  # Adjusted for 10% threshold\n",
    "        return 1  # Bull state\n",
    "    elif return_value > -0.01:  # Adjusted for -10% threshold\n",
    "        return 0  # Flat state\n",
    "    else:\n",
    "        return -1  # Bear state\n",
    "\n",
    "def update_transition_probabilities(transitions, counts, from_state, to_state):\n",
    "    \"\"\"Update transition probabilities with a new observed transition.\"\"\"\n",
    "    from_index = int(from_state) + 1\n",
    "    to_index = int(to_state) + 1\n",
    "    transitions[from_index, to_index] += 1\n",
    "    counts[from_index] += 1\n",
    "    probabilities = np.divide(transitions, counts[:, None], out=np.zeros_like(transitions), where=counts[:, None] != 0)\n",
    "    return probabilities\n",
    "\n",
    "def dynamic_value_function_update(prices, transitions, counts):\n",
    "    V = np.zeros(len(prices))  # Initialize the portfolio value function\n",
    "    buy_indices = []\n",
    "    states = np.zeros(len(prices))  # Include initial state as Flat\n",
    "\n",
    "    # Initial state assumed as Flat (0)\n",
    "    states[0] = 0\n",
    "\n",
    "    for d in range(1, len(prices)):\n",
    "        today_return = calculate_returns(prices[d-1:d+1])[0] if d > 1 else 0\n",
    "        states[d] = classify_state(today_return)\n",
    "        if d > 1:  # Start from second day to have previous state\n",
    "            from_state = states[d-1]\n",
    "            to_state = states[d]\n",
    "            probabilities = update_transition_probabilities(transitions, counts, from_state, to_state)\n",
    "            \n",
    "            # Check for decision to buy based on transition probabilities\n",
    "            # We focus on transitions from Flat to Bull or Bear for buying decisions\n",
    "            if from_state == 0:  # From Flat state\n",
    "                if probabilities[1, 2] > probabilities[1, 0]:  # If transition to Bull is more likely than to Bear\n",
    "                    buy_indices.append(d)  # Decide to buy\n",
    "                    # Update value based on expected transition\n",
    "                    if to_state == 1:\n",
    "                        V[d] = V[d-1] + 1\n",
    "                    elif to_state == -1:\n",
    "                        V[d] = V[d-1] - 1\n",
    "                    else:\n",
    "                        V[d] = V[d-1]\n",
    "                else:\n",
    "                    V[d] = V[d-1]\n",
    "            else:\n",
    "                V[d] = V[d-1]\n",
    "\n",
    "    return V, buy_indices, states\n",
    "\n",
    "# Initialize transition probabilities and counts\n",
    "transitions = np.zeros((3, 3))  # For Bear, Flat, Bull transitions\n",
    "counts = np.zeros(3)  # Count occurrences of each state\n",
    "prices=df['close price'].to_numpy()\n",
    "# Example: Uncomment and replace with actual price data\n",
    "V, buy_indices, states = dynamic_value_function_update(prices, transitions, counts)\n",
    "print(f\"Final portfolio value: V(N) = {V[-1]}\")\n",
    "print(f\"Optimal buy indices: {buy_indices}\")\n"
   ]
  },
  {
   "cell_type": "markdown",
   "id": "f588c073-5173-421f-adf2-2d278175d527",
   "metadata": {},
   "source": [
    "## Approach 3"
   ]
  },
  {
   "cell_type": "code",
   "execution_count": 113,
   "id": "d08d788f-a258-4624-b491-bab722e11b40",
   "metadata": {
    "tags": []
   },
   "outputs": [
    {
     "name": "stdout",
     "output_type": "stream",
     "text": [
      "Transition Probability Matrix (Step 1):\n",
      "[[nan nan nan]\n",
      " [ 1.  0.  0.]\n",
      " [nan nan nan]]\n",
      "Transition Probability Matrix (Step 2):\n",
      "[[ 0.  0.  1.]\n",
      " [ 1.  0.  0.]\n",
      " [nan nan nan]]\n",
      "Transition Probability Matrix (Step 3):\n",
      "[[0. 0. 1.]\n",
      " [1. 0. 0.]\n",
      " [0. 1. 0.]]\n",
      "Transition Probability Matrix (Step 4):\n",
      "[[0.  0.  1. ]\n",
      " [0.5 0.5 0. ]\n",
      " [0.  1.  0. ]]\n",
      "Transition Probability Matrix (Step 5):\n",
      "[[0.         0.         1.        ]\n",
      " [0.33333333 0.33333333 0.33333333]\n",
      " [0.         1.         0.        ]]\n",
      "Transition Probability Matrix (Step 6):\n",
      "[[0.         0.         1.        ]\n",
      " [0.33333333 0.33333333 0.33333333]\n",
      " [0.         1.         0.        ]]\n",
      "Transition Probability Matrix (Step 7):\n",
      "[[0.   0.   1.  ]\n",
      " [0.25 0.25 0.5 ]\n",
      " [0.   1.   0.  ]]\n",
      "Transition Probability Matrix (Step 8):\n",
      "[[0.   0.   1.  ]\n",
      " [0.25 0.25 0.5 ]\n",
      " [0.   1.   0.  ]]\n",
      "Transition Probability Matrix (Step 9):\n",
      "[[0.  0.  1. ]\n",
      " [0.2 0.4 0.4]\n",
      " [0.  1.  0. ]]\n",
      "Transition Probability Matrix (Step 10):\n",
      "[[0.         0.         1.        ]\n",
      " [0.16666667 0.5        0.33333333]\n",
      " [0.         1.         0.        ]]\n",
      "Transition Probability Matrix (Step 11):\n",
      "[[0.         0.         1.        ]\n",
      " [0.14285714 0.42857143 0.42857143]\n",
      " [0.         1.         0.        ]]\n",
      "Transition Probability Matrix (Step 12):\n",
      "[[0.         0.         1.        ]\n",
      " [0.14285714 0.42857143 0.42857143]\n",
      " [0.         0.75       0.25      ]]\n",
      "Transition Probability Matrix (Step 13):\n",
      "[[0.         0.         1.        ]\n",
      " [0.14285714 0.42857143 0.42857143]\n",
      " [0.         0.6        0.4       ]]\n",
      "Transition Probability Matrix (Step 14):\n",
      "[[0.         0.         1.        ]\n",
      " [0.14285714 0.42857143 0.42857143]\n",
      " [0.         0.66666667 0.33333333]]\n",
      "Transition Probability Matrix (Step 15):\n",
      "[[0.         0.         1.        ]\n",
      " [0.125      0.375      0.5       ]\n",
      " [0.         0.66666667 0.33333333]]\n",
      "Transition Probability Matrix (Step 16):\n",
      "[[0.         0.         1.        ]\n",
      " [0.125      0.375      0.5       ]\n",
      " [0.         0.57142857 0.42857143]]\n",
      "Transition Probability Matrix (Step 17):\n",
      "[[0.    0.    1.   ]\n",
      " [0.125 0.375 0.5  ]\n",
      " [0.125 0.5   0.375]]\n",
      "Transition Probability Matrix (Step 18):\n",
      "[[0.    0.5   0.5  ]\n",
      " [0.125 0.375 0.5  ]\n",
      " [0.125 0.5   0.375]]\n",
      "Transition Probability Matrix (Step 19):\n",
      "[[0.         0.5        0.5       ]\n",
      " [0.11111111 0.44444444 0.44444444]\n",
      " [0.125      0.5        0.375     ]]\n",
      "Transition Probability Matrix (Step 20):\n",
      "[[0.    0.5   0.5  ]\n",
      " [0.1   0.4   0.5  ]\n",
      " [0.125 0.5   0.375]]\n",
      "Transition Probability Matrix (Step 21):\n",
      "[[0.         0.5        0.5       ]\n",
      " [0.1        0.4        0.5       ]\n",
      " [0.11111111 0.44444444 0.44444444]]\n",
      "Transition Probability Matrix (Step 22):\n",
      "[[0.  0.5 0.5]\n",
      " [0.1 0.4 0.5]\n",
      " [0.2 0.4 0.4]]\n",
      "Transition Probability Matrix (Step 23):\n",
      "[[0.         0.33333333 0.66666667]\n",
      " [0.1        0.4        0.5       ]\n",
      " [0.2        0.4        0.4       ]]\n",
      "Transition Probability Matrix (Step 24):\n",
      "[[0.         0.33333333 0.66666667]\n",
      " [0.1        0.4        0.5       ]\n",
      " [0.27272727 0.36363636 0.36363636]]\n",
      "Transition Probability Matrix (Step 25):\n",
      "[[0.         0.5        0.5       ]\n",
      " [0.1        0.4        0.5       ]\n",
      " [0.27272727 0.36363636 0.36363636]]\n",
      "Transition Probability Matrix (Step 26):\n",
      "[[0.         0.5        0.5       ]\n",
      " [0.09090909 0.45454545 0.45454545]\n",
      " [0.27272727 0.36363636 0.36363636]]\n",
      "Transition Probability Matrix (Step 27):\n",
      "[[0.         0.5        0.5       ]\n",
      " [0.08333333 0.41666667 0.5       ]\n",
      " [0.27272727 0.36363636 0.36363636]]\n",
      "Transition Probability Matrix (Step 28):\n",
      "[[0.         0.5        0.5       ]\n",
      " [0.08333333 0.41666667 0.5       ]\n",
      " [0.25       0.41666667 0.33333333]]\n",
      "Transition Probability Matrix (Step 29):\n",
      "[[0.         0.5        0.5       ]\n",
      " [0.07692308 0.38461538 0.53846154]\n",
      " [0.25       0.41666667 0.33333333]]\n",
      "Transition Probability Matrix (Step 30):\n",
      "[[0.         0.5        0.5       ]\n",
      " [0.07692308 0.38461538 0.53846154]\n",
      " [0.30769231 0.38461538 0.30769231]]\n",
      "Transition Probability Matrix (Step 31):\n",
      "[[0.         0.6        0.4       ]\n",
      " [0.07692308 0.38461538 0.53846154]\n",
      " [0.30769231 0.38461538 0.30769231]]\n",
      "Transition Probability Matrix (Step 32):\n",
      "[[0.         0.6        0.4       ]\n",
      " [0.14285714 0.35714286 0.5       ]\n",
      " [0.30769231 0.38461538 0.30769231]]\n",
      "Transition Probability Matrix (Step 33):\n",
      "[[0.         0.66666667 0.33333333]\n",
      " [0.14285714 0.35714286 0.5       ]\n",
      " [0.30769231 0.38461538 0.30769231]]\n",
      "Transition Probability Matrix (Step 34):\n",
      "[[0.         0.66666667 0.33333333]\n",
      " [0.13333333 0.4        0.46666667]\n",
      " [0.30769231 0.38461538 0.30769231]]\n",
      "Transition Probability Matrix (Step 35):\n",
      "[[0.         0.66666667 0.33333333]\n",
      " [0.1875     0.375      0.4375    ]\n",
      " [0.30769231 0.38461538 0.30769231]]\n",
      "Transition Probability Matrix (Step 36):\n",
      "[[0.         0.71428571 0.28571429]\n",
      " [0.1875     0.375      0.4375    ]\n",
      " [0.30769231 0.38461538 0.30769231]]\n",
      "Transition Probability Matrix (Step 37):\n",
      "[[0.         0.71428571 0.28571429]\n",
      " [0.17647059 0.41176471 0.41176471]\n",
      " [0.30769231 0.38461538 0.30769231]]\n",
      "Transition Probability Matrix (Step 38):\n",
      "[[0.         0.71428571 0.28571429]\n",
      " [0.22222222 0.38888889 0.38888889]\n",
      " [0.30769231 0.38461538 0.30769231]]\n",
      "Transition Probability Matrix (Step 39):\n",
      "[[0.         0.75       0.25      ]\n",
      " [0.22222222 0.38888889 0.38888889]\n",
      " [0.30769231 0.38461538 0.30769231]]\n",
      "Transition Probability Matrix (Step 40):\n",
      "[[0.         0.75       0.25      ]\n",
      " [0.21052632 0.36842105 0.42105263]\n",
      " [0.30769231 0.38461538 0.30769231]]\n",
      "Transition Probability Matrix (Step 41):\n",
      "[[0.         0.75       0.25      ]\n",
      " [0.21052632 0.36842105 0.42105263]\n",
      " [0.28571429 0.35714286 0.35714286]]\n",
      "Transition Probability Matrix (Step 42):\n",
      "[[0.         0.75       0.25      ]\n",
      " [0.21052632 0.36842105 0.42105263]\n",
      " [0.33333333 0.33333333 0.33333333]]\n",
      "Transition Probability Matrix (Step 43):\n",
      "[[0.         0.77777778 0.22222222]\n",
      " [0.21052632 0.36842105 0.42105263]\n",
      " [0.33333333 0.33333333 0.33333333]]\n",
      "Transition Probability Matrix (Step 44):\n",
      "[[0.         0.77777778 0.22222222]\n",
      " [0.25       0.35       0.4       ]\n",
      " [0.33333333 0.33333333 0.33333333]]\n",
      "Transition Probability Matrix (Step 45):\n",
      "[[0.1        0.7        0.2       ]\n",
      " [0.25       0.35       0.4       ]\n",
      " [0.33333333 0.33333333 0.33333333]]\n",
      "Transition Probability Matrix (Step 46):\n",
      "[[0.09090909 0.63636364 0.27272727]\n",
      " [0.25       0.35       0.4       ]\n",
      " [0.33333333 0.33333333 0.33333333]]\n",
      "Transition Probability Matrix (Step 47):\n",
      "[[0.09090909 0.63636364 0.27272727]\n",
      " [0.25       0.35       0.4       ]\n",
      " [0.3125     0.3125     0.375     ]]\n",
      "Transition Probability Matrix (Step 48):\n",
      "[[0.09090909 0.63636364 0.27272727]\n",
      " [0.25       0.35       0.4       ]\n",
      " [0.29411765 0.35294118 0.35294118]]\n",
      "Transition Probability Matrix (Step 49):\n",
      "[[0.09090909 0.63636364 0.27272727]\n",
      " [0.23809524 0.33333333 0.42857143]\n",
      " [0.29411765 0.35294118 0.35294118]]\n",
      "Transition Probability Matrix (Step 50):\n",
      "[[0.09090909 0.63636364 0.27272727]\n",
      " [0.23809524 0.33333333 0.42857143]\n",
      " [0.27777778 0.38888889 0.33333333]]\n",
      "Transition Probability Matrix (Step 51):\n",
      "[[0.09090909 0.63636364 0.27272727]\n",
      " [0.22727273 0.31818182 0.45454545]\n",
      " [0.27777778 0.38888889 0.33333333]]\n",
      "Transition Probability Matrix (Step 52):\n",
      "[[0.09090909 0.63636364 0.27272727]\n",
      " [0.22727273 0.31818182 0.45454545]\n",
      " [0.26315789 0.36842105 0.36842105]]\n",
      "Transition Probability Matrix (Step 53):\n",
      "[[0.09090909 0.63636364 0.27272727]\n",
      " [0.22727273 0.31818182 0.45454545]\n",
      " [0.25       0.4        0.35      ]]\n",
      "Transition Probability Matrix (Step 54):\n",
      "[[0.09090909 0.63636364 0.27272727]\n",
      " [0.2173913  0.34782609 0.43478261]\n",
      " [0.25       0.4        0.35      ]]\n",
      "Transition Probability Matrix (Step 55):\n",
      "[[0.09090909 0.63636364 0.27272727]\n",
      " [0.20833333 0.375      0.41666667]\n",
      " [0.25       0.4        0.35      ]]\n",
      "Transition Probability Matrix (Step 56):\n",
      "[[0.09090909 0.63636364 0.27272727]\n",
      " [0.24       0.36       0.4       ]\n",
      " [0.25       0.4        0.35      ]]\n",
      "Transition Probability Matrix (Step 57):\n",
      "[[0.08333333 0.66666667 0.25      ]\n",
      " [0.24       0.36       0.4       ]\n",
      " [0.25       0.4        0.35      ]]\n",
      "Transition Probability Matrix (Step 58):\n",
      "[[0.08333333 0.66666667 0.25      ]\n",
      " [0.23076923 0.34615385 0.42307692]\n",
      " [0.25       0.4        0.35      ]]\n",
      "Transition Probability Matrix (Step 59):\n",
      "[[0.08333333 0.66666667 0.25      ]\n",
      " [0.23076923 0.34615385 0.42307692]\n",
      " [0.23809524 0.42857143 0.33333333]]\n",
      "Transition Probability Matrix (Step 60):\n",
      "[[0.08333333 0.66666667 0.25      ]\n",
      " [0.22222222 0.33333333 0.44444444]\n",
      " [0.23809524 0.42857143 0.33333333]]\n",
      "Transition Probability Matrix (Step 61):\n",
      "[[0.08333333 0.66666667 0.25      ]\n",
      " [0.22222222 0.33333333 0.44444444]\n",
      " [0.22727273 0.45454545 0.31818182]]\n",
      "Transition Probability Matrix (Step 62):\n",
      "[[0.08333333 0.66666667 0.25      ]\n",
      " [0.21428571 0.35714286 0.42857143]\n",
      " [0.22727273 0.45454545 0.31818182]]\n",
      "Transition Probability Matrix (Step 63):\n",
      "[[0.08333333 0.66666667 0.25      ]\n",
      " [0.24137931 0.34482759 0.4137931 ]\n",
      " [0.22727273 0.45454545 0.31818182]]\n",
      "Transition Probability Matrix (Step 64):\n",
      "[[0.07692308 0.69230769 0.23076923]\n",
      " [0.24137931 0.34482759 0.4137931 ]\n",
      " [0.22727273 0.45454545 0.31818182]]\n",
      "Transition Probability Matrix (Step 65):\n",
      "[[0.07692308 0.69230769 0.23076923]\n",
      " [0.26666667 0.33333333 0.4       ]\n",
      " [0.22727273 0.45454545 0.31818182]]\n",
      "Transition Probability Matrix (Step 66):\n",
      "[[0.07142857 0.71428571 0.21428571]\n",
      " [0.26666667 0.33333333 0.4       ]\n",
      " [0.22727273 0.45454545 0.31818182]]\n",
      "Transition Probability Matrix (Step 67):\n",
      "[[0.07142857 0.71428571 0.21428571]\n",
      " [0.25806452 0.35483871 0.38709677]\n",
      " [0.22727273 0.45454545 0.31818182]]\n",
      "Transition Probability Matrix (Step 68):\n",
      "[[0.07142857 0.71428571 0.21428571]\n",
      " [0.25       0.34375    0.40625   ]\n",
      " [0.22727273 0.45454545 0.31818182]]\n",
      "Transition Probability Matrix (Step 69):\n",
      "[[0.07142857 0.71428571 0.21428571]\n",
      " [0.25       0.34375    0.40625   ]\n",
      " [0.2173913  0.47826087 0.30434783]]\n",
      "Transition Probability Matrix (Step 70):\n",
      "[[0.07142857 0.71428571 0.21428571]\n",
      " [0.24242424 0.36363636 0.39393939]\n",
      " [0.2173913  0.47826087 0.30434783]]\n",
      "Transition Probability Matrix (Step 71):\n",
      "[[0.07142857 0.71428571 0.21428571]\n",
      " [0.23529412 0.38235294 0.38235294]\n",
      " [0.2173913  0.47826087 0.30434783]]\n",
      "Transition Probability Matrix (Step 72):\n",
      "[[0.07142857 0.71428571 0.21428571]\n",
      " [0.22857143 0.4        0.37142857]\n",
      " [0.2173913  0.47826087 0.30434783]]\n",
      "Transition Probability Matrix (Step 73):\n",
      "[[0.07142857 0.71428571 0.21428571]\n",
      " [0.22222222 0.41666667 0.36111111]\n",
      " [0.2173913  0.47826087 0.30434783]]\n",
      "Transition Probability Matrix (Step 74):\n",
      "[[0.07142857 0.71428571 0.21428571]\n",
      " [0.21621622 0.43243243 0.35135135]\n",
      " [0.2173913  0.47826087 0.30434783]]\n",
      "Transition Probability Matrix (Step 75):\n",
      "[[0.07142857 0.71428571 0.21428571]\n",
      " [0.21052632 0.44736842 0.34210526]\n",
      " [0.2173913  0.47826087 0.30434783]]\n",
      "Transition Probability Matrix (Step 76):\n",
      "[[0.07142857 0.71428571 0.21428571]\n",
      " [0.20512821 0.46153846 0.33333333]\n",
      " [0.2173913  0.47826087 0.30434783]]\n",
      "Transition Probability Matrix (Step 77):\n",
      "[[0.07142857 0.71428571 0.21428571]\n",
      " [0.2        0.475      0.325     ]\n",
      " [0.2173913  0.47826087 0.30434783]]\n",
      "Transition Probability Matrix (Step 78):\n",
      "[[0.07142857 0.71428571 0.21428571]\n",
      " [0.19512195 0.46341463 0.34146341]\n",
      " [0.2173913  0.47826087 0.30434783]]\n",
      "Transition Probability Matrix (Step 79):\n",
      "[[0.07142857 0.71428571 0.21428571]\n",
      " [0.19512195 0.46341463 0.34146341]\n",
      " [0.20833333 0.5        0.29166667]]\n",
      "Transition Probability Matrix (Step 80):\n",
      "[[0.07142857 0.71428571 0.21428571]\n",
      " [0.19047619 0.47619048 0.33333333]\n",
      " [0.20833333 0.5        0.29166667]]\n",
      "Transition Probability Matrix (Step 81):\n",
      "[[0.07142857 0.71428571 0.21428571]\n",
      " [0.18604651 0.48837209 0.3255814 ]\n",
      " [0.20833333 0.5        0.29166667]]\n",
      "Transition Probability Matrix (Step 82):\n",
      "[[0.07142857 0.71428571 0.21428571]\n",
      " [0.18181818 0.5        0.31818182]\n",
      " [0.20833333 0.5        0.29166667]]\n",
      "Transition Probability Matrix (Step 83):\n",
      "[[0.07142857 0.71428571 0.21428571]\n",
      " [0.17777778 0.51111111 0.31111111]\n",
      " [0.20833333 0.5        0.29166667]]\n",
      "Transition Probability Matrix (Step 84):\n",
      "[[0.07142857 0.71428571 0.21428571]\n",
      " [0.17391304 0.5        0.32608696]\n",
      " [0.20833333 0.5        0.29166667]]\n",
      "Transition Probability Matrix (Step 85):\n",
      "[[0.07142857 0.71428571 0.21428571]\n",
      " [0.17391304 0.5        0.32608696]\n",
      " [0.2        0.52       0.28      ]]\n",
      "Transition Probability Matrix (Step 86):\n",
      "[[0.07142857 0.71428571 0.21428571]\n",
      " [0.17021277 0.5106383  0.31914894]\n",
      " [0.2        0.52       0.28      ]]\n",
      "Transition Probability Matrix (Step 87):\n",
      "[[0.07142857 0.71428571 0.21428571]\n",
      " [0.16666667 0.5        0.33333333]\n",
      " [0.2        0.52       0.28      ]]\n",
      "Transition Probability Matrix (Step 88):\n",
      "[[0.07142857 0.71428571 0.21428571]\n",
      " [0.16666667 0.5        0.33333333]\n",
      " [0.19230769 0.53846154 0.26923077]]\n",
      "Transition Probability Matrix (Step 89):\n",
      "[[0.07142857 0.71428571 0.21428571]\n",
      " [0.16326531 0.51020408 0.32653061]\n",
      " [0.19230769 0.53846154 0.26923077]]\n",
      "Transition Probability Matrix (Step 90):\n",
      "[[0.07142857 0.71428571 0.21428571]\n",
      " [0.16       0.52       0.32      ]\n",
      " [0.19230769 0.53846154 0.26923077]]\n",
      "Transition Probability Matrix (Step 91):\n",
      "[[0.07142857 0.71428571 0.21428571]\n",
      " [0.15686275 0.52941176 0.31372549]\n",
      " [0.19230769 0.53846154 0.26923077]]\n",
      "Transition Probability Matrix (Step 92):\n",
      "[[0.07142857 0.71428571 0.21428571]\n",
      " [0.15384615 0.53846154 0.30769231]\n",
      " [0.19230769 0.53846154 0.26923077]]\n",
      "Transition Probability Matrix (Step 93):\n",
      "[[0.07142857 0.71428571 0.21428571]\n",
      " [0.1509434  0.52830189 0.32075472]\n",
      " [0.19230769 0.53846154 0.26923077]]\n",
      "Transition Probability Matrix (Step 94):\n",
      "[[0.07142857 0.71428571 0.21428571]\n",
      " [0.1509434  0.52830189 0.32075472]\n",
      " [0.18518519 0.55555556 0.25925926]]\n",
      "Transition Probability Matrix (Step 95):\n",
      "[[0.07142857 0.71428571 0.21428571]\n",
      " [0.14814815 0.53703704 0.31481481]\n",
      " [0.18518519 0.55555556 0.25925926]]\n",
      "Transition Probability Matrix (Step 96):\n",
      "[[0.07142857 0.71428571 0.21428571]\n",
      " [0.16363636 0.52727273 0.30909091]\n",
      " [0.18518519 0.55555556 0.25925926]]\n",
      "Transition Probability Matrix (Step 97):\n",
      "[[0.06666667 0.73333333 0.2       ]\n",
      " [0.16363636 0.52727273 0.30909091]\n",
      " [0.18518519 0.55555556 0.25925926]]\n",
      "Transition Probability Matrix (Step 98):\n",
      "[[0.06666667 0.73333333 0.2       ]\n",
      " [0.16071429 0.53571429 0.30357143]\n",
      " [0.18518519 0.55555556 0.25925926]]\n",
      "Transition Probability Matrix (Step 99):\n",
      "[[0.06666667 0.73333333 0.2       ]\n",
      " [0.15789474 0.52631579 0.31578947]\n",
      " [0.18518519 0.55555556 0.25925926]]\n",
      "Transition Probability Matrix (Step 100):\n",
      "[[0.06666667 0.73333333 0.2       ]\n",
      " [0.15789474 0.52631579 0.31578947]\n",
      " [0.17857143 0.53571429 0.28571429]]\n",
      "Transition Probability Matrix (Step 101):\n",
      "[[0.06666667 0.73333333 0.2       ]\n",
      " [0.15789474 0.52631579 0.31578947]\n",
      " [0.17241379 0.55172414 0.27586207]]\n",
      "Transition Probability Matrix (Step 102):\n",
      "[[0.06666667 0.73333333 0.2       ]\n",
      " [0.15517241 0.51724138 0.32758621]\n",
      " [0.17241379 0.55172414 0.27586207]]\n",
      "Transition Probability Matrix (Step 103):\n",
      "[[0.06666667 0.73333333 0.2       ]\n",
      " [0.15517241 0.51724138 0.32758621]\n",
      " [0.16666667 0.56666667 0.26666667]]\n",
      "Transition Probability Matrix (Step 104):\n",
      "[[0.06666667 0.73333333 0.2       ]\n",
      " [0.15254237 0.52542373 0.3220339 ]\n",
      " [0.16666667 0.56666667 0.26666667]]\n",
      "Transition Probability Matrix (Step 105):\n",
      "[[0.06666667 0.73333333 0.2       ]\n",
      " [0.15       0.53333333 0.31666667]\n",
      " [0.16666667 0.56666667 0.26666667]]\n",
      "Transition Probability Matrix (Step 106):\n",
      "[[0.06666667 0.73333333 0.2       ]\n",
      " [0.14754098 0.54098361 0.31147541]\n",
      " [0.16666667 0.56666667 0.26666667]]\n",
      "Transition Probability Matrix (Step 107):\n",
      "[[0.06666667 0.73333333 0.2       ]\n",
      " [0.14516129 0.53225806 0.32258065]\n",
      " [0.16666667 0.56666667 0.26666667]]\n",
      "Transition Probability Matrix (Step 108):\n",
      "[[0.06666667 0.73333333 0.2       ]\n",
      " [0.14516129 0.53225806 0.32258065]\n",
      " [0.16129032 0.58064516 0.25806452]]\n",
      "Transition Probability Matrix (Step 109):\n",
      "[[0.06666667 0.73333333 0.2       ]\n",
      " [0.14285714 0.52380952 0.33333333]\n",
      " [0.16129032 0.58064516 0.25806452]]\n",
      "Transition Probability Matrix (Step 110):\n",
      "[[0.06666667 0.73333333 0.2       ]\n",
      " [0.14285714 0.52380952 0.33333333]\n",
      " [0.15625    0.59375    0.25      ]]\n",
      "Transition Probability Matrix (Step 111):\n",
      "[[0.06666667 0.73333333 0.2       ]\n",
      " [0.140625   0.53125    0.328125  ]\n",
      " [0.15625    0.59375    0.25      ]]\n",
      "Transition Probability Matrix (Step 112):\n",
      "[[0.06666667 0.73333333 0.2       ]\n",
      " [0.13846154 0.52307692 0.33846154]\n",
      " [0.15625    0.59375    0.25      ]]\n",
      "Transition Probability Matrix (Step 113):\n",
      "[[0.06666667 0.73333333 0.2       ]\n",
      " [0.13846154 0.52307692 0.33846154]\n",
      " [0.15151515 0.60606061 0.24242424]]\n",
      "Transition Probability Matrix (Step 114):\n",
      "[[0.06666667 0.73333333 0.2       ]\n",
      " [0.13636364 0.53030303 0.33333333]\n",
      " [0.15151515 0.60606061 0.24242424]]\n",
      "Transition Probability Matrix (Step 115):\n",
      "[[0.06666667 0.73333333 0.2       ]\n",
      " [0.13432836 0.53731343 0.32835821]\n",
      " [0.15151515 0.60606061 0.24242424]]\n",
      "Transition Probability Matrix (Step 116):\n",
      "[[0.06666667 0.73333333 0.2       ]\n",
      " [0.13235294 0.52941176 0.33823529]\n",
      " [0.15151515 0.60606061 0.24242424]]\n",
      "Transition Probability Matrix (Step 117):\n",
      "[[0.06666667 0.73333333 0.2       ]\n",
      " [0.13235294 0.52941176 0.33823529]\n",
      " [0.14705882 0.61764706 0.23529412]]\n",
      "Transition Probability Matrix (Step 118):\n",
      "[[0.06666667 0.73333333 0.2       ]\n",
      " [0.13043478 0.53623188 0.33333333]\n",
      " [0.14705882 0.61764706 0.23529412]]\n",
      "Transition Probability Matrix (Step 119):\n",
      "[[0.06666667 0.73333333 0.2       ]\n",
      " [0.12857143 0.52857143 0.34285714]\n",
      " [0.14705882 0.61764706 0.23529412]]\n",
      "Transition Probability Matrix (Step 120):\n",
      "[[0.06666667 0.73333333 0.2       ]\n",
      " [0.12857143 0.52857143 0.34285714]\n",
      " [0.14285714 0.62857143 0.22857143]]\n",
      "Transition Probability Matrix (Step 121):\n",
      "[[0.06666667 0.73333333 0.2       ]\n",
      " [0.12676056 0.53521127 0.33802817]\n",
      " [0.14285714 0.62857143 0.22857143]]\n",
      "Transition Probability Matrix (Step 122):\n",
      "[[0.06666667 0.73333333 0.2       ]\n",
      " [0.125      0.52777778 0.34722222]\n",
      " [0.14285714 0.62857143 0.22857143]]\n",
      "Transition Probability Matrix (Step 123):\n",
      "[[0.06666667 0.73333333 0.2       ]\n",
      " [0.125      0.52777778 0.34722222]\n",
      " [0.13888889 0.63888889 0.22222222]]\n",
      "Transition Probability Matrix (Step 124):\n",
      "[[0.06666667 0.73333333 0.2       ]\n",
      " [0.12328767 0.53424658 0.34246575]\n",
      " [0.13888889 0.63888889 0.22222222]]\n",
      "Transition Probability Matrix (Step 125):\n",
      "[[0.06666667 0.73333333 0.2       ]\n",
      " [0.12162162 0.54054054 0.33783784]\n",
      " [0.13888889 0.63888889 0.22222222]]\n",
      "Transition Probability Matrix (Step 126):\n",
      "[[0.06666667 0.73333333 0.2       ]\n",
      " [0.12       0.54666667 0.33333333]\n",
      " [0.13888889 0.63888889 0.22222222]]\n",
      "Transition Probability Matrix (Step 127):\n",
      "[[0.06666667 0.73333333 0.2       ]\n",
      " [0.13157895 0.53947368 0.32894737]\n",
      " [0.13888889 0.63888889 0.22222222]]\n",
      "Transition Probability Matrix (Step 128):\n",
      "[[0.0625     0.75       0.1875    ]\n",
      " [0.13157895 0.53947368 0.32894737]\n",
      " [0.13888889 0.63888889 0.22222222]]\n",
      "Transition Probability Matrix (Step 129):\n",
      "[[0.0625     0.75       0.1875    ]\n",
      " [0.12987013 0.54545455 0.32467532]\n",
      " [0.13888889 0.63888889 0.22222222]]\n",
      "Transition Probability Matrix (Step 130):\n",
      "[[0.0625     0.75       0.1875    ]\n",
      " [0.12820513 0.55128205 0.32051282]\n",
      " [0.13888889 0.63888889 0.22222222]]\n",
      "Transition Probability Matrix (Step 131):\n",
      "[[0.0625     0.75       0.1875    ]\n",
      " [0.12658228 0.55696203 0.3164557 ]\n",
      " [0.13888889 0.63888889 0.22222222]]\n",
      "Transition Probability Matrix (Step 132):\n",
      "[[0.0625     0.75       0.1875    ]\n",
      " [0.125      0.55       0.325     ]\n",
      " [0.13888889 0.63888889 0.22222222]]\n",
      "Transition Probability Matrix (Step 133):\n",
      "[[0.0625     0.75       0.1875    ]\n",
      " [0.125      0.55       0.325     ]\n",
      " [0.13513514 0.64864865 0.21621622]]\n",
      "Transition Probability Matrix (Step 134):\n",
      "[[0.0625     0.75       0.1875    ]\n",
      " [0.12345679 0.55555556 0.32098765]\n",
      " [0.13513514 0.64864865 0.21621622]]\n",
      "Transition Probability Matrix (Step 135):\n",
      "[[0.0625     0.75       0.1875    ]\n",
      " [0.13414634 0.54878049 0.31707317]\n",
      " [0.13513514 0.64864865 0.21621622]]\n",
      "Transition Probability Matrix (Step 136):\n",
      "[[0.05882353 0.76470588 0.17647059]\n",
      " [0.13414634 0.54878049 0.31707317]\n",
      " [0.13513514 0.64864865 0.21621622]]\n",
      "Transition Probability Matrix (Step 137):\n",
      "[[0.05882353 0.76470588 0.17647059]\n",
      " [0.13253012 0.55421687 0.31325301]\n",
      " [0.13513514 0.64864865 0.21621622]]\n",
      "Transition Probability Matrix (Step 138):\n",
      "[[0.05882353 0.76470588 0.17647059]\n",
      " [0.13095238 0.55952381 0.30952381]\n",
      " [0.13513514 0.64864865 0.21621622]]\n",
      "Transition Probability Matrix (Step 139):\n",
      "[[0.05882353 0.76470588 0.17647059]\n",
      " [0.12941176 0.56470588 0.30588235]\n",
      " [0.13513514 0.64864865 0.21621622]]\n",
      "Transition Probability Matrix (Step 140):\n",
      "[[0.05882353 0.76470588 0.17647059]\n",
      " [0.12790698 0.56976744 0.30232558]\n",
      " [0.13513514 0.64864865 0.21621622]]\n",
      "Transition Probability Matrix (Step 141):\n",
      "[[0.05882353 0.76470588 0.17647059]\n",
      " [0.12643678 0.56321839 0.31034483]\n",
      " [0.13513514 0.64864865 0.21621622]]\n",
      "Transition Probability Matrix (Step 142):\n",
      "[[0.05882353 0.76470588 0.17647059]\n",
      " [0.12643678 0.56321839 0.31034483]\n",
      " [0.13157895 0.65789474 0.21052632]]\n",
      "Transition Probability Matrix (Step 143):\n",
      "[[0.05882353 0.76470588 0.17647059]\n",
      " [0.125      0.56818182 0.30681818]\n",
      " [0.13157895 0.65789474 0.21052632]]\n",
      "Transition Probability Matrix (Step 144):\n",
      "[[0.05882353 0.76470588 0.17647059]\n",
      " [0.13483146 0.56179775 0.30337079]\n",
      " [0.13157895 0.65789474 0.21052632]]\n",
      "Transition Probability Matrix (Step 145):\n",
      "[[0.05555556 0.77777778 0.16666667]\n",
      " [0.13483146 0.56179775 0.30337079]\n",
      " [0.13157895 0.65789474 0.21052632]]\n",
      "Transition Probability Matrix (Step 146):\n",
      "[[0.05555556 0.77777778 0.16666667]\n",
      " [0.14444444 0.55555556 0.3       ]\n",
      " [0.13157895 0.65789474 0.21052632]]\n",
      "Transition Probability Matrix (Step 147):\n",
      "[[0.10526316 0.73684211 0.15789474]\n",
      " [0.14444444 0.55555556 0.3       ]\n",
      " [0.13157895 0.65789474 0.21052632]]\n",
      "Transition Probability Matrix (Step 148):\n",
      "[[0.1        0.75       0.15      ]\n",
      " [0.14444444 0.55555556 0.3       ]\n",
      " [0.13157895 0.65789474 0.21052632]]\n",
      "Transition Probability Matrix (Step 149):\n",
      "[[0.1        0.75       0.15      ]\n",
      " [0.14285714 0.56043956 0.2967033 ]\n",
      " [0.13157895 0.65789474 0.21052632]]\n",
      "Transition Probability Matrix (Step 150):\n",
      "[[0.1        0.75       0.15      ]\n",
      " [0.14130435 0.56521739 0.29347826]\n",
      " [0.13157895 0.65789474 0.21052632]]\n",
      "Transition Probability Matrix (Step 151):\n",
      "[[0.1        0.75       0.15      ]\n",
      " [0.13978495 0.56989247 0.29032258]\n",
      " [0.13157895 0.65789474 0.21052632]]\n",
      "Transition Probability Matrix (Step 152):\n",
      "[[0.1        0.75       0.15      ]\n",
      " [0.13829787 0.57446809 0.28723404]\n",
      " [0.13157895 0.65789474 0.21052632]]\n",
      "Transition Probability Matrix (Step 153):\n",
      "[[0.1        0.75       0.15      ]\n",
      " [0.14736842 0.56842105 0.28421053]\n",
      " [0.13157895 0.65789474 0.21052632]]\n",
      "Transition Probability Matrix (Step 154):\n",
      "[[0.0952381  0.76190476 0.14285714]\n",
      " [0.14736842 0.56842105 0.28421053]\n",
      " [0.13157895 0.65789474 0.21052632]]\n",
      "Transition Probability Matrix (Step 155):\n",
      "[[0.0952381  0.76190476 0.14285714]\n",
      " [0.15625    0.5625     0.28125   ]\n",
      " [0.13157895 0.65789474 0.21052632]]\n",
      "Transition Probability Matrix (Step 156):\n",
      "[[0.09090909 0.77272727 0.13636364]\n",
      " [0.15625    0.5625     0.28125   ]\n",
      " [0.13157895 0.65789474 0.21052632]]\n",
      "Transition Probability Matrix (Step 157):\n",
      "[[0.09090909 0.77272727 0.13636364]\n",
      " [0.15463918 0.56701031 0.27835052]\n",
      " [0.13157895 0.65789474 0.21052632]]\n",
      "Transition Probability Matrix (Step 158):\n",
      "[[0.09090909 0.77272727 0.13636364]\n",
      " [0.15306122 0.57142857 0.2755102 ]\n",
      " [0.13157895 0.65789474 0.21052632]]\n",
      "Transition Probability Matrix (Step 159):\n",
      "[[0.09090909 0.77272727 0.13636364]\n",
      " [0.15151515 0.56565657 0.28282828]\n",
      " [0.13157895 0.65789474 0.21052632]]\n",
      "Transition Probability Matrix (Step 160):\n",
      "[[0.09090909 0.77272727 0.13636364]\n",
      " [0.15151515 0.56565657 0.28282828]\n",
      " [0.15384615 0.64102564 0.20512821]]\n",
      "Transition Probability Matrix (Step 161):\n",
      "[[0.08695652 0.73913043 0.17391304]\n",
      " [0.15151515 0.56565657 0.28282828]\n",
      " [0.15384615 0.64102564 0.20512821]]\n",
      "Transition Probability Matrix (Step 162):\n",
      "[[0.08695652 0.73913043 0.17391304]\n",
      " [0.15151515 0.56565657 0.28282828]\n",
      " [0.15       0.65       0.2       ]]\n",
      "Transition Probability Matrix (Step 163):\n",
      "[[0.08695652 0.73913043 0.17391304]\n",
      " [0.15       0.56       0.29      ]\n",
      " [0.15       0.65       0.2       ]]\n",
      "Transition Probability Matrix (Step 164):\n",
      "[[0.08695652 0.73913043 0.17391304]\n",
      " [0.15       0.56       0.29      ]\n",
      " [0.14634146 0.63414634 0.2195122 ]]\n",
      "Transition Probability Matrix (Step 165):\n",
      "[[0.08695652 0.73913043 0.17391304]\n",
      " [0.15       0.56       0.29      ]\n",
      " [0.14285714 0.64285714 0.21428571]]\n",
      "Transition Probability Matrix (Step 166):\n",
      "[[0.08695652 0.73913043 0.17391304]\n",
      " [0.14851485 0.56435644 0.28712871]\n",
      " [0.14285714 0.64285714 0.21428571]]\n",
      "Transition Probability Matrix (Step 167):\n",
      "[[0.08695652 0.73913043 0.17391304]\n",
      " [0.14705882 0.56862745 0.28431373]\n",
      " [0.14285714 0.64285714 0.21428571]]\n",
      "Transition Probability Matrix (Step 168):\n",
      "[[0.08695652 0.73913043 0.17391304]\n",
      " [0.15533981 0.5631068  0.2815534 ]\n",
      " [0.14285714 0.64285714 0.21428571]]\n",
      "Transition Probability Matrix (Step 169):\n",
      "[[0.125      0.70833333 0.16666667]\n",
      " [0.15533981 0.5631068  0.2815534 ]\n",
      " [0.14285714 0.64285714 0.21428571]]\n",
      "Transition Probability Matrix (Step 170):\n",
      "[[0.12       0.72       0.16      ]\n",
      " [0.15533981 0.5631068  0.2815534 ]\n",
      " [0.14285714 0.64285714 0.21428571]]\n",
      "Transition Probability Matrix (Step 171):\n",
      "[[0.12       0.72       0.16      ]\n",
      " [0.15384615 0.56730769 0.27884615]\n",
      " [0.14285714 0.64285714 0.21428571]]\n",
      "Transition Probability Matrix (Step 172):\n",
      "[[0.12       0.72       0.16      ]\n",
      " [0.16190476 0.56190476 0.27619048]\n",
      " [0.14285714 0.64285714 0.21428571]]\n",
      "Transition Probability Matrix (Step 173):\n",
      "[[0.15384615 0.69230769 0.15384615]\n",
      " [0.16190476 0.56190476 0.27619048]\n",
      " [0.14285714 0.64285714 0.21428571]]\n",
      "Transition Probability Matrix (Step 174):\n",
      "[[0.14814815 0.7037037  0.14814815]\n",
      " [0.16190476 0.56190476 0.27619048]\n",
      " [0.14285714 0.64285714 0.21428571]]\n",
      "Transition Probability Matrix (Step 175):\n",
      "[[0.14814815 0.7037037  0.14814815]\n",
      " [0.16037736 0.56603774 0.27358491]\n",
      " [0.14285714 0.64285714 0.21428571]]\n",
      "Transition Probability Matrix (Step 176):\n",
      "[[0.14814815 0.7037037  0.14814815]\n",
      " [0.1588785  0.56074766 0.28037383]\n",
      " [0.14285714 0.64285714 0.21428571]]\n",
      "Transition Probability Matrix (Step 177):\n",
      "[[0.14814815 0.7037037  0.14814815]\n",
      " [0.1588785  0.56074766 0.28037383]\n",
      " [0.13953488 0.65116279 0.20930233]]\n",
      "Transition Probability Matrix (Step 178):\n",
      "[[0.14814815 0.7037037  0.14814815]\n",
      " [0.16666667 0.55555556 0.27777778]\n",
      " [0.13953488 0.65116279 0.20930233]]\n",
      "Transition Probability Matrix (Step 179):\n",
      "[[0.14285714 0.71428571 0.14285714]\n",
      " [0.16666667 0.55555556 0.27777778]\n",
      " [0.13953488 0.65116279 0.20930233]]\n",
      "Transition Probability Matrix (Step 180):\n",
      "[[0.14285714 0.71428571 0.14285714]\n",
      " [0.16513761 0.55963303 0.27522936]\n",
      " [0.13953488 0.65116279 0.20930233]]\n",
      "Transition Probability Matrix (Step 181):\n",
      "[[0.14285714 0.71428571 0.14285714]\n",
      " [0.16363636 0.56363636 0.27272727]\n",
      " [0.13953488 0.65116279 0.20930233]]\n",
      "Transition Probability Matrix (Step 182):\n",
      "[[0.14285714 0.71428571 0.14285714]\n",
      " [0.17117117 0.55855856 0.27027027]\n",
      " [0.13953488 0.65116279 0.20930233]]\n",
      "Transition Probability Matrix (Step 183):\n",
      "[[0.13793103 0.72413793 0.13793103]\n",
      " [0.17117117 0.55855856 0.27027027]\n",
      " [0.13953488 0.65116279 0.20930233]]\n",
      "Transition Probability Matrix (Step 184):\n",
      "[[0.13793103 0.72413793 0.13793103]\n",
      " [0.16964286 0.5625     0.26785714]\n",
      " [0.13953488 0.65116279 0.20930233]]\n",
      "Transition Probability Matrix (Step 185):\n",
      "[[0.13793103 0.72413793 0.13793103]\n",
      " [0.16814159 0.56637168 0.26548673]\n",
      " [0.13953488 0.65116279 0.20930233]]\n",
      "Transition Probability Matrix (Step 186):\n",
      "[[0.13793103 0.72413793 0.13793103]\n",
      " [0.16666667 0.56140351 0.27192982]\n",
      " [0.13953488 0.65116279 0.20930233]]\n",
      "Transition Probability Matrix (Step 187):\n",
      "[[0.13793103 0.72413793 0.13793103]\n",
      " [0.16666667 0.56140351 0.27192982]\n",
      " [0.13636364 0.65909091 0.20454545]]\n",
      "Transition Probability Matrix (Step 188):\n",
      "[[0.13793103 0.72413793 0.13793103]\n",
      " [0.16521739 0.56521739 0.26956522]\n",
      " [0.13636364 0.65909091 0.20454545]]\n",
      "Transition Probability Matrix (Step 189):\n",
      "[[0.13793103 0.72413793 0.13793103]\n",
      " [0.1637931  0.56896552 0.26724138]\n",
      " [0.13636364 0.65909091 0.20454545]]\n",
      "Transition Probability Matrix (Step 190):\n",
      "[[0.13793103 0.72413793 0.13793103]\n",
      " [0.16239316 0.56410256 0.27350427]\n",
      " [0.13636364 0.65909091 0.20454545]]\n",
      "Transition Probability Matrix (Step 191):\n",
      "[[0.13793103 0.72413793 0.13793103]\n",
      " [0.16239316 0.56410256 0.27350427]\n",
      " [0.13333333 0.66666667 0.2       ]]\n",
      "Transition Probability Matrix (Step 192):\n",
      "[[0.13793103 0.72413793 0.13793103]\n",
      " [0.16101695 0.56779661 0.27118644]\n",
      " [0.13333333 0.66666667 0.2       ]]\n",
      "Transition Probability Matrix (Step 193):\n",
      "[[0.13793103 0.72413793 0.13793103]\n",
      " [0.15966387 0.57142857 0.26890756]\n",
      " [0.13333333 0.66666667 0.2       ]]\n",
      "Transition Probability Matrix (Step 194):\n",
      "[[0.13793103 0.72413793 0.13793103]\n",
      " [0.15833333 0.575      0.26666667]\n",
      " [0.13333333 0.66666667 0.2       ]]\n",
      "Transition Probability Matrix (Step 195):\n",
      "[[0.13793103 0.72413793 0.13793103]\n",
      " [0.16528926 0.57024793 0.26446281]\n",
      " [0.13333333 0.66666667 0.2       ]]\n",
      "Transition Probability Matrix (Step 196):\n",
      "[[0.13333333 0.73333333 0.13333333]\n",
      " [0.16528926 0.57024793 0.26446281]\n",
      " [0.13333333 0.66666667 0.2       ]]\n",
      "Transition Probability Matrix (Step 197):\n",
      "[[0.13333333 0.73333333 0.13333333]\n",
      " [0.16393443 0.57377049 0.26229508]\n",
      " [0.13333333 0.66666667 0.2       ]]\n",
      "Transition Probability Matrix (Step 198):\n",
      "[[0.13333333 0.73333333 0.13333333]\n",
      " [0.16260163 0.57723577 0.2601626 ]\n",
      " [0.13333333 0.66666667 0.2       ]]\n",
      "Transition Probability Matrix (Step 199):\n",
      "[[0.13333333 0.73333333 0.13333333]\n",
      " [0.16129032 0.58064516 0.25806452]\n",
      " [0.13333333 0.66666667 0.2       ]]\n",
      "Transition Probability Matrix (Step 200):\n",
      "[[0.13333333 0.73333333 0.13333333]\n",
      " [0.168      0.576      0.256     ]\n",
      " [0.13333333 0.66666667 0.2       ]]\n",
      "Transition Probability Matrix (Step 201):\n",
      "[[0.12903226 0.74193548 0.12903226]\n",
      " [0.168      0.576      0.256     ]\n",
      " [0.13333333 0.66666667 0.2       ]]\n",
      "Transition Probability Matrix (Step 202):\n",
      "[[0.12903226 0.74193548 0.12903226]\n",
      " [0.16666667 0.57936508 0.25396825]\n",
      " [0.13333333 0.66666667 0.2       ]]\n",
      "Transition Probability Matrix (Step 203):\n",
      "[[0.12903226 0.74193548 0.12903226]\n",
      " [0.17322835 0.57480315 0.2519685 ]\n",
      " [0.13333333 0.66666667 0.2       ]]\n",
      "Transition Probability Matrix (Step 204):\n",
      "[[0.15625    0.71875    0.125     ]\n",
      " [0.17322835 0.57480315 0.2519685 ]\n",
      " [0.13333333 0.66666667 0.2       ]]\n",
      "Transition Probability Matrix (Step 205):\n",
      "[[0.15151515 0.72727273 0.12121212]\n",
      " [0.17322835 0.57480315 0.2519685 ]\n",
      " [0.13333333 0.66666667 0.2       ]]\n",
      "Transition Probability Matrix (Step 206):\n",
      "[[0.15151515 0.72727273 0.12121212]\n",
      " [0.171875   0.5703125  0.2578125 ]\n",
      " [0.13333333 0.66666667 0.2       ]]\n",
      "Transition Probability Matrix (Step 207):\n",
      "[[0.15151515 0.72727273 0.12121212]\n",
      " [0.171875   0.5703125  0.2578125 ]\n",
      " [0.13043478 0.67391304 0.19565217]]\n",
      "Transition Probability Matrix (Step 208):\n",
      "[[0.15151515 0.72727273 0.12121212]\n",
      " [0.17054264 0.56589147 0.26356589]\n",
      " [0.13043478 0.67391304 0.19565217]]\n",
      "Transition Probability Matrix (Step 209):\n",
      "[[0.15151515 0.72727273 0.12121212]\n",
      " [0.17054264 0.56589147 0.26356589]\n",
      " [0.12765957 0.65957447 0.21276596]]\n",
      "Transition Probability Matrix (Step 210):\n",
      "[[0.15151515 0.72727273 0.12121212]\n",
      " [0.17054264 0.56589147 0.26356589]\n",
      " [0.125      0.66666667 0.20833333]]\n",
      "Transition Probability Matrix (Step 211):\n",
      "[[0.15151515 0.72727273 0.12121212]\n",
      " [0.16923077 0.56153846 0.26923077]\n",
      " [0.125      0.66666667 0.20833333]]\n",
      "Transition Probability Matrix (Step 212):\n",
      "[[0.15151515 0.72727273 0.12121212]\n",
      " [0.16923077 0.56153846 0.26923077]\n",
      " [0.12244898 0.65306122 0.2244898 ]]\n",
      "Transition Probability Matrix (Step 213):\n",
      "[[0.15151515 0.72727273 0.12121212]\n",
      " [0.16923077 0.56153846 0.26923077]\n",
      " [0.12       0.66       0.22      ]]\n",
      "Transition Probability Matrix (Step 214):\n",
      "[[0.15151515 0.72727273 0.12121212]\n",
      " [0.16793893 0.5648855  0.26717557]\n",
      " [0.12       0.66       0.22      ]]\n",
      "Transition Probability Matrix (Step 215):\n",
      "[[0.15151515 0.72727273 0.12121212]\n",
      " [0.16666667 0.56060606 0.27272727]\n",
      " [0.12       0.66       0.22      ]]\n",
      "Transition Probability Matrix (Step 216):\n",
      "[[0.15151515 0.72727273 0.12121212]\n",
      " [0.16666667 0.56060606 0.27272727]\n",
      " [0.11764706 0.66666667 0.21568627]]\n",
      "Transition Probability Matrix (Step 217):\n",
      "[[0.15151515 0.72727273 0.12121212]\n",
      " [0.16541353 0.55639098 0.27819549]\n",
      " [0.11764706 0.66666667 0.21568627]]\n",
      "Transition Probability Matrix (Step 218):\n",
      "[[0.15151515 0.72727273 0.12121212]\n",
      " [0.16541353 0.55639098 0.27819549]\n",
      " [0.11538462 0.67307692 0.21153846]]\n",
      "Transition Probability Matrix (Step 219):\n",
      "[[0.15151515 0.72727273 0.12121212]\n",
      " [0.1641791  0.55970149 0.2761194 ]\n",
      " [0.11538462 0.67307692 0.21153846]]\n",
      "Transition Probability Matrix (Step 220):\n",
      "[[0.15151515 0.72727273 0.12121212]\n",
      " [0.16296296 0.56296296 0.27407407]\n",
      " [0.11538462 0.67307692 0.21153846]]\n",
      "Transition Probability Matrix (Step 221):\n",
      "[[0.15151515 0.72727273 0.12121212]\n",
      " [0.16176471 0.56617647 0.27205882]\n",
      " [0.11538462 0.67307692 0.21153846]]\n",
      "Transition Probability Matrix (Step 222):\n",
      "[[0.15151515 0.72727273 0.12121212]\n",
      " [0.16058394 0.56934307 0.27007299]\n",
      " [0.11538462 0.67307692 0.21153846]]\n",
      "Transition Probability Matrix (Step 223):\n",
      "[[0.15151515 0.72727273 0.12121212]\n",
      " [0.15942029 0.57246377 0.26811594]\n",
      " [0.11538462 0.67307692 0.21153846]]\n",
      "Transition Probability Matrix (Step 224):\n",
      "[[0.15151515 0.72727273 0.12121212]\n",
      " [0.15827338 0.57553957 0.26618705]\n",
      " [0.11538462 0.67307692 0.21153846]]\n",
      "Transition Probability Matrix (Step 225):\n",
      "[[0.15151515 0.72727273 0.12121212]\n",
      " [0.15714286 0.57857143 0.26428571]\n",
      " [0.11538462 0.67307692 0.21153846]]\n",
      "Transition Probability Matrix (Step 226):\n",
      "[[0.15151515 0.72727273 0.12121212]\n",
      " [0.15602837 0.58156028 0.26241135]\n",
      " [0.11538462 0.67307692 0.21153846]]\n",
      "Transition Probability Matrix (Step 227):\n",
      "[[0.15151515 0.72727273 0.12121212]\n",
      " [0.15492958 0.58450704 0.26056338]\n",
      " [0.11538462 0.67307692 0.21153846]]\n",
      "Transition Probability Matrix (Step 228):\n",
      "[[0.15151515 0.72727273 0.12121212]\n",
      " [0.15384615 0.58741259 0.25874126]\n",
      " [0.11538462 0.67307692 0.21153846]]\n",
      "Transition Probability Matrix (Step 229):\n",
      "[[0.15151515 0.72727273 0.12121212]\n",
      " [0.15277778 0.59027778 0.25694444]\n",
      " [0.11538462 0.67307692 0.21153846]]\n",
      "Transition Probability Matrix (Step 230):\n",
      "[[0.15151515 0.72727273 0.12121212]\n",
      " [0.15172414 0.59310345 0.25517241]\n",
      " [0.11538462 0.67307692 0.21153846]]\n",
      "Transition Probability Matrix (Step 231):\n",
      "[[0.15151515 0.72727273 0.12121212]\n",
      " [0.15068493 0.5890411  0.26027397]\n",
      " [0.11538462 0.67307692 0.21153846]]\n",
      "Transition Probability Matrix (Step 232):\n",
      "[[0.15151515 0.72727273 0.12121212]\n",
      " [0.15068493 0.5890411  0.26027397]\n",
      " [0.11320755 0.67924528 0.20754717]]\n",
      "Transition Probability Matrix (Step 233):\n",
      "[[0.15151515 0.72727273 0.12121212]\n",
      " [0.14965986 0.58503401 0.26530612]\n",
      " [0.11320755 0.67924528 0.20754717]]\n",
      "Transition Probability Matrix (Step 234):\n",
      "[[0.15151515 0.72727273 0.12121212]\n",
      " [0.14965986 0.58503401 0.26530612]\n",
      " [0.11111111 0.68518519 0.2037037 ]]\n",
      "Transition Probability Matrix (Step 235):\n",
      "[[0.15151515 0.72727273 0.12121212]\n",
      " [0.15540541 0.58108108 0.26351351]\n",
      " [0.11111111 0.68518519 0.2037037 ]]\n",
      "Transition Probability Matrix (Step 236):\n",
      "[[0.14705882 0.73529412 0.11764706]\n",
      " [0.15540541 0.58108108 0.26351351]\n",
      " [0.11111111 0.68518519 0.2037037 ]]\n",
      "Transition Probability Matrix (Step 237):\n",
      "[[0.14705882 0.73529412 0.11764706]\n",
      " [0.15436242 0.57718121 0.26845638]\n",
      " [0.11111111 0.68518519 0.2037037 ]]\n",
      "Transition Probability Matrix (Step 238):\n",
      "[[0.14705882 0.73529412 0.11764706]\n",
      " [0.15436242 0.57718121 0.26845638]\n",
      " [0.10909091 0.69090909 0.2       ]]\n",
      "Transition Probability Matrix (Step 239):\n",
      "[[0.14705882 0.73529412 0.11764706]\n",
      " [0.15333333 0.58       0.26666667]\n",
      " [0.10909091 0.69090909 0.2       ]]\n",
      "Transition Probability Matrix (Step 240):\n",
      "[[0.14705882 0.73529412 0.11764706]\n",
      " [0.15231788 0.58278146 0.26490066]\n",
      " [0.10909091 0.69090909 0.2       ]]\n",
      "Transition Probability Matrix (Step 241):\n",
      "[[0.14705882 0.73529412 0.11764706]\n",
      " [0.15131579 0.58552632 0.26315789]\n",
      " [0.10909091 0.69090909 0.2       ]]\n",
      "Transition Probability Matrix (Step 242):\n",
      "[[0.14705882 0.73529412 0.11764706]\n",
      " [0.15686275 0.58169935 0.26143791]\n",
      " [0.10909091 0.69090909 0.2       ]]\n",
      "Transition Probability Matrix (Step 243):\n",
      "[[0.14285714 0.74285714 0.11428571]\n",
      " [0.15686275 0.58169935 0.26143791]\n",
      " [0.10909091 0.69090909 0.2       ]]\n",
      "Transition Probability Matrix (Step 244):\n",
      "[[0.14285714 0.74285714 0.11428571]\n",
      " [0.15584416 0.58441558 0.25974026]\n",
      " [0.10909091 0.69090909 0.2       ]]\n",
      "Transition Probability Matrix (Step 245):\n",
      "[[0.14285714 0.74285714 0.11428571]\n",
      " [0.15483871 0.58709677 0.25806452]\n",
      " [0.10909091 0.69090909 0.2       ]]\n",
      "Transition Probability Matrix (Step 246):\n",
      "[[0.14285714 0.74285714 0.11428571]\n",
      " [0.15384615 0.58974359 0.25641026]\n",
      " [0.10909091 0.69090909 0.2       ]]\n",
      "Transition Probability Matrix (Step 247):\n",
      "[[0.14285714 0.74285714 0.11428571]\n",
      " [0.15286624 0.59235669 0.25477707]\n",
      " [0.10909091 0.69090909 0.2       ]]\n",
      "Transition Probability Matrix (Step 248):\n",
      "[[0.14285714 0.74285714 0.11428571]\n",
      " [0.15189873 0.59493671 0.25316456]\n",
      " [0.10909091 0.69090909 0.2       ]]\n",
      "Final Portfolio Value: 16\n",
      "Optimal Buy Indices: [7, 11, 15, 20, 27, 29, 40, 49, 51, 58, 60, 68, 78, 84, 87, 93, 99, 102, 107, 109, 112, 116, 119, 122, 132, 141, 159, 163, 176, 186, 190, 206, 208, 211, 215, 217, 231, 233, 237]\n"
     ]
    },
    {
     "name": "stderr",
     "output_type": "stream",
     "text": [
      "/tmp/ipykernel_101/3204253006.py:51: RuntimeWarning:\n",
      "\n",
      "invalid value encountered in true_divide\n",
      "\n"
     ]
    }
   ],
   "source": [
    "import pandas as pd\n",
    "import numpy as np\n",
    "\n",
    "# Placeholder for loading the data\n",
    "# df = pd.read_csv('path_to_your_data.csv')  # Replace with your data loading line\n",
    "# Example column in df: 'close price'\n",
    "\n",
    "# Calculate daily returns\n",
    "df['Return'] = df['close price'].pct_change()\n",
    "\n",
    "# Classify the market state as Bull (1), Flat (0), or Bear (-1)\n",
    "df['State'] = 0  # Default to Flat\n",
    "df.loc[df['Return'] >= 0.01, 'State'] = 1  # Bull\n",
    "df.loc[df['Return'] <= -0.01, 'State'] = -1  # Bear\n",
    "\n",
    "# Initialize portfolio value\n",
    "df['Portfolio_Value'] = 0\n",
    "portfolio_value = 0\n",
    "\n",
    "# Initialize transition probabilities matrix and state counts\n",
    "transition_matrix = np.zeros((3, 3))  # Rows and columns for states -1, 0, 1\n",
    "state_counts = np.zeros(3)  # Count occurrences of each state\n",
    "\n",
    "# Iterate through each day\n",
    "for i in range(1, len(df)):\n",
    "    # Use iloc for positional indexing\n",
    "    current_state = int(df.iloc[i-1]['State'])\n",
    "    next_state = int(df.iloc[i]['State'])\n",
    "    \n",
    "    # Update state counts and transition matrix\n",
    "    state_counts[current_state + 1] += 1\n",
    "    transition_matrix[current_state + 1, next_state + 1] += 1\n",
    "\n",
    "    # Calculate transition probabilities from the current state to all possible next states\n",
    "    if state_counts[current_state + 1] != 0:  # Check to avoid division by zero\n",
    "        transition_probs = transition_matrix[current_state + 1] / state_counts[current_state + 1]\n",
    "    else:\n",
    "        transition_probs = np.zeros(3)  # Default to no knowledge if no prior data\n",
    "\n",
    "    # Decision making: Buy if likelihood of moving to a Bull state is higher than to a Bear state\n",
    "    if transition_probs[2] > transition_probs[0]:  # Indices 2 and 0 correspond to Bull and Bear states, respectively\n",
    "        if next_state == 1 and current_state == 0:\n",
    "            portfolio_value += 1  # Increase portfolio value if moving from Flat to Bull\n",
    "        elif next_state == -1 and current_state == 0:\n",
    "            portfolio_value -= 1  # Decrease portfolio value if moving from Flat to Bear\n",
    "\n",
    "    df.iloc[i, df.columns.get_loc('Portfolio_Value')] = portfolio_value\n",
    "\n",
    "    # Print the current transition probability matrix\n",
    "    print(f\"Transition Probability Matrix (Step {i}):\")\n",
    "    print(transition_matrix / state_counts[:, None])\n",
    "\n",
    "# Output the final portfolio value and optimal buy indices\n",
    "final_portfolio_value = df.iloc[-1]['Portfolio_Value']\n",
    "optimal_buy_indices = [i for i, v in enumerate(df['Portfolio_Value'].diff() > 0) if v]\n",
    "\n",
    "print(f\"Final Portfolio Value: {final_portfolio_value}\")\n",
    "print(f\"Optimal Buy Indices: {optimal_buy_indices}\")\n"
   ]
  },
  {
   "cell_type": "markdown",
   "id": "f0fac21b-51c8-4027-aae8-0e3a919abbe5",
   "metadata": {},
   "source": [
    "## Approach 4"
   ]
  },
  {
   "cell_type": "code",
   "execution_count": 114,
   "id": "33acd29e-0cd3-4b73-a2ae-87cb80005b90",
   "metadata": {
    "tags": []
   },
   "outputs": [
    {
     "name": "stdout",
     "output_type": "stream",
     "text": [
      "Transition Probability Matrix (Step 1):\n",
      "[[nan nan nan]\n",
      " [ 1.  0.  0.]\n",
      " [nan nan nan]]\n",
      "Transition Probability Matrix (Step 2):\n",
      "[[ 0.  0.  1.]\n",
      " [ 1.  0.  0.]\n",
      " [nan nan nan]]\n",
      "Transition Probability Matrix (Step 3):\n",
      "[[0. 0. 1.]\n",
      " [1. 0. 0.]\n",
      " [0. 1. 0.]]\n",
      "Transition Probability Matrix (Step 4):\n",
      "[[0.  0.  1. ]\n",
      " [0.5 0.5 0. ]\n",
      " [0.  1.  0. ]]\n",
      "Transition Probability Matrix (Step 5):\n",
      "[[0.         0.         1.        ]\n",
      " [0.33333333 0.33333333 0.33333333]\n",
      " [0.         1.         0.        ]]\n",
      "Transition Probability Matrix (Step 6):\n",
      "[[0.         0.         1.        ]\n",
      " [0.33333333 0.33333333 0.33333333]\n",
      " [0.         1.         0.        ]]\n",
      "Transition Probability Matrix (Step 7):\n",
      "[[0.   0.   1.  ]\n",
      " [0.25 0.25 0.5 ]\n",
      " [0.   1.   0.  ]]\n",
      "Transition Probability Matrix (Step 8):\n",
      "[[0.   0.   1.  ]\n",
      " [0.25 0.25 0.5 ]\n",
      " [0.   1.   0.  ]]\n",
      "Transition Probability Matrix (Step 9):\n",
      "[[0.  0.  1. ]\n",
      " [0.2 0.4 0.4]\n",
      " [0.  1.  0. ]]\n",
      "Transition Probability Matrix (Step 10):\n",
      "[[0.         0.         1.        ]\n",
      " [0.16666667 0.5        0.33333333]\n",
      " [0.         1.         0.        ]]\n",
      "Transition Probability Matrix (Step 11):\n",
      "[[0.         0.         1.        ]\n",
      " [0.14285714 0.42857143 0.42857143]\n",
      " [0.         1.         0.        ]]\n",
      "Transition Probability Matrix (Step 12):\n",
      "[[0.         0.         1.        ]\n",
      " [0.14285714 0.42857143 0.42857143]\n",
      " [0.         0.75       0.25      ]]\n",
      "Transition Probability Matrix (Step 13):\n",
      "[[0.         0.         1.        ]\n",
      " [0.14285714 0.42857143 0.42857143]\n",
      " [0.         0.6        0.4       ]]\n",
      "Transition Probability Matrix (Step 14):\n",
      "[[0.         0.         1.        ]\n",
      " [0.14285714 0.42857143 0.42857143]\n",
      " [0.         0.66666667 0.33333333]]\n",
      "Transition Probability Matrix (Step 15):\n",
      "[[0.         0.         1.        ]\n",
      " [0.125      0.375      0.5       ]\n",
      " [0.         0.66666667 0.33333333]]\n",
      "Transition Probability Matrix (Step 16):\n",
      "[[0.         0.         1.        ]\n",
      " [0.125      0.375      0.5       ]\n",
      " [0.         0.57142857 0.42857143]]\n",
      "Transition Probability Matrix (Step 17):\n",
      "[[0.    0.    1.   ]\n",
      " [0.125 0.375 0.5  ]\n",
      " [0.125 0.5   0.375]]\n",
      "Transition Probability Matrix (Step 18):\n",
      "[[0.    0.5   0.5  ]\n",
      " [0.125 0.375 0.5  ]\n",
      " [0.125 0.5   0.375]]\n",
      "Transition Probability Matrix (Step 19):\n",
      "[[0.         0.5        0.5       ]\n",
      " [0.11111111 0.44444444 0.44444444]\n",
      " [0.125      0.5        0.375     ]]\n",
      "Transition Probability Matrix (Step 20):\n",
      "[[0.    0.5   0.5  ]\n",
      " [0.1   0.4   0.5  ]\n",
      " [0.125 0.5   0.375]]\n",
      "Transition Probability Matrix (Step 21):\n",
      "[[0.         0.5        0.5       ]\n",
      " [0.1        0.4        0.5       ]\n",
      " [0.11111111 0.44444444 0.44444444]]\n",
      "Transition Probability Matrix (Step 22):\n",
      "[[0.  0.5 0.5]\n",
      " [0.1 0.4 0.5]\n",
      " [0.2 0.4 0.4]]\n",
      "Transition Probability Matrix (Step 23):\n",
      "[[0.         0.33333333 0.66666667]\n",
      " [0.1        0.4        0.5       ]\n",
      " [0.2        0.4        0.4       ]]\n",
      "Transition Probability Matrix (Step 24):\n",
      "[[0.         0.33333333 0.66666667]\n",
      " [0.1        0.4        0.5       ]\n",
      " [0.27272727 0.36363636 0.36363636]]\n",
      "Transition Probability Matrix (Step 25):\n",
      "[[0.         0.5        0.5       ]\n",
      " [0.1        0.4        0.5       ]\n",
      " [0.27272727 0.36363636 0.36363636]]\n",
      "Transition Probability Matrix (Step 26):\n",
      "[[0.         0.5        0.5       ]\n",
      " [0.09090909 0.45454545 0.45454545]\n",
      " [0.27272727 0.36363636 0.36363636]]\n",
      "Transition Probability Matrix (Step 27):\n",
      "[[0.         0.5        0.5       ]\n",
      " [0.08333333 0.41666667 0.5       ]\n",
      " [0.27272727 0.36363636 0.36363636]]\n",
      "Transition Probability Matrix (Step 28):\n",
      "[[0.         0.5        0.5       ]\n",
      " [0.08333333 0.41666667 0.5       ]\n",
      " [0.25       0.41666667 0.33333333]]\n",
      "Transition Probability Matrix (Step 29):\n",
      "[[0.         0.5        0.5       ]\n",
      " [0.07692308 0.38461538 0.53846154]\n",
      " [0.25       0.41666667 0.33333333]]\n",
      "Transition Probability Matrix (Step 30):\n",
      "[[0.         0.5        0.5       ]\n",
      " [0.07692308 0.38461538 0.53846154]\n",
      " [0.30769231 0.38461538 0.30769231]]\n",
      "Transition Probability Matrix (Step 31):\n",
      "[[0.         0.6        0.4       ]\n",
      " [0.07692308 0.38461538 0.53846154]\n",
      " [0.30769231 0.38461538 0.30769231]]\n",
      "Transition Probability Matrix (Step 32):\n",
      "[[0.         0.6        0.4       ]\n",
      " [0.14285714 0.35714286 0.5       ]\n",
      " [0.30769231 0.38461538 0.30769231]]\n",
      "Transition Probability Matrix (Step 33):\n",
      "[[0.         0.66666667 0.33333333]\n",
      " [0.14285714 0.35714286 0.5       ]\n",
      " [0.30769231 0.38461538 0.30769231]]\n",
      "Transition Probability Matrix (Step 34):\n",
      "[[0.         0.66666667 0.33333333]\n",
      " [0.13333333 0.4        0.46666667]\n",
      " [0.30769231 0.38461538 0.30769231]]\n",
      "Transition Probability Matrix (Step 35):\n",
      "[[0.         0.66666667 0.33333333]\n",
      " [0.1875     0.375      0.4375    ]\n",
      " [0.30769231 0.38461538 0.30769231]]\n",
      "Transition Probability Matrix (Step 36):\n",
      "[[0.         0.71428571 0.28571429]\n",
      " [0.1875     0.375      0.4375    ]\n",
      " [0.30769231 0.38461538 0.30769231]]\n",
      "Transition Probability Matrix (Step 37):\n",
      "[[0.         0.71428571 0.28571429]\n",
      " [0.17647059 0.41176471 0.41176471]\n",
      " [0.30769231 0.38461538 0.30769231]]\n",
      "Transition Probability Matrix (Step 38):\n",
      "[[0.         0.71428571 0.28571429]\n",
      " [0.22222222 0.38888889 0.38888889]\n",
      " [0.30769231 0.38461538 0.30769231]]\n",
      "Transition Probability Matrix (Step 39):\n",
      "[[0.         0.75       0.25      ]\n",
      " [0.22222222 0.38888889 0.38888889]\n",
      " [0.30769231 0.38461538 0.30769231]]\n",
      "Transition Probability Matrix (Step 40):\n",
      "[[0.         0.75       0.25      ]\n",
      " [0.21052632 0.36842105 0.42105263]\n",
      " [0.30769231 0.38461538 0.30769231]]\n",
      "Transition Probability Matrix (Step 41):\n",
      "[[0.         0.75       0.25      ]\n",
      " [0.21052632 0.36842105 0.42105263]\n",
      " [0.28571429 0.35714286 0.35714286]]\n",
      "Transition Probability Matrix (Step 42):\n",
      "[[0.         0.75       0.25      ]\n",
      " [0.21052632 0.36842105 0.42105263]\n",
      " [0.33333333 0.33333333 0.33333333]]\n",
      "Transition Probability Matrix (Step 43):\n",
      "[[0.         0.77777778 0.22222222]\n",
      " [0.21052632 0.36842105 0.42105263]\n",
      " [0.33333333 0.33333333 0.33333333]]\n",
      "Transition Probability Matrix (Step 44):\n",
      "[[0.         0.77777778 0.22222222]\n",
      " [0.25       0.35       0.4       ]\n",
      " [0.33333333 0.33333333 0.33333333]]\n",
      "Transition Probability Matrix (Step 45):\n",
      "[[0.1        0.7        0.2       ]\n",
      " [0.25       0.35       0.4       ]\n",
      " [0.33333333 0.33333333 0.33333333]]\n",
      "Transition Probability Matrix (Step 46):\n",
      "[[0.09090909 0.63636364 0.27272727]\n",
      " [0.25       0.35       0.4       ]\n",
      " [0.33333333 0.33333333 0.33333333]]\n",
      "Transition Probability Matrix (Step 47):\n",
      "[[0.09090909 0.63636364 0.27272727]\n",
      " [0.25       0.35       0.4       ]\n",
      " [0.3125     0.3125     0.375     ]]\n",
      "Transition Probability Matrix (Step 48):\n",
      "[[0.09090909 0.63636364 0.27272727]\n",
      " [0.25       0.35       0.4       ]\n",
      " [0.29411765 0.35294118 0.35294118]]\n",
      "Transition Probability Matrix (Step 49):\n",
      "[[0.09090909 0.63636364 0.27272727]\n",
      " [0.23809524 0.33333333 0.42857143]\n",
      " [0.29411765 0.35294118 0.35294118]]\n",
      "Transition Probability Matrix (Step 50):\n",
      "[[0.09090909 0.63636364 0.27272727]\n",
      " [0.23809524 0.33333333 0.42857143]\n",
      " [0.27777778 0.38888889 0.33333333]]\n",
      "Transition Probability Matrix (Step 51):\n",
      "[[0.09090909 0.63636364 0.27272727]\n",
      " [0.22727273 0.31818182 0.45454545]\n",
      " [0.27777778 0.38888889 0.33333333]]\n",
      "Transition Probability Matrix (Step 52):\n",
      "[[0.09090909 0.63636364 0.27272727]\n",
      " [0.22727273 0.31818182 0.45454545]\n",
      " [0.26315789 0.36842105 0.36842105]]\n",
      "Transition Probability Matrix (Step 53):\n",
      "[[0.09090909 0.63636364 0.27272727]\n",
      " [0.22727273 0.31818182 0.45454545]\n",
      " [0.25       0.4        0.35      ]]\n",
      "Transition Probability Matrix (Step 54):\n",
      "[[0.09090909 0.63636364 0.27272727]\n",
      " [0.2173913  0.34782609 0.43478261]\n",
      " [0.25       0.4        0.35      ]]\n",
      "Transition Probability Matrix (Step 55):\n",
      "[[0.09090909 0.63636364 0.27272727]\n",
      " [0.20833333 0.375      0.41666667]\n",
      " [0.25       0.4        0.35      ]]\n",
      "Transition Probability Matrix (Step 56):\n",
      "[[0.09090909 0.63636364 0.27272727]\n",
      " [0.24       0.36       0.4       ]\n",
      " [0.25       0.4        0.35      ]]\n",
      "Transition Probability Matrix (Step 57):\n",
      "[[0.08333333 0.66666667 0.25      ]\n",
      " [0.24       0.36       0.4       ]\n",
      " [0.25       0.4        0.35      ]]\n",
      "Transition Probability Matrix (Step 58):\n",
      "[[0.08333333 0.66666667 0.25      ]\n",
      " [0.23076923 0.34615385 0.42307692]\n",
      " [0.25       0.4        0.35      ]]\n",
      "Transition Probability Matrix (Step 59):\n",
      "[[0.08333333 0.66666667 0.25      ]\n",
      " [0.23076923 0.34615385 0.42307692]\n",
      " [0.23809524 0.42857143 0.33333333]]\n",
      "Transition Probability Matrix (Step 60):\n",
      "[[0.08333333 0.66666667 0.25      ]\n",
      " [0.22222222 0.33333333 0.44444444]\n",
      " [0.23809524 0.42857143 0.33333333]]\n",
      "Transition Probability Matrix (Step 61):\n",
      "[[0.08333333 0.66666667 0.25      ]\n",
      " [0.22222222 0.33333333 0.44444444]\n",
      " [0.22727273 0.45454545 0.31818182]]\n",
      "Transition Probability Matrix (Step 62):\n",
      "[[0.08333333 0.66666667 0.25      ]\n",
      " [0.21428571 0.35714286 0.42857143]\n",
      " [0.22727273 0.45454545 0.31818182]]\n",
      "Transition Probability Matrix (Step 63):\n",
      "[[0.08333333 0.66666667 0.25      ]\n",
      " [0.24137931 0.34482759 0.4137931 ]\n",
      " [0.22727273 0.45454545 0.31818182]]\n",
      "Transition Probability Matrix (Step 64):\n",
      "[[0.07692308 0.69230769 0.23076923]\n",
      " [0.24137931 0.34482759 0.4137931 ]\n",
      " [0.22727273 0.45454545 0.31818182]]\n",
      "Transition Probability Matrix (Step 65):\n",
      "[[0.07692308 0.69230769 0.23076923]\n",
      " [0.26666667 0.33333333 0.4       ]\n",
      " [0.22727273 0.45454545 0.31818182]]\n",
      "Transition Probability Matrix (Step 66):\n",
      "[[0.07142857 0.71428571 0.21428571]\n",
      " [0.26666667 0.33333333 0.4       ]\n",
      " [0.22727273 0.45454545 0.31818182]]\n",
      "Transition Probability Matrix (Step 67):\n",
      "[[0.07142857 0.71428571 0.21428571]\n",
      " [0.25806452 0.35483871 0.38709677]\n",
      " [0.22727273 0.45454545 0.31818182]]\n",
      "Transition Probability Matrix (Step 68):\n",
      "[[0.07142857 0.71428571 0.21428571]\n",
      " [0.25       0.34375    0.40625   ]\n",
      " [0.22727273 0.45454545 0.31818182]]\n",
      "Transition Probability Matrix (Step 69):\n",
      "[[0.07142857 0.71428571 0.21428571]\n",
      " [0.25       0.34375    0.40625   ]\n",
      " [0.2173913  0.47826087 0.30434783]]\n",
      "Transition Probability Matrix (Step 70):\n",
      "[[0.07142857 0.71428571 0.21428571]\n",
      " [0.24242424 0.36363636 0.39393939]\n",
      " [0.2173913  0.47826087 0.30434783]]\n",
      "Transition Probability Matrix (Step 71):\n",
      "[[0.07142857 0.71428571 0.21428571]\n",
      " [0.23529412 0.38235294 0.38235294]\n",
      " [0.2173913  0.47826087 0.30434783]]\n",
      "Transition Probability Matrix (Step 72):\n",
      "[[0.07142857 0.71428571 0.21428571]\n",
      " [0.22857143 0.4        0.37142857]\n",
      " [0.2173913  0.47826087 0.30434783]]\n",
      "Transition Probability Matrix (Step 73):\n",
      "[[0.07142857 0.71428571 0.21428571]\n",
      " [0.22222222 0.41666667 0.36111111]\n",
      " [0.2173913  0.47826087 0.30434783]]\n",
      "Transition Probability Matrix (Step 74):\n",
      "[[0.07142857 0.71428571 0.21428571]\n",
      " [0.21621622 0.43243243 0.35135135]\n",
      " [0.2173913  0.47826087 0.30434783]]\n",
      "Transition Probability Matrix (Step 75):\n",
      "[[0.07142857 0.71428571 0.21428571]\n",
      " [0.21052632 0.44736842 0.34210526]\n",
      " [0.2173913  0.47826087 0.30434783]]\n",
      "Transition Probability Matrix (Step 76):\n",
      "[[0.07142857 0.71428571 0.21428571]\n",
      " [0.20512821 0.46153846 0.33333333]\n",
      " [0.2173913  0.47826087 0.30434783]]\n",
      "Transition Probability Matrix (Step 77):\n",
      "[[0.07142857 0.71428571 0.21428571]\n",
      " [0.2        0.475      0.325     ]\n",
      " [0.2173913  0.47826087 0.30434783]]\n",
      "Transition Probability Matrix (Step 78):\n",
      "[[0.07142857 0.71428571 0.21428571]\n",
      " [0.19512195 0.46341463 0.34146341]\n",
      " [0.2173913  0.47826087 0.30434783]]\n",
      "Transition Probability Matrix (Step 79):\n",
      "[[0.07142857 0.71428571 0.21428571]\n",
      " [0.19512195 0.46341463 0.34146341]\n",
      " [0.20833333 0.5        0.29166667]]\n",
      "Transition Probability Matrix (Step 80):\n",
      "[[0.07142857 0.71428571 0.21428571]\n",
      " [0.19047619 0.47619048 0.33333333]\n",
      " [0.20833333 0.5        0.29166667]]\n",
      "Transition Probability Matrix (Step 81):\n",
      "[[0.07142857 0.71428571 0.21428571]\n",
      " [0.18604651 0.48837209 0.3255814 ]\n",
      " [0.20833333 0.5        0.29166667]]\n",
      "Transition Probability Matrix (Step 82):\n",
      "[[0.07142857 0.71428571 0.21428571]\n",
      " [0.18181818 0.5        0.31818182]\n",
      " [0.20833333 0.5        0.29166667]]\n",
      "Transition Probability Matrix (Step 83):\n",
      "[[0.07142857 0.71428571 0.21428571]\n",
      " [0.17777778 0.51111111 0.31111111]\n",
      " [0.20833333 0.5        0.29166667]]\n",
      "Transition Probability Matrix (Step 84):\n",
      "[[0.07142857 0.71428571 0.21428571]\n",
      " [0.17391304 0.5        0.32608696]\n",
      " [0.20833333 0.5        0.29166667]]\n",
      "Transition Probability Matrix (Step 85):\n",
      "[[0.07142857 0.71428571 0.21428571]\n",
      " [0.17391304 0.5        0.32608696]\n",
      " [0.2        0.52       0.28      ]]\n",
      "Transition Probability Matrix (Step 86):\n",
      "[[0.07142857 0.71428571 0.21428571]\n",
      " [0.17021277 0.5106383  0.31914894]\n",
      " [0.2        0.52       0.28      ]]\n",
      "Transition Probability Matrix (Step 87):\n",
      "[[0.07142857 0.71428571 0.21428571]\n",
      " [0.16666667 0.5        0.33333333]\n",
      " [0.2        0.52       0.28      ]]\n",
      "Transition Probability Matrix (Step 88):\n",
      "[[0.07142857 0.71428571 0.21428571]\n",
      " [0.16666667 0.5        0.33333333]\n",
      " [0.19230769 0.53846154 0.26923077]]\n",
      "Transition Probability Matrix (Step 89):\n",
      "[[0.07142857 0.71428571 0.21428571]\n",
      " [0.16326531 0.51020408 0.32653061]\n",
      " [0.19230769 0.53846154 0.26923077]]\n",
      "Transition Probability Matrix (Step 90):\n",
      "[[0.07142857 0.71428571 0.21428571]\n",
      " [0.16       0.52       0.32      ]\n",
      " [0.19230769 0.53846154 0.26923077]]\n",
      "Transition Probability Matrix (Step 91):\n",
      "[[0.07142857 0.71428571 0.21428571]\n",
      " [0.15686275 0.52941176 0.31372549]\n",
      " [0.19230769 0.53846154 0.26923077]]\n",
      "Transition Probability Matrix (Step 92):\n",
      "[[0.07142857 0.71428571 0.21428571]\n",
      " [0.15384615 0.53846154 0.30769231]\n",
      " [0.19230769 0.53846154 0.26923077]]\n",
      "Transition Probability Matrix (Step 93):\n",
      "[[0.07142857 0.71428571 0.21428571]\n",
      " [0.1509434  0.52830189 0.32075472]\n",
      " [0.19230769 0.53846154 0.26923077]]\n",
      "Transition Probability Matrix (Step 94):\n",
      "[[0.07142857 0.71428571 0.21428571]\n",
      " [0.1509434  0.52830189 0.32075472]\n",
      " [0.18518519 0.55555556 0.25925926]]\n",
      "Transition Probability Matrix (Step 95):\n",
      "[[0.07142857 0.71428571 0.21428571]\n",
      " [0.14814815 0.53703704 0.31481481]\n",
      " [0.18518519 0.55555556 0.25925926]]\n",
      "Transition Probability Matrix (Step 96):\n",
      "[[0.07142857 0.71428571 0.21428571]\n",
      " [0.16363636 0.52727273 0.30909091]\n",
      " [0.18518519 0.55555556 0.25925926]]\n",
      "Transition Probability Matrix (Step 97):\n",
      "[[0.06666667 0.73333333 0.2       ]\n",
      " [0.16363636 0.52727273 0.30909091]\n",
      " [0.18518519 0.55555556 0.25925926]]\n",
      "Transition Probability Matrix (Step 98):\n",
      "[[0.06666667 0.73333333 0.2       ]\n",
      " [0.16071429 0.53571429 0.30357143]\n",
      " [0.18518519 0.55555556 0.25925926]]\n",
      "Transition Probability Matrix (Step 99):\n",
      "[[0.06666667 0.73333333 0.2       ]\n",
      " [0.15789474 0.52631579 0.31578947]\n",
      " [0.18518519 0.55555556 0.25925926]]\n",
      "Transition Probability Matrix (Step 100):\n",
      "[[0.06666667 0.73333333 0.2       ]\n",
      " [0.15789474 0.52631579 0.31578947]\n",
      " [0.17857143 0.53571429 0.28571429]]\n",
      "Transition Probability Matrix (Step 101):\n",
      "[[0.06666667 0.73333333 0.2       ]\n",
      " [0.15789474 0.52631579 0.31578947]\n",
      " [0.17241379 0.55172414 0.27586207]]\n",
      "Transition Probability Matrix (Step 102):\n",
      "[[0.06666667 0.73333333 0.2       ]\n",
      " [0.15517241 0.51724138 0.32758621]\n",
      " [0.17241379 0.55172414 0.27586207]]\n",
      "Transition Probability Matrix (Step 103):\n",
      "[[0.06666667 0.73333333 0.2       ]\n",
      " [0.15517241 0.51724138 0.32758621]\n",
      " [0.16666667 0.56666667 0.26666667]]\n",
      "Transition Probability Matrix (Step 104):\n",
      "[[0.06666667 0.73333333 0.2       ]\n",
      " [0.15254237 0.52542373 0.3220339 ]\n",
      " [0.16666667 0.56666667 0.26666667]]\n",
      "Transition Probability Matrix (Step 105):\n",
      "[[0.06666667 0.73333333 0.2       ]\n",
      " [0.15       0.53333333 0.31666667]\n",
      " [0.16666667 0.56666667 0.26666667]]\n",
      "Transition Probability Matrix (Step 106):\n",
      "[[0.06666667 0.73333333 0.2       ]\n",
      " [0.14754098 0.54098361 0.31147541]\n",
      " [0.16666667 0.56666667 0.26666667]]\n",
      "Transition Probability Matrix (Step 107):\n",
      "[[0.06666667 0.73333333 0.2       ]\n",
      " [0.14516129 0.53225806 0.32258065]\n",
      " [0.16666667 0.56666667 0.26666667]]\n",
      "Transition Probability Matrix (Step 108):\n",
      "[[0.06666667 0.73333333 0.2       ]\n",
      " [0.14516129 0.53225806 0.32258065]\n",
      " [0.16129032 0.58064516 0.25806452]]\n",
      "Transition Probability Matrix (Step 109):\n",
      "[[0.06666667 0.73333333 0.2       ]\n",
      " [0.14285714 0.52380952 0.33333333]\n",
      " [0.16129032 0.58064516 0.25806452]]\n",
      "Transition Probability Matrix (Step 110):\n",
      "[[0.06666667 0.73333333 0.2       ]\n",
      " [0.14285714 0.52380952 0.33333333]\n",
      " [0.15625    0.59375    0.25      ]]\n",
      "Transition Probability Matrix (Step 111):\n",
      "[[0.06666667 0.73333333 0.2       ]\n",
      " [0.140625   0.53125    0.328125  ]\n",
      " [0.15625    0.59375    0.25      ]]\n",
      "Transition Probability Matrix (Step 112):\n",
      "[[0.06666667 0.73333333 0.2       ]\n",
      " [0.13846154 0.52307692 0.33846154]\n",
      " [0.15625    0.59375    0.25      ]]\n",
      "Transition Probability Matrix (Step 113):\n",
      "[[0.06666667 0.73333333 0.2       ]\n",
      " [0.13846154 0.52307692 0.33846154]\n",
      " [0.15151515 0.60606061 0.24242424]]\n",
      "Transition Probability Matrix (Step 114):\n",
      "[[0.06666667 0.73333333 0.2       ]\n",
      " [0.13636364 0.53030303 0.33333333]\n",
      " [0.15151515 0.60606061 0.24242424]]\n",
      "Transition Probability Matrix (Step 115):\n",
      "[[0.06666667 0.73333333 0.2       ]\n",
      " [0.13432836 0.53731343 0.32835821]\n",
      " [0.15151515 0.60606061 0.24242424]]\n",
      "Transition Probability Matrix (Step 116):\n",
      "[[0.06666667 0.73333333 0.2       ]\n",
      " [0.13235294 0.52941176 0.33823529]\n",
      " [0.15151515 0.60606061 0.24242424]]\n",
      "Transition Probability Matrix (Step 117):\n",
      "[[0.06666667 0.73333333 0.2       ]\n",
      " [0.13235294 0.52941176 0.33823529]\n",
      " [0.14705882 0.61764706 0.23529412]]\n",
      "Transition Probability Matrix (Step 118):\n",
      "[[0.06666667 0.73333333 0.2       ]\n",
      " [0.13043478 0.53623188 0.33333333]\n",
      " [0.14705882 0.61764706 0.23529412]]\n",
      "Transition Probability Matrix (Step 119):\n",
      "[[0.06666667 0.73333333 0.2       ]\n",
      " [0.12857143 0.52857143 0.34285714]\n",
      " [0.14705882 0.61764706 0.23529412]]\n",
      "Transition Probability Matrix (Step 120):\n",
      "[[0.06666667 0.73333333 0.2       ]\n",
      " [0.12857143 0.52857143 0.34285714]\n",
      " [0.14285714 0.62857143 0.22857143]]\n",
      "Transition Probability Matrix (Step 121):\n",
      "[[0.06666667 0.73333333 0.2       ]\n",
      " [0.12676056 0.53521127 0.33802817]\n",
      " [0.14285714 0.62857143 0.22857143]]\n",
      "Transition Probability Matrix (Step 122):\n",
      "[[0.06666667 0.73333333 0.2       ]\n",
      " [0.125      0.52777778 0.34722222]\n",
      " [0.14285714 0.62857143 0.22857143]]\n",
      "Transition Probability Matrix (Step 123):\n",
      "[[0.06666667 0.73333333 0.2       ]\n",
      " [0.125      0.52777778 0.34722222]\n",
      " [0.13888889 0.63888889 0.22222222]]\n",
      "Transition Probability Matrix (Step 124):\n",
      "[[0.06666667 0.73333333 0.2       ]\n",
      " [0.12328767 0.53424658 0.34246575]\n",
      " [0.13888889 0.63888889 0.22222222]]\n",
      "Transition Probability Matrix (Step 125):\n",
      "[[0.06666667 0.73333333 0.2       ]\n",
      " [0.12162162 0.54054054 0.33783784]\n",
      " [0.13888889 0.63888889 0.22222222]]\n",
      "Transition Probability Matrix (Step 126):\n",
      "[[0.06666667 0.73333333 0.2       ]\n",
      " [0.12       0.54666667 0.33333333]\n",
      " [0.13888889 0.63888889 0.22222222]]\n",
      "Transition Probability Matrix (Step 127):\n",
      "[[0.06666667 0.73333333 0.2       ]\n",
      " [0.13157895 0.53947368 0.32894737]\n",
      " [0.13888889 0.63888889 0.22222222]]\n",
      "Transition Probability Matrix (Step 128):\n",
      "[[0.0625     0.75       0.1875    ]\n",
      " [0.13157895 0.53947368 0.32894737]\n",
      " [0.13888889 0.63888889 0.22222222]]\n",
      "Transition Probability Matrix (Step 129):\n",
      "[[0.0625     0.75       0.1875    ]\n",
      " [0.12987013 0.54545455 0.32467532]\n",
      " [0.13888889 0.63888889 0.22222222]]\n",
      "Transition Probability Matrix (Step 130):\n",
      "[[0.0625     0.75       0.1875    ]\n",
      " [0.12820513 0.55128205 0.32051282]\n",
      " [0.13888889 0.63888889 0.22222222]]\n",
      "Transition Probability Matrix (Step 131):\n",
      "[[0.0625     0.75       0.1875    ]\n",
      " [0.12658228 0.55696203 0.3164557 ]\n",
      " [0.13888889 0.63888889 0.22222222]]\n",
      "Transition Probability Matrix (Step 132):\n",
      "[[0.0625     0.75       0.1875    ]\n",
      " [0.125      0.55       0.325     ]\n",
      " [0.13888889 0.63888889 0.22222222]]\n",
      "Transition Probability Matrix (Step 133):\n",
      "[[0.0625     0.75       0.1875    ]\n",
      " [0.125      0.55       0.325     ]\n",
      " [0.13513514 0.64864865 0.21621622]]\n",
      "Transition Probability Matrix (Step 134):\n",
      "[[0.0625     0.75       0.1875    ]\n",
      " [0.12345679 0.55555556 0.32098765]\n",
      " [0.13513514 0.64864865 0.21621622]]\n",
      "Transition Probability Matrix (Step 135):\n",
      "[[0.0625     0.75       0.1875    ]\n",
      " [0.13414634 0.54878049 0.31707317]\n",
      " [0.13513514 0.64864865 0.21621622]]\n",
      "Transition Probability Matrix (Step 136):\n",
      "[[0.05882353 0.76470588 0.17647059]\n",
      " [0.13414634 0.54878049 0.31707317]\n",
      " [0.13513514 0.64864865 0.21621622]]\n",
      "Transition Probability Matrix (Step 137):\n",
      "[[0.05882353 0.76470588 0.17647059]\n",
      " [0.13253012 0.55421687 0.31325301]\n",
      " [0.13513514 0.64864865 0.21621622]]\n",
      "Transition Probability Matrix (Step 138):\n",
      "[[0.05882353 0.76470588 0.17647059]\n",
      " [0.13095238 0.55952381 0.30952381]\n",
      " [0.13513514 0.64864865 0.21621622]]\n",
      "Transition Probability Matrix (Step 139):\n",
      "[[0.05882353 0.76470588 0.17647059]\n",
      " [0.12941176 0.56470588 0.30588235]\n",
      " [0.13513514 0.64864865 0.21621622]]\n",
      "Transition Probability Matrix (Step 140):\n",
      "[[0.05882353 0.76470588 0.17647059]\n",
      " [0.12790698 0.56976744 0.30232558]\n",
      " [0.13513514 0.64864865 0.21621622]]\n",
      "Transition Probability Matrix (Step 141):\n",
      "[[0.05882353 0.76470588 0.17647059]\n",
      " [0.12643678 0.56321839 0.31034483]\n",
      " [0.13513514 0.64864865 0.21621622]]\n",
      "Transition Probability Matrix (Step 142):\n",
      "[[0.05882353 0.76470588 0.17647059]\n",
      " [0.12643678 0.56321839 0.31034483]\n",
      " [0.13157895 0.65789474 0.21052632]]\n",
      "Transition Probability Matrix (Step 143):\n",
      "[[0.05882353 0.76470588 0.17647059]\n",
      " [0.125      0.56818182 0.30681818]\n",
      " [0.13157895 0.65789474 0.21052632]]\n",
      "Transition Probability Matrix (Step 144):\n",
      "[[0.05882353 0.76470588 0.17647059]\n",
      " [0.13483146 0.56179775 0.30337079]\n",
      " [0.13157895 0.65789474 0.21052632]]\n",
      "Transition Probability Matrix (Step 145):\n",
      "[[0.05555556 0.77777778 0.16666667]\n",
      " [0.13483146 0.56179775 0.30337079]\n",
      " [0.13157895 0.65789474 0.21052632]]\n",
      "Transition Probability Matrix (Step 146):\n",
      "[[0.05555556 0.77777778 0.16666667]\n",
      " [0.14444444 0.55555556 0.3       ]\n",
      " [0.13157895 0.65789474 0.21052632]]\n",
      "Transition Probability Matrix (Step 147):\n",
      "[[0.10526316 0.73684211 0.15789474]\n",
      " [0.14444444 0.55555556 0.3       ]\n",
      " [0.13157895 0.65789474 0.21052632]]\n",
      "Transition Probability Matrix (Step 148):\n",
      "[[0.1        0.75       0.15      ]\n",
      " [0.14444444 0.55555556 0.3       ]\n",
      " [0.13157895 0.65789474 0.21052632]]\n",
      "Transition Probability Matrix (Step 149):\n",
      "[[0.1        0.75       0.15      ]\n",
      " [0.14285714 0.56043956 0.2967033 ]\n",
      " [0.13157895 0.65789474 0.21052632]]\n",
      "Transition Probability Matrix (Step 150):\n",
      "[[0.1        0.75       0.15      ]\n",
      " [0.14130435 0.56521739 0.29347826]\n",
      " [0.13157895 0.65789474 0.21052632]]\n",
      "Transition Probability Matrix (Step 151):\n",
      "[[0.1        0.75       0.15      ]\n",
      " [0.13978495 0.56989247 0.29032258]\n",
      " [0.13157895 0.65789474 0.21052632]]\n",
      "Transition Probability Matrix (Step 152):\n",
      "[[0.1        0.75       0.15      ]\n",
      " [0.13829787 0.57446809 0.28723404]\n",
      " [0.13157895 0.65789474 0.21052632]]\n",
      "Transition Probability Matrix (Step 153):\n",
      "[[0.1        0.75       0.15      ]\n",
      " [0.14736842 0.56842105 0.28421053]\n",
      " [0.13157895 0.65789474 0.21052632]]\n",
      "Transition Probability Matrix (Step 154):\n",
      "[[0.0952381  0.76190476 0.14285714]\n",
      " [0.14736842 0.56842105 0.28421053]\n",
      " [0.13157895 0.65789474 0.21052632]]\n",
      "Transition Probability Matrix (Step 155):\n",
      "[[0.0952381  0.76190476 0.14285714]\n",
      " [0.15625    0.5625     0.28125   ]\n",
      " [0.13157895 0.65789474 0.21052632]]\n",
      "Transition Probability Matrix (Step 156):\n",
      "[[0.09090909 0.77272727 0.13636364]\n",
      " [0.15625    0.5625     0.28125   ]\n",
      " [0.13157895 0.65789474 0.21052632]]\n",
      "Transition Probability Matrix (Step 157):\n",
      "[[0.09090909 0.77272727 0.13636364]\n",
      " [0.15463918 0.56701031 0.27835052]\n",
      " [0.13157895 0.65789474 0.21052632]]\n",
      "Transition Probability Matrix (Step 158):\n",
      "[[0.09090909 0.77272727 0.13636364]\n",
      " [0.15306122 0.57142857 0.2755102 ]\n",
      " [0.13157895 0.65789474 0.21052632]]\n",
      "Transition Probability Matrix (Step 159):\n",
      "[[0.09090909 0.77272727 0.13636364]\n",
      " [0.15151515 0.56565657 0.28282828]\n",
      " [0.13157895 0.65789474 0.21052632]]\n",
      "Transition Probability Matrix (Step 160):\n",
      "[[0.09090909 0.77272727 0.13636364]\n",
      " [0.15151515 0.56565657 0.28282828]\n",
      " [0.15384615 0.64102564 0.20512821]]\n",
      "Transition Probability Matrix (Step 161):\n",
      "[[0.08695652 0.73913043 0.17391304]\n",
      " [0.15151515 0.56565657 0.28282828]\n",
      " [0.15384615 0.64102564 0.20512821]]\n",
      "Transition Probability Matrix (Step 162):\n",
      "[[0.08695652 0.73913043 0.17391304]\n",
      " [0.15151515 0.56565657 0.28282828]\n",
      " [0.15       0.65       0.2       ]]\n",
      "Transition Probability Matrix (Step 163):\n",
      "[[0.08695652 0.73913043 0.17391304]\n",
      " [0.15       0.56       0.29      ]\n",
      " [0.15       0.65       0.2       ]]\n",
      "Transition Probability Matrix (Step 164):\n",
      "[[0.08695652 0.73913043 0.17391304]\n",
      " [0.15       0.56       0.29      ]\n",
      " [0.14634146 0.63414634 0.2195122 ]]\n",
      "Transition Probability Matrix (Step 165):\n",
      "[[0.08695652 0.73913043 0.17391304]\n",
      " [0.15       0.56       0.29      ]\n",
      " [0.14285714 0.64285714 0.21428571]]\n",
      "Transition Probability Matrix (Step 166):\n",
      "[[0.08695652 0.73913043 0.17391304]\n",
      " [0.14851485 0.56435644 0.28712871]\n",
      " [0.14285714 0.64285714 0.21428571]]\n",
      "Transition Probability Matrix (Step 167):\n",
      "[[0.08695652 0.73913043 0.17391304]\n",
      " [0.14705882 0.56862745 0.28431373]\n",
      " [0.14285714 0.64285714 0.21428571]]\n",
      "Transition Probability Matrix (Step 168):\n",
      "[[0.08695652 0.73913043 0.17391304]\n",
      " [0.15533981 0.5631068  0.2815534 ]\n",
      " [0.14285714 0.64285714 0.21428571]]\n",
      "Transition Probability Matrix (Step 169):\n",
      "[[0.125      0.70833333 0.16666667]\n",
      " [0.15533981 0.5631068  0.2815534 ]\n",
      " [0.14285714 0.64285714 0.21428571]]\n",
      "Transition Probability Matrix (Step 170):\n",
      "[[0.12       0.72       0.16      ]\n",
      " [0.15533981 0.5631068  0.2815534 ]\n",
      " [0.14285714 0.64285714 0.21428571]]\n",
      "Transition Probability Matrix (Step 171):\n",
      "[[0.12       0.72       0.16      ]\n",
      " [0.15384615 0.56730769 0.27884615]\n",
      " [0.14285714 0.64285714 0.21428571]]\n",
      "Transition Probability Matrix (Step 172):\n",
      "[[0.12       0.72       0.16      ]\n",
      " [0.16190476 0.56190476 0.27619048]\n",
      " [0.14285714 0.64285714 0.21428571]]\n",
      "Transition Probability Matrix (Step 173):\n",
      "[[0.15384615 0.69230769 0.15384615]\n",
      " [0.16190476 0.56190476 0.27619048]\n",
      " [0.14285714 0.64285714 0.21428571]]\n",
      "Transition Probability Matrix (Step 174):\n",
      "[[0.14814815 0.7037037  0.14814815]\n",
      " [0.16190476 0.56190476 0.27619048]\n",
      " [0.14285714 0.64285714 0.21428571]]\n",
      "Transition Probability Matrix (Step 175):\n",
      "[[0.14814815 0.7037037  0.14814815]\n",
      " [0.16037736 0.56603774 0.27358491]\n",
      " [0.14285714 0.64285714 0.21428571]]\n",
      "Transition Probability Matrix (Step 176):\n",
      "[[0.14814815 0.7037037  0.14814815]\n",
      " [0.1588785  0.56074766 0.28037383]\n",
      " [0.14285714 0.64285714 0.21428571]]\n",
      "Transition Probability Matrix (Step 177):\n",
      "[[0.14814815 0.7037037  0.14814815]\n",
      " [0.1588785  0.56074766 0.28037383]\n",
      " [0.13953488 0.65116279 0.20930233]]\n",
      "Transition Probability Matrix (Step 178):\n",
      "[[0.14814815 0.7037037  0.14814815]\n",
      " [0.16666667 0.55555556 0.27777778]\n",
      " [0.13953488 0.65116279 0.20930233]]\n",
      "Transition Probability Matrix (Step 179):\n",
      "[[0.14285714 0.71428571 0.14285714]\n",
      " [0.16666667 0.55555556 0.27777778]\n",
      " [0.13953488 0.65116279 0.20930233]]\n",
      "Transition Probability Matrix (Step 180):\n",
      "[[0.14285714 0.71428571 0.14285714]\n",
      " [0.16513761 0.55963303 0.27522936]\n",
      " [0.13953488 0.65116279 0.20930233]]\n",
      "Transition Probability Matrix (Step 181):\n",
      "[[0.14285714 0.71428571 0.14285714]\n",
      " [0.16363636 0.56363636 0.27272727]\n",
      " [0.13953488 0.65116279 0.20930233]]\n",
      "Transition Probability Matrix (Step 182):\n",
      "[[0.14285714 0.71428571 0.14285714]\n",
      " [0.17117117 0.55855856 0.27027027]\n",
      " [0.13953488 0.65116279 0.20930233]]\n",
      "Transition Probability Matrix (Step 183):\n",
      "[[0.13793103 0.72413793 0.13793103]\n",
      " [0.17117117 0.55855856 0.27027027]\n",
      " [0.13953488 0.65116279 0.20930233]]\n",
      "Transition Probability Matrix (Step 184):\n",
      "[[0.13793103 0.72413793 0.13793103]\n",
      " [0.16964286 0.5625     0.26785714]\n",
      " [0.13953488 0.65116279 0.20930233]]\n",
      "Transition Probability Matrix (Step 185):\n",
      "[[0.13793103 0.72413793 0.13793103]\n",
      " [0.16814159 0.56637168 0.26548673]\n",
      " [0.13953488 0.65116279 0.20930233]]\n",
      "Transition Probability Matrix (Step 186):\n",
      "[[0.13793103 0.72413793 0.13793103]\n",
      " [0.16666667 0.56140351 0.27192982]\n",
      " [0.13953488 0.65116279 0.20930233]]\n",
      "Transition Probability Matrix (Step 187):\n",
      "[[0.13793103 0.72413793 0.13793103]\n",
      " [0.16666667 0.56140351 0.27192982]\n",
      " [0.13636364 0.65909091 0.20454545]]\n",
      "Transition Probability Matrix (Step 188):\n",
      "[[0.13793103 0.72413793 0.13793103]\n",
      " [0.16521739 0.56521739 0.26956522]\n",
      " [0.13636364 0.65909091 0.20454545]]\n",
      "Transition Probability Matrix (Step 189):\n",
      "[[0.13793103 0.72413793 0.13793103]\n",
      " [0.1637931  0.56896552 0.26724138]\n",
      " [0.13636364 0.65909091 0.20454545]]\n",
      "Transition Probability Matrix (Step 190):\n",
      "[[0.13793103 0.72413793 0.13793103]\n",
      " [0.16239316 0.56410256 0.27350427]\n",
      " [0.13636364 0.65909091 0.20454545]]\n",
      "Transition Probability Matrix (Step 191):\n",
      "[[0.13793103 0.72413793 0.13793103]\n",
      " [0.16239316 0.56410256 0.27350427]\n",
      " [0.13333333 0.66666667 0.2       ]]\n",
      "Transition Probability Matrix (Step 192):\n",
      "[[0.13793103 0.72413793 0.13793103]\n",
      " [0.16101695 0.56779661 0.27118644]\n",
      " [0.13333333 0.66666667 0.2       ]]\n",
      "Transition Probability Matrix (Step 193):\n",
      "[[0.13793103 0.72413793 0.13793103]\n",
      " [0.15966387 0.57142857 0.26890756]\n",
      " [0.13333333 0.66666667 0.2       ]]\n",
      "Transition Probability Matrix (Step 194):\n",
      "[[0.13793103 0.72413793 0.13793103]\n",
      " [0.15833333 0.575      0.26666667]\n",
      " [0.13333333 0.66666667 0.2       ]]\n",
      "Transition Probability Matrix (Step 195):\n",
      "[[0.13793103 0.72413793 0.13793103]\n",
      " [0.16528926 0.57024793 0.26446281]\n",
      " [0.13333333 0.66666667 0.2       ]]\n",
      "Transition Probability Matrix (Step 196):\n",
      "[[0.13333333 0.73333333 0.13333333]\n",
      " [0.16528926 0.57024793 0.26446281]\n",
      " [0.13333333 0.66666667 0.2       ]]\n",
      "Transition Probability Matrix (Step 197):\n",
      "[[0.13333333 0.73333333 0.13333333]\n",
      " [0.16393443 0.57377049 0.26229508]\n",
      " [0.13333333 0.66666667 0.2       ]]\n",
      "Transition Probability Matrix (Step 198):\n",
      "[[0.13333333 0.73333333 0.13333333]\n",
      " [0.16260163 0.57723577 0.2601626 ]\n",
      " [0.13333333 0.66666667 0.2       ]]\n",
      "Transition Probability Matrix (Step 199):\n",
      "[[0.13333333 0.73333333 0.13333333]\n",
      " [0.16129032 0.58064516 0.25806452]\n",
      " [0.13333333 0.66666667 0.2       ]]\n",
      "Transition Probability Matrix (Step 200):\n",
      "[[0.13333333 0.73333333 0.13333333]\n",
      " [0.168      0.576      0.256     ]\n",
      " [0.13333333 0.66666667 0.2       ]]\n",
      "Transition Probability Matrix (Step 201):\n",
      "[[0.12903226 0.74193548 0.12903226]\n",
      " [0.168      0.576      0.256     ]\n",
      " [0.13333333 0.66666667 0.2       ]]\n",
      "Transition Probability Matrix (Step 202):\n",
      "[[0.12903226 0.74193548 0.12903226]\n",
      " [0.16666667 0.57936508 0.25396825]\n",
      " [0.13333333 0.66666667 0.2       ]]\n",
      "Transition Probability Matrix (Step 203):\n",
      "[[0.12903226 0.74193548 0.12903226]\n",
      " [0.17322835 0.57480315 0.2519685 ]\n",
      " [0.13333333 0.66666667 0.2       ]]\n",
      "Transition Probability Matrix (Step 204):\n",
      "[[0.15625    0.71875    0.125     ]\n",
      " [0.17322835 0.57480315 0.2519685 ]\n",
      " [0.13333333 0.66666667 0.2       ]]\n",
      "Transition Probability Matrix (Step 205):\n",
      "[[0.15151515 0.72727273 0.12121212]\n",
      " [0.17322835 0.57480315 0.2519685 ]\n",
      " [0.13333333 0.66666667 0.2       ]]\n",
      "Transition Probability Matrix (Step 206):\n",
      "[[0.15151515 0.72727273 0.12121212]\n",
      " [0.171875   0.5703125  0.2578125 ]\n",
      " [0.13333333 0.66666667 0.2       ]]\n",
      "Transition Probability Matrix (Step 207):\n",
      "[[0.15151515 0.72727273 0.12121212]\n",
      " [0.171875   0.5703125  0.2578125 ]\n",
      " [0.13043478 0.67391304 0.19565217]]\n",
      "Transition Probability Matrix (Step 208):\n",
      "[[0.15151515 0.72727273 0.12121212]\n",
      " [0.17054264 0.56589147 0.26356589]\n",
      " [0.13043478 0.67391304 0.19565217]]\n",
      "Transition Probability Matrix (Step 209):\n",
      "[[0.15151515 0.72727273 0.12121212]\n",
      " [0.17054264 0.56589147 0.26356589]\n",
      " [0.12765957 0.65957447 0.21276596]]\n",
      "Transition Probability Matrix (Step 210):\n",
      "[[0.15151515 0.72727273 0.12121212]\n",
      " [0.17054264 0.56589147 0.26356589]\n",
      " [0.125      0.66666667 0.20833333]]\n",
      "Transition Probability Matrix (Step 211):\n",
      "[[0.15151515 0.72727273 0.12121212]\n",
      " [0.16923077 0.56153846 0.26923077]\n",
      " [0.125      0.66666667 0.20833333]]\n",
      "Transition Probability Matrix (Step 212):\n",
      "[[0.15151515 0.72727273 0.12121212]\n",
      " [0.16923077 0.56153846 0.26923077]\n",
      " [0.12244898 0.65306122 0.2244898 ]]\n",
      "Transition Probability Matrix (Step 213):\n",
      "[[0.15151515 0.72727273 0.12121212]\n",
      " [0.16923077 0.56153846 0.26923077]\n",
      " [0.12       0.66       0.22      ]]\n",
      "Transition Probability Matrix (Step 214):\n",
      "[[0.15151515 0.72727273 0.12121212]\n",
      " [0.16793893 0.5648855  0.26717557]\n",
      " [0.12       0.66       0.22      ]]\n",
      "Transition Probability Matrix (Step 215):\n",
      "[[0.15151515 0.72727273 0.12121212]\n",
      " [0.16666667 0.56060606 0.27272727]\n",
      " [0.12       0.66       0.22      ]]\n",
      "Transition Probability Matrix (Step 216):\n",
      "[[0.15151515 0.72727273 0.12121212]\n",
      " [0.16666667 0.56060606 0.27272727]\n",
      " [0.11764706 0.66666667 0.21568627]]\n",
      "Transition Probability Matrix (Step 217):\n",
      "[[0.15151515 0.72727273 0.12121212]\n",
      " [0.16541353 0.55639098 0.27819549]\n",
      " [0.11764706 0.66666667 0.21568627]]\n",
      "Transition Probability Matrix (Step 218):\n",
      "[[0.15151515 0.72727273 0.12121212]\n",
      " [0.16541353 0.55639098 0.27819549]\n",
      " [0.11538462 0.67307692 0.21153846]]\n",
      "Transition Probability Matrix (Step 219):\n",
      "[[0.15151515 0.72727273 0.12121212]\n",
      " [0.1641791  0.55970149 0.2761194 ]\n",
      " [0.11538462 0.67307692 0.21153846]]\n",
      "Transition Probability Matrix (Step 220):\n",
      "[[0.15151515 0.72727273 0.12121212]\n",
      " [0.16296296 0.56296296 0.27407407]\n",
      " [0.11538462 0.67307692 0.21153846]]\n",
      "Transition Probability Matrix (Step 221):\n",
      "[[0.15151515 0.72727273 0.12121212]\n",
      " [0.16176471 0.56617647 0.27205882]\n",
      " [0.11538462 0.67307692 0.21153846]]\n",
      "Transition Probability Matrix (Step 222):\n",
      "[[0.15151515 0.72727273 0.12121212]\n",
      " [0.16058394 0.56934307 0.27007299]\n",
      " [0.11538462 0.67307692 0.21153846]]\n",
      "Transition Probability Matrix (Step 223):\n",
      "[[0.15151515 0.72727273 0.12121212]\n",
      " [0.15942029 0.57246377 0.26811594]\n",
      " [0.11538462 0.67307692 0.21153846]]\n",
      "Transition Probability Matrix (Step 224):\n",
      "[[0.15151515 0.72727273 0.12121212]\n",
      " [0.15827338 0.57553957 0.26618705]\n",
      " [0.11538462 0.67307692 0.21153846]]\n",
      "Transition Probability Matrix (Step 225):\n",
      "[[0.15151515 0.72727273 0.12121212]\n",
      " [0.15714286 0.57857143 0.26428571]\n",
      " [0.11538462 0.67307692 0.21153846]]\n",
      "Transition Probability Matrix (Step 226):\n",
      "[[0.15151515 0.72727273 0.12121212]\n",
      " [0.15602837 0.58156028 0.26241135]\n",
      " [0.11538462 0.67307692 0.21153846]]\n",
      "Transition Probability Matrix (Step 227):\n",
      "[[0.15151515 0.72727273 0.12121212]\n",
      " [0.15492958 0.58450704 0.26056338]\n",
      " [0.11538462 0.67307692 0.21153846]]\n",
      "Transition Probability Matrix (Step 228):\n",
      "[[0.15151515 0.72727273 0.12121212]\n",
      " [0.15384615 0.58741259 0.25874126]\n",
      " [0.11538462 0.67307692 0.21153846]]\n",
      "Transition Probability Matrix (Step 229):\n",
      "[[0.15151515 0.72727273 0.12121212]\n",
      " [0.15277778 0.59027778 0.25694444]\n",
      " [0.11538462 0.67307692 0.21153846]]\n",
      "Transition Probability Matrix (Step 230):\n",
      "[[0.15151515 0.72727273 0.12121212]\n",
      " [0.15172414 0.59310345 0.25517241]\n",
      " [0.11538462 0.67307692 0.21153846]]\n",
      "Transition Probability Matrix (Step 231):\n",
      "[[0.15151515 0.72727273 0.12121212]\n",
      " [0.15068493 0.5890411  0.26027397]\n",
      " [0.11538462 0.67307692 0.21153846]]\n",
      "Transition Probability Matrix (Step 232):\n",
      "[[0.15151515 0.72727273 0.12121212]\n",
      " [0.15068493 0.5890411  0.26027397]\n",
      " [0.11320755 0.67924528 0.20754717]]\n",
      "Transition Probability Matrix (Step 233):\n",
      "[[0.15151515 0.72727273 0.12121212]\n",
      " [0.14965986 0.58503401 0.26530612]\n",
      " [0.11320755 0.67924528 0.20754717]]\n",
      "Transition Probability Matrix (Step 234):\n",
      "[[0.15151515 0.72727273 0.12121212]\n",
      " [0.14965986 0.58503401 0.26530612]\n",
      " [0.11111111 0.68518519 0.2037037 ]]\n",
      "Transition Probability Matrix (Step 235):\n",
      "[[0.15151515 0.72727273 0.12121212]\n",
      " [0.15540541 0.58108108 0.26351351]\n",
      " [0.11111111 0.68518519 0.2037037 ]]\n",
      "Transition Probability Matrix (Step 236):\n",
      "[[0.14705882 0.73529412 0.11764706]\n",
      " [0.15540541 0.58108108 0.26351351]\n",
      " [0.11111111 0.68518519 0.2037037 ]]\n",
      "Transition Probability Matrix (Step 237):\n",
      "[[0.14705882 0.73529412 0.11764706]\n",
      " [0.15436242 0.57718121 0.26845638]\n",
      " [0.11111111 0.68518519 0.2037037 ]]\n",
      "Transition Probability Matrix (Step 238):\n",
      "[[0.14705882 0.73529412 0.11764706]\n",
      " [0.15436242 0.57718121 0.26845638]\n",
      " [0.10909091 0.69090909 0.2       ]]\n",
      "Transition Probability Matrix (Step 239):\n",
      "[[0.14705882 0.73529412 0.11764706]\n",
      " [0.15333333 0.58       0.26666667]\n",
      " [0.10909091 0.69090909 0.2       ]]\n",
      "Transition Probability Matrix (Step 240):\n",
      "[[0.14705882 0.73529412 0.11764706]\n",
      " [0.15231788 0.58278146 0.26490066]\n",
      " [0.10909091 0.69090909 0.2       ]]\n",
      "Transition Probability Matrix (Step 241):\n",
      "[[0.14705882 0.73529412 0.11764706]\n",
      " [0.15131579 0.58552632 0.26315789]\n",
      " [0.10909091 0.69090909 0.2       ]]\n",
      "Transition Probability Matrix (Step 242):\n",
      "[[0.14705882 0.73529412 0.11764706]\n",
      " [0.15686275 0.58169935 0.26143791]\n",
      " [0.10909091 0.69090909 0.2       ]]\n",
      "Transition Probability Matrix (Step 243):\n",
      "[[0.14285714 0.74285714 0.11428571]\n",
      " [0.15686275 0.58169935 0.26143791]\n",
      " [0.10909091 0.69090909 0.2       ]]\n",
      "Transition Probability Matrix (Step 244):\n",
      "[[0.14285714 0.74285714 0.11428571]\n",
      " [0.15584416 0.58441558 0.25974026]\n",
      " [0.10909091 0.69090909 0.2       ]]\n",
      "Transition Probability Matrix (Step 245):\n",
      "[[0.14285714 0.74285714 0.11428571]\n",
      " [0.15483871 0.58709677 0.25806452]\n",
      " [0.10909091 0.69090909 0.2       ]]\n",
      "Transition Probability Matrix (Step 246):\n",
      "[[0.14285714 0.74285714 0.11428571]\n",
      " [0.15384615 0.58974359 0.25641026]\n",
      " [0.10909091 0.69090909 0.2       ]]\n",
      "Transition Probability Matrix (Step 247):\n",
      "[[0.14285714 0.74285714 0.11428571]\n",
      " [0.15286624 0.59235669 0.25477707]\n",
      " [0.10909091 0.69090909 0.2       ]]\n",
      "Transition Probability Matrix (Step 248):\n",
      "[[0.14285714 0.74285714 0.11428571]\n",
      " [0.15189873 0.59493671 0.25316456]\n",
      " [0.10909091 0.69090909 0.2       ]]\n",
      "Final Portfolio Value: 13\n",
      "Optimal Buy Indices: [2, 7, 11, 15, 20, 23, 27, 29, 40, 46, 49, 51, 58, 60, 68, 78, 84, 87, 93, 99, 102, 107, 109, 112, 116, 119, 122, 132, 141, 159, 161, 163, 176, 186, 190, 206, 208, 211, 215, 217, 231, 233, 237]\n"
     ]
    },
    {
     "name": "stderr",
     "output_type": "stream",
     "text": [
      "/tmp/ipykernel_101/961377700.py:51: RuntimeWarning:\n",
      "\n",
      "invalid value encountered in true_divide\n",
      "\n"
     ]
    }
   ],
   "source": [
    "import pandas as pd\n",
    "import numpy as np\n",
    "\n",
    "# Placeholder for loading the data\n",
    "# df = pd.read_csv('path_to_your_data.csv')  # Replace with your data loading line\n",
    "# Example column in df: 'close price'\n",
    "\n",
    "# Calculate daily returns\n",
    "df['Return'] = df['close price'].pct_change()\n",
    "\n",
    "# Classify the market state as Bull (1), Flat (0), or Bear (-1)\n",
    "df['State'] = 0  # Default to Flat\n",
    "df.loc[df['Return'] >= 0.01, 'State'] = 1  # Bull\n",
    "df.loc[df['Return'] <= -0.01, 'State'] = -1  # Bear\n",
    "\n",
    "# Initialize portfolio value\n",
    "df['Portfolio_Value'] = 0\n",
    "portfolio_value = 0\n",
    "\n",
    "# Initialize transition probabilities matrix and state counts\n",
    "transition_matrix = np.zeros((3, 3))  # Rows and columns for states: Bear, Flat, Bull\n",
    "state_counts = np.zeros(3)  # Count occurrences of each state\n",
    "\n",
    "# Iterate through each day\n",
    "for i in range(1, len(df)):\n",
    "    # Use iloc for positional indexing\n",
    "    current_state = int(df.iloc[i-1]['State'])\n",
    "    next_state = int(df.iloc[i]['State'])\n",
    "    \n",
    "    # Update state counts and transition matrix\n",
    "    state_counts[current_state + 1] += 1\n",
    "    transition_matrix[current_state + 1, next_state + 1] += 1\n",
    "\n",
    "    # Calculate transition probabilities from the current state to all possible next states\n",
    "    if state_counts[current_state + 1] != 0:  # Check to avoid division by zero\n",
    "        transition_probs = transition_matrix[current_state + 1] / state_counts[current_state + 1]\n",
    "    else:\n",
    "        transition_probs = np.zeros(3)  # Default to no knowledge if no prior data\n",
    "\n",
    "    # Decision making: Buy if likelihood of moving to Bull state is higher than moving to Bear state\n",
    "    if transition_probs[2] > transition_probs[0]:  # Indices 2 and 0 correspond to Bull and Bear states, respectively\n",
    "        if next_state == 1 and current_state != 1:  # Buy only if not already in Bull state\n",
    "            portfolio_value += 1  # Increase portfolio value if moving to Bull\n",
    "        elif next_state == -1:  # Sell if moving to Bear state\n",
    "            portfolio_value -= 1  # Decrease portfolio value\n",
    "\n",
    "    df.iloc[i, df.columns.get_loc('Portfolio_Value')] = portfolio_value\n",
    "\n",
    "    # Print the current transition probability matrix\n",
    "    print(f\"Transition Probability Matrix (Step {i}):\")\n",
    "    print(transition_matrix / state_counts[:, None])\n",
    "\n",
    "# Output the final portfolio value and optimal buy indices\n",
    "final_portfolio_value = df.iloc[-1]['Portfolio_Value']\n",
    "optimal_buy_indices = [i for i, v in enumerate(df['Portfolio_Value'].diff() > 0) if v]\n",
    "\n",
    "print(f\"Final Portfolio Value: {final_portfolio_value}\")\n",
    "print(f\"Optimal Buy Indices: {optimal_buy_indices}\")\n"
   ]
  },
  {
   "cell_type": "markdown",
   "id": "9b1173fa-bb81-408b-9eca-0c347693ef61",
   "metadata": {},
   "source": [
    "## Approach 5"
   ]
  },
  {
   "cell_type": "code",
   "execution_count": 115,
   "id": "41c5d249-6c85-4170-b972-aae626c82d70",
   "metadata": {
    "tags": []
   },
   "outputs": [
    {
     "name": "stdout",
     "output_type": "stream",
     "text": [
      "Final Portfolio Value: 158.0\n",
      "Buy Indices: [0, 3, 4, 6, 8, 9, 10, 14, 18, 19, 25, 26, 28, 31, 33, 34, 36, 37, 39, 43, 48, 50, 53, 54, 55, 57, 59, 61, 62, 64, 66, 67, 69, 70, 71, 72, 73, 74, 75, 76, 77, 79, 80, 81, 82, 83, 85, 86, 88, 89, 90, 91, 92, 94, 95, 97, 98, 101, 103, 104, 105, 106, 108, 110, 111, 113, 114, 115, 117, 118, 120, 121, 123, 124, 125, 126, 128, 129, 130, 131, 133, 134, 136, 137, 138, 139, 140, 142, 143, 145, 148, 149, 150, 151, 152, 154, 156, 157, 158, 162, 165, 166, 167, 170, 171, 174, 175, 177, 179, 180, 181, 183, 184, 185, 187, 188, 189, 191, 192, 193, 194, 196, 197, 198, 199, 201, 202, 205, 207, 210, 213, 214, 216, 218, 219, 220, 221, 222, 223, 224, 225, 226, 227, 228, 229, 230, 232, 234, 236, 238, 239, 240, 241, 243, 244, 245, 246, 247]\n"
     ]
    }
   ],
   "source": [
    "import numpy as np\n",
    "import pandas as pd\n",
    "\n",
    "# Assuming df['close price'] is your DataFrame's column with daily close prices\n",
    "# Replace 'df' with actual DataFrame name if different\n",
    "prices = df['close price'].to_numpy()\n",
    "\n",
    "# Calculate daily returns and classify states\n",
    "returns = np.diff(prices) / prices[:-1]\n",
    "returns = np.insert(returns, 0, 0)  # Insert a 0 return for the first day\n",
    "states = np.where(returns >= 0.01, 1, np.where(returns > -0.01, 0, -1))\n",
    "\n",
    "# Initialize transition count matrix for streaming updates\n",
    "transition_counts = np.zeros((3, 3))  # Rows: from_state (-1, 0, 1), Columns: to_state (-1, 0, 1)\n",
    "\n",
    "# Update transition counts in a streaming fashion\n",
    "for i in range(1, len(states)):\n",
    "    from_state = states[i - 1] + 1  # Adjust index for 0-based indexing\n",
    "    to_state = states[i] + 1  # Adjust index for 0-based indexing\n",
    "    transition_counts[from_state, to_state] += 1\n",
    "\n",
    "# Convert counts to probabilities\n",
    "transition_probs = transition_counts / np.maximum(transition_counts.sum(axis=1, keepdims=True), 1)  # Avoid division by zero\n",
    "\n",
    "# Value function and policy initialization\n",
    "V = np.zeros(len(states))  # Portfolio value for each day\n",
    "policy = np.zeros(len(states), dtype=bool)  # Buy (True) or Not Buy (False) decision\n",
    "\n",
    "# Value iteration in reverse (from day N-1 to 1)\n",
    "for i in range(len(states)-2, -1, -1):\n",
    "    # Update transition probabilities based on the data up to day i (streaming fashion)\n",
    "    if i < len(states) - 2:  # Avoid recalculating on the first iteration\n",
    "        from_state = states[i] + 1\n",
    "        to_state = states[i + 1] + 1\n",
    "        transition_counts[from_state, to_state] += 1\n",
    "        transition_probs = transition_counts / np.maximum(transition_counts.sum(axis=1, keepdims=True), 1)\n",
    "    \n",
    "    if states[i] == 0:  # Considering buying only on Flat days\n",
    "        # Calculate the likelihood of value additive (to Bull) vs value reductive (to Bear) state transitions\n",
    "        prob_to_bull = transition_probs[1, 2]  # From Flat to Bull\n",
    "        prob_to_bear = transition_probs[1, 0]  # From Flat to Bear\n",
    "        \n",
    "        # Decide to buy if more likely to transition to Bull state than Bear state\n",
    "        if prob_to_bull > prob_to_bear:\n",
    "            V[i] = V[i + 1] + 1  # Assuming additive value for moving to Bull state\n",
    "            policy[i] = True\n",
    "        else:\n",
    "            V[i] = V[i + 1]\n",
    "    else:\n",
    "        V[i] = V[i + 1]\n",
    "\n",
    "# Final portfolio value and buy indices\n",
    "final_portfolio_value = V[0]\n",
    "buy_indices = [i for i, buy in enumerate(policy) if buy]\n",
    "\n",
    "print(\"Final Portfolio Value:\", final_portfolio_value)\n",
    "print(\"Buy Indices:\", buy_indices)\n"
   ]
  },
  {
   "cell_type": "markdown",
   "id": "abd2ee7a-1d36-4877-bdef-cc59f7f69246",
   "metadata": {},
   "source": [
    "## Apprach 6"
   ]
  },
  {
   "cell_type": "code",
   "execution_count": 116,
   "id": "661de9e2-03f5-4fb4-ae43-13e797e991a7",
   "metadata": {
    "tags": []
   },
   "outputs": [
    {
     "name": "stdout",
     "output_type": "stream",
     "text": [
      "Final Portfolio Value: 15.0\n",
      "Days to Place Buy Order: [  8   9  10  14  18  19  25  26  28  31  33  34  36  37  39  43  48  50\n",
      "  53  54  55  57  59  61  62  64  66  67  69  70  71  72  73  74  75  76\n",
      "  77  79  80  81  82  83  85  86  88  89  90  91  92  94  95  97  98 101\n",
      " 103 104 105 106 108 110 111 113 114 115 117 118 120 121 123 124 125 126\n",
      " 128 129 130 131 133 134 136 137 138 139 140 142 143 145 148 149 150 151\n",
      " 152 154 156 157 158 162 165 166 167 170 171 174 175 177 179 180 181 183\n",
      " 184 185 187 188 189 191 192 193 194 196 197 198 199 201 202 205 207 210\n",
      " 213 214 216 218 219 220 221 222 223 224 225 226 227 228 229 230 232 234\n",
      " 236 238 239 240 241 243 244 245 246 247]\n"
     ]
    }
   ],
   "source": [
    "import numpy as np\n",
    "\n",
    "# Assuming 'prices' is a numpy array containing daily closing prices for a stock\n",
    "prices = df['close price'].to_numpy()  # Use actual DataFrame column\n",
    "\n",
    "# Calculate daily returns and classify states\n",
    "returns = np.diff(prices) / prices[:-1]\n",
    "returns = np.insert(returns, 0, 0)  # Insert a 0 return for the first day\n",
    "states = np.where(returns >= 0.01, 1, np.where(returns > -0.01, 0, -1))\n",
    "\n",
    "# Initialize transition counts and probabilities matrix\n",
    "transition_counts = np.zeros((3, 3))  # From state (rows) to state (columns)\n",
    "n_states = len(states)\n",
    "\n",
    "# Value initialization\n",
    "V = np.zeros(n_states)  # Portfolio value\n",
    "buy_decision = np.zeros(n_states, dtype=bool)  # Whether to buy\n",
    "\n",
    "for i in range(1, n_states - 1):  # Adjusted to n_states - 1 to avoid index out of bounds\n",
    "    # Update transition counts\n",
    "    from_state = states[i-1] + 1  # Adjusting index to start from 0\n",
    "    to_state = states[i] + 1  # Adjusting index to start from 0\n",
    "    transition_counts[from_state, to_state] += 1\n",
    "    \n",
    "    # Calculate transition probabilities in a streaming fashion\n",
    "    transition_probs = transition_counts / np.maximum(transition_counts.sum(axis=1, keepdims=True), 1)  # Avoid division by zero\n",
    "    \n",
    "    # Decision-making for day i based on the value function criteria\n",
    "    if states[i] == 0:  # Considering buying on days following a Flat state\n",
    "        prob_to_bull = transition_probs[1, 2]  # Probability from Flat to Bull\n",
    "        prob_to_bear = transition_probs[1, 0]  # Probability from Flat to Bear\n",
    "        \n",
    "        if prob_to_bull > prob_to_bear:  # If more likely to go Bull\n",
    "            buy_decision[i] = True\n",
    "            if i < n_states - 1:  # Ensure we don't look beyond the last index\n",
    "                if states[i+1] == 1:\n",
    "                    V[i+1] = V[i] + 1  # Value increases if it goes Bull\n",
    "                elif states[i+1] == -1:\n",
    "                    V[i+1] = V[i] - 1  # Value decreases if it goes Bear\n",
    "                else:\n",
    "                    V[i+1] = V[i]  # No change if it stays Flat or decision is not to buy\n",
    "        else:\n",
    "            V[i+1] = V[i]  # No buy decision\n",
    "    else:\n",
    "        V[i+1] = V[i]  # Carry forward value for non-Flat states\n",
    "\n",
    "# Determine the final portfolio value and days to buy\n",
    "final_portfolio_value = V[-1]\n",
    "buy_days = np.where(buy_decision)[0]\n",
    "\n",
    "print(\"Final Portfolio Value:\", final_portfolio_value)\n",
    "print(\"Days to Place Buy Order:\",buy_days\n",
    "     )"
   ]
  },
  {
   "cell_type": "markdown",
   "id": "3a6a04cc-c4ac-41ab-85e4-66f0943fedaa",
   "metadata": {},
   "source": [
    "## Approach 7"
   ]
  },
  {
   "cell_type": "code",
   "execution_count": 119,
   "id": "ef135df2-7223-4310-b989-e09c05ec25bb",
   "metadata": {
    "tags": []
   },
   "outputs": [
    {
     "name": "stdout",
     "output_type": "stream",
     "text": [
      "\n",
      "Final Portfolio Value: 40.0\n",
      "Optimal Buy Indices: [5, 7, 11, 15, 20, 27, 29, 40, 49, 51, 58, 60, 68, 78, 84, 87, 93, 99, 102, 107, 109, 112, 116, 119, 122, 132, 141, 159, 163, 176, 186, 190, 206, 208, 211, 215, 217, 231, 233, 237]\n"
     ]
    }
   ],
   "source": [
    "\n",
    "import pandas as pd\n",
    "import numpy as np\n",
    "\n",
    "class PortfolioOptimizer:\n",
    "    def __init__(self, data):\n",
    "        self.data = data\n",
    "        self.states = self.classify_states()\n",
    "        self.value_function = np.zeros(len(data))\n",
    "        self.buy_indices = []\n",
    "\n",
    "    def classify_states(self):\n",
    "        # Calculate daily returns\n",
    "        returns = self.data['FIBBG000B9XRY4'].pct_change()\n",
    "        # Classify states based on returns\n",
    "        states = returns.apply(lambda r: 1 if r >= 0.01 else (-1 if r <= -0.01 else 0))\n",
    "        return states\n",
    "\n",
    "    def optimize_portfolio(self):\n",
    "        # Iterate through each day\n",
    "        for i in range(1, len(self.data)):\n",
    "            # Assume we do not place a buy order\n",
    "            no_buy_value = self.value_function[i-1]\n",
    "            # Assume we place a buy order, and check tomorrow's state\n",
    "            if i < len(self.data) - 1:\n",
    "                tomorrow_state = self.states.iloc[i+1]\n",
    "                if tomorrow_state == 1 and self.states.iloc[i] == 0:\n",
    "                    buy_value = self.value_function[i-1] + 1\n",
    "                elif tomorrow_state == -1 and self.states.iloc[i] == 0:\n",
    "                    buy_value = self.value_function[i-1] - 1\n",
    "                else:\n",
    "                    buy_value = self.value_function[i-1]\n",
    "            else:\n",
    "                buy_value = no_buy_value  # Can't buy on the last day\n",
    "\n",
    "            # Choose the action that maximizes the portfolio value\n",
    "            if buy_value > no_buy_value:\n",
    "                self.value_function[i] = buy_value\n",
    "                self.buy_indices.append(i)\n",
    "            else:\n",
    "                self.value_function[i] = no_buy_value\n",
    "\n",
    "        return self.value_function[-1], self.buy_indices\n",
    "\n",
    "# Example usage\n",
    "if __name__ == \"__main__\":\n",
    "    # Load data from CSV file\n",
    "    data = pd.read_csv(\"daily_closing_prices.csv\")  # Adjust the path to your CSV file\n",
    "    optimizer = PortfolioOptimizer(data)  # Create instance of PortfolioOptimizer\n",
    "    final_portfolio_value, buy_indices = optimizer.optimize_portfolio()  # Optimize portfolio\n",
    "    print(\"\\nFinal Portfolio Value:\", final_portfolio_value)  # Print final portfolio value\n",
    "    print(\"Optimal Buy Indices:\", buy_indices)  # Print optimal buy indices\n"
   ]
  },
  {
   "cell_type": "markdown",
   "id": "a8f6c646-a507-47e4-8f43-0fbe1827f815",
   "metadata": {},
   "source": [
    "# Backtesting\n",
    "Test our Strategy: Quantrocket provides tools for backtesting your strategies against historical data. Use this feature to test your model's performance, specifically its ability to maximize the portfolio value through strategic buy orders\n",
    "\n",
    "Before risking any real money, it's crucial to test your strategy against historical data to see how it would have performed in the past. This can be done using backtesting software or writing your own backtesting scripts in Python.\n",
    "\n",
    "Minimalist Approach: Use Python libraries such as pandas for data manipulation and backtrader or QuantConnect for backtesting. These tools allow you to simulate trading decisions based on historical data and evaluate the performance of your strategy"
   ]
  },
  {
   "cell_type": "markdown",
   "id": "5eaeee6f-b8dc-41df-b85f-c72bd6e2803a",
   "metadata": {},
   "source": [
    "# Backtest of a Moving Average Crossover Strategy"
   ]
  },
  {
   "cell_type": "code",
   "execution_count": 15,
   "id": "ff1f31bc-54da-4129-a120-c08cdafde3dc",
   "metadata": {
    "tags": []
   },
   "outputs": [
    {
     "data": {
      "image/png": "[encoded data removed]",
      "text/plain": [
       "<Figure size 864x576 with 2 Axes>"
      ]
     },
     "metadata": {},
     "output_type": "display_data"
    },
    {
     "name": "stdout",
     "output_type": "stream",
     "text": [
      "Cumulative Returns: 0.17%\n"
     ]
    }
   ],
   "source": [
    "import pandas as pd\n",
    "import numpy as np\n",
    "import matplotlib.pyplot as plt\n",
    "\n",
    "# Assuming df is your DataFrame with 'close price' and a DatetimeIndex\n",
    "\n",
    "# Calculate moving averages\n",
    "df['Short_MA'] = df['close price'].rolling(window=50).mean()\n",
    "df['Long_MA'] = df['close price'].rolling(window=200).mean()\n",
    "\n",
    "# Initialize signal column\n",
    "df['Signal'] = 0\n",
    "\n",
    "# Update 'Signal' based on the moving averages\n",
    "df['Signal'] = np.where(df['Short_MA'] > df['Long_MA'], 1, 0)\n",
    "\n",
    "# Compute 'Position' as the day-to-day difference in 'Signal'\n",
    "df['Position'] = df['Signal'].diff()\n",
    "\n",
    "# Initialize portfolio simulation\n",
    "initial_capital = float(10000.0)\n",
    "positions = pd.DataFrame(index=df.index).fillna(0.0)\n",
    "positions['Asset'] = df['Signal']\n",
    "\n",
    "# Simulate the portfolio\n",
    "portfolio = positions.multiply(df['close price'], axis=0)\n",
    "pos_diff = positions.diff()\n",
    "\n",
    "portfolio['Holdings'] = (positions.multiply(df['close price'], axis=0)).sum(axis=1)\n",
    "portfolio['Cash'] = initial_capital - (pos_diff.multiply(df['close price'], axis=0)).sum(axis=1).cumsum()\n",
    "portfolio['Total'] = portfolio['Cash'] + portfolio['Holdings']\n",
    "portfolio['Returns'] = portfolio['Total'].pct_change()\n",
    "\n",
    "# Plot the performance\n",
    "fig, ax1 = plt.subplots(figsize=(12, 8))\n",
    "\n",
    "ax1.plot(portfolio['Total'], label='Portfolio value')\n",
    "ax1.set_xlabel('Date')\n",
    "ax1.set_ylabel('Portfolio Value')\n",
    "ax2 = ax1.twinx()\n",
    "ax2.plot(df['close price'], color='grey', alpha=0.3)\n",
    "ax2.set_ylabel('Asset Price')\n",
    "lines, labels = ax1.get_legend_handles_labels()\n",
    "ax1.legend(lines, labels, loc='upper left')\n",
    "\n",
    "plt.title('Backtest of a Moving Average Crossover Strategy')\n",
    "plt.show()\n",
    "\n",
    "# Calculate cumulative returns\n",
    "cumulative_returns = (portfolio['Total'].iloc[-1] / portfolio['Total'].iloc[0]) - 1\n",
    "\n",
    "print(f\"Cumulative Returns: {cumulative_returns:.2%}\")\n"
   ]
  },
  {
   "cell_type": "markdown",
   "id": "a598053a-5b6c-4b85-a3b2-be6e6b821fc6",
   "metadata": {},
   "source": [
    "# AAPL Daily Returns State Classification"
   ]
  },
  {
   "cell_type": "code",
   "execution_count": 16,
   "id": "f53a2627-f11f-46a6-b89a-5502ffe62b20",
   "metadata": {
    "tags": []
   },
   "outputs": [
    {
     "data": {
      "application/vnd.plotly.v1+json": {
       "config": {
        "plotlyServerURL": "https://plot.ly"
       },
       "data": [
        {
         "hovertemplate": "State=Bull<br>Date=%{x}<br>Daily Returns=%{y}<extra></extra>",
         "legendgroup": "Bull",
         "marker": {
          "color": "green",
          "size": 5,
          "symbol": "circle"
         },
         "mode": "markers",
         "name": "Bull",
         "orientation": "v",
         "showlegend": true,
         "type": "scatter",
         "x": [
          "2023-01-04T00:00:00",
          "2023-01-06T00:00:00",
          "2023-01-11T00:00:00",
          "2023-01-13T00:00:00",
          "2023-01-20T00:00:00",
          "2023-01-23T00:00:00",
          "2023-01-24T00:00:00",
          "2023-01-26T00:00:00",
          "2023-01-27T00:00:00",
          "2023-02-02T00:00:00",
          "2023-02-03T00:00:00",
          "2023-02-07T00:00:00",
          "2023-02-13T00:00:00",
          "2023-02-15T00:00:00",
          "2023-03-03T00:00:00",
          "2023-03-06T00:00:00",
          "2023-03-13T00:00:00",
          "2023-03-14T00:00:00",
          "2023-03-16T00:00:00",
          "2023-03-20T00:00:00",
          "2023-03-21T00:00:00",
          "2023-03-29T00:00:00",
          "2023-03-31T00:00:00",
          "2023-04-13T00:00:00",
          "2023-04-27T00:00:00",
          "2023-05-05T00:00:00",
          "2023-05-10T00:00:00",
          "2023-05-18T00:00:00",
          "2023-05-26T00:00:00",
          "2023-05-30T00:00:00",
          "2023-06-01T00:00:00",
          "2023-06-08T00:00:00",
          "2023-06-12T00:00:00",
          "2023-06-15T00:00:00",
          "2023-06-22T00:00:00",
          "2023-06-27T00:00:00",
          "2023-06-30T00:00:00",
          "2023-07-17T00:00:00",
          "2023-07-28T00:00:00",
          "2023-08-23T00:00:00",
          "2023-08-25T00:00:00",
          "2023-08-29T00:00:00",
          "2023-08-30T00:00:00",
          "2023-09-18T00:00:00",
          "2023-10-02T00:00:00",
          "2023-10-06T00:00:00",
          "2023-10-30T00:00:00",
          "2023-11-01T00:00:00",
          "2023-11-02T00:00:00",
          "2023-11-06T00:00:00",
          "2023-11-07T00:00:00",
          "2023-11-10T00:00:00",
          "2023-11-14T00:00:00",
          "2023-12-05T00:00:00",
          "2023-12-07T00:00:00",
          "2023-12-13T00:00:00"
         ],
         "xaxis": "x",
         "y": [
          1.0315577889447258,
          3.6798713050472553,
          2.1114897348522677,
          1.0123013839056894,
          1.9224193044797167,
          2.350040844906043,
          1.0062283539757466,
          1.4808146252596188,
          1.368398994132436,
          3.7062134391724566,
          2.439626088463953,
          1.9239563381868496,
          1.8803191489361826,
          1.3900813338489026,
          3.5087840023121153,
          1.8541417364712265,
          1.3265720081135912,
          1.4092965528285983,
          1.8691098102013415,
          1.5481881664010766,
          1.1941517185067863,
          1.978817040627212,
          1.5645871468856765,
          3.4104093369205835,
          2.8400103005554733,
          4.692950581395339,
          1.0393041689074067,
          1.3667769842652389,
          1.4107773185957129,
          1.065939655812942,
          1.6025749810496759,
          1.5461214455276817,
          1.5641795675927161,
          1.120135179330628,
          1.6525862538834701,
          1.5055986405234423,
          2.310601052436745,
          1.730973488553067,
          1.3507623011219216,
          2.1949524568212864,
          1.2642777664236826,
          2.1811250715464414,
          1.9170319450940276,
          1.6912690239157646,
          1.4831710383951702,
          1.474696588046709,
          1.2303644664551694,
          1.8739922014717747,
          2.0691719283300936,
          1.4601684635354717,
          1.4452998424528074,
          2.322006916616348,
          1.4285714285714235,
          2.106318956870612,
          1.0139351081530856,
          1.6691489908068347
         ],
         "yaxis": "y"
        },
        {
         "hovertemplate": "State=Bear<br>Date=%{x}<br>Daily Returns=%{y}<extra></extra>",
         "legendgroup": "Bear",
         "marker": {
          "color": "red",
          "size": 5,
          "symbol": "circle"
         },
         "mode": "markers",
         "name": "Bear",
         "orientation": "v",
         "showlegend": true,
         "type": "scatter",
         "x": [
          "2023-01-05T00:00:00",
          "2023-01-30T00:00:00",
          "2023-02-06T00:00:00",
          "2023-02-08T00:00:00",
          "2023-02-16T00:00:00",
          "2023-02-21T00:00:00",
          "2023-02-24T00:00:00",
          "2023-03-01T00:00:00",
          "2023-03-07T00:00:00",
          "2023-03-09T00:00:00",
          "2023-03-10T00:00:00",
          "2023-03-27T00:00:00",
          "2023-04-05T00:00:00",
          "2023-04-10T00:00:00",
          "2023-05-23T00:00:00",
          "2023-07-10T00:00:00",
          "2023-07-20T00:00:00",
          "2023-08-02T00:00:00",
          "2023-08-04T00:00:00",
          "2023-08-07T00:00:00",
          "2023-08-15T00:00:00",
          "2023-08-17T00:00:00",
          "2023-08-24T00:00:00",
          "2023-09-06T00:00:00",
          "2023-09-07T00:00:00",
          "2023-09-12T00:00:00",
          "2023-09-13T00:00:00",
          "2023-09-20T00:00:00",
          "2023-09-26T00:00:00",
          "2023-10-13T00:00:00",
          "2023-10-20T00:00:00",
          "2023-10-25T00:00:00",
          "2023-10-26T00:00:00",
          "2023-12-11T00:00:00",
          "2023-12-20T00:00:00"
         ],
         "xaxis": "x",
         "y": [
          -1.0608158652851363,
          -2.008007221659458,
          -1.7924902857961,
          -1.7647441316080315,
          -1.0426497394991685,
          -2.6682638514091694,
          -1.8004516250436864,
          -1.4242510932199748,
          -1.4496537409682264,
          -1.4909492157738513,
          -1.3881665799895915,
          -1.2293002011240506,
          -1.1293578482186706,
          -1.5976096832220565,
          -1.5155177971174605,
          -1.0853332772437496,
          -1.009862216763191,
          -1.5465132968362272,
          -4.802240626032594,
          -1.725021349274125,
          -1.1198277016470914,
          -1.455727069604973,
          -2.617175838391883,
          -3.579308524676683,
          -2.9249626373385795,
          -1.7060807038699388,
          -1.1853374832451191,
          -1.9990605813212325,
          -2.3395204949729353,
          -1.0289684826455092,
          -1.4700763001558093,
          -1.3492136803454624,
          -2.460863204096564,
          -1.2927290378621392,
          -1.0713923022240168
         ],
         "yaxis": "y"
        },
        {
         "hovertemplate": "State=Flat<br>Date=%{x}<br>Daily Returns=%{y}<extra></extra>",
         "legendgroup": "Flat",
         "marker": {
          "color": "grey",
          "size": 5,
          "symbol": "circle"
         },
         "mode": "markers",
         "name": "Flat",
         "orientation": "v",
         "showlegend": true,
         "type": "scatter",
         "x": [
          "2023-01-09T00:00:00",
          "2023-01-10T00:00:00",
          "2023-01-12T00:00:00",
          "2023-01-17T00:00:00",
          "2023-01-18T00:00:00",
          "2023-01-19T00:00:00",
          "2023-01-25T00:00:00",
          "2023-01-31T00:00:00",
          "2023-02-01T00:00:00",
          "2023-02-09T00:00:00",
          "2023-02-10T00:00:00",
          "2023-02-14T00:00:00",
          "2023-02-17T00:00:00",
          "2023-02-22T00:00:00",
          "2023-02-23T00:00:00",
          "2023-02-27T00:00:00",
          "2023-02-28T00:00:00",
          "2023-03-02T00:00:00",
          "2023-03-08T00:00:00",
          "2023-03-15T00:00:00",
          "2023-03-17T00:00:00",
          "2023-03-22T00:00:00",
          "2023-03-23T00:00:00",
          "2023-03-24T00:00:00",
          "2023-03-28T00:00:00",
          "2023-03-30T00:00:00",
          "2023-04-03T00:00:00",
          "2023-04-04T00:00:00",
          "2023-04-06T00:00:00",
          "2023-04-11T00:00:00",
          "2023-04-12T00:00:00",
          "2023-04-14T00:00:00",
          "2023-04-17T00:00:00",
          "2023-04-18T00:00:00",
          "2023-04-19T00:00:00",
          "2023-04-20T00:00:00",
          "2023-04-21T00:00:00",
          "2023-04-24T00:00:00",
          "2023-04-25T00:00:00",
          "2023-04-26T00:00:00",
          "2023-04-28T00:00:00",
          "2023-05-01T00:00:00",
          "2023-05-02T00:00:00",
          "2023-05-03T00:00:00",
          "2023-05-04T00:00:00",
          "2023-05-08T00:00:00",
          "2023-05-09T00:00:00",
          "2023-05-11T00:00:00",
          "2023-05-12T00:00:00",
          "2023-05-15T00:00:00",
          "2023-05-16T00:00:00",
          "2023-05-17T00:00:00",
          "2023-05-19T00:00:00",
          "2023-05-22T00:00:00",
          "2023-05-24T00:00:00",
          "2023-05-25T00:00:00",
          "2023-05-31T00:00:00",
          "2023-06-02T00:00:00",
          "2023-06-05T00:00:00",
          "2023-06-06T00:00:00",
          "2023-06-07T00:00:00",
          "2023-06-09T00:00:00",
          "2023-06-13T00:00:00",
          "2023-06-14T00:00:00",
          "2023-06-16T00:00:00",
          "2023-06-20T00:00:00",
          "2023-06-21T00:00:00",
          "2023-06-23T00:00:00",
          "2023-06-26T00:00:00",
          "2023-06-28T00:00:00",
          "2023-06-29T00:00:00",
          "2023-07-03T00:00:00",
          "2023-07-05T00:00:00",
          "2023-07-06T00:00:00",
          "2023-07-07T00:00:00",
          "2023-07-11T00:00:00",
          "2023-07-12T00:00:00",
          "2023-07-13T00:00:00",
          "2023-07-14T00:00:00",
          "2023-07-18T00:00:00",
          "2023-07-19T00:00:00",
          "2023-07-21T00:00:00",
          "2023-07-24T00:00:00",
          "2023-07-25T00:00:00",
          "2023-07-26T00:00:00",
          "2023-07-27T00:00:00",
          "2023-07-31T00:00:00",
          "2023-08-01T00:00:00",
          "2023-08-03T00:00:00",
          "2023-08-08T00:00:00",
          "2023-08-09T00:00:00",
          "2023-08-10T00:00:00",
          "2023-08-11T00:00:00",
          "2023-08-14T00:00:00",
          "2023-08-16T00:00:00",
          "2023-08-18T00:00:00",
          "2023-08-21T00:00:00",
          "2023-08-22T00:00:00",
          "2023-08-28T00:00:00",
          "2023-08-31T00:00:00",
          "2023-09-01T00:00:00",
          "2023-09-05T00:00:00",
          "2023-09-08T00:00:00",
          "2023-09-11T00:00:00",
          "2023-09-14T00:00:00",
          "2023-09-15T00:00:00",
          "2023-09-19T00:00:00",
          "2023-09-21T00:00:00",
          "2023-09-22T00:00:00",
          "2023-09-25T00:00:00",
          "2023-09-27T00:00:00",
          "2023-09-28T00:00:00",
          "2023-09-29T00:00:00",
          "2023-10-03T00:00:00",
          "2023-10-04T00:00:00",
          "2023-10-05T00:00:00",
          "2023-10-09T00:00:00",
          "2023-10-10T00:00:00",
          "2023-10-11T00:00:00",
          "2023-10-12T00:00:00",
          "2023-10-16T00:00:00",
          "2023-10-17T00:00:00",
          "2023-10-18T00:00:00",
          "2023-10-19T00:00:00",
          "2023-10-23T00:00:00",
          "2023-10-24T00:00:00",
          "2023-10-27T00:00:00",
          "2023-10-31T00:00:00",
          "2023-11-03T00:00:00",
          "2023-11-08T00:00:00",
          "2023-11-09T00:00:00",
          "2023-11-13T00:00:00",
          "2023-11-15T00:00:00",
          "2023-11-16T00:00:00",
          "2023-11-17T00:00:00",
          "2023-11-20T00:00:00",
          "2023-11-21T00:00:00",
          "2023-11-22T00:00:00",
          "2023-11-24T00:00:00",
          "2023-11-27T00:00:00",
          "2023-11-28T00:00:00",
          "2023-11-29T00:00:00",
          "2023-11-30T00:00:00",
          "2023-12-01T00:00:00",
          "2023-12-04T00:00:00",
          "2023-12-06T00:00:00",
          "2023-12-08T00:00:00",
          "2023-12-12T00:00:00",
          "2023-12-14T00:00:00",
          "2023-12-15T00:00:00",
          "2023-12-18T00:00:00",
          "2023-12-19T00:00:00",
          "2023-12-21T00:00:00",
          "2023-12-22T00:00:00",
          "2023-12-26T00:00:00",
          "2023-12-27T00:00:00",
          "2023-12-28T00:00:00",
          "2023-12-29T00:00:00"
         ],
         "xaxis": "x",
         "y": [
          0.4088440651667913,
          0.44503851592017085,
          -0.060264561424638874,
          0.8753012812381167,
          -0.5370458042371906,
          0.04462359993455678,
          -0.4705865752303584,
          0.9022186280369882,
          0.7903099910794076,
          -0.691704837300422,
          0.24594917050475562,
          -0.4222465867857128,
          -0.7544630900979121,
          0.2894238571814922,
          0.32904496048762333,
          0.8246815907799965,
          -0.34482290492934276,
          0.41320315361068616,
          0.8371526214003833,
          0.2618869017068981,
          -0.5450328565906437,
          -0.9102599662119459,
          0.6972365005852632,
          0.8307641766905904,
          -0.398373519579287,
          0.9892580564576647,
          0.7702424589305368,
          -0.3250774929153599,
          0.5499760879961624,
          -0.7591014717273414,
          -0.4352169840774245,
          -0.21104851083442178,
          0.011547133576028656,
          0.7504770238572656,
          0.6972381888695312,
          -0.5845956646481354,
          -0.9784488212222109,
          0.18800995418397637,
          -0.9437514423485727,
          -0.006130907129009433,
          0.7535920825135767,
          -0.05266459164230408,
          -0.61928302892158,
          -0.646971565420984,
          -0.9911676350488285,
          -0.040493090143400856,
          -0.9971122518070197,
          0.11223344556676729,
          -0.5414682631408652,
          -0.2899291736147003,
          0,
          0.3601146772952868,
          0.06300691930531954,
          -0.5483874660835553,
          0.16305967750418482,
          0.6692651503658498,
          -0.028276064876608942,
          0.4771422685692972,
          -0.7569208945630179,
          -0.20602785005192636,
          -0.7754583652710978,
          0.21600430898056633,
          -0.2613188144090839,
          0.34897331830960887,
          -0.5859364471875517,
          0.04825731450754933,
          -0.5674273915140637,
          -0.17104374215827223,
          -0.7551709876841617,
          0.632867524352343,
          0.1796064552361365,
          -0.7784796385704063,
          -0.5871381832579736,
          0.2504965386409319,
          -0.5891301052279418,
          -0.28122142598931976,
          0.898821296627017,
          0.40578025519772964,
          0.07840743449822885,
          -0.13438498196139959,
          0.7075056672911861,
          -0.616252024753916,
          0.42208860726431485,
          0.4510057897283204,
          0.45467727235064537,
          -0.6577929911022684,
          0.3164216702763234,
          -0.4302622915677734,
          -0.7320362165286087,
          0.5309069707468694,
          -0.895042967639037,
          -0.12379301807378118,
          0.033803578672197965,
          0.9394219288562322,
          -0.4960020765502282,
          0.2814048374009559,
          0.7741306094341871,
          0.7903922919668238,
          0.8846531184302675,
          0.11739406519639672,
          0.846378109293644,
          0.12631400922777924,
          0.3496385188861195,
          0.66199858384004,
          0.8782568211471276,
          -0.4153633147017999,
          0.6177701759913612,
          -0.8889700386285448,
          0.49452795320694687,
          0.7378551787351029,
          -0.8897480988039774,
          0.1521685486998159,
          0.3050479570586351,
          -0.7768512168555897,
          0.7312412515318778,
          0.7195903870104825,
          0.8451053843029133,
          -0.3350973964218906,
          0.7903230333136779,
          0.5062290115447121,
          -0.07278224113316245,
          -0.8785051965151225,
          -0.7393297421954936,
          -0.2163898205672754,
          0.06892437432306497,
          0.2546708957470001,
          0.7973840523189502,
          0.28165535733184477,
          -0.5176613885505499,
          0.5881672641961488,
          -0.26225164112588795,
          -0.8583690987124415,
          0.30409731113956173,
          0.9042072230200704,
          -0.010542406831481888,
          0.9278296167430922,
          -0.42308696787672906,
          0.3514477549307671,
          -0.7004338508180497,
          -0.09475180291624863,
          0.32140787185837016,
          -0.5409663865546199,
          0.3062787136294043,
          0.6791260858120651,
          -0.9464547165864867,
          -0.5687105780167512,
          0.7412364235342528,
          0.7920074541878153,
          0.07577288341078514,
          -0.27257584170411464,
          -0.8503315280660062,
          0.5360151105212152,
          -0.07699019658163886,
          -0.5547565235257901,
          -0.28409090909089496,
          0.05180005180005498,
          0.22262490292519477,
          -0.542411406137
         ],
         "yaxis": "y"
        }
       ],
       "layout": {
        "autosize": true,
        "legend": {
         "title": {
          "text": "State"
         },
         "tracegroupgap": 0
        },
        "template": {
         "data": {
          "bar": [
           {
            "error_x": {
             "color": "#2a3f5f"
            },
            "error_y": {
             "color": "#2a3f5f"
            },
            "marker": {
             "line": {
              "color": "#E5ECF6",
              "width": 0.5
             },
             "pattern": {
              "fillmode": "overlay",
              "size": 10,
              "solidity": 0.2
             }
            },
            "type": "bar"
           }
          ],
          "barpolar": [
           {
            "marker": {
             "line": {
              "color": "#E5ECF6",
              "width": 0.5
             },
             "pattern": {
              "fillmode": "overlay",
              "size": 10,
              "solidity": 0.2
             }
            },
            "type": "barpolar"
           }
          ],
          "carpet": [
           {
            "aaxis": {
             "endlinecolor": "#2a3f5f",
             "gridcolor": "white",
             "linecolor": "white",
             "minorgridcolor": "white",
             "startlinecolor": "#2a3f5f"
            },
            "baxis": {
             "endlinecolor": "#2a3f5f",
             "gridcolor": "white",
             "linecolor": "white",
             "minorgridcolor": "white",
             "startlinecolor": "#2a3f5f"
            },
            "type": "carpet"
           }
          ],
          "choropleth": [
           {
            "colorbar": {
             "outlinewidth": 0,
             "ticks": ""
            },
            "type": "choropleth"
           }
          ],
          "contour": [
           {
            "colorbar": {
             "outlinewidth": 0,
             "ticks": ""
            },
            "colorscale": [
             [
              0,
              "#0d0887"
             ],
             [
              0.1111111111111111,
              "#46039f"
             ],
             [
              0.2222222222222222,
              "#7201a8"
             ],
             [
              0.3333333333333333,
              "#9c179e"
             ],
             [
              0.4444444444444444,
              "#bd3786"
             ],
             [
              0.5555555555555556,
              "#d8576b"
             ],
             [
              0.6666666666666666,
              "#ed7953"
             ],
             [
              0.7777777777777778,
              "#fb9f3a"
             ],
             [
              0.8888888888888888,
              "#fdca26"
             ],
             [
              1,
              "#f0f921"
             ]
            ],
            "type": "contour"
           }
          ],
          "contourcarpet": [
           {
            "colorbar": {
             "outlinewidth": 0,
             "ticks": ""
            },
            "type": "contourcarpet"
           }
          ],
          "heatmap": [
           {
            "colorbar": {
             "outlinewidth": 0,
             "ticks": ""
            },
            "colorscale": [
             [
              0,
              "#0d0887"
             ],
             [
              0.1111111111111111,
              "#46039f"
             ],
             [
              0.2222222222222222,
              "#7201a8"
             ],
             [
              0.3333333333333333,
              "#9c179e"
             ],
             [
              0.4444444444444444,
              "#bd3786"
             ],
             [
              0.5555555555555556,
              "#d8576b"
             ],
             [
              0.6666666666666666,
              "#ed7953"
             ],
             [
              0.7777777777777778,
              "#fb9f3a"
             ],
             [
              0.8888888888888888,
              "#fdca26"
             ],
             [
              1,
              "#f0f921"
             ]
            ],
            "type": "heatmap"
           }
          ],
          "heatmapgl": [
           {
            "colorbar": {
             "outlinewidth": 0,
             "ticks": ""
            },
            "colorscale": [
             [
              0,
              "#0d0887"
             ],
             [
              0.1111111111111111,
              "#46039f"
             ],
             [
              0.2222222222222222,
              "#7201a8"
             ],
             [
              0.3333333333333333,
              "#9c179e"
             ],
             [
              0.4444444444444444,
              "#bd3786"
             ],
             [
              0.5555555555555556,
              "#d8576b"
             ],
             [
              0.6666666666666666,
              "#ed7953"
             ],
             [
              0.7777777777777778,
              "#fb9f3a"
             ],
             [
              0.8888888888888888,
              "#fdca26"
             ],
             [
              1,
              "#f0f921"
             ]
            ],
            "type": "heatmapgl"
           }
          ],
          "histogram": [
           {
            "marker": {
             "pattern": {
              "fillmode": "overlay",
              "size": 10,
              "solidity": 0.2
             }
            },
            "type": "histogram"
           }
          ],
          "histogram2d": [
           {
            "colorbar": {
             "outlinewidth": 0,
             "ticks": ""
            },
            "colorscale": [
             [
              0,
              "#0d0887"
             ],
             [
              0.1111111111111111,
              "#46039f"
             ],
             [
              0.2222222222222222,
              "#7201a8"
             ],
             [
              0.3333333333333333,
              "#9c179e"
             ],
             [
              0.4444444444444444,
              "#bd3786"
             ],
             [
              0.5555555555555556,
              "#d8576b"
             ],
             [
              0.6666666666666666,
              "#ed7953"
             ],
             [
              0.7777777777777778,
              "#fb9f3a"
             ],
             [
              0.8888888888888888,
              "#fdca26"
             ],
             [
              1,
              "#f0f921"
             ]
            ],
            "type": "histogram2d"
           }
          ],
          "histogram2dcontour": [
           {
            "colorbar": {
             "outlinewidth": 0,
             "ticks": ""
            },
            "colorscale": [
             [
              0,
              "#0d0887"
             ],
             [
              0.1111111111111111,
              "#46039f"
             ],
             [
              0.2222222222222222,
              "#7201a8"
             ],
             [
              0.3333333333333333,
              "#9c179e"
             ],
             [
              0.4444444444444444,
              "#bd3786"
             ],
             [
              0.5555555555555556,
              "#d8576b"
             ],
             [
              0.6666666666666666,
              "#ed7953"
             ],
             [
              0.7777777777777778,
              "#fb9f3a"
             ],
             [
              0.8888888888888888,
              "#fdca26"
             ],
             [
              1,
              "#f0f921"
             ]
            ],
            "type": "histogram2dcontour"
           }
          ],
          "mesh3d": [
           {
            "colorbar": {
             "outlinewidth": 0,
             "ticks": ""
            },
            "type": "mesh3d"
           }
          ],
          "parcoords": [
           {
            "line": {
             "colorbar": {
              "outlinewidth": 0,
              "ticks": ""
             }
            },
            "type": "parcoords"
           }
          ],
          "pie": [
           {
            "automargin": true,
            "type": "pie"
           }
          ],
          "scatter": [
           {
            "fillpattern": {
             "fillmode": "overlay",
             "size": 10,
             "solidity": 0.2
            },
            "type": "scatter"
           }
          ],
          "scatter3d": [
           {
            "line": {
             "colorbar": {
              "outlinewidth": 0,
              "ticks": ""
             }
            },
            "marker": {
             "colorbar": {
              "outlinewidth": 0,
              "ticks": ""
             }
            },
            "type": "scatter3d"
           }
          ],
          "scattercarpet": [
           {
            "marker": {
             "colorbar": {
              "outlinewidth": 0,
              "ticks": ""
             }
            },
            "type": "scattercarpet"
           }
          ],
          "scattergeo": [
           {
            "marker": {
             "colorbar": {
              "outlinewidth": 0,
              "ticks": ""
             }
            },
            "type": "scattergeo"
           }
          ],
          "scattergl": [
           {
            "marker": {
             "colorbar": {
              "outlinewidth": 0,
              "ticks": ""
             }
            },
            "type": "scattergl"
           }
          ],
          "scattermapbox": [
           {
            "marker": {
             "colorbar": {
              "outlinewidth": 0,
              "ticks": ""
             }
            },
            "type": "scattermapbox"
           }
          ],
          "scatterpolar": [
           {
            "marker": {
             "colorbar": {
              "outlinewidth": 0,
              "ticks": ""
             }
            },
            "type": "scatterpolar"
           }
          ],
          "scatterpolargl": [
           {
            "marker": {
             "colorbar": {
              "outlinewidth": 0,
              "ticks": ""
             }
            },
            "type": "scatterpolargl"
           }
          ],
          "scatterternary": [
           {
            "marker": {
             "colorbar": {
              "outlinewidth": 0,
              "ticks": ""
             }
            },
            "type": "scatterternary"
           }
          ],
          "surface": [
           {
            "colorbar": {
             "outlinewidth": 0,
             "ticks": ""
            },
            "colorscale": [
             [
              0,
              "#0d0887"
             ],
             [
              0.1111111111111111,
              "#46039f"
             ],
             [
              0.2222222222222222,
              "#7201a8"
             ],
             [
              0.3333333333333333,
              "#9c179e"
             ],
             [
              0.4444444444444444,
              "#bd3786"
             ],
             [
              0.5555555555555556,
              "#d8576b"
             ],
             [
              0.6666666666666666,
              "#ed7953"
             ],
             [
              0.7777777777777778,
              "#fb9f3a"
             ],
             [
              0.8888888888888888,
              "#fdca26"
             ],
             [
              1,
              "#f0f921"
             ]
            ],
            "type": "surface"
           }
          ],
          "table": [
           {
            "cells": {
             "fill": {
              "color": "#EBF0F8"
             },
             "line": {
              "color": "white"
             }
            },
            "header": {
             "fill": {
              "color": "#C8D4E3"
             },
             "line": {
              "color": "white"
             }
            },
            "type": "table"
           }
          ]
         },
         "layout": {
          "annotationdefaults": {
           "arrowcolor": "#2a3f5f",
           "arrowhead": 0,
           "arrowwidth": 1
          },
          "autotypenumbers": "strict",
          "coloraxis": {
           "colorbar": {
            "outlinewidth": 0,
            "ticks": ""
           }
          },
          "colorscale": {
           "diverging": [
            [
             0,
             "#8e0152"
            ],
            [
             0.1,
             "#c51b7d"
            ],
            [
             0.2,
             "#de77ae"
            ],
            [
             0.3,
             "#f1b6da"
            ],
            [
             0.4,
             "#fde0ef"
            ],
            [
             0.5,
             "#f7f7f7"
            ],
            [
             0.6,
             "#e6f5d0"
            ],
            [
             0.7,
             "#b8e186"
            ],
            [
             0.8,
             "#7fbc41"
            ],
            [
             0.9,
             "#4d9221"
            ],
            [
             1,
             "#276419"
            ]
           ],
           "sequential": [
            [
             0,
             "#0d0887"
            ],
            [
             0.1111111111111111,
             "#46039f"
            ],
            [
             0.2222222222222222,
             "#7201a8"
            ],
            [
             0.3333333333333333,
             "#9c179e"
            ],
            [
             0.4444444444444444,
             "#bd3786"
            ],
            [
             0.5555555555555556,
             "#d8576b"
            ],
            [
             0.6666666666666666,
             "#ed7953"
            ],
            [
             0.7777777777777778,
             "#fb9f3a"
            ],
            [
             0.8888888888888888,
             "#fdca26"
            ],
            [
             1,
             "#f0f921"
            ]
           ],
           "sequentialminus": [
            [
             0,
             "#0d0887"
            ],
            [
             0.1111111111111111,
             "#46039f"
            ],
            [
             0.2222222222222222,
             "#7201a8"
            ],
            [
             0.3333333333333333,
             "#9c179e"
            ],
            [
             0.4444444444444444,
             "#bd3786"
            ],
            [
             0.5555555555555556,
             "#d8576b"
            ],
            [
             0.6666666666666666,
             "#ed7953"
            ],
            [
             0.7777777777777778,
             "#fb9f3a"
            ],
            [
             0.8888888888888888,
             "#fdca26"
            ],
            [
             1,
             "#f0f921"
            ]
           ]
          },
          "colorway": [
           "#636efa",
           "#EF553B",
           "#00cc96",
           "#ab63fa",
           "#FFA15A",
           "#19d3f3",
           "#FF6692",
           "#B6E880",
           "#FF97FF",
           "#FECB52"
          ],
          "font": {
           "color": "#2a3f5f"
          },
          "geo": {
           "bgcolor": "white",
           "lakecolor": "white",
           "landcolor": "#E5ECF6",
           "showlakes": true,
           "showland": true,
           "subunitcolor": "white"
          },
          "hoverlabel": {
           "align": "left"
          },
          "hovermode": "closest",
          "mapbox": {
           "style": "light"
          },
          "paper_bgcolor": "white",
          "plot_bgcolor": "#E5ECF6",
          "polar": {
           "angularaxis": {
            "gridcolor": "white",
            "linecolor": "white",
            "ticks": ""
           },
           "bgcolor": "#E5ECF6",
           "radialaxis": {
            "gridcolor": "white",
            "linecolor": "white",
            "ticks": ""
           }
          },
          "scene": {
           "xaxis": {
            "backgroundcolor": "#E5ECF6",
            "gridcolor": "white",
            "gridwidth": 2,
            "linecolor": "white",
            "showbackground": true,
            "ticks": "",
            "zerolinecolor": "white"
           },
           "yaxis": {
            "backgroundcolor": "#E5ECF6",
            "gridcolor": "white",
            "gridwidth": 2,
            "linecolor": "white",
            "showbackground": true,
            "ticks": "",
            "zerolinecolor": "white"
           },
           "zaxis": {
            "backgroundcolor": "#E5ECF6",
            "gridcolor": "white",
            "gridwidth": 2,
            "linecolor": "white",
            "showbackground": true,
            "ticks": "",
            "zerolinecolor": "white"
           }
          },
          "shapedefaults": {
           "line": {
            "color": "#2a3f5f"
           }
          },
          "ternary": {
           "aaxis": {
            "gridcolor": "white",
            "linecolor": "white",
            "ticks": ""
           },
           "baxis": {
            "gridcolor": "white",
            "linecolor": "white",
            "ticks": ""
           },
           "bgcolor": "#E5ECF6",
           "caxis": {
            "gridcolor": "white",
            "linecolor": "white",
            "ticks": ""
           }
          },
          "title": {
           "x": 0.05
          },
          "xaxis": {
           "automargin": true,
           "gridcolor": "white",
           "linecolor": "white",
           "ticks": "",
           "title": {
            "standoff": 15
           },
           "zerolinecolor": "white",
           "zerolinewidth": 2
          },
          "yaxis": {
           "automargin": true,
           "gridcolor": "white",
           "linecolor": "white",
           "ticks": "",
           "title": {
            "standoff": 15
           },
           "zerolinecolor": "white",
           "zerolinewidth": 2
          }
         }
        },
        "title": {
         "text": "AAPL Daily Returns State Classification"
        },
        "xaxis": {
         "anchor": "y",
         "autorange": true,
         "domain": [
          0,
          1
         ],
         "range": [
          "2022-12-13 08:53:49.952",
          "2024-01-19 15:06:10.048"
         ],
         "title": {
          "text": "Date"
         },
         "type": "date"
        },
        "yaxis": {
         "anchor": "x",
         "autorange": true,
         "domain": [
          0,
          1
         ],
         "range": [
          -5.5414328789383,
          5.432142834301045
         ],
         "title": {
          "text": "Daily Returns (%)"
         },
         "type": "linear"
        }
       }
      },
      "image/png": "[encoded data removed]",
      "text/html": [
       "<div>                            <div id=\"e8cdc2e8-84c5-45e2-a154-74ae1ee622fd\" class=\"plotly-graph-div\" style=\"height:525px; width:100%;\"></div>            <script type=\"text/javascript\">                require([\"plotly\"], function(Plotly) {                    window.PLOTLYENV=window.PLOTLYENV || {};                                    if (document.getElementById(\"e8cdc2e8-84c5-45e2-a154-74ae1ee622fd\")) {                    Plotly.newPlot(                        \"e8cdc2e8-84c5-45e2-a154-74ae1ee622fd\",                        [{\"hovertemplate\":\"State=Bull\\u003cbr\\u003eDate=%{x}\\u003cbr\\u003eDaily Returns=%{y}\\u003cextra\\u003e\\u003c\\u002fextra\\u003e\",\"legendgroup\":\"Bull\",\"marker\":{\"color\":\"green\",\"symbol\":\"circle\",\"size\":5},\"mode\":\"markers\",\"name\":\"Bull\",\"orientation\":\"v\",\"showlegend\":true,\"x\":[\"2023-01-04T00:00:00\",\"2023-01-06T00:00:00\",\"2023-01-11T00:00:00\",\"2023-01-13T00:00:00\",\"2023-01-20T00:00:00\",\"2023-01-23T00:00:00\",\"2023-01-24T00:00:00\",\"2023-01-26T00:00:00\",\"2023-01-27T00:00:00\",\"2023-02-02T00:00:00\",\"2023-02-03T00:00:00\",\"2023-02-07T00:00:00\",\"2023-02-13T00:00:00\",\"2023-02-15T00:00:00\",\"2023-03-03T00:00:00\",\"2023-03-06T00:00:00\",\"2023-03-13T00:00:00\",\"2023-03-14T00:00:00\",\"2023-03-16T00:00:00\",\"2023-03-20T00:00:00\",\"2023-03-21T00:00:00\",\"2023-03-29T00:00:00\",\"2023-03-31T00:00:00\",\"2023-04-13T00:00:00\",\"2023-04-27T00:00:00\",\"2023-05-05T00:00:00\",\"2023-05-10T00:00:00\",\"2023-05-18T00:00:00\",\"2023-05-26T00:00:00\",\"2023-05-30T00:00:00\",\"2023-06-01T00:00:00\",\"2023-06-08T00:00:00\",\"2023-06-12T00:00:00\",\"2023-06-15T00:00:00\",\"2023-06-22T00:00:00\",\"2023-06-27T00:00:00\",\"2023-06-30T00:00:00\",\"2023-07-17T00:00:00\",\"2023-07-28T00:00:00\",\"2023-08-23T00:00:00\",\"2023-08-25T00:00:00\",\"2023-08-29T00:00:00\",\"2023-08-30T00:00:00\",\"2023-09-18T00:00:00\",\"2023-10-02T00:00:00\",\"2023-10-06T00:00:00\",\"2023-10-30T00:00:00\",\"2023-11-01T00:00:00\",\"2023-11-02T00:00:00\",\"2023-11-06T00:00:00\",\"2023-11-07T00:00:00\",\"2023-11-10T00:00:00\",\"2023-11-14T00:00:00\",\"2023-12-05T00:00:00\",\"2023-12-07T00:00:00\",\"2023-12-13T00:00:00\"],\"xaxis\":\"x\",\"y\":[1.0315577889447258,3.6798713050472553,2.1114897348522677,1.0123013839056894,1.9224193044797167,2.350040844906043,1.0062283539757466,1.4808146252596188,1.368398994132436,3.7062134391724566,2.439626088463953,1.9239563381868496,1.8803191489361826,1.3900813338489026,3.5087840023121153,1.8541417364712265,1.3265720081135912,1.4092965528285983,1.8691098102013415,1.5481881664010766,1.1941517185067863,1.978817040627212,1.5645871468856765,3.4104093369205835,2.8400103005554733,4.692950581395339,1.0393041689074067,1.3667769842652389,1.4107773185957129,1.065939655812942,1.6025749810496759,1.5461214455276817,1.5641795675927161,1.120135179330628,1.6525862538834701,1.5055986405234423,2.310601052436745,1.730973488553067,1.3507623011219216,2.1949524568212864,1.2642777664236826,2.1811250715464414,1.9170319450940276,1.6912690239157646,1.4831710383951702,1.474696588046709,1.2303644664551694,1.8739922014717747,2.0691719283300936,1.4601684635354717,1.4452998424528074,2.322006916616348,1.4285714285714235,2.106318956870612,1.0139351081530856,1.6691489908068347],\"yaxis\":\"y\",\"type\":\"scatter\"},{\"hovertemplate\":\"State=Bear\\u003cbr\\u003eDate=%{x}\\u003cbr\\u003eDaily Returns=%{y}\\u003cextra\\u003e\\u003c\\u002fextra\\u003e\",\"legendgroup\":\"Bear\",\"marker\":{\"color\":\"red\",\"symbol\":\"circle\",\"size\":5},\"mode\":\"markers\",\"name\":\"Bear\",\"orientation\":\"v\",\"showlegend\":true,\"x\":[\"2023-01-05T00:00:00\",\"2023-01-30T00:00:00\",\"2023-02-06T00:00:00\",\"2023-02-08T00:00:00\",\"2023-02-16T00:00:00\",\"2023-02-21T00:00:00\",\"2023-02-24T00:00:00\",\"2023-03-01T00:00:00\",\"2023-03-07T00:00:00\",\"2023-03-09T00:00:00\",\"2023-03-10T00:00:00\",\"2023-03-27T00:00:00\",\"2023-04-05T00:00:00\",\"2023-04-10T00:00:00\",\"2023-05-23T00:00:00\",\"2023-07-10T00:00:00\",\"2023-07-20T00:00:00\",\"2023-08-02T00:00:00\",\"2023-08-04T00:00:00\",\"2023-08-07T00:00:00\",\"2023-08-15T00:00:00\",\"2023-08-17T00:00:00\",\"2023-08-24T00:00:00\",\"2023-09-06T00:00:00\",\"2023-09-07T00:00:00\",\"2023-09-12T00:00:00\",\"2023-09-13T00:00:00\",\"2023-09-20T00:00:00\",\"2023-09-26T00:00:00\",\"2023-10-13T00:00:00\",\"2023-10-20T00:00:00\",\"2023-10-25T00:00:00\",\"2023-10-26T00:00:00\",\"2023-12-11T00:00:00\",\"2023-12-20T00:00:00\"],\"xaxis\":\"x\",\"y\":[-1.0608158652851363,-2.008007221659458,-1.7924902857961,-1.7647441316080315,-1.0426497394991685,-2.6682638514091694,-1.8004516250436864,-1.4242510932199748,-1.4496537409682264,-1.4909492157738513,-1.3881665799895915,-1.2293002011240506,-1.1293578482186706,-1.5976096832220565,-1.5155177971174605,-1.0853332772437496,-1.009862216763191,-1.5465132968362272,-4.802240626032594,-1.725021349274125,-1.1198277016470914,-1.455727069604973,-2.617175838391883,-3.579308524676683,-2.9249626373385795,-1.7060807038699388,-1.1853374832451191,-1.9990605813212325,-2.3395204949729353,-1.0289684826455092,-1.4700763001558093,-1.3492136803454624,-2.460863204096564,-1.2927290378621392,-1.0713923022240168],\"yaxis\":\"y\",\"type\":\"scatter\"},{\"hovertemplate\":\"State=Flat\\u003cbr\\u003eDate=%{x}\\u003cbr\\u003eDaily Returns=%{y}\\u003cextra\\u003e\\u003c\\u002fextra\\u003e\",\"legendgroup\":\"Flat\",\"marker\":{\"color\":\"grey\",\"symbol\":\"circle\",\"size\":5},\"mode\":\"markers\",\"name\":\"Flat\",\"orientation\":\"v\",\"showlegend\":true,\"x\":[\"2023-01-09T00:00:00\",\"2023-01-10T00:00:00\",\"2023-01-12T00:00:00\",\"2023-01-17T00:00:00\",\"2023-01-18T00:00:00\",\"2023-01-19T00:00:00\",\"2023-01-25T00:00:00\",\"2023-01-31T00:00:00\",\"2023-02-01T00:00:00\",\"2023-02-09T00:00:00\",\"2023-02-10T00:00:00\",\"2023-02-14T00:00:00\",\"2023-02-17T00:00:00\",\"2023-02-22T00:00:00\",\"2023-02-23T00:00:00\",\"2023-02-27T00:00:00\",\"2023-02-28T00:00:00\",\"2023-03-02T00:00:00\",\"2023-03-08T00:00:00\",\"2023-03-15T00:00:00\",\"2023-03-17T00:00:00\",\"2023-03-22T00:00:00\",\"2023-03-23T00:00:00\",\"2023-03-24T00:00:00\",\"2023-03-28T00:00:00\",\"2023-03-30T00:00:00\",\"2023-04-03T00:00:00\",\"2023-04-04T00:00:00\",\"2023-04-06T00:00:00\",\"2023-04-11T00:00:00\",\"2023-04-12T00:00:00\",\"2023-04-14T00:00:00\",\"2023-04-17T00:00:00\",\"2023-04-18T00:00:00\",\"2023-04-19T00:00:00\",\"2023-04-20T00:00:00\",\"2023-04-21T00:00:00\",\"2023-04-24T00:00:00\",\"2023-04-25T00:00:00\",\"2023-04-26T00:00:00\",\"2023-04-28T00:00:00\",\"2023-05-01T00:00:00\",\"2023-05-02T00:00:00\",\"2023-05-03T00:00:00\",\"2023-05-04T00:00:00\",\"2023-05-08T00:00:00\",\"2023-05-09T00:00:00\",\"2023-05-11T00:00:00\",\"2023-05-12T00:00:00\",\"2023-05-15T00:00:00\",\"2023-05-16T00:00:00\",\"2023-05-17T00:00:00\",\"2023-05-19T00:00:00\",\"2023-05-22T00:00:00\",\"2023-05-24T00:00:00\",\"2023-05-25T00:00:00\",\"2023-05-31T00:00:00\",\"2023-06-02T00:00:00\",\"2023-06-05T00:00:00\",\"2023-06-06T00:00:00\",\"2023-06-07T00:00:00\",\"2023-06-09T00:00:00\",\"2023-06-13T00:00:00\",\"2023-06-14T00:00:00\",\"2023-06-16T00:00:00\",\"2023-06-20T00:00:00\",\"2023-06-21T00:00:00\",\"2023-06-23T00:00:00\",\"2023-06-26T00:00:00\",\"2023-06-28T00:00:00\",\"2023-06-29T00:00:00\",\"2023-07-03T00:00:00\",\"2023-07-05T00:00:00\",\"2023-07-06T00:00:00\",\"2023-07-07T00:00:00\",\"2023-07-11T00:00:00\",\"2023-07-12T00:00:00\",\"2023-07-13T00:00:00\",\"2023-07-14T00:00:00\",\"2023-07-18T00:00:00\",\"2023-07-19T00:00:00\",\"2023-07-21T00:00:00\",\"2023-07-24T00:00:00\",\"2023-07-25T00:00:00\",\"2023-07-26T00:00:00\",\"2023-07-27T00:00:00\",\"2023-07-31T00:00:00\",\"2023-08-01T00:00:00\",\"2023-08-03T00:00:00\",\"2023-08-08T00:00:00\",\"2023-08-09T00:00:00\",\"2023-08-10T00:00:00\",\"2023-08-11T00:00:00\",\"2023-08-14T00:00:00\",\"2023-08-16T00:00:00\",\"2023-08-18T00:00:00\",\"2023-08-21T00:00:00\",\"2023-08-22T00:00:00\",\"2023-08-28T00:00:00\",\"2023-08-31T00:00:00\",\"2023-09-01T00:00:00\",\"2023-09-05T00:00:00\",\"2023-09-08T00:00:00\",\"2023-09-11T00:00:00\",\"2023-09-14T00:00:00\",\"2023-09-15T00:00:00\",\"2023-09-19T00:00:00\",\"2023-09-21T00:00:00\",\"2023-09-22T00:00:00\",\"2023-09-25T00:00:00\",\"2023-09-27T00:00:00\",\"2023-09-28T00:00:00\",\"2023-09-29T00:00:00\",\"2023-10-03T00:00:00\",\"2023-10-04T00:00:00\",\"2023-10-05T00:00:00\",\"2023-10-09T00:00:00\",\"2023-10-10T00:00:00\",\"2023-10-11T00:00:00\",\"2023-10-12T00:00:00\",\"2023-10-16T00:00:00\",\"2023-10-17T00:00:00\",\"2023-10-18T00:00:00\",\"2023-10-19T00:00:00\",\"2023-10-23T00:00:00\",\"2023-10-24T00:00:00\",\"2023-10-27T00:00:00\",\"2023-10-31T00:00:00\",\"2023-11-03T00:00:00\",\"2023-11-08T00:00:00\",\"2023-11-09T00:00:00\",\"2023-11-13T00:00:00\",\"2023-11-15T00:00:00\",\"2023-11-16T00:00:00\",\"2023-11-17T00:00:00\",\"2023-11-20T00:00:00\",\"2023-11-21T00:00:00\",\"2023-11-22T00:00:00\",\"2023-11-24T00:00:00\",\"2023-11-27T00:00:00\",\"2023-11-28T00:00:00\",\"2023-11-29T00:00:00\",\"2023-11-30T00:00:00\",\"2023-12-01T00:00:00\",\"2023-12-04T00:00:00\",\"2023-12-06T00:00:00\",\"2023-12-08T00:00:00\",\"2023-12-12T00:00:00\",\"2023-12-14T00:00:00\",\"2023-12-15T00:00:00\",\"2023-12-18T00:00:00\",\"2023-12-19T00:00:00\",\"2023-12-21T00:00:00\",\"2023-12-22T00:00:00\",\"2023-12-26T00:00:00\",\"2023-12-27T00:00:00\",\"2023-12-28T00:00:00\",\"2023-12-29T00:00:00\"],\"xaxis\":\"x\",\"y\":[0.4088440651667913,0.44503851592017085,-0.060264561424638874,0.8753012812381167,-0.5370458042371906,0.04462359993455678,-0.4705865752303584,0.9022186280369882,0.7903099910794076,-0.691704837300422,0.24594917050475562,-0.4222465867857128,-0.7544630900979121,0.2894238571814922,0.32904496048762333,0.8246815907799965,-0.34482290492934276,0.41320315361068616,0.8371526214003833,0.2618869017068981,-0.5450328565906437,-0.9102599662119459,0.6972365005852632,0.8307641766905904,-0.398373519579287,0.9892580564576647,0.7702424589305368,-0.3250774929153599,0.5499760879961624,-0.7591014717273414,-0.4352169840774245,-0.21104851083442178,0.011547133576028656,0.7504770238572656,0.6972381888695312,-0.5845956646481354,-0.9784488212222109,0.18800995418397637,-0.9437514423485727,-0.006130907129009433,0.7535920825135767,-0.05266459164230408,-0.61928302892158,-0.646971565420984,-0.9911676350488285,-0.040493090143400856,-0.9971122518070197,0.11223344556676729,-0.5414682631408652,-0.2899291736147003,0.0,0.3601146772952868,0.06300691930531954,-0.5483874660835553,0.16305967750418482,0.6692651503658498,-0.028276064876608942,0.4771422685692972,-0.7569208945630179,-0.20602785005192636,-0.7754583652710978,0.21600430898056633,-0.2613188144090839,0.34897331830960887,-0.5859364471875517,0.04825731450754933,-0.5674273915140637,-0.17104374215827223,-0.7551709876841617,0.632867524352343,0.1796064552361365,-0.7784796385704063,-0.5871381832579736,0.2504965386409319,-0.5891301052279418,-0.28122142598931976,0.898821296627017,0.40578025519772964,0.07840743449822885,-0.13438498196139959,0.7075056672911861,-0.616252024753916,0.42208860726431485,0.4510057897283204,0.45467727235064537,-0.6577929911022684,0.3164216702763234,-0.4302622915677734,-0.7320362165286087,0.5309069707468694,-0.895042967639037,-0.12379301807378118,0.033803578672197965,0.9394219288562322,-0.4960020765502282,0.2814048374009559,0.7741306094341871,0.7903922919668238,0.8846531184302675,0.11739406519639672,0.846378109293644,0.12631400922777924,0.3496385188861195,0.66199858384004,0.8782568211471276,-0.4153633147017999,0.6177701759913612,-0.8889700386285448,0.49452795320694687,0.7378551787351029,-0.8897480988039774,0.1521685486998159,0.3050479570586351,-0.7768512168555897,0.7312412515318778,0.7195903870104825,0.8451053843029133,-0.3350973964218906,0.7903230333136779,0.5062290115447121,-0.07278224113316245,-0.8785051965151225,-0.7393297421954936,-0.2163898205672754,0.06892437432306497,0.2546708957470001,0.7973840523189502,0.28165535733184477,-0.5176613885505499,0.5881672641961488,-0.26225164112588795,-0.8583690987124415,0.30409731113956173,0.9042072230200704,-0.010542406831481888,0.9278296167430922,-0.42308696787672906,0.3514477549307671,-0.7004338508180497,-0.09475180291624863,0.32140787185837016,-0.5409663865546199,0.3062787136294043,0.6791260858120651,-0.9464547165864867,-0.5687105780167512,0.7412364235342528,0.7920074541878153,0.07577288341078514,-0.27257584170411464,-0.8503315280660062,0.5360151105212152,-0.07699019658163886,-0.5547565235257901,-0.28409090909089496,0.05180005180005498,0.22262490292519477,-0.542411406137],\"yaxis\":\"y\",\"type\":\"scatter\"}],                        {\"template\":{\"data\":{\"histogram2dcontour\":[{\"type\":\"histogram2dcontour\",\"colorbar\":{\"outlinewidth\":0,\"ticks\":\"\"},\"colorscale\":[[0.0,\"#0d0887\"],[0.1111111111111111,\"#46039f\"],[0.2222222222222222,\"#7201a8\"],[0.3333333333333333,\"#9c179e\"],[0.4444444444444444,\"#bd3786\"],[0.5555555555555556,\"#d8576b\"],[0.6666666666666666,\"#ed7953\"],[0.7777777777777778,\"#fb9f3a\"],[0.8888888888888888,\"#fdca26\"],[1.0,\"#f0f921\"]]}],\"choropleth\":[{\"type\":\"choropleth\",\"colorbar\":{\"outlinewidth\":0,\"ticks\":\"\"}}],\"histogram2d\":[{\"type\":\"histogram2d\",\"colorbar\":{\"outlinewidth\":0,\"ticks\":\"\"},\"colorscale\":[[0.0,\"#0d0887\"],[0.1111111111111111,\"#46039f\"],[0.2222222222222222,\"#7201a8\"],[0.3333333333333333,\"#9c179e\"],[0.4444444444444444,\"#bd3786\"],[0.5555555555555556,\"#d8576b\"],[0.6666666666666666,\"#ed7953\"],[0.7777777777777778,\"#fb9f3a\"],[0.8888888888888888,\"#fdca26\"],[1.0,\"#f0f921\"]]}],\"heatmap\":[{\"type\":\"heatmap\",\"colorbar\":{\"outlinewidth\":0,\"ticks\":\"\"},\"colorscale\":[[0.0,\"#0d0887\"],[0.1111111111111111,\"#46039f\"],[0.2222222222222222,\"#7201a8\"],[0.3333333333333333,\"#9c179e\"],[0.4444444444444444,\"#bd3786\"],[0.5555555555555556,\"#d8576b\"],[0.6666666666666666,\"#ed7953\"],[0.7777777777777778,\"#fb9f3a\"],[0.8888888888888888,\"#fdca26\"],[1.0,\"#f0f921\"]]}],\"heatmapgl\":[{\"type\":\"heatmapgl\",\"colorbar\":{\"outlinewidth\":0,\"ticks\":\"\"},\"colorscale\":[[0.0,\"#0d0887\"],[0.1111111111111111,\"#46039f\"],[0.2222222222222222,\"#7201a8\"],[0.3333333333333333,\"#9c179e\"],[0.4444444444444444,\"#bd3786\"],[0.5555555555555556,\"#d8576b\"],[0.6666666666666666,\"#ed7953\"],[0.7777777777777778,\"#fb9f3a\"],[0.8888888888888888,\"#fdca26\"],[1.0,\"#f0f921\"]]}],\"contourcarpet\":[{\"type\":\"contourcarpet\",\"colorbar\":{\"outlinewidth\":0,\"ticks\":\"\"}}],\"contour\":[{\"type\":\"contour\",\"colorbar\":{\"outlinewidth\":0,\"ticks\":\"\"},\"colorscale\":[[0.0,\"#0d0887\"],[0.1111111111111111,\"#46039f\"],[0.2222222222222222,\"#7201a8\"],[0.3333333333333333,\"#9c179e\"],[0.4444444444444444,\"#bd3786\"],[0.5555555555555556,\"#d8576b\"],[0.6666666666666666,\"#ed7953\"],[0.7777777777777778,\"#fb9f3a\"],[0.8888888888888888,\"#fdca26\"],[1.0,\"#f0f921\"]]}],\"surface\":[{\"type\":\"surface\",\"colorbar\":{\"outlinewidth\":0,\"ticks\":\"\"},\"colorscale\":[[0.0,\"#0d0887\"],[0.1111111111111111,\"#46039f\"],[0.2222222222222222,\"#7201a8\"],[0.3333333333333333,\"#9c179e\"],[0.4444444444444444,\"#bd3786\"],[0.5555555555555556,\"#d8576b\"],[0.6666666666666666,\"#ed7953\"],[0.7777777777777778,\"#fb9f3a\"],[0.8888888888888888,\"#fdca26\"],[1.0,\"#f0f921\"]]}],\"mesh3d\":[{\"type\":\"mesh3d\",\"colorbar\":{\"outlinewidth\":0,\"ticks\":\"\"}}],\"scatter\":[{\"fillpattern\":{\"fillmode\":\"overlay\",\"size\":10,\"solidity\":0.2},\"type\":\"scatter\"}],\"parcoords\":[{\"type\":\"parcoords\",\"line\":{\"colorbar\":{\"outlinewidth\":0,\"ticks\":\"\"}}}],\"scatterpolargl\":[{\"type\":\"scatterpolargl\",\"marker\":{\"colorbar\":{\"outlinewidth\":0,\"ticks\":\"\"}}}],\"bar\":[{\"error_x\":{\"color\":\"#2a3f5f\"},\"error_y\":{\"color\":\"#2a3f5f\"},\"marker\":{\"line\":{\"color\":\"#E5ECF6\",\"width\":0.5},\"pattern\":{\"fillmode\":\"overlay\",\"size\":10,\"solidity\":0.2}},\"type\":\"bar\"}],\"scattergeo\":[{\"type\":\"scattergeo\",\"marker\":{\"colorbar\":{\"outlinewidth\":0,\"ticks\":\"\"}}}],\"scatterpolar\":[{\"type\":\"scatterpolar\",\"marker\":{\"colorbar\":{\"outlinewidth\":0,\"ticks\":\"\"}}}],\"histogram\":[{\"marker\":{\"pattern\":{\"fillmode\":\"overlay\",\"size\":10,\"solidity\":0.2}},\"type\":\"histogram\"}],\"scattergl\":[{\"type\":\"scattergl\",\"marker\":{\"colorbar\":{\"outlinewidth\":0,\"ticks\":\"\"}}}],\"scatter3d\":[{\"type\":\"scatter3d\",\"line\":{\"colorbar\":{\"outlinewidth\":0,\"ticks\":\"\"}},\"marker\":{\"colorbar\":{\"outlinewidth\":0,\"ticks\":\"\"}}}],\"scattermapbox\":[{\"type\":\"scattermapbox\",\"marker\":{\"colorbar\":{\"outlinewidth\":0,\"ticks\":\"\"}}}],\"scatterternary\":[{\"type\":\"scatterternary\",\"marker\":{\"colorbar\":{\"outlinewidth\":0,\"ticks\":\"\"}}}],\"scattercarpet\":[{\"type\":\"scattercarpet\",\"marker\":{\"colorbar\":{\"outlinewidth\":0,\"ticks\":\"\"}}}],\"carpet\":[{\"aaxis\":{\"endlinecolor\":\"#2a3f5f\",\"gridcolor\":\"white\",\"linecolor\":\"white\",\"minorgridcolor\":\"white\",\"startlinecolor\":\"#2a3f5f\"},\"baxis\":{\"endlinecolor\":\"#2a3f5f\",\"gridcolor\":\"white\",\"linecolor\":\"white\",\"minorgridcolor\":\"white\",\"startlinecolor\":\"#2a3f5f\"},\"type\":\"carpet\"}],\"table\":[{\"cells\":{\"fill\":{\"color\":\"#EBF0F8\"},\"line\":{\"color\":\"white\"}},\"header\":{\"fill\":{\"color\":\"#C8D4E3\"},\"line\":{\"color\":\"white\"}},\"type\":\"table\"}],\"barpolar\":[{\"marker\":{\"line\":{\"color\":\"#E5ECF6\",\"width\":0.5},\"pattern\":{\"fillmode\":\"overlay\",\"size\":10,\"solidity\":0.2}},\"type\":\"barpolar\"}],\"pie\":[{\"automargin\":true,\"type\":\"pie\"}]},\"layout\":{\"autotypenumbers\":\"strict\",\"colorway\":[\"#636efa\",\"#EF553B\",\"#00cc96\",\"#ab63fa\",\"#FFA15A\",\"#19d3f3\",\"#FF6692\",\"#B6E880\",\"#FF97FF\",\"#FECB52\"],\"font\":{\"color\":\"#2a3f5f\"},\"hovermode\":\"closest\",\"hoverlabel\":{\"align\":\"left\"},\"paper_bgcolor\":\"white\",\"plot_bgcolor\":\"#E5ECF6\",\"polar\":{\"bgcolor\":\"#E5ECF6\",\"angularaxis\":{\"gridcolor\":\"white\",\"linecolor\":\"white\",\"ticks\":\"\"},\"radialaxis\":{\"gridcolor\":\"white\",\"linecolor\":\"white\",\"ticks\":\"\"}},\"ternary\":{\"bgcolor\":\"#E5ECF6\",\"aaxis\":{\"gridcolor\":\"white\",\"linecolor\":\"white\",\"ticks\":\"\"},\"baxis\":{\"gridcolor\":\"white\",\"linecolor\":\"white\",\"ticks\":\"\"},\"caxis\":{\"gridcolor\":\"white\",\"linecolor\":\"white\",\"ticks\":\"\"}},\"coloraxis\":{\"colorbar\":{\"outlinewidth\":0,\"ticks\":\"\"}},\"colorscale\":{\"sequential\":[[0.0,\"#0d0887\"],[0.1111111111111111,\"#46039f\"],[0.2222222222222222,\"#7201a8\"],[0.3333333333333333,\"#9c179e\"],[0.4444444444444444,\"#bd3786\"],[0.5555555555555556,\"#d8576b\"],[0.6666666666666666,\"#ed7953\"],[0.7777777777777778,\"#fb9f3a\"],[0.8888888888888888,\"#fdca26\"],[1.0,\"#f0f921\"]],\"sequentialminus\":[[0.0,\"#0d0887\"],[0.1111111111111111,\"#46039f\"],[0.2222222222222222,\"#7201a8\"],[0.3333333333333333,\"#9c179e\"],[0.4444444444444444,\"#bd3786\"],[0.5555555555555556,\"#d8576b\"],[0.6666666666666666,\"#ed7953\"],[0.7777777777777778,\"#fb9f3a\"],[0.8888888888888888,\"#fdca26\"],[1.0,\"#f0f921\"]],\"diverging\":[[0,\"#8e0152\"],[0.1,\"#c51b7d\"],[0.2,\"#de77ae\"],[0.3,\"#f1b6da\"],[0.4,\"#fde0ef\"],[0.5,\"#f7f7f7\"],[0.6,\"#e6f5d0\"],[0.7,\"#b8e186\"],[0.8,\"#7fbc41\"],[0.9,\"#4d9221\"],[1,\"#276419\"]]},\"xaxis\":{\"gridcolor\":\"white\",\"linecolor\":\"white\",\"ticks\":\"\",\"title\":{\"standoff\":15},\"zerolinecolor\":\"white\",\"automargin\":true,\"zerolinewidth\":2},\"yaxis\":{\"gridcolor\":\"white\",\"linecolor\":\"white\",\"ticks\":\"\",\"title\":{\"standoff\":15},\"zerolinecolor\":\"white\",\"automargin\":true,\"zerolinewidth\":2},\"scene\":{\"xaxis\":{\"backgroundcolor\":\"#E5ECF6\",\"gridcolor\":\"white\",\"linecolor\":\"white\",\"showbackground\":true,\"ticks\":\"\",\"zerolinecolor\":\"white\",\"gridwidth\":2},\"yaxis\":{\"backgroundcolor\":\"#E5ECF6\",\"gridcolor\":\"white\",\"linecolor\":\"white\",\"showbackground\":true,\"ticks\":\"\",\"zerolinecolor\":\"white\",\"gridwidth\":2},\"zaxis\":{\"backgroundcolor\":\"#E5ECF6\",\"gridcolor\":\"white\",\"linecolor\":\"white\",\"showbackground\":true,\"ticks\":\"\",\"zerolinecolor\":\"white\",\"gridwidth\":2}},\"shapedefaults\":{\"line\":{\"color\":\"#2a3f5f\"}},\"annotationdefaults\":{\"arrowcolor\":\"#2a3f5f\",\"arrowhead\":0,\"arrowwidth\":1},\"geo\":{\"bgcolor\":\"white\",\"landcolor\":\"#E5ECF6\",\"subunitcolor\":\"white\",\"showland\":true,\"showlakes\":true,\"lakecolor\":\"white\"},\"title\":{\"x\":0.05},\"mapbox\":{\"style\":\"light\"}}},\"xaxis\":{\"anchor\":\"y\",\"domain\":[0.0,1.0],\"title\":{\"text\":\"Date\"}},\"yaxis\":{\"anchor\":\"x\",\"domain\":[0.0,1.0],\"title\":{\"text\":\"Daily Returns (%)\"}},\"legend\":{\"title\":{\"text\":\"State\"},\"tracegroupgap\":0},\"title\":{\"text\":\"AAPL Daily Returns State Classification\"}},                        {\"responsive\": true}                    ).then(function(){\n",
       "                            \n",
       "var gd = document.getElementById('e8cdc2e8-84c5-45e2-a154-74ae1ee622fd');\n",
       "var x = new MutationObserver(function (mutations, observer) {{\n",
       "        var display = window.getComputedStyle(gd).display;\n",
       "        if (!display || display === 'none') {{\n",
       "            console.log([gd, 'removed!']);\n",
       "            Plotly.purge(gd);\n",
       "            observer.disconnect();\n",
       "        }}\n",
       "}});\n",
       "\n",
       "// Listen for the removal of the full notebook cells\n",
       "var notebookContainer = gd.closest('#notebook-container');\n",
       "if (notebookContainer) {{\n",
       "    x.observe(notebookContainer, {childList: true});\n",
       "}}\n",
       "\n",
       "// Listen for the clearing of the current output cell\n",
       "var outputEl = gd.closest('.output');\n",
       "if (outputEl) {{\n",
       "    x.observe(outputEl, {childList: true});\n",
       "}}\n",
       "\n",
       "                        })                };                });            </script>        </div>"
      ]
     },
     "metadata": {},
     "output_type": "display_data"
    }
   ],
   "source": [
    "# Map state numeric values to textual descriptions\n",
    "df['State'] = states\n",
    "state_map = {-1: 'Bear', 0: 'Flat', 1: 'Bull'}\n",
    "df['State'] = df['State'].map(state_map)\n",
    "\n",
    "import plotly.express as px\n",
    "\n",
    "# With 'State' now containing textual descriptions, proceed to plot\n",
    "fig = px.scatter(df, x='Date', y='Daily Returns', color='State', title='AAPL Daily Returns State Classification',\n",
    "                 color_discrete_map={'Bear': 'red', 'Flat': 'grey', 'Bull': 'green'})  # Optional: specific colors for each state\n",
    "fig.update_traces(marker=dict(size=5))\n",
    "fig.update_xaxes(title_text='Date')\n",
    "fig.update_yaxes(title_text='Daily Returns (%)')\n",
    "fig.show()\n"
   ]
  }
 ],
 "metadata": {
  "kernelspec": {
   "display_name": "Python 3.9",
   "language": "python",
   "name": "python3"
  },
  "language_info": {
   "codemirror_mode": {
    "name": "ipython",
    "version": 3
   },
   "file_extension": ".py",
   "mimetype": "text/x-python",
   "name": "python",
   "nbconvert_exporter": "python",
   "pygments_lexer": "ipython3",
   "version": "3.9.12"
  }
 },
 "nbformat": 4,
 "nbformat_minor": 5
}
